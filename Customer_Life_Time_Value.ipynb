{
 "cells": [
  {
   "cell_type": "code",
   "execution_count": 1,
   "metadata": {
    "colab": {
     "base_uri": "https://localhost:8080/"
    },
    "id": "7hFPAPC9dz0o",
    "outputId": "2cb7394b-da37-4c2e-c60e-5eb374636095"
   },
   "outputs": [],
   "source": [
    "# from google.colab import drive\n",
    "# drive.mount('/content/drive')"
   ]
  },
  {
   "cell_type": "code",
   "execution_count": 2,
   "metadata": {
    "id": "vIeWt-RylV8J"
   },
   "outputs": [],
   "source": [
    "import warnings\n",
    "warnings.filterwarnings('ignore')\n"
   ]
  },
  {
   "cell_type": "code",
   "execution_count": 3,
   "metadata": {
    "id": "8Oz_qAymd2TP"
   },
   "outputs": [],
   "source": [
    "import numpy as np\n",
    "import pandas as pd"
   ]
  },
  {
   "cell_type": "code",
   "execution_count": 4,
   "metadata": {
    "id": "ijoe6F3neX95"
   },
   "outputs": [],
   "source": [
    "train_dataset=pd.read_csv(\"C:/Users/Surendra/Desktop/Mode/mith/actual mith model/train-1574429526318.csv\",na_values=['N/A','NaN','?','Na'])\n",
    "# importing the data"
   ]
  },
  {
   "cell_type": "markdown",
   "metadata": {
    "id": "p98UGVzxe5q-"
   },
   "source": [
    "Exploratory Data Analysis"
   ]
  },
  {
   "cell_type": "code",
   "execution_count": 5,
   "metadata": {
    "colab": {
     "base_uri": "https://localhost:8080/"
    },
    "id": "ndYzL3iue3TR",
    "outputId": "b3d5ec4f-e338-4ee5-91bf-f51fd82d83b6"
   },
   "outputs": [
    {
     "data": {
      "text/plain": [
       "(9806, 22)"
      ]
     },
     "execution_count": 5,
     "metadata": {},
     "output_type": "execute_result"
    }
   ],
   "source": [
    "train_dataset.shape # shape of the dataset\n",
    "\n",
    "# so we have 9806 rows and 22 columns"
   ]
  },
  {
   "cell_type": "code",
   "execution_count": 6,
   "metadata": {
    "colab": {
     "base_uri": "https://localhost:8080/"
    },
    "id": "AI68Ro5DfB5p",
    "outputId": "21beee69-c125-4a61-d799-ff32f3633e7a"
   },
   "outputs": [
    {
     "data": {
      "text/plain": [
       "CustomerID                         int64\n",
       "Customer.Lifetime.Value          float64\n",
       "Coverage                          object\n",
       "Education                         object\n",
       "EmploymentStatus                  object\n",
       "Gender                            object\n",
       "Income                           float64\n",
       "Location.Geo                      object\n",
       "Location.Code                     object\n",
       "Marital.Status                    object\n",
       "Monthly.Premium.Auto             float64\n",
       "Months.Since.Last.Claim            int64\n",
       "Months.Since.Policy.Inception      int64\n",
       "Number.of.Open.Complaints        float64\n",
       "Number.of.Policies               float64\n",
       "Policy.Type                       object\n",
       "Policy                            object\n",
       "Renew.Offer.Type                  object\n",
       "Sales.Channel                     object\n",
       "Total.Claim.Amount               float64\n",
       "Vehicle.Class                     object\n",
       "Vehicle.Size                     float64\n",
       "dtype: object"
      ]
     },
     "execution_count": 6,
     "metadata": {},
     "output_type": "execute_result"
    }
   ],
   "source": [
    "train_dataset.dtypes  # type of data wrt the features"
   ]
  },
  {
   "cell_type": "code",
   "execution_count": 7,
   "metadata": {
    "colab": {
     "base_uri": "https://localhost:8080/",
     "height": 364
    },
    "id": "mrCMeReBfXCV",
    "outputId": "dfcc63fe-3338-41e4-9859-2277f0d8c7ce"
   },
   "outputs": [
    {
     "data": {
      "text/html": [
       "<div>\n",
       "<style scoped>\n",
       "    .dataframe tbody tr th:only-of-type {\n",
       "        vertical-align: middle;\n",
       "    }\n",
       "\n",
       "    .dataframe tbody tr th {\n",
       "        vertical-align: top;\n",
       "    }\n",
       "\n",
       "    .dataframe thead th {\n",
       "        text-align: right;\n",
       "    }\n",
       "</style>\n",
       "<table border=\"1\" class=\"dataframe\">\n",
       "  <thead>\n",
       "    <tr style=\"text-align: right;\">\n",
       "      <th></th>\n",
       "      <th>CustomerID</th>\n",
       "      <th>Customer.Lifetime.Value</th>\n",
       "      <th>Income</th>\n",
       "      <th>Monthly.Premium.Auto</th>\n",
       "      <th>Months.Since.Last.Claim</th>\n",
       "      <th>Months.Since.Policy.Inception</th>\n",
       "      <th>Number.of.Open.Complaints</th>\n",
       "      <th>Number.of.Policies</th>\n",
       "      <th>Total.Claim.Amount</th>\n",
       "      <th>Vehicle.Size</th>\n",
       "    </tr>\n",
       "  </thead>\n",
       "  <tbody>\n",
       "    <tr>\n",
       "      <th>count</th>\n",
       "      <td>9806.000000</td>\n",
       "      <td>9806.000000</td>\n",
       "      <td>9688.000000</td>\n",
       "      <td>9012.000000</td>\n",
       "      <td>9806.000000</td>\n",
       "      <td>9806.000000</td>\n",
       "      <td>8988.000000</td>\n",
       "      <td>9685.000000</td>\n",
       "      <td>9806.000000</td>\n",
       "      <td>9680.000000</td>\n",
       "    </tr>\n",
       "    <tr>\n",
       "      <th>mean</th>\n",
       "      <td>5778.381807</td>\n",
       "      <td>7998.047015</td>\n",
       "      <td>37511.054604</td>\n",
       "      <td>93.340657</td>\n",
       "      <td>15.143993</td>\n",
       "      <td>48.165001</td>\n",
       "      <td>0.379172</td>\n",
       "      <td>2.960351</td>\n",
       "      <td>438.266734</td>\n",
       "      <td>2.089773</td>\n",
       "    </tr>\n",
       "    <tr>\n",
       "      <th>std</th>\n",
       "      <td>3343.286093</td>\n",
       "      <td>6848.055899</td>\n",
       "      <td>30292.974468</td>\n",
       "      <td>34.417763</td>\n",
       "      <td>10.004327</td>\n",
       "      <td>27.963630</td>\n",
       "      <td>0.896427</td>\n",
       "      <td>2.389801</td>\n",
       "      <td>293.502301</td>\n",
       "      <td>0.538524</td>\n",
       "    </tr>\n",
       "    <tr>\n",
       "      <th>min</th>\n",
       "      <td>1.000000</td>\n",
       "      <td>1898.007675</td>\n",
       "      <td>0.000000</td>\n",
       "      <td>61.000000</td>\n",
       "      <td>0.000000</td>\n",
       "      <td>0.000000</td>\n",
       "      <td>0.000000</td>\n",
       "      <td>1.000000</td>\n",
       "      <td>0.099007</td>\n",
       "      <td>1.000000</td>\n",
       "    </tr>\n",
       "    <tr>\n",
       "      <th>25%</th>\n",
       "      <td>2879.250000</td>\n",
       "      <td>4013.949039</td>\n",
       "      <td>0.000000</td>\n",
       "      <td>68.750000</td>\n",
       "      <td>6.000000</td>\n",
       "      <td>24.000000</td>\n",
       "      <td>0.000000</td>\n",
       "      <td>1.000000</td>\n",
       "      <td>280.352767</td>\n",
       "      <td>2.000000</td>\n",
       "    </tr>\n",
       "    <tr>\n",
       "      <th>50%</th>\n",
       "      <td>5783.000000</td>\n",
       "      <td>5780.182197</td>\n",
       "      <td>33767.500000</td>\n",
       "      <td>83.000000</td>\n",
       "      <td>14.000000</td>\n",
       "      <td>48.000000</td>\n",
       "      <td>0.000000</td>\n",
       "      <td>2.000000</td>\n",
       "      <td>384.007015</td>\n",
       "      <td>2.000000</td>\n",
       "    </tr>\n",
       "    <tr>\n",
       "      <th>75%</th>\n",
       "      <td>8678.750000</td>\n",
       "      <td>8960.280213</td>\n",
       "      <td>62018.000000</td>\n",
       "      <td>109.000000</td>\n",
       "      <td>23.000000</td>\n",
       "      <td>71.750000</td>\n",
       "      <td>0.000000</td>\n",
       "      <td>4.000000</td>\n",
       "      <td>553.540973</td>\n",
       "      <td>2.000000</td>\n",
       "    </tr>\n",
       "    <tr>\n",
       "      <th>max</th>\n",
       "      <td>11573.000000</td>\n",
       "      <td>83325.381190</td>\n",
       "      <td>99981.000000</td>\n",
       "      <td>297.000000</td>\n",
       "      <td>35.000000</td>\n",
       "      <td>99.000000</td>\n",
       "      <td>5.000000</td>\n",
       "      <td>9.000000</td>\n",
       "      <td>2893.239678</td>\n",
       "      <td>3.000000</td>\n",
       "    </tr>\n",
       "  </tbody>\n",
       "</table>\n",
       "</div>"
      ],
      "text/plain": [
       "         CustomerID  Customer.Lifetime.Value        Income  \\\n",
       "count   9806.000000              9806.000000   9688.000000   \n",
       "mean    5778.381807              7998.047015  37511.054604   \n",
       "std     3343.286093              6848.055899  30292.974468   \n",
       "min        1.000000              1898.007675      0.000000   \n",
       "25%     2879.250000              4013.949039      0.000000   \n",
       "50%     5783.000000              5780.182197  33767.500000   \n",
       "75%     8678.750000              8960.280213  62018.000000   \n",
       "max    11573.000000             83325.381190  99981.000000   \n",
       "\n",
       "       Monthly.Premium.Auto  Months.Since.Last.Claim  \\\n",
       "count           9012.000000              9806.000000   \n",
       "mean              93.340657                15.143993   \n",
       "std               34.417763                10.004327   \n",
       "min               61.000000                 0.000000   \n",
       "25%               68.750000                 6.000000   \n",
       "50%               83.000000                14.000000   \n",
       "75%              109.000000                23.000000   \n",
       "max              297.000000                35.000000   \n",
       "\n",
       "       Months.Since.Policy.Inception  Number.of.Open.Complaints  \\\n",
       "count                    9806.000000                8988.000000   \n",
       "mean                       48.165001                   0.379172   \n",
       "std                        27.963630                   0.896427   \n",
       "min                         0.000000                   0.000000   \n",
       "25%                        24.000000                   0.000000   \n",
       "50%                        48.000000                   0.000000   \n",
       "75%                        71.750000                   0.000000   \n",
       "max                        99.000000                   5.000000   \n",
       "\n",
       "       Number.of.Policies  Total.Claim.Amount  Vehicle.Size  \n",
       "count         9685.000000         9806.000000   9680.000000  \n",
       "mean             2.960351          438.266734      2.089773  \n",
       "std              2.389801          293.502301      0.538524  \n",
       "min              1.000000            0.099007      1.000000  \n",
       "25%              1.000000          280.352767      2.000000  \n",
       "50%              2.000000          384.007015      2.000000  \n",
       "75%              4.000000          553.540973      2.000000  \n",
       "max              9.000000         2893.239678      3.000000  "
      ]
     },
     "execution_count": 7,
     "metadata": {},
     "output_type": "execute_result"
    }
   ],
   "source": [
    "# Descriptive statistics\n",
    "\n",
    "train_dataset.describe() # description of the numerical variables"
   ]
  },
  {
   "cell_type": "markdown",
   "metadata": {
    "id": "-pRaeVAwgFpl"
   },
   "source": [
    "customer id is a unique column we need to drop it.\n",
    "\n",
    "customer life time value,Total.Claim.Amount have outliers.\n",
    "\n",
    "Income,Monthly premium auto,no of open complaints,no of polices,vehicle size has null values.\n",
    "\n",
    "Months.Since.Last.Claim,Months.Since.Policy.Inception,\tNumber.of.Open.Complaints,Number.of.Policies,Vehicle.Size\n",
    " is categorical."
   ]
  },
  {
   "cell_type": "code",
   "execution_count": 8,
   "metadata": {
    "colab": {
     "base_uri": "https://localhost:8080/",
     "height": 256
    },
    "id": "ePDr7E_zfneL",
    "outputId": "9edb2913-d705-4beb-e6b3-7c1569821b70"
   },
   "outputs": [
    {
     "data": {
      "text/html": [
       "<div>\n",
       "<style scoped>\n",
       "    .dataframe tbody tr th:only-of-type {\n",
       "        vertical-align: middle;\n",
       "    }\n",
       "\n",
       "    .dataframe tbody tr th {\n",
       "        vertical-align: top;\n",
       "    }\n",
       "\n",
       "    .dataframe thead th {\n",
       "        text-align: right;\n",
       "    }\n",
       "</style>\n",
       "<table border=\"1\" class=\"dataframe\">\n",
       "  <thead>\n",
       "    <tr style=\"text-align: right;\">\n",
       "      <th></th>\n",
       "      <th>Coverage</th>\n",
       "      <th>Education</th>\n",
       "      <th>EmploymentStatus</th>\n",
       "      <th>Gender</th>\n",
       "      <th>Location.Geo</th>\n",
       "      <th>Location.Code</th>\n",
       "      <th>Marital.Status</th>\n",
       "      <th>Policy.Type</th>\n",
       "      <th>Policy</th>\n",
       "      <th>Renew.Offer.Type</th>\n",
       "      <th>Sales.Channel</th>\n",
       "      <th>Vehicle.Class</th>\n",
       "    </tr>\n",
       "  </thead>\n",
       "  <tbody>\n",
       "    <tr>\n",
       "      <th>count</th>\n",
       "      <td>8881</td>\n",
       "      <td>9677</td>\n",
       "      <td>9688</td>\n",
       "      <td>9677</td>\n",
       "      <td>9806</td>\n",
       "      <td>9687</td>\n",
       "      <td>9677</td>\n",
       "      <td>8915</td>\n",
       "      <td>9685</td>\n",
       "      <td>9678</td>\n",
       "      <td>9678</td>\n",
       "      <td>9680</td>\n",
       "    </tr>\n",
       "    <tr>\n",
       "      <th>unique</th>\n",
       "      <td>3</td>\n",
       "      <td>5</td>\n",
       "      <td>5</td>\n",
       "      <td>2</td>\n",
       "      <td>2840</td>\n",
       "      <td>3</td>\n",
       "      <td>3</td>\n",
       "      <td>3</td>\n",
       "      <td>9</td>\n",
       "      <td>4</td>\n",
       "      <td>4</td>\n",
       "      <td>6</td>\n",
       "    </tr>\n",
       "    <tr>\n",
       "      <th>top</th>\n",
       "      <td>Basic</td>\n",
       "      <td>Bachelor</td>\n",
       "      <td>Employed</td>\n",
       "      <td>F</td>\n",
       "      <td>NA,NA</td>\n",
       "      <td>Suburban</td>\n",
       "      <td>Married</td>\n",
       "      <td>Personal Auto</td>\n",
       "      <td>Personal L3</td>\n",
       "      <td>Offer1</td>\n",
       "      <td>Agent</td>\n",
       "      <td>Four-Door Car</td>\n",
       "    </tr>\n",
       "    <tr>\n",
       "      <th>freq</th>\n",
       "      <td>5361</td>\n",
       "      <td>2934</td>\n",
       "      <td>6020</td>\n",
       "      <td>4985</td>\n",
       "      <td>119</td>\n",
       "      <td>6204</td>\n",
       "      <td>5643</td>\n",
       "      <td>6620</td>\n",
       "      <td>3637</td>\n",
       "      <td>3975</td>\n",
       "      <td>3670</td>\n",
       "      <td>4869</td>\n",
       "    </tr>\n",
       "  </tbody>\n",
       "</table>\n",
       "</div>"
      ],
      "text/plain": [
       "       Coverage Education EmploymentStatus Gender Location.Geo Location.Code  \\\n",
       "count      8881      9677             9688   9677         9806          9687   \n",
       "unique        3         5                5      2         2840             3   \n",
       "top       Basic  Bachelor         Employed      F        NA,NA      Suburban   \n",
       "freq       5361      2934             6020   4985          119          6204   \n",
       "\n",
       "       Marital.Status    Policy.Type       Policy Renew.Offer.Type  \\\n",
       "count            9677           8915         9685             9678   \n",
       "unique              3              3            9                4   \n",
       "top           Married  Personal Auto  Personal L3           Offer1   \n",
       "freq             5643           6620         3637             3975   \n",
       "\n",
       "       Sales.Channel  Vehicle.Class  \n",
       "count           9678           9680  \n",
       "unique             4              6  \n",
       "top            Agent  Four-Door Car  \n",
       "freq            3670           4869  "
      ]
     },
     "execution_count": 8,
     "metadata": {},
     "output_type": "execute_result"
    }
   ],
   "source": [
    "train_dataset.describe(include='O') # description of categorical varaibles"
   ]
  },
  {
   "cell_type": "markdown",
   "metadata": {
    "id": "MjeN5O-QiG94"
   },
   "source": [
    "Coverage,Education,EmploymentStatus,Gender,Marital.Status,Policy.Type,Policy,Renew.Offer.Type,Sales.Channel,Vehicle.Class all are having null values.\n",
    "\n",
    "Location.Geo can cause high dimensionality so better to drop it.\n",
    "\n"
   ]
  },
  {
   "cell_type": "markdown",
   "metadata": {
    "id": "bqWYH5kVh986"
   },
   "source": []
  },
  {
   "cell_type": "code",
   "execution_count": null,
   "metadata": {
    "id": "UA73AoAIf7H0"
   },
   "outputs": [],
   "source": []
  },
  {
   "cell_type": "markdown",
   "metadata": {
    "id": "P0220j_3kMIL"
   },
   "source": [
    "# Data Visualizations and Preprocessing"
   ]
  },
  {
   "cell_type": "markdown",
   "metadata": {
    "id": "19vx1oSLpzO9"
   },
   "source": [
    "#### Dropping Unwanted columns"
   ]
  },
  {
   "cell_type": "code",
   "execution_count": 9,
   "metadata": {
    "colab": {
     "base_uri": "https://localhost:8080/"
    },
    "id": "bqPfTalgpvI4",
    "outputId": "a01179f1-0e3c-40e1-d1a4-cb59a9f210de"
   },
   "outputs": [
    {
     "data": {
      "text/plain": [
       "Index(['CustomerID', 'Customer.Lifetime.Value', 'Coverage', 'Education',\n",
       "       'EmploymentStatus', 'Gender', 'Income', 'Location.Geo', 'Location.Code',\n",
       "       'Marital.Status', 'Monthly.Premium.Auto', 'Months.Since.Last.Claim',\n",
       "       'Months.Since.Policy.Inception', 'Number.of.Open.Complaints',\n",
       "       'Number.of.Policies', 'Policy.Type', 'Policy', 'Renew.Offer.Type',\n",
       "       'Sales.Channel', 'Total.Claim.Amount', 'Vehicle.Class', 'Vehicle.Size'],\n",
       "      dtype='object')"
      ]
     },
     "execution_count": 9,
     "metadata": {},
     "output_type": "execute_result"
    }
   ],
   "source": [
    "train_dataset.columns"
   ]
  },
  {
   "cell_type": "code",
   "execution_count": 10,
   "metadata": {
    "id": "h0tGDoJPpykD"
   },
   "outputs": [],
   "source": [
    "def drop_unwanted(x):\n",
    "    x.drop(['CustomerID','Location.Geo'],axis=1,inplace=True)"
   ]
  },
  {
   "cell_type": "code",
   "execution_count": 11,
   "metadata": {
    "id": "szwNd0mJqOWK"
   },
   "outputs": [],
   "source": [
    "drop_unwanted(train_dataset)"
   ]
  },
  {
   "cell_type": "code",
   "execution_count": 12,
   "metadata": {
    "colab": {
     "base_uri": "https://localhost:8080/"
    },
    "id": "90SYK53jqRtv",
    "outputId": "10fa9e36-8c94-456f-ee4d-40f0331a3b51"
   },
   "outputs": [
    {
     "data": {
      "text/plain": [
       "Index(['Customer.Lifetime.Value', 'Coverage', 'Education', 'EmploymentStatus',\n",
       "       'Gender', 'Income', 'Location.Code', 'Marital.Status',\n",
       "       'Monthly.Premium.Auto', 'Months.Since.Last.Claim',\n",
       "       'Months.Since.Policy.Inception', 'Number.of.Open.Complaints',\n",
       "       'Number.of.Policies', 'Policy.Type', 'Policy', 'Renew.Offer.Type',\n",
       "       'Sales.Channel', 'Total.Claim.Amount', 'Vehicle.Class', 'Vehicle.Size'],\n",
       "      dtype='object')"
      ]
     },
     "execution_count": 12,
     "metadata": {},
     "output_type": "execute_result"
    }
   ],
   "source": [
    "train_dataset.columns"
   ]
  },
  {
   "cell_type": "markdown",
   "metadata": {
    "id": "SFfy8FrOpdPc"
   },
   "source": [
    "#### Type Conversion"
   ]
  },
  {
   "cell_type": "code",
   "execution_count": 13,
   "metadata": {
    "id": "oa4NTaElpf7T"
   },
   "outputs": [],
   "source": [
    "def type_conversion(x):\n",
    "    x['Months.Since.Last.Claim']=x[\"Months.Since.Last.Claim\"].astype(\"category\")\n",
    "    x[\"Months.Since.Policy.Inception\"]=x[\"Months.Since.Policy.Inception\"].astype(\"category\")\n",
    "    x[\"Number.of.Open.Complaints\"]=x[\"Number.of.Open.Complaints\"].astype(\"category\")\n",
    "    x[\"Number.of.Policies\"]=x[\"Number.of.Policies\"].astype(\"category\")\n",
    "    x[\"Vehicle.Size\"]=x[\"Vehicle.Size\"].astype(\"category\")\n"
   ]
  },
  {
   "cell_type": "code",
   "execution_count": 14,
   "metadata": {
    "id": "RDRAaDHZpf3Y"
   },
   "outputs": [],
   "source": [
    "type_conversion(train_dataset)"
   ]
  },
  {
   "cell_type": "code",
   "execution_count": null,
   "metadata": {
    "id": "rVG5jGa8pf1V"
   },
   "outputs": [],
   "source": []
  },
  {
   "cell_type": "markdown",
   "metadata": {
    "id": "fzQ0-L1CtUTQ"
   },
   "source": [
    "#### Let's split the data to train and test\n",
    "\n",
    "##### as the test data is unknown to us it is better to preprocess differently the train and test data to understand the model how it is working with the test data"
   ]
  },
  {
   "cell_type": "code",
   "execution_count": 15,
   "metadata": {
    "id": "la5jPqaBtq7p"
   },
   "outputs": [],
   "source": [
    "from sklearn.model_selection import train_test_split"
   ]
  },
  {
   "cell_type": "code",
   "execution_count": 16,
   "metadata": {
    "id": "NrOSeHX7t78B"
   },
   "outputs": [],
   "source": [
    "x=train_dataset.drop(['Customer.Lifetime.Value'],axis=1)\n",
    "y=train_dataset[['Customer.Lifetime.Value']]"
   ]
  },
  {
   "cell_type": "code",
   "execution_count": 17,
   "metadata": {
    "id": "vhOoZ0Tetw9I"
   },
   "outputs": [],
   "source": [
    "x_train,x_test,y_train,y_test=train_test_split(x,y,train_size=0.7,random_state=4306)"
   ]
  },
  {
   "cell_type": "markdown",
   "metadata": {
    "id": "IMX7pghsjZKI"
   },
   "source": [
    "##### Lets see if there are any null values or not"
   ]
  },
  {
   "cell_type": "code",
   "execution_count": 18,
   "metadata": {
    "id": "rqkYH4-EjdaH"
   },
   "outputs": [],
   "source": [
    "import seaborn as sns\n",
    "import matplotlib.pyplot as plt"
   ]
  },
  {
   "cell_type": "code",
   "execution_count": 19,
   "metadata": {
    "colab": {
     "base_uri": "https://localhost:8080/",
     "height": 642
    },
    "id": "8vsvfae-jfF4",
    "outputId": "d93fb37d-2eea-4fe2-d660-6d7e32eb0abf"
   },
   "outputs": [
    {
     "data": {
      "text/plain": [
       "<AxesSubplot:>"
      ]
     },
     "execution_count": 19,
     "metadata": {},
     "output_type": "execute_result"
    },
    {
     "data": {
      "image/png": "[encoded data removed]",
      "text/plain": [
       "<Figure size 720x576 with 2 Axes>"
      ]
     },
     "metadata": {
      "needs_background": "light"
     },
     "output_type": "display_data"
    }
   ],
   "source": [
    "plt.figure(figsize=(10,8))\n",
    "sns.heatmap(x_train.isna())"
   ]
  },
  {
   "cell_type": "markdown",
   "metadata": {
    "id": "X_JFkxcppA3r"
   },
   "source": [
    "#### lets fill the missing values\n",
    "\n",
    "##### as there are outliers in our numerical data it is better to fill the missing values with median.\n",
    "\n",
    "##### filling the missing values with the mode to the categorical data."
   ]
  },
  {
   "cell_type": "code",
   "execution_count": 20,
   "metadata": {
    "id": "PIPKT4JKyYFJ"
   },
   "outputs": [],
   "source": [
    "# lets fill the train data numerical columns"
   ]
  },
  {
   "cell_type": "code",
   "execution_count": 21,
   "metadata": {
    "id": "nEgswd7Os6eZ"
   },
   "outputs": [],
   "source": [
    "numerical_cols=x_train.describe().columns\n",
    "categorical_cols=x_train.describe(include=['object','category']).columns"
   ]
  },
  {
   "cell_type": "code",
   "execution_count": 22,
   "metadata": {
    "colab": {
     "base_uri": "https://localhost:8080/"
    },
    "id": "fGmZsVvUxZZt",
    "outputId": "fc9e3936-82f1-4ab9-f456-e6b17d948ebb"
   },
   "outputs": [
    {
     "data": {
      "text/plain": [
       "Index(['Income', 'Monthly.Premium.Auto', 'Total.Claim.Amount'], dtype='object')"
      ]
     },
     "execution_count": 22,
     "metadata": {},
     "output_type": "execute_result"
    }
   ],
   "source": [
    "numerical_cols"
   ]
  },
  {
   "cell_type": "code",
   "execution_count": 23,
   "metadata": {
    "id": "SP6k46Pmo7EN"
   },
   "outputs": [],
   "source": [
    "# using simple imputer\n",
    "\n",
    "from sklearn.impute import SimpleImputer"
   ]
  },
  {
   "cell_type": "code",
   "execution_count": 24,
   "metadata": {
    "id": "0V_yYH5ssnJu"
   },
   "outputs": [],
   "source": [
    "si=SimpleImputer(strategy='median')\n",
    "x_train[numerical_cols]=si.fit_transform(x_train[numerical_cols])"
   ]
  },
  {
   "cell_type": "code",
   "execution_count": null,
   "metadata": {
    "id": "F0KlLXXcvQfj"
   },
   "outputs": [],
   "source": []
  },
  {
   "cell_type": "code",
   "execution_count": 25,
   "metadata": {
    "id": "IknOIC9EySyd"
   },
   "outputs": [],
   "source": [
    "# lets fill the train data categorical variables"
   ]
  },
  {
   "cell_type": "code",
   "execution_count": 26,
   "metadata": {
    "colab": {
     "base_uri": "https://localhost:8080/"
    },
    "id": "mF-XALrrxj6k",
    "outputId": "2d2f3243-f472-4d92-9b77-0908f5c62f71"
   },
   "outputs": [
    {
     "data": {
      "text/plain": [
       "Index(['Coverage', 'Education', 'EmploymentStatus', 'Gender', 'Location.Code',\n",
       "       'Marital.Status', 'Months.Since.Last.Claim',\n",
       "       'Months.Since.Policy.Inception', 'Number.of.Open.Complaints',\n",
       "       'Number.of.Policies', 'Policy.Type', 'Policy', 'Renew.Offer.Type',\n",
       "       'Sales.Channel', 'Vehicle.Class', 'Vehicle.Size'],\n",
       "      dtype='object')"
      ]
     },
     "execution_count": 26,
     "metadata": {},
     "output_type": "execute_result"
    }
   ],
   "source": [
    "categorical_cols"
   ]
  },
  {
   "cell_type": "code",
   "execution_count": 27,
   "metadata": {
    "id": "XpCyxfulwwH1"
   },
   "outputs": [],
   "source": [
    "sic=SimpleImputer(strategy='most_frequent')\n",
    "x_train[categorical_cols]=sic.fit_transform(x_train[categorical_cols])"
   ]
  },
  {
   "cell_type": "code",
   "execution_count": 28,
   "metadata": {
    "colab": {
     "base_uri": "https://localhost:8080/",
     "height": 642
    },
    "id": "3ilzNoxFyebS",
    "outputId": "6e741a27-875b-4fcc-b35c-82f17940e25f"
   },
   "outputs": [
    {
     "data": {
      "text/plain": [
       "<AxesSubplot:>"
      ]
     },
     "execution_count": 28,
     "metadata": {},
     "output_type": "execute_result"
    },
    {
     "data": {
      "image/png": "[encoded data removed]",
      "text/plain": [
       "<Figure size 720x576 with 2 Axes>"
      ]
     },
     "metadata": {
      "needs_background": "light"
     },
     "output_type": "display_data"
    }
   ],
   "source": [
    "plt.figure(figsize=(10,8))\n",
    "sns.heatmap(x_train.isna())\n",
    "# no null values"
   ]
  },
  {
   "cell_type": "code",
   "execution_count": 29,
   "metadata": {
    "id": "ewPydBexyhTp"
   },
   "outputs": [],
   "source": [
    "# lets fill the y_train data which is a numerical column"
   ]
  },
  {
   "cell_type": "code",
   "execution_count": 30,
   "metadata": {
    "id": "boZnF3suwFUz"
   },
   "outputs": [],
   "source": [
    "sii=SimpleImputer(strategy='median')\n",
    "y_train[['Customer.Lifetime.Value']]=sii.fit_transform(y_train[['Customer.Lifetime.Value']])"
   ]
  },
  {
   "cell_type": "code",
   "execution_count": 31,
   "metadata": {
    "colab": {
     "base_uri": "https://localhost:8080/"
    },
    "id": "FJfHnJgRwZ0I",
    "outputId": "80f24287-ca53-42d7-ce0a-a125739100d1"
   },
   "outputs": [
    {
     "data": {
      "text/plain": [
       "Customer.Lifetime.Value    0\n",
       "dtype: int64"
      ]
     },
     "execution_count": 31,
     "metadata": {},
     "output_type": "execute_result"
    }
   ],
   "source": [
    "y_train[['Customer.Lifetime.Value']].isna().sum()"
   ]
  },
  {
   "cell_type": "markdown",
   "metadata": {
    "id": "xgIcUhUkkcyk"
   },
   "source": [
    "#### Lets see if there are outliers or not using boxplot"
   ]
  },
  {
   "cell_type": "code",
   "execution_count": 32,
   "metadata": {
    "colab": {
     "base_uri": "https://localhost:8080/"
    },
    "id": "VOGtTdzzlffW",
    "outputId": "ef30c6b1-5043-4458-d093-1049e79b9bc7"
   },
   "outputs": [
    {
     "data": {
      "text/plain": [
       "Index(['Income', 'Monthly.Premium.Auto', 'Total.Claim.Amount'], dtype='object')"
      ]
     },
     "execution_count": 32,
     "metadata": {},
     "output_type": "execute_result"
    }
   ],
   "source": [
    "numerical_cols"
   ]
  },
  {
   "cell_type": "code",
   "execution_count": 33,
   "metadata": {
    "id": "ufN1nFTqji_K"
   },
   "outputs": [],
   "source": [
    "# outliers can only be seen in numerical colums"
   ]
  },
  {
   "cell_type": "code",
   "execution_count": 34,
   "metadata": {
    "id": "Sp1cf4prnD2D"
   },
   "outputs": [],
   "source": [
    "def whiskers(x):\n",
    "    IQR1=np.quantile(x,0.75)-np.quantile(x,0.25)\n",
    "    print(\"IQR :\",IQR1)\n",
    "    upper_whishker=(np.quantile(x,0.75)+(1.5)*IQR1)\n",
    "    print(\"upper_whishker:\",upper_whishker)\n",
    "    lower_whishker=(np.quantile(x,0.25)-(1.5)*IQR1)\n",
    "    print(\"lower_whishker :\",lower_whishker)\n",
    "    print(\"total number of data points above upper whishker :\",(x>upper_whishker).sum())\n",
    "    print(\"total number of data points below the lower whishker \",(x<lower_whishker).sum())"
   ]
  },
  {
   "cell_type": "code",
   "execution_count": 35,
   "metadata": {
    "colab": {
     "base_uri": "https://localhost:8080/",
     "height": 296
    },
    "id": "vmrSV-cjk7b7",
    "outputId": "40241040-e301-4e65-9d51-cad6941afa19"
   },
   "outputs": [
    {
     "data": {
      "text/plain": [
       "<AxesSubplot:xlabel='Income'>"
      ]
     },
     "execution_count": 35,
     "metadata": {},
     "output_type": "execute_result"
    },
    {
     "data": {
      "image/png": "[encoded data removed]",
      "text/plain": [
       "<Figure size 432x288 with 1 Axes>"
      ]
     },
     "metadata": {
      "needs_background": "light"
     },
     "output_type": "display_data"
    }
   ],
   "source": [
    "sns.boxplot(x_train['Income'])\n",
    "# have outlers or influential point"
   ]
  },
  {
   "cell_type": "code",
   "execution_count": 36,
   "metadata": {
    "colab": {
     "base_uri": "https://localhost:8080/"
    },
    "id": "2ZWJEmSlnby9",
    "outputId": "1c5d579a-7a45-4bec-eb8b-b76b2e439ea7"
   },
   "outputs": [
    {
     "name": "stdout",
     "output_type": "stream",
     "text": [
      "IQR : 61994.0\n",
      "upper_whishker: 154985.0\n",
      "lower_whishker : -92991.0\n",
      "total number of data points above upper whishker : 0\n",
      "total number of data points below the lower whishker  0\n"
     ]
    }
   ],
   "source": [
    "whiskers(x_train['Income'])"
   ]
  },
  {
   "cell_type": "code",
   "execution_count": 37,
   "metadata": {
    "colab": {
     "base_uri": "https://localhost:8080/",
     "height": 296
    },
    "id": "TEguTVNllKzN",
    "outputId": "71c6d00e-516a-4a89-d3b5-0ef1207cb71a"
   },
   "outputs": [
    {
     "data": {
      "text/plain": [
       "<AxesSubplot:xlabel='Monthly.Premium.Auto'>"
      ]
     },
     "execution_count": 37,
     "metadata": {},
     "output_type": "execute_result"
    },
    {
     "data": {
      "image/png": "[encoded data removed]",
      "text/plain": [
       "<Figure size 432x288 with 1 Axes>"
      ]
     },
     "metadata": {
      "needs_background": "light"
     },
     "output_type": "display_data"
    }
   ],
   "source": [
    "sns.boxplot(x_train['Monthly.Premium.Auto'])\n",
    "# don't have any outlers or influential point"
   ]
  },
  {
   "cell_type": "code",
   "execution_count": 38,
   "metadata": {
    "colab": {
     "base_uri": "https://localhost:8080/"
    },
    "id": "oXRwbvaiopsA",
    "outputId": "9cdb39c9-06bb-4695-ab12-bd3034a7fe51"
   },
   "outputs": [
    {
     "name": "stdout",
     "output_type": "stream",
     "text": [
      "IQR : 38.0\n",
      "upper_whishker: 164.0\n",
      "lower_whishker : 12.0\n",
      "total number of data points above upper whishker : 326\n",
      "total number of data points below the lower whishker  0\n"
     ]
    }
   ],
   "source": [
    "whiskers(x_train['Monthly.Premium.Auto'])"
   ]
  },
  {
   "cell_type": "code",
   "execution_count": 39,
   "metadata": {
    "colab": {
     "base_uri": "https://localhost:8080/",
     "height": 296
    },
    "id": "PctaenBbl9WY",
    "outputId": "d94993e1-ba8b-49e9-96e1-4982d73fc2d0"
   },
   "outputs": [
    {
     "data": {
      "text/plain": [
       "<AxesSubplot:xlabel='Total.Claim.Amount'>"
      ]
     },
     "execution_count": 39,
     "metadata": {},
     "output_type": "execute_result"
    },
    {
     "data": {
      "image/png": "[encoded data removed]",
      "text/plain": [
       "<Figure size 432x288 with 1 Axes>"
      ]
     },
     "metadata": {
      "needs_background": "light"
     },
     "output_type": "display_data"
    }
   ],
   "source": [
    "sns.boxplot(x_train['Total.Claim.Amount'])\n",
    "# have any outliers or influential point"
   ]
  },
  {
   "cell_type": "code",
   "execution_count": 40,
   "metadata": {
    "colab": {
     "base_uri": "https://localhost:8080/"
    },
    "id": "lBDf4kVWmFiw",
    "outputId": "d3828eea-b42b-4651-ea13-61d89d0e9a11"
   },
   "outputs": [
    {
     "name": "stdout",
     "output_type": "stream",
     "text": [
      "IQR : 270.75037575\n",
      "upper_whishker: 958.125563625\n",
      "lower_whishker : -124.87593937499997\n",
      "total number of data points above upper whishker : 348\n",
      "total number of data points below the lower whishker  0\n"
     ]
    }
   ],
   "source": [
    "whiskers(x_train['Total.Claim.Amount'])"
   ]
  },
  {
   "cell_type": "code",
   "execution_count": 41,
   "metadata": {
    "id": "jASIRg4So21R"
   },
   "outputs": [],
   "source": [
    "# All are related to the income so may be they are not outliers."
   ]
  },
  {
   "cell_type": "markdown",
   "metadata": {
    "id": "lpVR3KqZ1NAA"
   },
   "source": [
    "### Standardization\n",
    "\n",
    "##### to make our model fast during the training we need to do standardization"
   ]
  },
  {
   "cell_type": "code",
   "execution_count": 42,
   "metadata": {
    "id": "3UmRzRkn0_JM"
   },
   "outputs": [],
   "source": [
    "from sklearn.preprocessing import StandardScaler"
   ]
  },
  {
   "cell_type": "code",
   "execution_count": 43,
   "metadata": {
    "id": "OBDdq7Qs0--Z"
   },
   "outputs": [],
   "source": [
    "scaler=StandardScaler()\n",
    "x_train[numerical_cols]=scaler.fit_transform(x_train[numerical_cols])"
   ]
  },
  {
   "cell_type": "code",
   "execution_count": 44,
   "metadata": {
    "colab": {
     "base_uri": "https://localhost:8080/",
     "height": 206
    },
    "id": "nCeYLpCK7s22",
    "outputId": "70055dca-8e27-469b-83ac-7148e1056b6a"
   },
   "outputs": [
    {
     "data": {
      "text/html": [
       "<div>\n",
       "<style scoped>\n",
       "    .dataframe tbody tr th:only-of-type {\n",
       "        vertical-align: middle;\n",
       "    }\n",
       "\n",
       "    .dataframe tbody tr th {\n",
       "        vertical-align: top;\n",
       "    }\n",
       "\n",
       "    .dataframe thead th {\n",
       "        text-align: right;\n",
       "    }\n",
       "</style>\n",
       "<table border=\"1\" class=\"dataframe\">\n",
       "  <thead>\n",
       "    <tr style=\"text-align: right;\">\n",
       "      <th></th>\n",
       "      <th>Income</th>\n",
       "      <th>Monthly.Premium.Auto</th>\n",
       "      <th>Total.Claim.Amount</th>\n",
       "    </tr>\n",
       "  </thead>\n",
       "  <tbody>\n",
       "    <tr>\n",
       "      <th>1688</th>\n",
       "      <td>-1.247703</td>\n",
       "      <td>-0.284805</td>\n",
       "      <td>-0.133205</td>\n",
       "    </tr>\n",
       "    <tr>\n",
       "      <th>5495</th>\n",
       "      <td>0.414690</td>\n",
       "      <td>1.158925</td>\n",
       "      <td>0.651813</td>\n",
       "    </tr>\n",
       "    <tr>\n",
       "      <th>550</th>\n",
       "      <td>-0.173605</td>\n",
       "      <td>6.151825</td>\n",
       "      <td>4.539874</td>\n",
       "    </tr>\n",
       "    <tr>\n",
       "      <th>7732</th>\n",
       "      <td>1.940515</td>\n",
       "      <td>0.737837</td>\n",
       "      <td>0.396261</td>\n",
       "    </tr>\n",
       "    <tr>\n",
       "      <th>6304</th>\n",
       "      <td>0.393430</td>\n",
       "      <td>0.677682</td>\n",
       "      <td>0.391128</td>\n",
       "    </tr>\n",
       "  </tbody>\n",
       "</table>\n",
       "</div>"
      ],
      "text/plain": [
       "        Income  Monthly.Premium.Auto  Total.Claim.Amount\n",
       "1688 -1.247703             -0.284805           -0.133205\n",
       "5495  0.414690              1.158925            0.651813\n",
       "550  -0.173605              6.151825            4.539874\n",
       "7732  1.940515              0.737837            0.396261\n",
       "6304  0.393430              0.677682            0.391128"
      ]
     },
     "execution_count": 44,
     "metadata": {},
     "output_type": "execute_result"
    }
   ],
   "source": [
    "x_train[numerical_cols].head()"
   ]
  },
  {
   "cell_type": "code",
   "execution_count": 45,
   "metadata": {
    "id": "fs5T_jahCa7r"
   },
   "outputs": [],
   "source": [
    "scaler_y=StandardScaler()\n",
    "y_train[['Customer.Lifetime.Value']]=scaler_y.fit_transform(y_train[['Customer.Lifetime.Value']])"
   ]
  },
  {
   "cell_type": "code",
   "execution_count": 46,
   "metadata": {
    "id": "6Z7CcosfC3wu"
   },
   "outputs": [],
   "source": [
    "# y_train[['Customer.Lifetime.Value']] = scaler_y.inverse_transform(y_train[['Customer.Lifetime.Value']])\n",
    "\n",
    "# to detransform it we can use this code"
   ]
  },
  {
   "cell_type": "code",
   "execution_count": null,
   "metadata": {
    "id": "7_wQjLAfDz8G"
   },
   "outputs": [],
   "source": []
  },
  {
   "cell_type": "markdown",
   "metadata": {
    "id": "Pz6Skq9OD0xT"
   },
   "source": [
    "#### Dummification\n",
    "\n",
    "##### as our system can't process the cateorical variables we have to convert them into numericals\n",
    "\n",
    "##### the process of converting the categorical variables are called dummification"
   ]
  },
  {
   "cell_type": "code",
   "execution_count": 47,
   "metadata": {
    "id": "rMSN2e_yDz4j"
   },
   "outputs": [],
   "source": [
    "# dummification can be done for categorical variables\n",
    "# categorical variables are three types\n",
    "\n",
    "# nominal - variables having data points which don't have any order (no of childern in a family - 2,1,5)\n",
    "# ordinal - variables having data points which have a specific order (rating - 5,4,3,2,1)\n",
    "\n",
    "# nominal can be handle using OneHotEncoder \n",
    "# ordinal can be handle using  ordinal encoder\n",
    "# if our target is categorical then we have to use label encoder.\n",
    "\n",
    "# or  we can also do one hot encoder for every categorical varible.\n",
    "# if we had very few categories in a feature we can go with one hot encoder. (becasue this doesnot causes the curse of dimensionality )\n",
    "# if we had very high categories in a feature we can go with their respective method."
   ]
  },
  {
   "cell_type": "code",
   "execution_count": 48,
   "metadata": {
    "colab": {
     "base_uri": "https://localhost:8080/"
    },
    "id": "QXBIM_7dFPRN",
    "outputId": "7b28c6b0-b2ba-4f97-f3b7-c10ab1dc573d"
   },
   "outputs": [
    {
     "data": {
      "text/plain": [
       "Index(['Coverage', 'Education', 'EmploymentStatus', 'Gender', 'Location.Code',\n",
       "       'Marital.Status', 'Months.Since.Last.Claim',\n",
       "       'Months.Since.Policy.Inception', 'Number.of.Open.Complaints',\n",
       "       'Number.of.Policies', 'Policy.Type', 'Policy', 'Renew.Offer.Type',\n",
       "       'Sales.Channel', 'Vehicle.Class', 'Vehicle.Size'],\n",
       "      dtype='object')"
      ]
     },
     "execution_count": 48,
     "metadata": {},
     "output_type": "execute_result"
    }
   ],
   "source": [
    "categorical_cols"
   ]
  },
  {
   "cell_type": "code",
   "execution_count": 49,
   "metadata": {
    "colab": {
     "base_uri": "https://localhost:8080/",
     "height": 256
    },
    "id": "8gKynB6sFWVU",
    "outputId": "546a3234-aee3-4830-9fbb-7775bbb6d3d9"
   },
   "outputs": [
    {
     "data": {
      "text/html": [
       "<div>\n",
       "<style scoped>\n",
       "    .dataframe tbody tr th:only-of-type {\n",
       "        vertical-align: middle;\n",
       "    }\n",
       "\n",
       "    .dataframe tbody tr th {\n",
       "        vertical-align: top;\n",
       "    }\n",
       "\n",
       "    .dataframe thead th {\n",
       "        text-align: right;\n",
       "    }\n",
       "</style>\n",
       "<table border=\"1\" class=\"dataframe\">\n",
       "  <thead>\n",
       "    <tr style=\"text-align: right;\">\n",
       "      <th></th>\n",
       "      <th>Coverage</th>\n",
       "      <th>Education</th>\n",
       "      <th>EmploymentStatus</th>\n",
       "      <th>Gender</th>\n",
       "      <th>Location.Code</th>\n",
       "      <th>Marital.Status</th>\n",
       "      <th>Months.Since.Last.Claim</th>\n",
       "      <th>Months.Since.Policy.Inception</th>\n",
       "      <th>Number.of.Open.Complaints</th>\n",
       "      <th>Number.of.Policies</th>\n",
       "      <th>Policy.Type</th>\n",
       "      <th>Policy</th>\n",
       "      <th>Renew.Offer.Type</th>\n",
       "      <th>Sales.Channel</th>\n",
       "      <th>Vehicle.Class</th>\n",
       "      <th>Vehicle.Size</th>\n",
       "    </tr>\n",
       "  </thead>\n",
       "  <tbody>\n",
       "    <tr>\n",
       "      <th>count</th>\n",
       "      <td>6864</td>\n",
       "      <td>6864</td>\n",
       "      <td>6864</td>\n",
       "      <td>6864</td>\n",
       "      <td>6864</td>\n",
       "      <td>6864</td>\n",
       "      <td>6864</td>\n",
       "      <td>6864</td>\n",
       "      <td>6864.0</td>\n",
       "      <td>6864.0</td>\n",
       "      <td>6864</td>\n",
       "      <td>6864</td>\n",
       "      <td>6864</td>\n",
       "      <td>6864</td>\n",
       "      <td>6864</td>\n",
       "      <td>6864.0</td>\n",
       "    </tr>\n",
       "    <tr>\n",
       "      <th>unique</th>\n",
       "      <td>3</td>\n",
       "      <td>5</td>\n",
       "      <td>5</td>\n",
       "      <td>2</td>\n",
       "      <td>3</td>\n",
       "      <td>3</td>\n",
       "      <td>36</td>\n",
       "      <td>100</td>\n",
       "      <td>6.0</td>\n",
       "      <td>9.0</td>\n",
       "      <td>3</td>\n",
       "      <td>9</td>\n",
       "      <td>4</td>\n",
       "      <td>4</td>\n",
       "      <td>6</td>\n",
       "      <td>3.0</td>\n",
       "    </tr>\n",
       "    <tr>\n",
       "      <th>top</th>\n",
       "      <td>Basic</td>\n",
       "      <td>Bachelor</td>\n",
       "      <td>Employed</td>\n",
       "      <td>F</td>\n",
       "      <td>Suburban</td>\n",
       "      <td>Married</td>\n",
       "      <td>3</td>\n",
       "      <td>61</td>\n",
       "      <td>0.0</td>\n",
       "      <td>1.0</td>\n",
       "      <td>Personal Auto</td>\n",
       "      <td>Personal L3</td>\n",
       "      <td>Offer1</td>\n",
       "      <td>Agent</td>\n",
       "      <td>Four-Door Car</td>\n",
       "      <td>2.0</td>\n",
       "    </tr>\n",
       "    <tr>\n",
       "      <th>freq</th>\n",
       "      <td>4380</td>\n",
       "      <td>2176</td>\n",
       "      <td>4304</td>\n",
       "      <td>3538</td>\n",
       "      <td>4430</td>\n",
       "      <td>4059</td>\n",
       "      <td>281</td>\n",
       "      <td>111</td>\n",
       "      <td>5564.0</td>\n",
       "      <td>2494.0</td>\n",
       "      <td>5256</td>\n",
       "      <td>2649</td>\n",
       "      <td>2862</td>\n",
       "      <td>2662</td>\n",
       "      <td>3487</td>\n",
       "      <td>4814.0</td>\n",
       "    </tr>\n",
       "  </tbody>\n",
       "</table>\n",
       "</div>"
      ],
      "text/plain": [
       "       Coverage Education EmploymentStatus Gender Location.Code  \\\n",
       "count      6864      6864             6864   6864          6864   \n",
       "unique        3         5                5      2             3   \n",
       "top       Basic  Bachelor         Employed      F      Suburban   \n",
       "freq       4380      2176             4304   3538          4430   \n",
       "\n",
       "       Marital.Status  Months.Since.Last.Claim  Months.Since.Policy.Inception  \\\n",
       "count            6864                     6864                           6864   \n",
       "unique              3                       36                            100   \n",
       "top           Married                        3                             61   \n",
       "freq             4059                      281                            111   \n",
       "\n",
       "        Number.of.Open.Complaints  Number.of.Policies    Policy.Type  \\\n",
       "count                      6864.0              6864.0           6864   \n",
       "unique                        6.0                 9.0              3   \n",
       "top                           0.0                 1.0  Personal Auto   \n",
       "freq                       5564.0              2494.0           5256   \n",
       "\n",
       "             Policy Renew.Offer.Type Sales.Channel  Vehicle.Class  \\\n",
       "count          6864             6864          6864           6864   \n",
       "unique            9                4             4              6   \n",
       "top     Personal L3           Offer1         Agent  Four-Door Car   \n",
       "freq           2649             2862          2662           3487   \n",
       "\n",
       "        Vehicle.Size  \n",
       "count         6864.0  \n",
       "unique           3.0  \n",
       "top              2.0  \n",
       "freq          4814.0  "
      ]
     },
     "execution_count": 49,
     "metadata": {},
     "output_type": "execute_result"
    }
   ],
   "source": [
    "x_train[categorical_cols].describe()"
   ]
  },
  {
   "cell_type": "code",
   "execution_count": 50,
   "metadata": {
    "id": "s_AiDOf6DzwV"
   },
   "outputs": [],
   "source": [
    "onehot_cols=['Coverage','Education','EmploymentStatus','Gender','Location.Code','Marital.Status','Policy.Type', 'Policy', 'Renew.Offer.Type',\n",
    "       'Sales.Channel', 'Vehicle.Class','Vehicle.Size']\n",
    "ordinal_cols=['Months.Since.Last.Claim',\n",
    "       'Months.Since.Policy.Inception', 'Number.of.Open.Complaints',\n",
    "       'Number.of.Policies']"
   ]
  },
  {
   "cell_type": "code",
   "execution_count": 51,
   "metadata": {
    "id": "9PFoTV-aKQf-"
   },
   "outputs": [],
   "source": [
    "from sklearn.preprocessing import OneHotEncoder"
   ]
  },
  {
   "cell_type": "code",
   "execution_count": 52,
   "metadata": {
    "id": "IN39MR86KQco"
   },
   "outputs": [],
   "source": [
    "oe=OneHotEncoder(handle_unknown='ignore',drop='if_binary')\n",
    "one_hot_data=pd.DataFrame(oe.fit_transform(x_train[['Coverage','Education','EmploymentStatus','Gender','Location.Code','Marital.Status','Policy.Type', 'Policy', 'Renew.Offer.Type',\n",
    "       'Sales.Channel', 'Vehicle.Class','Vehicle.Size']]).toarray(),columns=oe.get_feature_names())"
   ]
  },
  {
   "cell_type": "code",
   "execution_count": 53,
   "metadata": {
    "colab": {
     "base_uri": "https://localhost:8080/"
    },
    "id": "58pDdIfgOaSe",
    "outputId": "1e8d768d-cd7a-4e50-e824-1438c7d511b7"
   },
   "outputs": [
    {
     "data": {
      "text/plain": [
       "Index(['x0_Basic', 'x0_Extended', 'x0_Premium', 'x1_Bachelor', 'x1_College',\n",
       "       'x1_Doctor', 'x1_High School or Below', 'x1_Master', 'x2_Disabled',\n",
       "       'x2_Employed', 'x2_Medical Leave', 'x2_Retired', 'x2_Unemployed',\n",
       "       'x3_M', 'x4_Rural', 'x4_Suburban', 'x4_Urban', 'x5_Divorced',\n",
       "       'x5_Married', 'x5_Single', 'x6_Corporate Auto', 'x6_Personal Auto',\n",
       "       'x6_Special Auto', 'x7_Corporate L1', 'x7_Corporate L2',\n",
       "       'x7_Corporate L3', 'x7_Personal L1', 'x7_Personal L2', 'x7_Personal L3',\n",
       "       'x7_Special L1', 'x7_Special L2', 'x7_Special L3', 'x8_Offer1',\n",
       "       'x8_Offer2', 'x8_Offer3', 'x8_Offer4', 'x9_Agent', 'x9_Branch',\n",
       "       'x9_Call Center', 'x9_Web', 'x10_Four-Door Car', 'x10_Luxury Car',\n",
       "       'x10_Luxury SUV', 'x10_SUV', 'x10_Sports Car', 'x10_Two-Door Car',\n",
       "       'x11_1.0', 'x11_2.0', 'x11_3.0'],\n",
       "      dtype='object')"
      ]
     },
     "execution_count": 53,
     "metadata": {},
     "output_type": "execute_result"
    }
   ],
   "source": [
    "one_hot_data.columns"
   ]
  },
  {
   "cell_type": "code",
   "execution_count": 54,
   "metadata": {
    "id": "OZOTQdB5KQaM"
   },
   "outputs": [],
   "source": [
    "# lets do ordinal encoder\n",
    "\n",
    "from sklearn.preprocessing import OrdinalEncoder"
   ]
  },
  {
   "cell_type": "code",
   "execution_count": 55,
   "metadata": {
    "colab": {
     "base_uri": "https://localhost:8080/",
     "height": 206
    },
    "id": "aXR-wgdzP03n",
    "outputId": "499f90df-a1f8-4b07-ecd0-6eb40c244409"
   },
   "outputs": [
    {
     "data": {
      "text/html": [
       "<div>\n",
       "<style scoped>\n",
       "    .dataframe tbody tr th:only-of-type {\n",
       "        vertical-align: middle;\n",
       "    }\n",
       "\n",
       "    .dataframe tbody tr th {\n",
       "        vertical-align: top;\n",
       "    }\n",
       "\n",
       "    .dataframe thead th {\n",
       "        text-align: right;\n",
       "    }\n",
       "</style>\n",
       "<table border=\"1\" class=\"dataframe\">\n",
       "  <thead>\n",
       "    <tr style=\"text-align: right;\">\n",
       "      <th></th>\n",
       "      <th>Months.Since.Last.Claim</th>\n",
       "      <th>Months.Since.Policy.Inception</th>\n",
       "      <th>Number.of.Open.Complaints</th>\n",
       "      <th>Number.of.Policies</th>\n",
       "    </tr>\n",
       "  </thead>\n",
       "  <tbody>\n",
       "    <tr>\n",
       "      <th>1688</th>\n",
       "      <td>20</td>\n",
       "      <td>32</td>\n",
       "      <td>0.0</td>\n",
       "      <td>1.0</td>\n",
       "    </tr>\n",
       "    <tr>\n",
       "      <th>5495</th>\n",
       "      <td>0</td>\n",
       "      <td>37</td>\n",
       "      <td>0.0</td>\n",
       "      <td>1.0</td>\n",
       "    </tr>\n",
       "    <tr>\n",
       "      <th>550</th>\n",
       "      <td>24</td>\n",
       "      <td>68</td>\n",
       "      <td>0.0</td>\n",
       "      <td>1.0</td>\n",
       "    </tr>\n",
       "    <tr>\n",
       "      <th>7732</th>\n",
       "      <td>33</td>\n",
       "      <td>81</td>\n",
       "      <td>0.0</td>\n",
       "      <td>6.0</td>\n",
       "    </tr>\n",
       "    <tr>\n",
       "      <th>6304</th>\n",
       "      <td>1</td>\n",
       "      <td>73</td>\n",
       "      <td>0.0</td>\n",
       "      <td>1.0</td>\n",
       "    </tr>\n",
       "  </tbody>\n",
       "</table>\n",
       "</div>"
      ],
      "text/plain": [
       "     Months.Since.Last.Claim Months.Since.Policy.Inception  \\\n",
       "1688                      20                            32   \n",
       "5495                       0                            37   \n",
       "550                       24                            68   \n",
       "7732                      33                            81   \n",
       "6304                       1                            73   \n",
       "\n",
       "     Number.of.Open.Complaints Number.of.Policies  \n",
       "1688                       0.0                1.0  \n",
       "5495                       0.0                1.0  \n",
       "550                        0.0                1.0  \n",
       "7732                       0.0                6.0  \n",
       "6304                       0.0                1.0  "
      ]
     },
     "execution_count": 55,
     "metadata": {},
     "output_type": "execute_result"
    }
   ],
   "source": [
    "x_train[ordinal_cols].head()"
   ]
  },
  {
   "cell_type": "code",
   "execution_count": 56,
   "metadata": {
    "id": "lhQGM8uuPNN6"
   },
   "outputs": [],
   "source": [
    "ordinal=OrdinalEncoder()\n",
    "x_train[ordinal_cols]=ordinal.fit_transform(x_train[ordinal_cols])"
   ]
  },
  {
   "cell_type": "code",
   "execution_count": 57,
   "metadata": {
    "colab": {
     "base_uri": "https://localhost:8080/"
    },
    "id": "n5uSVqX7RxvM",
    "outputId": "52b31120-ca02-4168-8241-6e91cac36aeb"
   },
   "outputs": [
    {
     "data": {
      "text/plain": [
       "(6864, 19)"
      ]
     },
     "execution_count": 57,
     "metadata": {},
     "output_type": "execute_result"
    }
   ],
   "source": [
    "x_train.shape"
   ]
  },
  {
   "cell_type": "code",
   "execution_count": 58,
   "metadata": {
    "colab": {
     "base_uri": "https://localhost:8080/",
     "height": 409
    },
    "id": "UMTLS4KxSh9w",
    "outputId": "70fa484a-6620-4d46-f930-4b77fbe76f7e"
   },
   "outputs": [
    {
     "data": {
      "text/html": [
       "<div>\n",
       "<style scoped>\n",
       "    .dataframe tbody tr th:only-of-type {\n",
       "        vertical-align: middle;\n",
       "    }\n",
       "\n",
       "    .dataframe tbody tr th {\n",
       "        vertical-align: top;\n",
       "    }\n",
       "\n",
       "    .dataframe thead th {\n",
       "        text-align: right;\n",
       "    }\n",
       "</style>\n",
       "<table border=\"1\" class=\"dataframe\">\n",
       "  <thead>\n",
       "    <tr style=\"text-align: right;\">\n",
       "      <th></th>\n",
       "      <th>Coverage</th>\n",
       "      <th>Education</th>\n",
       "      <th>EmploymentStatus</th>\n",
       "      <th>Gender</th>\n",
       "      <th>Income</th>\n",
       "      <th>Location.Code</th>\n",
       "      <th>Marital.Status</th>\n",
       "      <th>Monthly.Premium.Auto</th>\n",
       "      <th>Months.Since.Last.Claim</th>\n",
       "      <th>Months.Since.Policy.Inception</th>\n",
       "      <th>Number.of.Open.Complaints</th>\n",
       "      <th>Number.of.Policies</th>\n",
       "      <th>Policy.Type</th>\n",
       "      <th>Policy</th>\n",
       "      <th>Renew.Offer.Type</th>\n",
       "      <th>Sales.Channel</th>\n",
       "      <th>Total.Claim.Amount</th>\n",
       "      <th>Vehicle.Class</th>\n",
       "      <th>Vehicle.Size</th>\n",
       "    </tr>\n",
       "  </thead>\n",
       "  <tbody>\n",
       "    <tr>\n",
       "      <th>1688</th>\n",
       "      <td>Extended</td>\n",
       "      <td>Master</td>\n",
       "      <td>Unemployed</td>\n",
       "      <td>F</td>\n",
       "      <td>-1.247703</td>\n",
       "      <td>Suburban</td>\n",
       "      <td>Married</td>\n",
       "      <td>-0.284805</td>\n",
       "      <td>20.0</td>\n",
       "      <td>32.0</td>\n",
       "      <td>0.0</td>\n",
       "      <td>0.0</td>\n",
       "      <td>Personal Auto</td>\n",
       "      <td>Personal L1</td>\n",
       "      <td>Offer2</td>\n",
       "      <td>Call Center</td>\n",
       "      <td>-0.133205</td>\n",
       "      <td>Four-Door Car</td>\n",
       "      <td>2.0</td>\n",
       "    </tr>\n",
       "    <tr>\n",
       "      <th>5495</th>\n",
       "      <td>Extended</td>\n",
       "      <td>High School or Below</td>\n",
       "      <td>Employed</td>\n",
       "      <td>M</td>\n",
       "      <td>0.414690</td>\n",
       "      <td>Suburban</td>\n",
       "      <td>Married</td>\n",
       "      <td>1.158925</td>\n",
       "      <td>0.0</td>\n",
       "      <td>37.0</td>\n",
       "      <td>0.0</td>\n",
       "      <td>0.0</td>\n",
       "      <td>Personal Auto</td>\n",
       "      <td>Personal L2</td>\n",
       "      <td>Offer1</td>\n",
       "      <td>Branch</td>\n",
       "      <td>0.651813</td>\n",
       "      <td>SUV</td>\n",
       "      <td>2.0</td>\n",
       "    </tr>\n",
       "    <tr>\n",
       "      <th>550</th>\n",
       "      <td>Premium</td>\n",
       "      <td>College</td>\n",
       "      <td>Employed</td>\n",
       "      <td>M</td>\n",
       "      <td>-0.173605</td>\n",
       "      <td>Suburban</td>\n",
       "      <td>Married</td>\n",
       "      <td>6.151825</td>\n",
       "      <td>24.0</td>\n",
       "      <td>68.0</td>\n",
       "      <td>0.0</td>\n",
       "      <td>0.0</td>\n",
       "      <td>Personal Auto</td>\n",
       "      <td>Personal L1</td>\n",
       "      <td>Offer1</td>\n",
       "      <td>Agent</td>\n",
       "      <td>4.539874</td>\n",
       "      <td>Luxury Car</td>\n",
       "      <td>2.0</td>\n",
       "    </tr>\n",
       "    <tr>\n",
       "      <th>7732</th>\n",
       "      <td>Premium</td>\n",
       "      <td>High School or Below</td>\n",
       "      <td>Employed</td>\n",
       "      <td>F</td>\n",
       "      <td>1.940515</td>\n",
       "      <td>Urban</td>\n",
       "      <td>Married</td>\n",
       "      <td>0.737837</td>\n",
       "      <td>33.0</td>\n",
       "      <td>81.0</td>\n",
       "      <td>0.0</td>\n",
       "      <td>5.0</td>\n",
       "      <td>Personal Auto</td>\n",
       "      <td>Personal L1</td>\n",
       "      <td>Offer1</td>\n",
       "      <td>Call Center</td>\n",
       "      <td>0.396261</td>\n",
       "      <td>Four-Door Car</td>\n",
       "      <td>2.0</td>\n",
       "    </tr>\n",
       "    <tr>\n",
       "      <th>6304</th>\n",
       "      <td>Basic</td>\n",
       "      <td>High School or Below</td>\n",
       "      <td>Employed</td>\n",
       "      <td>F</td>\n",
       "      <td>0.393430</td>\n",
       "      <td>Suburban</td>\n",
       "      <td>Divorced</td>\n",
       "      <td>0.677682</td>\n",
       "      <td>1.0</td>\n",
       "      <td>73.0</td>\n",
       "      <td>0.0</td>\n",
       "      <td>0.0</td>\n",
       "      <td>Personal Auto</td>\n",
       "      <td>Personal L2</td>\n",
       "      <td>Offer3</td>\n",
       "      <td>Web</td>\n",
       "      <td>0.391128</td>\n",
       "      <td>SUV</td>\n",
       "      <td>1.0</td>\n",
       "    </tr>\n",
       "  </tbody>\n",
       "</table>\n",
       "</div>"
      ],
      "text/plain": [
       "      Coverage             Education EmploymentStatus Gender    Income  \\\n",
       "1688  Extended                Master       Unemployed      F -1.247703   \n",
       "5495  Extended  High School or Below         Employed      M  0.414690   \n",
       "550    Premium               College         Employed      M -0.173605   \n",
       "7732   Premium  High School or Below         Employed      F  1.940515   \n",
       "6304     Basic  High School or Below         Employed      F  0.393430   \n",
       "\n",
       "     Location.Code Marital.Status  Monthly.Premium.Auto  \\\n",
       "1688      Suburban        Married             -0.284805   \n",
       "5495      Suburban        Married              1.158925   \n",
       "550       Suburban        Married              6.151825   \n",
       "7732         Urban        Married              0.737837   \n",
       "6304      Suburban       Divorced              0.677682   \n",
       "\n",
       "      Months.Since.Last.Claim  Months.Since.Policy.Inception  \\\n",
       "1688                     20.0                           32.0   \n",
       "5495                      0.0                           37.0   \n",
       "550                      24.0                           68.0   \n",
       "7732                     33.0                           81.0   \n",
       "6304                      1.0                           73.0   \n",
       "\n",
       "      Number.of.Open.Complaints  Number.of.Policies    Policy.Type  \\\n",
       "1688                        0.0                 0.0  Personal Auto   \n",
       "5495                        0.0                 0.0  Personal Auto   \n",
       "550                         0.0                 0.0  Personal Auto   \n",
       "7732                        0.0                 5.0  Personal Auto   \n",
       "6304                        0.0                 0.0  Personal Auto   \n",
       "\n",
       "           Policy Renew.Offer.Type Sales.Channel  Total.Claim.Amount  \\\n",
       "1688  Personal L1           Offer2   Call Center           -0.133205   \n",
       "5495  Personal L2           Offer1        Branch            0.651813   \n",
       "550   Personal L1           Offer1         Agent            4.539874   \n",
       "7732  Personal L1           Offer1   Call Center            0.396261   \n",
       "6304  Personal L2           Offer3           Web            0.391128   \n",
       "\n",
       "      Vehicle.Class Vehicle.Size  \n",
       "1688  Four-Door Car          2.0  \n",
       "5495            SUV          2.0  \n",
       "550      Luxury Car          2.0  \n",
       "7732  Four-Door Car          2.0  \n",
       "6304            SUV          1.0  "
      ]
     },
     "execution_count": 58,
     "metadata": {},
     "output_type": "execute_result"
    }
   ],
   "source": [
    "x_train.head()"
   ]
  },
  {
   "cell_type": "code",
   "execution_count": 59,
   "metadata": {
    "colab": {
     "base_uri": "https://localhost:8080/"
    },
    "id": "aionwlcSR_rj",
    "outputId": "c47c5eae-d079-4777-c0ca-77f3cd732cb0"
   },
   "outputs": [
    {
     "data": {
      "text/plain": [
       "(6864, 49)"
      ]
     },
     "execution_count": 59,
     "metadata": {},
     "output_type": "execute_result"
    }
   ],
   "source": [
    "one_hot_data.shape"
   ]
  },
  {
   "cell_type": "code",
   "execution_count": 60,
   "metadata": {
    "colab": {
     "base_uri": "https://localhost:8080/",
     "height": 351
    },
    "id": "c9EmrawjSmZ4",
    "outputId": "f93fbf84-a31a-4f63-e59c-ca53cdbfbc77"
   },
   "outputs": [
    {
     "data": {
      "text/html": [
       "<div>\n",
       "<style scoped>\n",
       "    .dataframe tbody tr th:only-of-type {\n",
       "        vertical-align: middle;\n",
       "    }\n",
       "\n",
       "    .dataframe tbody tr th {\n",
       "        vertical-align: top;\n",
       "    }\n",
       "\n",
       "    .dataframe thead th {\n",
       "        text-align: right;\n",
       "    }\n",
       "</style>\n",
       "<table border=\"1\" class=\"dataframe\">\n",
       "  <thead>\n",
       "    <tr style=\"text-align: right;\">\n",
       "      <th></th>\n",
       "      <th>x0_Basic</th>\n",
       "      <th>x0_Extended</th>\n",
       "      <th>x0_Premium</th>\n",
       "      <th>x1_Bachelor</th>\n",
       "      <th>x1_College</th>\n",
       "      <th>x1_Doctor</th>\n",
       "      <th>x1_High School or Below</th>\n",
       "      <th>x1_Master</th>\n",
       "      <th>x2_Disabled</th>\n",
       "      <th>x2_Employed</th>\n",
       "      <th>...</th>\n",
       "      <th>x9_Web</th>\n",
       "      <th>x10_Four-Door Car</th>\n",
       "      <th>x10_Luxury Car</th>\n",
       "      <th>x10_Luxury SUV</th>\n",
       "      <th>x10_SUV</th>\n",
       "      <th>x10_Sports Car</th>\n",
       "      <th>x10_Two-Door Car</th>\n",
       "      <th>x11_1.0</th>\n",
       "      <th>x11_2.0</th>\n",
       "      <th>x11_3.0</th>\n",
       "    </tr>\n",
       "  </thead>\n",
       "  <tbody>\n",
       "    <tr>\n",
       "      <th>0</th>\n",
       "      <td>0.0</td>\n",
       "      <td>1.0</td>\n",
       "      <td>0.0</td>\n",
       "      <td>0.0</td>\n",
       "      <td>0.0</td>\n",
       "      <td>0.0</td>\n",
       "      <td>0.0</td>\n",
       "      <td>1.0</td>\n",
       "      <td>0.0</td>\n",
       "      <td>0.0</td>\n",
       "      <td>...</td>\n",
       "      <td>0.0</td>\n",
       "      <td>1.0</td>\n",
       "      <td>0.0</td>\n",
       "      <td>0.0</td>\n",
       "      <td>0.0</td>\n",
       "      <td>0.0</td>\n",
       "      <td>0.0</td>\n",
       "      <td>0.0</td>\n",
       "      <td>1.0</td>\n",
       "      <td>0.0</td>\n",
       "    </tr>\n",
       "    <tr>\n",
       "      <th>1</th>\n",
       "      <td>0.0</td>\n",
       "      <td>1.0</td>\n",
       "      <td>0.0</td>\n",
       "      <td>0.0</td>\n",
       "      <td>0.0</td>\n",
       "      <td>0.0</td>\n",
       "      <td>1.0</td>\n",
       "      <td>0.0</td>\n",
       "      <td>0.0</td>\n",
       "      <td>1.0</td>\n",
       "      <td>...</td>\n",
       "      <td>0.0</td>\n",
       "      <td>0.0</td>\n",
       "      <td>0.0</td>\n",
       "      <td>0.0</td>\n",
       "      <td>1.0</td>\n",
       "      <td>0.0</td>\n",
       "      <td>0.0</td>\n",
       "      <td>0.0</td>\n",
       "      <td>1.0</td>\n",
       "      <td>0.0</td>\n",
       "    </tr>\n",
       "    <tr>\n",
       "      <th>2</th>\n",
       "      <td>0.0</td>\n",
       "      <td>0.0</td>\n",
       "      <td>1.0</td>\n",
       "      <td>0.0</td>\n",
       "      <td>1.0</td>\n",
       "      <td>0.0</td>\n",
       "      <td>0.0</td>\n",
       "      <td>0.0</td>\n",
       "      <td>0.0</td>\n",
       "      <td>1.0</td>\n",
       "      <td>...</td>\n",
       "      <td>0.0</td>\n",
       "      <td>0.0</td>\n",
       "      <td>1.0</td>\n",
       "      <td>0.0</td>\n",
       "      <td>0.0</td>\n",
       "      <td>0.0</td>\n",
       "      <td>0.0</td>\n",
       "      <td>0.0</td>\n",
       "      <td>1.0</td>\n",
       "      <td>0.0</td>\n",
       "    </tr>\n",
       "    <tr>\n",
       "      <th>3</th>\n",
       "      <td>0.0</td>\n",
       "      <td>0.0</td>\n",
       "      <td>1.0</td>\n",
       "      <td>0.0</td>\n",
       "      <td>0.0</td>\n",
       "      <td>0.0</td>\n",
       "      <td>1.0</td>\n",
       "      <td>0.0</td>\n",
       "      <td>0.0</td>\n",
       "      <td>1.0</td>\n",
       "      <td>...</td>\n",
       "      <td>0.0</td>\n",
       "      <td>1.0</td>\n",
       "      <td>0.0</td>\n",
       "      <td>0.0</td>\n",
       "      <td>0.0</td>\n",
       "      <td>0.0</td>\n",
       "      <td>0.0</td>\n",
       "      <td>0.0</td>\n",
       "      <td>1.0</td>\n",
       "      <td>0.0</td>\n",
       "    </tr>\n",
       "    <tr>\n",
       "      <th>4</th>\n",
       "      <td>1.0</td>\n",
       "      <td>0.0</td>\n",
       "      <td>0.0</td>\n",
       "      <td>0.0</td>\n",
       "      <td>0.0</td>\n",
       "      <td>0.0</td>\n",
       "      <td>1.0</td>\n",
       "      <td>0.0</td>\n",
       "      <td>0.0</td>\n",
       "      <td>1.0</td>\n",
       "      <td>...</td>\n",
       "      <td>1.0</td>\n",
       "      <td>0.0</td>\n",
       "      <td>0.0</td>\n",
       "      <td>0.0</td>\n",
       "      <td>1.0</td>\n",
       "      <td>0.0</td>\n",
       "      <td>0.0</td>\n",
       "      <td>1.0</td>\n",
       "      <td>0.0</td>\n",
       "      <td>0.0</td>\n",
       "    </tr>\n",
       "  </tbody>\n",
       "</table>\n",
       "<p>5 rows × 49 columns</p>\n",
       "</div>"
      ],
      "text/plain": [
       "   x0_Basic  x0_Extended  x0_Premium  x1_Bachelor  x1_College  x1_Doctor  \\\n",
       "0       0.0          1.0         0.0          0.0         0.0        0.0   \n",
       "1       0.0          1.0         0.0          0.0         0.0        0.0   \n",
       "2       0.0          0.0         1.0          0.0         1.0        0.0   \n",
       "3       0.0          0.0         1.0          0.0         0.0        0.0   \n",
       "4       1.0          0.0         0.0          0.0         0.0        0.0   \n",
       "\n",
       "   x1_High School or Below  x1_Master  x2_Disabled  x2_Employed  ...  x9_Web  \\\n",
       "0                      0.0        1.0          0.0          0.0  ...     0.0   \n",
       "1                      1.0        0.0          0.0          1.0  ...     0.0   \n",
       "2                      0.0        0.0          0.0          1.0  ...     0.0   \n",
       "3                      1.0        0.0          0.0          1.0  ...     0.0   \n",
       "4                      1.0        0.0          0.0          1.0  ...     1.0   \n",
       "\n",
       "   x10_Four-Door Car  x10_Luxury Car  x10_Luxury SUV  x10_SUV  x10_Sports Car  \\\n",
       "0                1.0             0.0             0.0      0.0             0.0   \n",
       "1                0.0             0.0             0.0      1.0             0.0   \n",
       "2                0.0             1.0             0.0      0.0             0.0   \n",
       "3                1.0             0.0             0.0      0.0             0.0   \n",
       "4                0.0             0.0             0.0      1.0             0.0   \n",
       "\n",
       "   x10_Two-Door Car  x11_1.0  x11_2.0  x11_3.0  \n",
       "0               0.0      0.0      1.0      0.0  \n",
       "1               0.0      0.0      1.0      0.0  \n",
       "2               0.0      0.0      1.0      0.0  \n",
       "3               0.0      0.0      1.0      0.0  \n",
       "4               0.0      1.0      0.0      0.0  \n",
       "\n",
       "[5 rows x 49 columns]"
      ]
     },
     "execution_count": 60,
     "metadata": {},
     "output_type": "execute_result"
    }
   ],
   "source": [
    "one_hot_data.head()"
   ]
  },
  {
   "cell_type": "code",
   "execution_count": 61,
   "metadata": {
    "id": "RjWa89TKSvSE"
   },
   "outputs": [],
   "source": [
    "one_hot_data.set_index(x_train.index,inplace=True)"
   ]
  },
  {
   "cell_type": "code",
   "execution_count": 62,
   "metadata": {
    "id": "V5XX_fw8QGdA"
   },
   "outputs": [],
   "source": [
    "# lets concat the train data with one hot dummified data\n",
    "\n",
    "x_train_dummified=pd.concat([x_train,one_hot_data],axis=1)"
   ]
  },
  {
   "cell_type": "code",
   "execution_count": 63,
   "metadata": {
    "colab": {
     "base_uri": "https://localhost:8080/"
    },
    "id": "yLKKtyjqR0P6",
    "outputId": "c12bdb62-0a26-4934-9995-3d20a6e01fa6"
   },
   "outputs": [
    {
     "data": {
      "text/plain": [
       "(6864, 68)"
      ]
     },
     "execution_count": 63,
     "metadata": {},
     "output_type": "execute_result"
    }
   ],
   "source": [
    "x_train_dummified.shape"
   ]
  },
  {
   "cell_type": "code",
   "execution_count": 64,
   "metadata": {
    "id": "OnZSAqBvTTEw"
   },
   "outputs": [],
   "source": [
    "pd.set_option(\"display.max_columns\",None)"
   ]
  },
  {
   "cell_type": "code",
   "execution_count": 65,
   "metadata": {
    "colab": {
     "base_uri": "https://localhost:8080/",
     "height": 461
    },
    "id": "Gq7ylfiGTMaQ",
    "outputId": "1b788c44-af4c-4d2e-eba6-5de78257ae30"
   },
   "outputs": [
    {
     "data": {
      "text/html": [
       "<div>\n",
       "<style scoped>\n",
       "    .dataframe tbody tr th:only-of-type {\n",
       "        vertical-align: middle;\n",
       "    }\n",
       "\n",
       "    .dataframe tbody tr th {\n",
       "        vertical-align: top;\n",
       "    }\n",
       "\n",
       "    .dataframe thead th {\n",
       "        text-align: right;\n",
       "    }\n",
       "</style>\n",
       "<table border=\"1\" class=\"dataframe\">\n",
       "  <thead>\n",
       "    <tr style=\"text-align: right;\">\n",
       "      <th></th>\n",
       "      <th>Coverage</th>\n",
       "      <th>Education</th>\n",
       "      <th>EmploymentStatus</th>\n",
       "      <th>Gender</th>\n",
       "      <th>Income</th>\n",
       "      <th>Location.Code</th>\n",
       "      <th>Marital.Status</th>\n",
       "      <th>Monthly.Premium.Auto</th>\n",
       "      <th>Months.Since.Last.Claim</th>\n",
       "      <th>Months.Since.Policy.Inception</th>\n",
       "      <th>Number.of.Open.Complaints</th>\n",
       "      <th>Number.of.Policies</th>\n",
       "      <th>Policy.Type</th>\n",
       "      <th>Policy</th>\n",
       "      <th>Renew.Offer.Type</th>\n",
       "      <th>Sales.Channel</th>\n",
       "      <th>Total.Claim.Amount</th>\n",
       "      <th>Vehicle.Class</th>\n",
       "      <th>Vehicle.Size</th>\n",
       "      <th>x0_Basic</th>\n",
       "      <th>x0_Extended</th>\n",
       "      <th>x0_Premium</th>\n",
       "      <th>x1_Bachelor</th>\n",
       "      <th>x1_College</th>\n",
       "      <th>x1_Doctor</th>\n",
       "      <th>x1_High School or Below</th>\n",
       "      <th>x1_Master</th>\n",
       "      <th>x2_Disabled</th>\n",
       "      <th>x2_Employed</th>\n",
       "      <th>x2_Medical Leave</th>\n",
       "      <th>x2_Retired</th>\n",
       "      <th>x2_Unemployed</th>\n",
       "      <th>x3_M</th>\n",
       "      <th>x4_Rural</th>\n",
       "      <th>x4_Suburban</th>\n",
       "      <th>x4_Urban</th>\n",
       "      <th>x5_Divorced</th>\n",
       "      <th>x5_Married</th>\n",
       "      <th>x5_Single</th>\n",
       "      <th>x6_Corporate Auto</th>\n",
       "      <th>x6_Personal Auto</th>\n",
       "      <th>x6_Special Auto</th>\n",
       "      <th>x7_Corporate L1</th>\n",
       "      <th>x7_Corporate L2</th>\n",
       "      <th>x7_Corporate L3</th>\n",
       "      <th>x7_Personal L1</th>\n",
       "      <th>x7_Personal L2</th>\n",
       "      <th>x7_Personal L3</th>\n",
       "      <th>x7_Special L1</th>\n",
       "      <th>x7_Special L2</th>\n",
       "      <th>x7_Special L3</th>\n",
       "      <th>x8_Offer1</th>\n",
       "      <th>x8_Offer2</th>\n",
       "      <th>x8_Offer3</th>\n",
       "      <th>x8_Offer4</th>\n",
       "      <th>x9_Agent</th>\n",
       "      <th>x9_Branch</th>\n",
       "      <th>x9_Call Center</th>\n",
       "      <th>x9_Web</th>\n",
       "      <th>x10_Four-Door Car</th>\n",
       "      <th>x10_Luxury Car</th>\n",
       "      <th>x10_Luxury SUV</th>\n",
       "      <th>x10_SUV</th>\n",
       "      <th>x10_Sports Car</th>\n",
       "      <th>x10_Two-Door Car</th>\n",
       "      <th>x11_1.0</th>\n",
       "      <th>x11_2.0</th>\n",
       "      <th>x11_3.0</th>\n",
       "    </tr>\n",
       "  </thead>\n",
       "  <tbody>\n",
       "    <tr>\n",
       "      <th>1688</th>\n",
       "      <td>Extended</td>\n",
       "      <td>Master</td>\n",
       "      <td>Unemployed</td>\n",
       "      <td>F</td>\n",
       "      <td>-1.247703</td>\n",
       "      <td>Suburban</td>\n",
       "      <td>Married</td>\n",
       "      <td>-0.284805</td>\n",
       "      <td>20.0</td>\n",
       "      <td>32.0</td>\n",
       "      <td>0.0</td>\n",
       "      <td>0.0</td>\n",
       "      <td>Personal Auto</td>\n",
       "      <td>Personal L1</td>\n",
       "      <td>Offer2</td>\n",
       "      <td>Call Center</td>\n",
       "      <td>-0.133205</td>\n",
       "      <td>Four-Door Car</td>\n",
       "      <td>2.0</td>\n",
       "      <td>0.0</td>\n",
       "      <td>1.0</td>\n",
       "      <td>0.0</td>\n",
       "      <td>0.0</td>\n",
       "      <td>0.0</td>\n",
       "      <td>0.0</td>\n",
       "      <td>0.0</td>\n",
       "      <td>1.0</td>\n",
       "      <td>0.0</td>\n",
       "      <td>0.0</td>\n",
       "      <td>0.0</td>\n",
       "      <td>0.0</td>\n",
       "      <td>1.0</td>\n",
       "      <td>0.0</td>\n",
       "      <td>0.0</td>\n",
       "      <td>1.0</td>\n",
       "      <td>0.0</td>\n",
       "      <td>0.0</td>\n",
       "      <td>1.0</td>\n",
       "      <td>0.0</td>\n",
       "      <td>0.0</td>\n",
       "      <td>1.0</td>\n",
       "      <td>0.0</td>\n",
       "      <td>0.0</td>\n",
       "      <td>0.0</td>\n",
       "      <td>0.0</td>\n",
       "      <td>1.0</td>\n",
       "      <td>0.0</td>\n",
       "      <td>0.0</td>\n",
       "      <td>0.0</td>\n",
       "      <td>0.0</td>\n",
       "      <td>0.0</td>\n",
       "      <td>0.0</td>\n",
       "      <td>1.0</td>\n",
       "      <td>0.0</td>\n",
       "      <td>0.0</td>\n",
       "      <td>0.0</td>\n",
       "      <td>0.0</td>\n",
       "      <td>1.0</td>\n",
       "      <td>0.0</td>\n",
       "      <td>1.0</td>\n",
       "      <td>0.0</td>\n",
       "      <td>0.0</td>\n",
       "      <td>0.0</td>\n",
       "      <td>0.0</td>\n",
       "      <td>0.0</td>\n",
       "      <td>0.0</td>\n",
       "      <td>1.0</td>\n",
       "      <td>0.0</td>\n",
       "    </tr>\n",
       "    <tr>\n",
       "      <th>5495</th>\n",
       "      <td>Extended</td>\n",
       "      <td>High School or Below</td>\n",
       "      <td>Employed</td>\n",
       "      <td>M</td>\n",
       "      <td>0.414690</td>\n",
       "      <td>Suburban</td>\n",
       "      <td>Married</td>\n",
       "      <td>1.158925</td>\n",
       "      <td>0.0</td>\n",
       "      <td>37.0</td>\n",
       "      <td>0.0</td>\n",
       "      <td>0.0</td>\n",
       "      <td>Personal Auto</td>\n",
       "      <td>Personal L2</td>\n",
       "      <td>Offer1</td>\n",
       "      <td>Branch</td>\n",
       "      <td>0.651813</td>\n",
       "      <td>SUV</td>\n",
       "      <td>2.0</td>\n",
       "      <td>0.0</td>\n",
       "      <td>1.0</td>\n",
       "      <td>0.0</td>\n",
       "      <td>0.0</td>\n",
       "      <td>0.0</td>\n",
       "      <td>0.0</td>\n",
       "      <td>1.0</td>\n",
       "      <td>0.0</td>\n",
       "      <td>0.0</td>\n",
       "      <td>1.0</td>\n",
       "      <td>0.0</td>\n",
       "      <td>0.0</td>\n",
       "      <td>0.0</td>\n",
       "      <td>1.0</td>\n",
       "      <td>0.0</td>\n",
       "      <td>1.0</td>\n",
       "      <td>0.0</td>\n",
       "      <td>0.0</td>\n",
       "      <td>1.0</td>\n",
       "      <td>0.0</td>\n",
       "      <td>0.0</td>\n",
       "      <td>1.0</td>\n",
       "      <td>0.0</td>\n",
       "      <td>0.0</td>\n",
       "      <td>0.0</td>\n",
       "      <td>0.0</td>\n",
       "      <td>0.0</td>\n",
       "      <td>1.0</td>\n",
       "      <td>0.0</td>\n",
       "      <td>0.0</td>\n",
       "      <td>0.0</td>\n",
       "      <td>0.0</td>\n",
       "      <td>1.0</td>\n",
       "      <td>0.0</td>\n",
       "      <td>0.0</td>\n",
       "      <td>0.0</td>\n",
       "      <td>0.0</td>\n",
       "      <td>1.0</td>\n",
       "      <td>0.0</td>\n",
       "      <td>0.0</td>\n",
       "      <td>0.0</td>\n",
       "      <td>0.0</td>\n",
       "      <td>0.0</td>\n",
       "      <td>1.0</td>\n",
       "      <td>0.0</td>\n",
       "      <td>0.0</td>\n",
       "      <td>0.0</td>\n",
       "      <td>1.0</td>\n",
       "      <td>0.0</td>\n",
       "    </tr>\n",
       "    <tr>\n",
       "      <th>550</th>\n",
       "      <td>Premium</td>\n",
       "      <td>College</td>\n",
       "      <td>Employed</td>\n",
       "      <td>M</td>\n",
       "      <td>-0.173605</td>\n",
       "      <td>Suburban</td>\n",
       "      <td>Married</td>\n",
       "      <td>6.151825</td>\n",
       "      <td>24.0</td>\n",
       "      <td>68.0</td>\n",
       "      <td>0.0</td>\n",
       "      <td>0.0</td>\n",
       "      <td>Personal Auto</td>\n",
       "      <td>Personal L1</td>\n",
       "      <td>Offer1</td>\n",
       "      <td>Agent</td>\n",
       "      <td>4.539874</td>\n",
       "      <td>Luxury Car</td>\n",
       "      <td>2.0</td>\n",
       "      <td>0.0</td>\n",
       "      <td>0.0</td>\n",
       "      <td>1.0</td>\n",
       "      <td>0.0</td>\n",
       "      <td>1.0</td>\n",
       "      <td>0.0</td>\n",
       "      <td>0.0</td>\n",
       "      <td>0.0</td>\n",
       "      <td>0.0</td>\n",
       "      <td>1.0</td>\n",
       "      <td>0.0</td>\n",
       "      <td>0.0</td>\n",
       "      <td>0.0</td>\n",
       "      <td>1.0</td>\n",
       "      <td>0.0</td>\n",
       "      <td>1.0</td>\n",
       "      <td>0.0</td>\n",
       "      <td>0.0</td>\n",
       "      <td>1.0</td>\n",
       "      <td>0.0</td>\n",
       "      <td>0.0</td>\n",
       "      <td>1.0</td>\n",
       "      <td>0.0</td>\n",
       "      <td>0.0</td>\n",
       "      <td>0.0</td>\n",
       "      <td>0.0</td>\n",
       "      <td>1.0</td>\n",
       "      <td>0.0</td>\n",
       "      <td>0.0</td>\n",
       "      <td>0.0</td>\n",
       "      <td>0.0</td>\n",
       "      <td>0.0</td>\n",
       "      <td>1.0</td>\n",
       "      <td>0.0</td>\n",
       "      <td>0.0</td>\n",
       "      <td>0.0</td>\n",
       "      <td>1.0</td>\n",
       "      <td>0.0</td>\n",
       "      <td>0.0</td>\n",
       "      <td>0.0</td>\n",
       "      <td>0.0</td>\n",
       "      <td>1.0</td>\n",
       "      <td>0.0</td>\n",
       "      <td>0.0</td>\n",
       "      <td>0.0</td>\n",
       "      <td>0.0</td>\n",
       "      <td>0.0</td>\n",
       "      <td>1.0</td>\n",
       "      <td>0.0</td>\n",
       "    </tr>\n",
       "    <tr>\n",
       "      <th>7732</th>\n",
       "      <td>Premium</td>\n",
       "      <td>High School or Below</td>\n",
       "      <td>Employed</td>\n",
       "      <td>F</td>\n",
       "      <td>1.940515</td>\n",
       "      <td>Urban</td>\n",
       "      <td>Married</td>\n",
       "      <td>0.737837</td>\n",
       "      <td>33.0</td>\n",
       "      <td>81.0</td>\n",
       "      <td>0.0</td>\n",
       "      <td>5.0</td>\n",
       "      <td>Personal Auto</td>\n",
       "      <td>Personal L1</td>\n",
       "      <td>Offer1</td>\n",
       "      <td>Call Center</td>\n",
       "      <td>0.396261</td>\n",
       "      <td>Four-Door Car</td>\n",
       "      <td>2.0</td>\n",
       "      <td>0.0</td>\n",
       "      <td>0.0</td>\n",
       "      <td>1.0</td>\n",
       "      <td>0.0</td>\n",
       "      <td>0.0</td>\n",
       "      <td>0.0</td>\n",
       "      <td>1.0</td>\n",
       "      <td>0.0</td>\n",
       "      <td>0.0</td>\n",
       "      <td>1.0</td>\n",
       "      <td>0.0</td>\n",
       "      <td>0.0</td>\n",
       "      <td>0.0</td>\n",
       "      <td>0.0</td>\n",
       "      <td>0.0</td>\n",
       "      <td>0.0</td>\n",
       "      <td>1.0</td>\n",
       "      <td>0.0</td>\n",
       "      <td>1.0</td>\n",
       "      <td>0.0</td>\n",
       "      <td>0.0</td>\n",
       "      <td>1.0</td>\n",
       "      <td>0.0</td>\n",
       "      <td>0.0</td>\n",
       "      <td>0.0</td>\n",
       "      <td>0.0</td>\n",
       "      <td>1.0</td>\n",
       "      <td>0.0</td>\n",
       "      <td>0.0</td>\n",
       "      <td>0.0</td>\n",
       "      <td>0.0</td>\n",
       "      <td>0.0</td>\n",
       "      <td>1.0</td>\n",
       "      <td>0.0</td>\n",
       "      <td>0.0</td>\n",
       "      <td>0.0</td>\n",
       "      <td>0.0</td>\n",
       "      <td>0.0</td>\n",
       "      <td>1.0</td>\n",
       "      <td>0.0</td>\n",
       "      <td>1.0</td>\n",
       "      <td>0.0</td>\n",
       "      <td>0.0</td>\n",
       "      <td>0.0</td>\n",
       "      <td>0.0</td>\n",
       "      <td>0.0</td>\n",
       "      <td>0.0</td>\n",
       "      <td>1.0</td>\n",
       "      <td>0.0</td>\n",
       "    </tr>\n",
       "    <tr>\n",
       "      <th>6304</th>\n",
       "      <td>Basic</td>\n",
       "      <td>High School or Below</td>\n",
       "      <td>Employed</td>\n",
       "      <td>F</td>\n",
       "      <td>0.393430</td>\n",
       "      <td>Suburban</td>\n",
       "      <td>Divorced</td>\n",
       "      <td>0.677682</td>\n",
       "      <td>1.0</td>\n",
       "      <td>73.0</td>\n",
       "      <td>0.0</td>\n",
       "      <td>0.0</td>\n",
       "      <td>Personal Auto</td>\n",
       "      <td>Personal L2</td>\n",
       "      <td>Offer3</td>\n",
       "      <td>Web</td>\n",
       "      <td>0.391128</td>\n",
       "      <td>SUV</td>\n",
       "      <td>1.0</td>\n",
       "      <td>1.0</td>\n",
       "      <td>0.0</td>\n",
       "      <td>0.0</td>\n",
       "      <td>0.0</td>\n",
       "      <td>0.0</td>\n",
       "      <td>0.0</td>\n",
       "      <td>1.0</td>\n",
       "      <td>0.0</td>\n",
       "      <td>0.0</td>\n",
       "      <td>1.0</td>\n",
       "      <td>0.0</td>\n",
       "      <td>0.0</td>\n",
       "      <td>0.0</td>\n",
       "      <td>0.0</td>\n",
       "      <td>0.0</td>\n",
       "      <td>1.0</td>\n",
       "      <td>0.0</td>\n",
       "      <td>1.0</td>\n",
       "      <td>0.0</td>\n",
       "      <td>0.0</td>\n",
       "      <td>0.0</td>\n",
       "      <td>1.0</td>\n",
       "      <td>0.0</td>\n",
       "      <td>0.0</td>\n",
       "      <td>0.0</td>\n",
       "      <td>0.0</td>\n",
       "      <td>0.0</td>\n",
       "      <td>1.0</td>\n",
       "      <td>0.0</td>\n",
       "      <td>0.0</td>\n",
       "      <td>0.0</td>\n",
       "      <td>0.0</td>\n",
       "      <td>0.0</td>\n",
       "      <td>0.0</td>\n",
       "      <td>1.0</td>\n",
       "      <td>0.0</td>\n",
       "      <td>0.0</td>\n",
       "      <td>0.0</td>\n",
       "      <td>0.0</td>\n",
       "      <td>1.0</td>\n",
       "      <td>0.0</td>\n",
       "      <td>0.0</td>\n",
       "      <td>0.0</td>\n",
       "      <td>1.0</td>\n",
       "      <td>0.0</td>\n",
       "      <td>0.0</td>\n",
       "      <td>1.0</td>\n",
       "      <td>0.0</td>\n",
       "      <td>0.0</td>\n",
       "    </tr>\n",
       "  </tbody>\n",
       "</table>\n",
       "</div>"
      ],
      "text/plain": [
       "      Coverage             Education EmploymentStatus Gender    Income  \\\n",
       "1688  Extended                Master       Unemployed      F -1.247703   \n",
       "5495  Extended  High School or Below         Employed      M  0.414690   \n",
       "550    Premium               College         Employed      M -0.173605   \n",
       "7732   Premium  High School or Below         Employed      F  1.940515   \n",
       "6304     Basic  High School or Below         Employed      F  0.393430   \n",
       "\n",
       "     Location.Code Marital.Status  Monthly.Premium.Auto  \\\n",
       "1688      Suburban        Married             -0.284805   \n",
       "5495      Suburban        Married              1.158925   \n",
       "550       Suburban        Married              6.151825   \n",
       "7732         Urban        Married              0.737837   \n",
       "6304      Suburban       Divorced              0.677682   \n",
       "\n",
       "      Months.Since.Last.Claim  Months.Since.Policy.Inception  \\\n",
       "1688                     20.0                           32.0   \n",
       "5495                      0.0                           37.0   \n",
       "550                      24.0                           68.0   \n",
       "7732                     33.0                           81.0   \n",
       "6304                      1.0                           73.0   \n",
       "\n",
       "      Number.of.Open.Complaints  Number.of.Policies    Policy.Type  \\\n",
       "1688                        0.0                 0.0  Personal Auto   \n",
       "5495                        0.0                 0.0  Personal Auto   \n",
       "550                         0.0                 0.0  Personal Auto   \n",
       "7732                        0.0                 5.0  Personal Auto   \n",
       "6304                        0.0                 0.0  Personal Auto   \n",
       "\n",
       "           Policy Renew.Offer.Type Sales.Channel  Total.Claim.Amount  \\\n",
       "1688  Personal L1           Offer2   Call Center           -0.133205   \n",
       "5495  Personal L2           Offer1        Branch            0.651813   \n",
       "550   Personal L1           Offer1         Agent            4.539874   \n",
       "7732  Personal L1           Offer1   Call Center            0.396261   \n",
       "6304  Personal L2           Offer3           Web            0.391128   \n",
       "\n",
       "      Vehicle.Class Vehicle.Size  x0_Basic  x0_Extended  x0_Premium  \\\n",
       "1688  Four-Door Car          2.0       0.0          1.0         0.0   \n",
       "5495            SUV          2.0       0.0          1.0         0.0   \n",
       "550      Luxury Car          2.0       0.0          0.0         1.0   \n",
       "7732  Four-Door Car          2.0       0.0          0.0         1.0   \n",
       "6304            SUV          1.0       1.0          0.0         0.0   \n",
       "\n",
       "      x1_Bachelor  x1_College  x1_Doctor  x1_High School or Below  x1_Master  \\\n",
       "1688          0.0         0.0        0.0                      0.0        1.0   \n",
       "5495          0.0         0.0        0.0                      1.0        0.0   \n",
       "550           0.0         1.0        0.0                      0.0        0.0   \n",
       "7732          0.0         0.0        0.0                      1.0        0.0   \n",
       "6304          0.0         0.0        0.0                      1.0        0.0   \n",
       "\n",
       "      x2_Disabled  x2_Employed  x2_Medical Leave  x2_Retired  x2_Unemployed  \\\n",
       "1688          0.0          0.0               0.0         0.0            1.0   \n",
       "5495          0.0          1.0               0.0         0.0            0.0   \n",
       "550           0.0          1.0               0.0         0.0            0.0   \n",
       "7732          0.0          1.0               0.0         0.0            0.0   \n",
       "6304          0.0          1.0               0.0         0.0            0.0   \n",
       "\n",
       "      x3_M  x4_Rural  x4_Suburban  x4_Urban  x5_Divorced  x5_Married  \\\n",
       "1688   0.0       0.0          1.0       0.0          0.0         1.0   \n",
       "5495   1.0       0.0          1.0       0.0          0.0         1.0   \n",
       "550    1.0       0.0          1.0       0.0          0.0         1.0   \n",
       "7732   0.0       0.0          0.0       1.0          0.0         1.0   \n",
       "6304   0.0       0.0          1.0       0.0          1.0         0.0   \n",
       "\n",
       "      x5_Single  x6_Corporate Auto  x6_Personal Auto  x6_Special Auto  \\\n",
       "1688        0.0                0.0               1.0              0.0   \n",
       "5495        0.0                0.0               1.0              0.0   \n",
       "550         0.0                0.0               1.0              0.0   \n",
       "7732        0.0                0.0               1.0              0.0   \n",
       "6304        0.0                0.0               1.0              0.0   \n",
       "\n",
       "      x7_Corporate L1  x7_Corporate L2  x7_Corporate L3  x7_Personal L1  \\\n",
       "1688              0.0              0.0              0.0             1.0   \n",
       "5495              0.0              0.0              0.0             0.0   \n",
       "550               0.0              0.0              0.0             1.0   \n",
       "7732              0.0              0.0              0.0             1.0   \n",
       "6304              0.0              0.0              0.0             0.0   \n",
       "\n",
       "      x7_Personal L2  x7_Personal L3  x7_Special L1  x7_Special L2  \\\n",
       "1688             0.0             0.0            0.0            0.0   \n",
       "5495             1.0             0.0            0.0            0.0   \n",
       "550              0.0             0.0            0.0            0.0   \n",
       "7732             0.0             0.0            0.0            0.0   \n",
       "6304             1.0             0.0            0.0            0.0   \n",
       "\n",
       "      x7_Special L3  x8_Offer1  x8_Offer2  x8_Offer3  x8_Offer4  x9_Agent  \\\n",
       "1688            0.0        0.0        1.0        0.0        0.0       0.0   \n",
       "5495            0.0        1.0        0.0        0.0        0.0       0.0   \n",
       "550             0.0        1.0        0.0        0.0        0.0       1.0   \n",
       "7732            0.0        1.0        0.0        0.0        0.0       0.0   \n",
       "6304            0.0        0.0        0.0        1.0        0.0       0.0   \n",
       "\n",
       "      x9_Branch  x9_Call Center  x9_Web  x10_Four-Door Car  x10_Luxury Car  \\\n",
       "1688        0.0             1.0     0.0                1.0             0.0   \n",
       "5495        1.0             0.0     0.0                0.0             0.0   \n",
       "550         0.0             0.0     0.0                0.0             1.0   \n",
       "7732        0.0             1.0     0.0                1.0             0.0   \n",
       "6304        0.0             0.0     1.0                0.0             0.0   \n",
       "\n",
       "      x10_Luxury SUV  x10_SUV  x10_Sports Car  x10_Two-Door Car  x11_1.0  \\\n",
       "1688             0.0      0.0             0.0               0.0      0.0   \n",
       "5495             0.0      1.0             0.0               0.0      0.0   \n",
       "550              0.0      0.0             0.0               0.0      0.0   \n",
       "7732             0.0      0.0             0.0               0.0      0.0   \n",
       "6304             0.0      1.0             0.0               0.0      1.0   \n",
       "\n",
       "      x11_2.0  x11_3.0  \n",
       "1688      1.0      0.0  \n",
       "5495      1.0      0.0  \n",
       "550       1.0      0.0  \n",
       "7732      1.0      0.0  \n",
       "6304      0.0      0.0  "
      ]
     },
     "execution_count": 65,
     "metadata": {},
     "output_type": "execute_result"
    }
   ],
   "source": [
    "x_train_dummified.head()"
   ]
  },
  {
   "cell_type": "code",
   "execution_count": 66,
   "metadata": {
    "id": "3ZXHsMq5UikD"
   },
   "outputs": [],
   "source": [
    "# drop the dummified columns\n",
    "\n",
    "x_train_dummified.drop(['Coverage','Education','EmploymentStatus','Gender','Location.Code','Marital.Status','Policy.Type', 'Policy', 'Renew.Offer.Type',\n",
    "       'Sales.Channel', 'Vehicle.Class','Vehicle.Size'],axis=1,inplace=True)"
   ]
  },
  {
   "cell_type": "code",
   "execution_count": null,
   "metadata": {
    "id": "izWuQMk1UCdc"
   },
   "outputs": [],
   "source": []
  },
  {
   "cell_type": "code",
   "execution_count": 67,
   "metadata": {
    "id": "1uzl-3uBVJQ6"
   },
   "outputs": [],
   "source": [
    "# we have to preprocess the test data also"
   ]
  },
  {
   "cell_type": "code",
   "execution_count": 68,
   "metadata": {
    "colab": {
     "base_uri": "https://localhost:8080/"
    },
    "id": "DWQn5kL8Vbbu",
    "outputId": "1b4fa70a-5cac-4f5f-c729-dacb9c329e78"
   },
   "outputs": [
    {
     "data": {
      "text/plain": [
       "Index(['Coverage', 'Education', 'EmploymentStatus', 'Gender', 'Income',\n",
       "       'Location.Code', 'Marital.Status', 'Monthly.Premium.Auto',\n",
       "       'Months.Since.Last.Claim', 'Months.Since.Policy.Inception',\n",
       "       'Number.of.Open.Complaints', 'Number.of.Policies', 'Policy.Type',\n",
       "       'Policy', 'Renew.Offer.Type', 'Sales.Channel', 'Total.Claim.Amount',\n",
       "       'Vehicle.Class', 'Vehicle.Size'],\n",
       "      dtype='object')"
      ]
     },
     "execution_count": 68,
     "metadata": {},
     "output_type": "execute_result"
    }
   ],
   "source": [
    "x_test.columns"
   ]
  },
  {
   "cell_type": "code",
   "execution_count": null,
   "metadata": {},
   "outputs": [],
   "source": []
  },
  {
   "cell_type": "code",
   "execution_count": 69,
   "metadata": {
    "id": "8sKWT9AlVXku"
   },
   "outputs": [],
   "source": [
    "type_conversion(x_test)"
   ]
  },
  {
   "cell_type": "code",
   "execution_count": 70,
   "metadata": {
    "id": "UQcVube4VlU6"
   },
   "outputs": [],
   "source": [
    "x_test[numerical_cols]=si.transform(x_test[numerical_cols])"
   ]
  },
  {
   "cell_type": "code",
   "execution_count": 71,
   "metadata": {
    "id": "uCvc8pXPVugy"
   },
   "outputs": [],
   "source": [
    "y_test[['Customer.Lifetime.Value']]=sii.transform(y_test[['Customer.Lifetime.Value']])"
   ]
  },
  {
   "cell_type": "code",
   "execution_count": 72,
   "metadata": {
    "id": "9aHesp2pWDHR"
   },
   "outputs": [],
   "source": [
    "x_test[categorical_cols]=sic.transform(x_test[categorical_cols])"
   ]
  },
  {
   "cell_type": "code",
   "execution_count": 73,
   "metadata": {
    "id": "UX6DtcztWQqy"
   },
   "outputs": [],
   "source": [
    "x_test[numerical_cols]=scaler.transform(x_test[numerical_cols])"
   ]
  },
  {
   "cell_type": "code",
   "execution_count": 74,
   "metadata": {
    "id": "7mz1vtTgWgkl"
   },
   "outputs": [],
   "source": [
    "y_test[['Customer.Lifetime.Value']]=scaler_y.transform(y_test[['Customer.Lifetime.Value']])"
   ]
  },
  {
   "cell_type": "code",
   "execution_count": 75,
   "metadata": {
    "id": "LJI3H_drWnjH"
   },
   "outputs": [],
   "source": [
    "oe_test_data=pd.DataFrame(oe.transform(x_test[['Coverage','Education','EmploymentStatus','Gender','Location.Code','Marital.Status','Policy.Type', 'Policy', 'Renew.Offer.Type', 'Sales.Channel', 'Vehicle.Class','Vehicle.Size']]).toarray(),columns=oe.get_feature_names())"
   ]
  },
  {
   "cell_type": "code",
   "execution_count": 76,
   "metadata": {
    "id": "YXA9c8NgYbxj"
   },
   "outputs": [],
   "source": [
    "oe_test_data.set_index(x_test.index,inplace=True)"
   ]
  },
  {
   "cell_type": "code",
   "execution_count": 77,
   "metadata": {
    "id": "AenmuTUpYGrX"
   },
   "outputs": [],
   "source": [
    "x_test[ordinal_cols]=ordinal.transform(x_test[ordinal_cols])"
   ]
  },
  {
   "cell_type": "code",
   "execution_count": 78,
   "metadata": {
    "id": "2eb0uIswYbX0"
   },
   "outputs": [],
   "source": [
    "x_test_dummified=pd.concat([x_test,oe_test_data],axis=1)"
   ]
  },
  {
   "cell_type": "code",
   "execution_count": 79,
   "metadata": {
    "id": "HbnQDIzcYvV5"
   },
   "outputs": [],
   "source": [
    "x_test_dummified.drop(['Coverage','Education','EmploymentStatus','Gender','Location.Code','Marital.Status','Policy.Type', 'Policy', 'Renew.Offer.Type', 'Sales.Channel', 'Vehicle.Class','Vehicle.Size'],axis=1,inplace=True)"
   ]
  },
  {
   "cell_type": "code",
   "execution_count": 80,
   "metadata": {
    "id": "clW-ukL9ZA3m"
   },
   "outputs": [],
   "source": [
    "# end of data preprocessing"
   ]
  },
  {
   "cell_type": "code",
   "execution_count": null,
   "metadata": {
    "id": "UsT7ovCcVJW2"
   },
   "outputs": [],
   "source": []
  },
  {
   "cell_type": "markdown",
   "metadata": {
    "id": "lHIBmx76UF3E"
   },
   "source": [
    "end of data preprocessing"
   ]
  },
  {
   "cell_type": "code",
   "execution_count": 81,
   "metadata": {
    "id": "yVDJiZcIUCa3"
   },
   "outputs": [],
   "source": [
    "# lets start model building with out data x_train_dummified,y_train"
   ]
  },
  {
   "cell_type": "code",
   "execution_count": 82,
   "metadata": {
    "id": "dRPsBJihUCX9"
   },
   "outputs": [],
   "source": [
    "# Linear regression\n",
    "\n",
    "from sklearn.linear_model import LinearRegression"
   ]
  },
  {
   "cell_type": "code",
   "execution_count": 83,
   "metadata": {
    "colab": {
     "base_uri": "https://localhost:8080/"
    },
    "id": "1SACA9wvUCVx",
    "outputId": "fcd155ff-b373-4493-f257-304e33ee27aa"
   },
   "outputs": [
    {
     "data": {
      "text/html": [
       "<style>#sk-container-id-1 {color: black;background-color: white;}#sk-container-id-1 pre{padding: 0;}#sk-container-id-1 div.sk-toggleable {background-color: white;}#sk-container-id-1 label.sk-toggleable__label {cursor: pointer;display: block;width: 100%;margin-bottom: 0;padding: 0.3em;box-sizing: border-box;text-align: center;}#sk-container-id-1 label.sk-toggleable__label-arrow:before {content: \"▸\";float: left;margin-right: 0.25em;color: #696969;}#sk-container-id-1 label.sk-toggleable__label-arrow:hover:before {color: black;}#sk-container-id-1 div.sk-estimator:hover label.sk-toggleable__label-arrow:before {color: black;}#sk-container-id-1 div.sk-toggleable__content {max-height: 0;max-width: 0;overflow: hidden;text-align: left;background-color: #f0f8ff;}#sk-container-id-1 div.sk-toggleable__content pre {margin: 0.2em;color: black;border-radius: 0.25em;background-color: #f0f8ff;}#sk-container-id-1 input.sk-toggleable__control:checked~div.sk-toggleable__content {max-height: 200px;max-width: 100%;overflow: auto;}#sk-container-id-1 input.sk-toggleable__control:checked~label.sk-toggleable__label-arrow:before {content: \"▾\";}#sk-container-id-1 div.sk-estimator input.sk-toggleable__control:checked~label.sk-toggleable__label {background-color: #d4ebff;}#sk-container-id-1 div.sk-label input.sk-toggleable__control:checked~label.sk-toggleable__label {background-color: #d4ebff;}#sk-container-id-1 input.sk-hidden--visually {border: 0;clip: rect(1px 1px 1px 1px);clip: rect(1px, 1px, 1px, 1px);height: 1px;margin: -1px;overflow: hidden;padding: 0;position: absolute;width: 1px;}#sk-container-id-1 div.sk-estimator {font-family: monospace;background-color: #f0f8ff;border: 1px dotted black;border-radius: 0.25em;box-sizing: border-box;margin-bottom: 0.5em;}#sk-container-id-1 div.sk-estimator:hover {background-color: #d4ebff;}#sk-container-id-1 div.sk-parallel-item::after {content: \"\";width: 100%;border-bottom: 1px solid gray;flex-grow: 1;}#sk-container-id-1 div.sk-label:hover label.sk-toggleable__label {background-color: #d4ebff;}#sk-container-id-1 div.sk-serial::before {content: \"\";position: absolute;border-left: 1px solid gray;box-sizing: border-box;top: 0;bottom: 0;left: 50%;z-index: 0;}#sk-container-id-1 div.sk-serial {display: flex;flex-direction: column;align-items: center;background-color: white;padding-right: 0.2em;padding-left: 0.2em;position: relative;}#sk-container-id-1 div.sk-item {position: relative;z-index: 1;}#sk-container-id-1 div.sk-parallel {display: flex;align-items: stretch;justify-content: center;background-color: white;position: relative;}#sk-container-id-1 div.sk-item::before, #sk-container-id-1 div.sk-parallel-item::before {content: \"\";position: absolute;border-left: 1px solid gray;box-sizing: border-box;top: 0;bottom: 0;left: 50%;z-index: -1;}#sk-container-id-1 div.sk-parallel-item {display: flex;flex-direction: column;z-index: 1;position: relative;background-color: white;}#sk-container-id-1 div.sk-parallel-item:first-child::after {align-self: flex-end;width: 50%;}#sk-container-id-1 div.sk-parallel-item:last-child::after {align-self: flex-start;width: 50%;}#sk-container-id-1 div.sk-parallel-item:only-child::after {width: 0;}#sk-container-id-1 div.sk-dashed-wrapped {border: 1px dashed gray;margin: 0 0.4em 0.5em 0.4em;box-sizing: border-box;padding-bottom: 0.4em;background-color: white;}#sk-container-id-1 div.sk-label label {font-family: monospace;font-weight: bold;display: inline-block;line-height: 1.2em;}#sk-container-id-1 div.sk-label-container {text-align: center;}#sk-container-id-1 div.sk-container {/* jupyter's `normalize.less` sets `[hidden] { display: none; }` but bootstrap.min.css set `[hidden] { display: none !important; }` so we also need the `!important` here to be able to override the default hidden behavior on the sphinx rendered scikit-learn.org. See: https://github.com/scikit-learn/scikit-learn/issues/21755 */display: inline-block !important;position: relative;}#sk-container-id-1 div.sk-text-repr-fallback {display: none;}</style><div id=\"sk-container-id-1\" class=\"sk-top-container\"><div class=\"sk-text-repr-fallback\"><pre>LinearRegression()</pre><b>In a Jupyter environment, please rerun this cell to show the HTML representation or trust the notebook. <br />On GitHub, the HTML representation is unable to render, please try loading this page with nbviewer.org.</b></div><div class=\"sk-container\" hidden><div class=\"sk-item\"><div class=\"sk-estimator sk-toggleable\"><input class=\"sk-toggleable__control sk-hidden--visually\" id=\"sk-estimator-id-1\" type=\"checkbox\" checked><label for=\"sk-estimator-id-1\" class=\"sk-toggleable__label sk-toggleable__label-arrow\">LinearRegression</label><div class=\"sk-toggleable__content\"><pre>LinearRegression()</pre></div></div></div></div></div>"
      ],
      "text/plain": [
       "LinearRegression()"
      ]
     },
     "execution_count": 83,
     "metadata": {},
     "output_type": "execute_result"
    }
   ],
   "source": [
    "lr=LinearRegression()\n",
    "lr.fit(x_train_dummified,y_train)"
   ]
  },
  {
   "cell_type": "code",
   "execution_count": 84,
   "metadata": {
    "id": "J8bh29_oUCTP"
   },
   "outputs": [],
   "source": [
    "test_preds_lr=lr.predict(x_test_dummified)"
   ]
  },
  {
   "cell_type": "code",
   "execution_count": 85,
   "metadata": {
    "id": "wg8Ye0L-ZFgR"
   },
   "outputs": [],
   "source": [
    "from sklearn.metrics import r2_score,mean_squared_error"
   ]
  },
  {
   "cell_type": "code",
   "execution_count": 86,
   "metadata": {
    "colab": {
     "base_uri": "https://localhost:8080/"
    },
    "id": "cX7Y6b6FzrZh",
    "outputId": "db504eb5-9815-4cb0-da01-b4b9854d4c2a"
   },
   "outputs": [
    {
     "name": "stdout",
     "output_type": "stream",
     "text": [
      "0.148472877871617\n"
     ]
    }
   ],
   "source": [
    "print(r2_score(y_test[['Customer.Lifetime.Value']],test_preds_lr))"
   ]
  },
  {
   "cell_type": "code",
   "execution_count": 87,
   "metadata": {
    "colab": {
     "base_uri": "https://localhost:8080/"
    },
    "id": "XoS13OsRZhX8",
    "outputId": "2241387e-f576-4f0d-828c-2e68a8c3e789"
   },
   "outputs": [
    {
     "name": "stdout",
     "output_type": "stream",
     "text": [
      "0.8202997664846421\n"
     ]
    }
   ],
   "source": [
    "print(mean_squared_error(y_test[['Customer.Lifetime.Value']],test_preds_lr))"
   ]
  },
  {
   "cell_type": "code",
   "execution_count": 88,
   "metadata": {
    "id": "NREnVtENZt0v"
   },
   "outputs": [],
   "source": [
    "# lasso\n",
    "from sklearn.linear_model import Lasso"
   ]
  },
  {
   "cell_type": "code",
   "execution_count": 89,
   "metadata": {
    "id": "ivpS5LGlZtx0"
   },
   "outputs": [
    {
     "name": "stdout",
     "output_type": "stream",
     "text": [
      "-4.576938183786794e-05\n",
      "0.963371911216934\n"
     ]
    }
   ],
   "source": [
    "la=Lasso()\n",
    "la.fit(x_train_dummified,y_train)\n",
    "test_preds_la=la.predict(x_test_dummified)\n",
    "print(r2_score(y_test[['Customer.Lifetime.Value']],test_preds_la))\n",
    "print(mean_squared_error(y_test[['Customer.Lifetime.Value']],test_preds_la))"
   ]
  },
  {
   "cell_type": "code",
   "execution_count": 90,
   "metadata": {},
   "outputs": [],
   "source": [
    "from sklearn.model_selection import GridSearchCV"
   ]
  },
  {
   "cell_type": "code",
   "execution_count": 91,
   "metadata": {},
   "outputs": [
    {
     "name": "stdout",
     "output_type": "stream",
     "text": [
      "{'alpha': 0.001, 'max_iter': 100}\n",
      "0.1612835405172192\n",
      "0.15144253630282678\n",
      "0.8174390119010749\n"
     ]
    }
   ],
   "source": [
    "paramas_lasso={'alpha':[0.001,0.5,1,2,5,10,20],'max_iter':[100,200,300,400]}\n",
    "\n",
    "model_lasso=Lasso()\n",
    "model_grid_lasso=GridSearchCV(estimator=model_lasso,param_grid=paramas_lasso,scoring='r2',cv=5)\n",
    "\n",
    "model_grid_lasso.fit(x_train_dummified,y_train)\n",
    "print(model_grid_lasso.best_params_)\n",
    "\n",
    "print(model_grid_lasso.best_score_)\n",
    "\n",
    "test_preds_lasso_gs=model_grid_lasso.predict(x_test_dummified)\n",
    "\n",
    "print(r2_score(y_test[['Customer.Lifetime.Value']],test_preds_lasso_gs))\n",
    "print(mean_squared_error(y_test[['Customer.Lifetime.Value']],test_preds_lasso_gs))"
   ]
  },
  {
   "cell_type": "code",
   "execution_count": null,
   "metadata": {},
   "outputs": [],
   "source": []
  },
  {
   "cell_type": "code",
   "execution_count": 92,
   "metadata": {},
   "outputs": [
    {
     "name": "stdout",
     "output_type": "stream",
     "text": [
      "0.14855452782165657\n",
      "0.820221110816243\n"
     ]
    }
   ],
   "source": [
    "# Ridge\n",
    "\n",
    "from sklearn.linear_model import Ridge\n",
    "\n",
    "ri=Ridge()\n",
    "ri.fit(x_train_dummified,y_train)\n",
    "test_preds_ri=ri.predict(x_test_dummified)\n",
    "print(r2_score(y_test[['Customer.Lifetime.Value']],test_preds_ri))\n",
    "print(mean_squared_error(y_test[['Customer.Lifetime.Value']],test_preds_ri,squared=True))"
   ]
  },
  {
   "cell_type": "code",
   "execution_count": 93,
   "metadata": {},
   "outputs": [
    {
     "name": "stdout",
     "output_type": "stream",
     "text": [
      "{'alpha': 20, 'max_iter': 100}\n",
      "0.1600731667715601\n",
      "0.14938170375606652\n",
      "0.8194242692263448\n"
     ]
    }
   ],
   "source": [
    "paramas_ridge={'alpha':[0.001,0.5,1,2,5,10,20],'max_iter':[100,200,300,400]}\n",
    "\n",
    "model_ridge=Ridge()\n",
    "model_grid_ridge=GridSearchCV(estimator=model_ridge,param_grid=paramas_ridge,scoring='r2',cv=5)\n",
    "\n",
    "model_grid_ridge.fit(x_train_dummified,y_train)\n",
    "print(model_grid_ridge.best_params_)\n",
    "\n",
    "print(model_grid_ridge.best_score_)\n",
    "\n",
    "test_preds_ridge_gs=model_grid_ridge.predict(x_test_dummified)\n",
    "\n",
    "print(r2_score(y_test[['Customer.Lifetime.Value']],test_preds_ridge_gs))\n",
    "print(mean_squared_error(y_test[['Customer.Lifetime.Value']],test_preds_ridge_gs))"
   ]
  },
  {
   "cell_type": "code",
   "execution_count": null,
   "metadata": {},
   "outputs": [],
   "source": []
  },
  {
   "cell_type": "code",
   "execution_count": 94,
   "metadata": {},
   "outputs": [],
   "source": [
    "# kneareast neighbours"
   ]
  },
  {
   "cell_type": "code",
   "execution_count": 95,
   "metadata": {},
   "outputs": [],
   "source": [
    "from sklearn.neighbors import KNeighborsRegressor"
   ]
  },
  {
   "cell_type": "code",
   "execution_count": 96,
   "metadata": {},
   "outputs": [
    {
     "name": "stdout",
     "output_type": "stream",
     "text": [
      "0.09310998888264266\n",
      "0.873632377659796\n"
     ]
    }
   ],
   "source": [
    "KNN=KNeighborsRegressor()\n",
    "KNN.fit(x_train_dummified,y_train)\n",
    "test_preds_KNN=KNN.predict(x_test_dummified)\n",
    "print(r2_score(y_test[['Customer.Lifetime.Value']],test_preds_KNN))\n",
    "print(mean_squared_error(y_test[['Customer.Lifetime.Value']],test_preds_KNN,squared=True))"
   ]
  },
  {
   "cell_type": "code",
   "execution_count": 97,
   "metadata": {},
   "outputs": [
    {
     "name": "stdout",
     "output_type": "stream",
     "text": [
      "{'algorithm': 'kd_tree', 'n_neighbors': 10, 'weights': 'distance'}\n",
      "0.11206348999436164\n",
      "0.14483995140731043\n",
      "0.8237994656168058\n"
     ]
    }
   ],
   "source": [
    "paramas_KNN={'n_neighbors':[2,4,5,6,7,8,9,10],\"weights\" : ['uniform', 'distance'],\"algorithm\":['auto','kd_tree'] }\n",
    "\n",
    "model_KNN=KNeighborsRegressor()\n",
    "model_grid_KNN=GridSearchCV(estimator=model_KNN,param_grid=paramas_KNN,scoring='r2',cv=5)\n",
    "\n",
    "model_grid_KNN.fit(x_train_dummified,y_train)\n",
    "print(model_grid_KNN.best_params_)\n",
    "\n",
    "print(model_grid_KNN.best_score_)\n",
    "\n",
    "test_preds_KNN_gs=model_grid_KNN.predict(x_test_dummified)\n",
    "\n",
    "print(r2_score(y_test[['Customer.Lifetime.Value']],test_preds_KNN_gs))\n",
    "print(mean_squared_error(y_test[['Customer.Lifetime.Value']],test_preds_KNN_gs))"
   ]
  },
  {
   "cell_type": "code",
   "execution_count": 98,
   "metadata": {},
   "outputs": [],
   "source": [
    "# Decision trees\n",
    "\n",
    "from sklearn.tree import DecisionTreeRegressor"
   ]
  },
  {
   "cell_type": "code",
   "execution_count": 99,
   "metadata": {},
   "outputs": [
    {
     "name": "stdout",
     "output_type": "stream",
     "text": [
      "{'criterion': 'squared_error', 'max_depth': 4, 'splitter': 'best'}\n",
      "0.6269489175361718\n",
      "0.6278360336921998\n",
      "0.35851590245678566\n"
     ]
    }
   ],
   "source": [
    "paramas_dtr={'criterion':[\"squared_error\",\"absolute_error\",\"poisson\"],\"splitter\":[\"best\", \"random\"],\"max_depth\":[3,4,5,6,10]}\n",
    "\n",
    "model_dtr=DecisionTreeRegressor()\n",
    "model_grid_dtr=GridSearchCV(estimator=model_dtr,param_grid=paramas_dtr,scoring='r2',cv=5)\n",
    "\n",
    "model_grid_dtr.fit(x_train_dummified,y_train)\n",
    "print(model_grid_dtr.best_params_)\n",
    "\n",
    "print(model_grid_dtr.best_score_)\n",
    "\n",
    "test_preds_dtr_gs=model_grid_dtr.predict(x_test_dummified)\n",
    "\n",
    "print(r2_score(y_test[['Customer.Lifetime.Value']],test_preds_dtr_gs))\n",
    "print(mean_squared_error(y_test[['Customer.Lifetime.Value']],test_preds_dtr_gs))"
   ]
  },
  {
   "cell_type": "code",
   "execution_count": 100,
   "metadata": {},
   "outputs": [],
   "source": [
    "\n",
    "from sklearn.ensemble import RandomForestRegressor"
   ]
  },
  {
   "cell_type": "code",
   "execution_count": 101,
   "metadata": {},
   "outputs": [
    {
     "name": "stdout",
     "output_type": "stream",
     "text": [
      "0.673936413036229\n",
      "0.3141061245083868\n"
     ]
    }
   ],
   "source": [
    "model_rfr=RandomForestRegressor()\n",
    "model_rfr.fit(x_train_dummified,y_train)\n",
    "test_preds_rfr=model_rfr.predict(x_test_dummified)\n",
    "\n",
    "print(r2_score(y_test[['Customer.Lifetime.Value']],test_preds_rfr))\n",
    "print(mean_squared_error(y_test[['Customer.Lifetime.Value']],test_preds_rfr))"
   ]
  },
  {
   "cell_type": "code",
   "execution_count": 102,
   "metadata": {},
   "outputs": [
    {
     "data": {
      "text/html": [
       "<div>\n",
       "<style scoped>\n",
       "    .dataframe tbody tr th:only-of-type {\n",
       "        vertical-align: middle;\n",
       "    }\n",
       "\n",
       "    .dataframe tbody tr th {\n",
       "        vertical-align: top;\n",
       "    }\n",
       "\n",
       "    .dataframe thead th {\n",
       "        text-align: right;\n",
       "    }\n",
       "</style>\n",
       "<table border=\"1\" class=\"dataframe\">\n",
       "  <thead>\n",
       "    <tr style=\"text-align: right;\">\n",
       "      <th></th>\n",
       "      <th>Customer.Lifetime.Value</th>\n",
       "    </tr>\n",
       "  </thead>\n",
       "  <tbody>\n",
       "    <tr>\n",
       "      <th>3920</th>\n",
       "      <td>2.037582</td>\n",
       "    </tr>\n",
       "    <tr>\n",
       "      <th>7244</th>\n",
       "      <td>-0.337636</td>\n",
       "    </tr>\n",
       "    <tr>\n",
       "      <th>4911</th>\n",
       "      <td>1.198116</td>\n",
       "    </tr>\n",
       "    <tr>\n",
       "      <th>1258</th>\n",
       "      <td>-0.452990</td>\n",
       "    </tr>\n",
       "    <tr>\n",
       "      <th>2923</th>\n",
       "      <td>-0.802178</td>\n",
       "    </tr>\n",
       "  </tbody>\n",
       "</table>\n",
       "</div>"
      ],
      "text/plain": [
       "      Customer.Lifetime.Value\n",
       "3920                 2.037582\n",
       "7244                -0.337636\n",
       "4911                 1.198116\n",
       "1258                -0.452990\n",
       "2923                -0.802178"
      ]
     },
     "execution_count": 102,
     "metadata": {},
     "output_type": "execute_result"
    }
   ],
   "source": [
    "y_test[['Customer.Lifetime.Value']][0:5]"
   ]
  },
  {
   "cell_type": "code",
   "execution_count": 103,
   "metadata": {},
   "outputs": [
    {
     "data": {
      "text/plain": [
       "array([ 0.81111351, -0.32437235,  2.03218684, -0.4650738 , -0.75996105])"
      ]
     },
     "execution_count": 103,
     "metadata": {},
     "output_type": "execute_result"
    }
   ],
   "source": [
    "test_preds_rfr[0:5]"
   ]
  },
  {
   "cell_type": "code",
   "execution_count": null,
   "metadata": {},
   "outputs": [],
   "source": []
  },
  {
   "cell_type": "code",
   "execution_count": 104,
   "metadata": {},
   "outputs": [],
   "source": [
    "# paramas_rfr={\"n_estimators\":[100,200,300],'criterion':[\"squared_error\",\"absolute_error\",\"poisson\"],\"max_depth\":[3,4,5,6,10]}\n",
    "\n",
    "# model_rfr=RandomForestRegressor()\n",
    "# model_grid_rfr=GridSearchCV(estimator=model_rfr,param_grid=paramas_rfr,scoring='r2',cv=5)\n",
    "\n",
    "# model_grid_rfr.fit(x_train_dummified,y_train)\n",
    "# print(model_grid_rfr.best_params_)\n",
    "\n",
    "# print(model_grid_rfr.best_score_)\n",
    "\n",
    "# test_preds_rfr_gs=model_grid_rfr.predict(x_test_dummified)\n",
    "\n",
    "# print(r2_score(y_test[['Customer.Lifetime.Value']],test_preds_rfr_gs))\n",
    "# print(mean_squared_error(y_test[['Customer.Lifetime.Value']],test_preds_rfr_gs))"
   ]
  },
  {
   "cell_type": "code",
   "execution_count": null,
   "metadata": {},
   "outputs": [],
   "source": [
    "    "
   ]
  },
  {
   "cell_type": "code",
   "execution_count": 105,
   "metadata": {},
   "outputs": [],
   "source": [
    "import keras\n",
    "from keras.models import Sequential\n",
    "from keras.layers import Dense"
   ]
  },
  {
   "cell_type": "code",
   "execution_count": 106,
   "metadata": {},
   "outputs": [],
   "source": [
    "model_ann = Sequential()\n",
    "model_ann.add(Dense(1))\n",
    "model_ann.compile(optimizer='rmsprop',loss= keras.losses.MeanSquaredError())"
   ]
  },
  {
   "cell_type": "code",
   "execution_count": 107,
   "metadata": {},
   "outputs": [
    {
     "name": "stdout",
     "output_type": "stream",
     "text": [
      "Epoch 1/100\n",
      "215/215 [==============================] - 1s 5ms/step - loss: 4.4776\n",
      "Epoch 2/100\n",
      "215/215 [==============================] - 1s 4ms/step - loss: 1.0326\n",
      "Epoch 3/100\n",
      "215/215 [==============================] - 1s 3ms/step - loss: 0.8951\n",
      "Epoch 4/100\n",
      "215/215 [==============================] - 1s 3ms/step - loss: 0.8652\n",
      "Epoch 5/100\n",
      "215/215 [==============================] - 0s 2ms/step - loss: 0.8524\n",
      "Epoch 6/100\n",
      "215/215 [==============================] - 0s 2ms/step - loss: 0.8515\n",
      "Epoch 7/100\n",
      "215/215 [==============================] - 0s 2ms/step - loss: 0.8483\n",
      "Epoch 8/100\n",
      "215/215 [==============================] - 0s 1ms/step - loss: 0.8472\n",
      "Epoch 9/100\n",
      "215/215 [==============================] - 0s 2ms/step - loss: 0.8432\n",
      "Epoch 10/100\n",
      "215/215 [==============================] - 0s 2ms/step - loss: 0.8449\n",
      "Epoch 11/100\n",
      "215/215 [==============================] - 0s 2ms/step - loss: 0.8451\n",
      "Epoch 12/100\n",
      "215/215 [==============================] - 0s 2ms/step - loss: 0.8442\n",
      "Epoch 13/100\n",
      "215/215 [==============================] - 0s 2ms/step - loss: 0.8429\n",
      "Epoch 14/100\n",
      "215/215 [==============================] - 0s 2ms/step - loss: 0.8424\n",
      "Epoch 15/100\n",
      "215/215 [==============================] - 0s 2ms/step - loss: 0.8420\n",
      "Epoch 16/100\n",
      "215/215 [==============================] - 0s 2ms/step - loss: 0.8432\n",
      "Epoch 17/100\n",
      "215/215 [==============================] - 0s 2ms/step - loss: 0.8410\n",
      "Epoch 18/100\n",
      "215/215 [==============================] - 0s 1ms/step - loss: 0.8425\n",
      "Epoch 19/100\n",
      "215/215 [==============================] - 0s 2ms/step - loss: 0.8395\n",
      "Epoch 20/100\n",
      "215/215 [==============================] - 0s 1ms/step - loss: 0.8420\n",
      "Epoch 21/100\n",
      "215/215 [==============================] - 1s 3ms/step - loss: 0.8410\n",
      "Epoch 22/100\n",
      "215/215 [==============================] - 1s 3ms/step - loss: 0.8435\n",
      "Epoch 23/100\n",
      "215/215 [==============================] - 0s 2ms/step - loss: 0.8429\n",
      "Epoch 24/100\n",
      "215/215 [==============================] - 0s 2ms/step - loss: 0.8411\n",
      "Epoch 25/100\n",
      "215/215 [==============================] - 0s 2ms/step - loss: 0.8410\n",
      "Epoch 26/100\n",
      "215/215 [==============================] - 0s 2ms/step - loss: 0.8414\n",
      "Epoch 27/100\n",
      "215/215 [==============================] - 0s 2ms/step - loss: 0.8415\n",
      "Epoch 28/100\n",
      "215/215 [==============================] - 0s 2ms/step - loss: 0.8416\n",
      "Epoch 29/100\n",
      "215/215 [==============================] - 1s 2ms/step - loss: 0.8399\n",
      "Epoch 30/100\n",
      "215/215 [==============================] - 0s 2ms/step - loss: 0.8399\n",
      "Epoch 31/100\n",
      "215/215 [==============================] - 0s 2ms/step - loss: 0.8411\n",
      "Epoch 32/100\n",
      "215/215 [==============================] - 0s 2ms/step - loss: 0.8414\n",
      "Epoch 33/100\n",
      "215/215 [==============================] - 1s 4ms/step - loss: 0.8422\n",
      "Epoch 34/100\n",
      "215/215 [==============================] - 1s 4ms/step - loss: 0.8429\n",
      "Epoch 35/100\n",
      "215/215 [==============================] - 1s 2ms/step - loss: 0.8393\n",
      "Epoch 36/100\n",
      "215/215 [==============================] - 0s 1ms/step - loss: 0.8432\n",
      "Epoch 37/100\n",
      "215/215 [==============================] - 0s 1ms/step - loss: 0.8398\n",
      "Epoch 38/100\n",
      "215/215 [==============================] - 0s 1ms/step - loss: 0.8429\n",
      "Epoch 39/100\n",
      "215/215 [==============================] - 0s 2ms/step - loss: 0.8404\n",
      "Epoch 40/100\n",
      "215/215 [==============================] - 0s 2ms/step - loss: 0.8418\n",
      "Epoch 41/100\n",
      "215/215 [==============================] - 0s 2ms/step - loss: 0.8402\n",
      "Epoch 42/100\n",
      "215/215 [==============================] - 0s 2ms/step - loss: 0.8402\n",
      "Epoch 43/100\n",
      "215/215 [==============================] - 0s 2ms/step - loss: 0.8417\n",
      "Epoch 44/100\n",
      "215/215 [==============================] - 0s 2ms/step - loss: 0.8420\n",
      "Epoch 45/100\n",
      "215/215 [==============================] - 0s 1ms/step - loss: 0.8404\n",
      "Epoch 46/100\n",
      "215/215 [==============================] - 0s 1ms/step - loss: 0.8403\n",
      "Epoch 47/100\n",
      "215/215 [==============================] - 0s 2ms/step - loss: 0.8405\n",
      "Epoch 48/100\n",
      "215/215 [==============================] - 0s 2ms/step - loss: 0.8391\n",
      "Epoch 49/100\n",
      "215/215 [==============================] - 0s 2ms/step - loss: 0.8422\n",
      "Epoch 50/100\n",
      "215/215 [==============================] - 0s 2ms/step - loss: 0.8402\n",
      "Epoch 51/100\n",
      "215/215 [==============================] - 0s 2ms/step - loss: 0.8390\n",
      "Epoch 52/100\n",
      "215/215 [==============================] - 0s 2ms/step - loss: 0.8405\n",
      "Epoch 53/100\n",
      "215/215 [==============================] - 0s 2ms/step - loss: 0.8410\n",
      "Epoch 54/100\n",
      "215/215 [==============================] - 0s 1ms/step - loss: 0.8410\n",
      "Epoch 55/100\n",
      "215/215 [==============================] - 0s 1ms/step - loss: 0.8394\n",
      "Epoch 56/100\n",
      "215/215 [==============================] - 0s 2ms/step - loss: 0.8409\n",
      "Epoch 57/100\n",
      "215/215 [==============================] - 0s 1ms/step - loss: 0.8411\n",
      "Epoch 58/100\n",
      "215/215 [==============================] - 0s 1ms/step - loss: 0.8406\n",
      "Epoch 59/100\n",
      "215/215 [==============================] - 0s 1ms/step - loss: 0.8418\n",
      "Epoch 60/100\n",
      "215/215 [==============================] - 0s 1ms/step - loss: 0.8400\n",
      "Epoch 61/100\n",
      "215/215 [==============================] - 0s 2ms/step - loss: 0.8425\n",
      "Epoch 62/100\n",
      "215/215 [==============================] - 0s 2ms/step - loss: 0.8405\n",
      "Epoch 63/100\n",
      "215/215 [==============================] - 0s 2ms/step - loss: 0.8410\n",
      "Epoch 64/100\n",
      "215/215 [==============================] - 1s 3ms/step - loss: 0.8401\n",
      "Epoch 65/100\n",
      "215/215 [==============================] - 1s 5ms/step - loss: 0.8415\n",
      "Epoch 66/100\n",
      "215/215 [==============================] - 1s 3ms/step - loss: 0.8424\n",
      "Epoch 67/100\n",
      "215/215 [==============================] - 0s 1ms/step - loss: 0.8402\n",
      "Epoch 68/100\n",
      "215/215 [==============================] - 1s 4ms/step - loss: 0.8422\n",
      "Epoch 69/100\n",
      "215/215 [==============================] - 1s 4ms/step - loss: 0.8413\n",
      "Epoch 70/100\n",
      "215/215 [==============================] - 1s 4ms/step - loss: 0.8416\n",
      "Epoch 71/100\n",
      "215/215 [==============================] - 1s 3ms/step - loss: 0.8411\n",
      "Epoch 72/100\n",
      "215/215 [==============================] - 0s 2ms/step - loss: 0.8404\n",
      "Epoch 73/100\n",
      "215/215 [==============================] - 0s 2ms/step - loss: 0.8387\n",
      "Epoch 74/100\n",
      "215/215 [==============================] - 0s 2ms/step - loss: 0.8398\n",
      "Epoch 75/100\n",
      "215/215 [==============================] - 0s 1ms/step - loss: 0.8399\n",
      "Epoch 76/100\n",
      "215/215 [==============================] - 0s 1ms/step - loss: 0.8404\n",
      "Epoch 77/100\n",
      "215/215 [==============================] - 0s 1ms/step - loss: 0.8410\n",
      "Epoch 78/100\n",
      "215/215 [==============================] - 0s 1ms/step - loss: 0.8407\n",
      "Epoch 79/100\n",
      "215/215 [==============================] - 0s 1ms/step - loss: 0.8394\n",
      "Epoch 80/100\n",
      "215/215 [==============================] - 0s 1ms/step - loss: 0.8415\n",
      "Epoch 81/100\n",
      "215/215 [==============================] - 0s 2ms/step - loss: 0.8386\n",
      "Epoch 82/100\n",
      "215/215 [==============================] - 0s 2ms/step - loss: 0.8370\n",
      "Epoch 83/100\n",
      "215/215 [==============================] - 0s 1ms/step - loss: 0.8397\n",
      "Epoch 84/100\n",
      "215/215 [==============================] - 0s 2ms/step - loss: 0.8407\n",
      "Epoch 85/100\n",
      "215/215 [==============================] - 0s 2ms/step - loss: 0.8392\n",
      "Epoch 86/100\n",
      "215/215 [==============================] - 0s 1ms/step - loss: 0.8411\n",
      "Epoch 87/100\n",
      "215/215 [==============================] - 0s 1ms/step - loss: 0.8389\n",
      "Epoch 88/100\n",
      "215/215 [==============================] - 1s 3ms/step - loss: 0.8410\n",
      "Epoch 89/100\n",
      "215/215 [==============================] - 0s 2ms/step - loss: 0.8399\n",
      "Epoch 90/100\n",
      "215/215 [==============================] - 0s 2ms/step - loss: 0.8415\n",
      "Epoch 91/100\n",
      "215/215 [==============================] - 0s 2ms/step - loss: 0.8405\n",
      "Epoch 92/100\n",
      "215/215 [==============================] - 0s 2ms/step - loss: 0.8407\n",
      "Epoch 93/100\n",
      "215/215 [==============================] - 0s 2ms/step - loss: 0.8376\n",
      "Epoch 94/100\n",
      "215/215 [==============================] - 0s 2ms/step - loss: 0.8392\n",
      "Epoch 95/100\n",
      "215/215 [==============================] - 0s 2ms/step - loss: 0.8397\n",
      "Epoch 96/100\n",
      "215/215 [==============================] - 0s 2ms/step - loss: 0.8385\n",
      "Epoch 97/100\n",
      "215/215 [==============================] - 0s 2ms/step - loss: 0.8401\n",
      "Epoch 98/100\n",
      "215/215 [==============================] - 0s 1ms/step - loss: 0.8415\n",
      "Epoch 99/100\n"
     ]
    },
    {
     "name": "stdout",
     "output_type": "stream",
     "text": [
      "215/215 [==============================] - 0s 1ms/step - loss: 0.8399\n",
      "Epoch 100/100\n",
      "215/215 [==============================] - 0s 1ms/step - loss: 0.8407\n"
     ]
    },
    {
     "data": {
      "text/plain": [
       "<keras.callbacks.History at 0x21d1f2dbb20>"
      ]
     },
     "execution_count": 107,
     "metadata": {},
     "output_type": "execute_result"
    }
   ],
   "source": [
    "model_ann.fit(x_train_dummified,y_train,epochs=100)"
   ]
  },
  {
   "cell_type": "code",
   "execution_count": 108,
   "metadata": {},
   "outputs": [
    {
     "name": "stdout",
     "output_type": "stream",
     "text": [
      "92/92 [==============================] - 0s 4ms/step\n",
      "0.13757124021508593\n",
      "0.8308016173259878\n"
     ]
    }
   ],
   "source": [
    "test_preds_ann1=model_ann.predict(x_test_dummified)\n",
    "\n",
    "print(r2_score(y_test[['Customer.Lifetime.Value']],test_preds_ann1))\n",
    "print(mean_squared_error(y_test[['Customer.Lifetime.Value']],test_preds_ann1))"
   ]
  },
  {
   "cell_type": "code",
   "execution_count": 109,
   "metadata": {},
   "outputs": [],
   "source": [
    "model_ann2 = Sequential()\n",
    "model_ann2.add(Dense(10,activation='linear'))\n",
    "model_ann2.add(Dense(20,activation='linear'))\n",
    "model_ann2.add(Dense(1,activation='linear'))\n",
    "model_ann2.compile(optimizer='rmsprop',loss= keras.losses.MeanSquaredError())"
   ]
  },
  {
   "cell_type": "code",
   "execution_count": 110,
   "metadata": {},
   "outputs": [
    {
     "name": "stdout",
     "output_type": "stream",
     "text": [
      "Epoch 1/500\n",
      "215/215 [==============================] - 1s 3ms/step - loss: 9.1147\n",
      "Epoch 2/500\n",
      "215/215 [==============================] - 1s 4ms/step - loss: 1.0505\n",
      "Epoch 3/500\n",
      "215/215 [==============================] - 1s 3ms/step - loss: 1.0092\n",
      "Epoch 4/500\n",
      "215/215 [==============================] - 0s 2ms/step - loss: 0.9953\n",
      "Epoch 5/500\n",
      "215/215 [==============================] - 0s 2ms/step - loss: 0.9733\n",
      "Epoch 6/500\n",
      "215/215 [==============================] - 0s 2ms/step - loss: 0.9497\n",
      "Epoch 7/500\n",
      "215/215 [==============================] - 0s 2ms/step - loss: 0.9440\n",
      "Epoch 8/500\n",
      "215/215 [==============================] - 1s 3ms/step - loss: 0.9500\n",
      "Epoch 9/500\n",
      "215/215 [==============================] - 0s 2ms/step - loss: 0.9326\n",
      "Epoch 10/500\n",
      "215/215 [==============================] - 0s 2ms/step - loss: 0.9225\n",
      "Epoch 11/500\n",
      "215/215 [==============================] - 0s 2ms/step - loss: 0.9174\n",
      "Epoch 12/500\n",
      "215/215 [==============================] - 0s 2ms/step - loss: 0.9176\n",
      "Epoch 13/500\n",
      "215/215 [==============================] - 0s 2ms/step - loss: 0.9051\n",
      "Epoch 14/500\n",
      "215/215 [==============================] - 0s 2ms/step - loss: 0.9095\n",
      "Epoch 15/500\n",
      "215/215 [==============================] - 1s 3ms/step - loss: 0.8960\n",
      "Epoch 16/500\n",
      "215/215 [==============================] - 1s 3ms/step - loss: 0.8964\n",
      "Epoch 17/500\n",
      "215/215 [==============================] - 0s 2ms/step - loss: 0.9017\n",
      "Epoch 18/500\n",
      "215/215 [==============================] - 0s 2ms/step - loss: 0.8919\n",
      "Epoch 19/500\n",
      "215/215 [==============================] - 1s 2ms/step - loss: 0.8847\n",
      "Epoch 20/500\n",
      "215/215 [==============================] - 0s 2ms/step - loss: 0.8894\n",
      "Epoch 21/500\n",
      "215/215 [==============================] - 0s 2ms/step - loss: 0.8802\n",
      "Epoch 22/500\n",
      "215/215 [==============================] - 0s 2ms/step - loss: 0.8740\n",
      "Epoch 23/500\n",
      "215/215 [==============================] - 0s 2ms/step - loss: 0.8767\n",
      "Epoch 24/500\n",
      "215/215 [==============================] - 0s 2ms/step - loss: 0.8764\n",
      "Epoch 25/500\n",
      "215/215 [==============================] - 0s 2ms/step - loss: 0.8732\n",
      "Epoch 26/500\n",
      "215/215 [==============================] - 0s 2ms/step - loss: 0.8722\n",
      "Epoch 27/500\n",
      "215/215 [==============================] - 0s 2ms/step - loss: 0.8703\n",
      "Epoch 28/500\n",
      "215/215 [==============================] - 0s 2ms/step - loss: 0.8715\n",
      "Epoch 29/500\n",
      "215/215 [==============================] - 0s 2ms/step - loss: 0.8670\n",
      "Epoch 30/500\n",
      "215/215 [==============================] - 0s 1ms/step - loss: 0.8661\n",
      "Epoch 31/500\n",
      "215/215 [==============================] - 0s 2ms/step - loss: 0.8666\n",
      "Epoch 32/500\n",
      "215/215 [==============================] - 0s 1ms/step - loss: 0.8676\n",
      "Epoch 33/500\n",
      "215/215 [==============================] - 0s 2ms/step - loss: 0.8651\n",
      "Epoch 34/500\n",
      "215/215 [==============================] - 0s 2ms/step - loss: 0.8641\n",
      "Epoch 35/500\n",
      "215/215 [==============================] - 0s 2ms/step - loss: 0.8566\n",
      "Epoch 36/500\n",
      "215/215 [==============================] - 0s 2ms/step - loss: 0.8603\n",
      "Epoch 37/500\n",
      "215/215 [==============================] - 0s 1ms/step - loss: 0.8552\n",
      "Epoch 38/500\n",
      "215/215 [==============================] - 0s 2ms/step - loss: 0.8563\n",
      "Epoch 39/500\n",
      "215/215 [==============================] - 0s 2ms/step - loss: 0.8588\n",
      "Epoch 40/500\n",
      "215/215 [==============================] - 0s 2ms/step - loss: 0.8587\n",
      "Epoch 41/500\n",
      "215/215 [==============================] - 0s 2ms/step - loss: 0.8560\n",
      "Epoch 42/500\n",
      "215/215 [==============================] - 0s 2ms/step - loss: 0.8586\n",
      "Epoch 43/500\n",
      "215/215 [==============================] - 0s 2ms/step - loss: 0.8542\n",
      "Epoch 44/500\n",
      "215/215 [==============================] - 0s 2ms/step - loss: 0.8550\n",
      "Epoch 45/500\n",
      "215/215 [==============================] - 1s 2ms/step - loss: 0.8538\n",
      "Epoch 46/500\n",
      "215/215 [==============================] - 1s 3ms/step - loss: 0.8539\n",
      "Epoch 47/500\n",
      "215/215 [==============================] - 0s 2ms/step - loss: 0.8537\n",
      "Epoch 48/500\n",
      "215/215 [==============================] - 1s 2ms/step - loss: 0.8540\n",
      "Epoch 49/500\n",
      "215/215 [==============================] - 1s 3ms/step - loss: 0.8516\n",
      "Epoch 50/500\n",
      "215/215 [==============================] - 1s 2ms/step - loss: 0.8504\n",
      "Epoch 51/500\n",
      "215/215 [==============================] - 1s 2ms/step - loss: 0.8480\n",
      "Epoch 52/500\n",
      "215/215 [==============================] - 0s 2ms/step - loss: 0.8501\n",
      "Epoch 53/500\n",
      "215/215 [==============================] - 0s 2ms/step - loss: 0.8495\n",
      "Epoch 54/500\n",
      "215/215 [==============================] - 0s 2ms/step - loss: 0.8450\n",
      "Epoch 55/500\n",
      "215/215 [==============================] - 0s 2ms/step - loss: 0.8487\n",
      "Epoch 56/500\n",
      "215/215 [==============================] - 0s 2ms/step - loss: 0.8470\n",
      "Epoch 57/500\n",
      "215/215 [==============================] - 0s 2ms/step - loss: 0.8483\n",
      "Epoch 58/500\n",
      "215/215 [==============================] - 0s 2ms/step - loss: 0.8473\n",
      "Epoch 59/500\n",
      "215/215 [==============================] - 0s 2ms/step - loss: 0.8457\n",
      "Epoch 60/500\n",
      "215/215 [==============================] - 0s 2ms/step - loss: 0.8462\n",
      "Epoch 61/500\n",
      "215/215 [==============================] - 1s 3ms/step - loss: 0.8475\n",
      "Epoch 62/500\n",
      "215/215 [==============================] - 1s 3ms/step - loss: 0.8477\n",
      "Epoch 63/500\n",
      "215/215 [==============================] - 1s 3ms/step - loss: 0.8443\n",
      "Epoch 64/500\n",
      "215/215 [==============================] - 0s 2ms/step - loss: 0.8466\n",
      "Epoch 65/500\n",
      "215/215 [==============================] - 1s 3ms/step - loss: 0.8422\n",
      "Epoch 66/500\n",
      "215/215 [==============================] - 1s 3ms/step - loss: 0.8412\n",
      "Epoch 67/500\n",
      "215/215 [==============================] - 1s 3ms/step - loss: 0.8416\n",
      "Epoch 68/500\n",
      "215/215 [==============================] - 1s 3ms/step - loss: 0.8426\n",
      "Epoch 69/500\n",
      "215/215 [==============================] - 1s 3ms/step - loss: 0.8437\n",
      "Epoch 70/500\n",
      "215/215 [==============================] - 1s 3ms/step - loss: 0.8426\n",
      "Epoch 71/500\n",
      "215/215 [==============================] - 1s 3ms/step - loss: 0.8441\n",
      "Epoch 72/500\n",
      "215/215 [==============================] - 1s 3ms/step - loss: 0.8434\n",
      "Epoch 73/500\n",
      "215/215 [==============================] - 1s 3ms/step - loss: 0.8408\n",
      "Epoch 74/500\n",
      "215/215 [==============================] - 1s 2ms/step - loss: 0.8420\n",
      "Epoch 75/500\n",
      "215/215 [==============================] - 0s 2ms/step - loss: 0.8420\n",
      "Epoch 76/500\n",
      "215/215 [==============================] - 0s 2ms/step - loss: 0.8409\n",
      "Epoch 77/500\n",
      "215/215 [==============================] - 1s 3ms/step - loss: 0.8427\n",
      "Epoch 78/500\n",
      "215/215 [==============================] - 1s 3ms/step - loss: 0.8402\n",
      "Epoch 79/500\n",
      "215/215 [==============================] - 0s 1ms/step - loss: 0.8410\n",
      "Epoch 80/500\n",
      "215/215 [==============================] - 0s 1ms/step - loss: 0.8390\n",
      "Epoch 81/500\n",
      "215/215 [==============================] - 0s 2ms/step - loss: 0.8412\n",
      "Epoch 82/500\n",
      "215/215 [==============================] - 0s 2ms/step - loss: 0.8389\n",
      "Epoch 83/500\n",
      "215/215 [==============================] - 0s 2ms/step - loss: 0.8392\n",
      "Epoch 84/500\n",
      "215/215 [==============================] - 0s 2ms/step - loss: 0.8396\n",
      "Epoch 85/500\n",
      "215/215 [==============================] - 0s 2ms/step - loss: 0.8399\n",
      "Epoch 86/500\n",
      "215/215 [==============================] - 0s 2ms/step - loss: 0.8385\n",
      "Epoch 87/500\n",
      "215/215 [==============================] - 1s 3ms/step - loss: 0.8393\n",
      "Epoch 88/500\n",
      "215/215 [==============================] - 1s 2ms/step - loss: 0.8394\n",
      "Epoch 89/500\n",
      "215/215 [==============================] - 1s 3ms/step - loss: 0.8379\n",
      "Epoch 90/500\n",
      "215/215 [==============================] - 1s 2ms/step - loss: 0.8378\n",
      "Epoch 91/500\n",
      "215/215 [==============================] - 0s 2ms/step - loss: 0.8391\n",
      "Epoch 92/500\n",
      "215/215 [==============================] - 0s 2ms/step - loss: 0.8386\n",
      "Epoch 93/500\n",
      "215/215 [==============================] - 0s 2ms/step - loss: 0.8381\n",
      "Epoch 94/500\n",
      "215/215 [==============================] - 0s 2ms/step - loss: 0.8381\n",
      "Epoch 95/500\n",
      "215/215 [==============================] - 0s 2ms/step - loss: 0.8370\n",
      "Epoch 96/500\n",
      "215/215 [==============================] - 0s 1ms/step - loss: 0.8384\n",
      "Epoch 97/500\n",
      "215/215 [==============================] - 0s 1ms/step - loss: 0.8384\n",
      "Epoch 98/500\n",
      "215/215 [==============================] - 0s 2ms/step - loss: 0.8393\n",
      "Epoch 99/500\n"
     ]
    },
    {
     "name": "stdout",
     "output_type": "stream",
     "text": [
      "215/215 [==============================] - 1s 3ms/step - loss: 0.8376\n",
      "Epoch 100/500\n",
      "215/215 [==============================] - 1s 3ms/step - loss: 0.8373\n",
      "Epoch 101/500\n",
      "215/215 [==============================] - 1s 3ms/step - loss: 0.8378\n",
      "Epoch 102/500\n",
      "215/215 [==============================] - 0s 1ms/step - loss: 0.8374\n",
      "Epoch 103/500\n",
      "215/215 [==============================] - 0s 2ms/step - loss: 0.8387\n",
      "Epoch 104/500\n",
      "215/215 [==============================] - 0s 2ms/step - loss: 0.8376\n",
      "Epoch 105/500\n",
      "215/215 [==============================] - 1s 3ms/step - loss: 0.8386\n",
      "Epoch 106/500\n",
      "215/215 [==============================] - 1s 3ms/step - loss: 0.8379\n",
      "Epoch 107/500\n",
      "215/215 [==============================] - 1s 2ms/step - loss: 0.8363\n",
      "Epoch 108/500\n",
      "215/215 [==============================] - 1s 4ms/step - loss: 0.8362\n",
      "Epoch 109/500\n",
      "215/215 [==============================] - 1s 3ms/step - loss: 0.8376\n",
      "Epoch 110/500\n",
      "215/215 [==============================] - 1s 3ms/step - loss: 0.8373\n",
      "Epoch 111/500\n",
      "215/215 [==============================] - 0s 2ms/step - loss: 0.8373\n",
      "Epoch 112/500\n",
      "215/215 [==============================] - 1s 3ms/step - loss: 0.8368\n",
      "Epoch 113/500\n",
      "215/215 [==============================] - 1s 3ms/step - loss: 0.8370\n",
      "Epoch 114/500\n",
      "215/215 [==============================] - 0s 2ms/step - loss: 0.8378\n",
      "Epoch 115/500\n",
      "215/215 [==============================] - 0s 2ms/step - loss: 0.8371\n",
      "Epoch 116/500\n",
      "215/215 [==============================] - 0s 2ms/step - loss: 0.8377\n",
      "Epoch 117/500\n",
      "215/215 [==============================] - 1s 2ms/step - loss: 0.8375\n",
      "Epoch 118/500\n",
      "215/215 [==============================] - 1s 3ms/step - loss: 0.8367\n",
      "Epoch 119/500\n",
      "215/215 [==============================] - 0s 2ms/step - loss: 0.8369\n",
      "Epoch 120/500\n",
      "215/215 [==============================] - 0s 1ms/step - loss: 0.8376\n",
      "Epoch 121/500\n",
      "215/215 [==============================] - 0s 2ms/step - loss: 0.8372\n",
      "Epoch 122/500\n",
      "215/215 [==============================] - 0s 2ms/step - loss: 0.8385\n",
      "Epoch 123/500\n",
      "215/215 [==============================] - 0s 2ms/step - loss: 0.8359\n",
      "Epoch 124/500\n",
      "215/215 [==============================] - 0s 2ms/step - loss: 0.8385\n",
      "Epoch 125/500\n",
      "215/215 [==============================] - 0s 2ms/step - loss: 0.8368\n",
      "Epoch 126/500\n",
      "215/215 [==============================] - 1s 3ms/step - loss: 0.8361\n",
      "Epoch 127/500\n",
      "215/215 [==============================] - 1s 3ms/step - loss: 0.8390\n",
      "Epoch 128/500\n",
      "215/215 [==============================] - 1s 2ms/step - loss: 0.8363\n",
      "Epoch 129/500\n",
      "215/215 [==============================] - 0s 2ms/step - loss: 0.8377\n",
      "Epoch 130/500\n",
      "215/215 [==============================] - 1s 3ms/step - loss: 0.8361\n",
      "Epoch 131/500\n",
      "215/215 [==============================] - 1s 6ms/step - loss: 0.8384\n",
      "Epoch 132/500\n",
      "215/215 [==============================] - 1s 5ms/step - loss: 0.8363\n",
      "Epoch 133/500\n",
      "215/215 [==============================] - 1s 5ms/step - loss: 0.8376\n",
      "Epoch 134/500\n",
      "215/215 [==============================] - 1s 5ms/step - loss: 0.8366\n",
      "Epoch 135/500\n",
      "215/215 [==============================] - 1s 3ms/step - loss: 0.8365\n",
      "Epoch 136/500\n",
      "215/215 [==============================] - 1s 4ms/step - loss: 0.8365\n",
      "Epoch 137/500\n",
      "215/215 [==============================] - 1s 4ms/step - loss: 0.8376\n",
      "Epoch 138/500\n",
      "215/215 [==============================] - 1s 4ms/step - loss: 0.8369\n",
      "Epoch 139/500\n",
      "215/215 [==============================] - 1s 4ms/step - loss: 0.8358\n",
      "Epoch 140/500\n",
      "215/215 [==============================] - 1s 4ms/step - loss: 0.8364\n",
      "Epoch 141/500\n",
      "215/215 [==============================] - 1s 4ms/step - loss: 0.8384\n",
      "Epoch 142/500\n",
      "215/215 [==============================] - 1s 3ms/step - loss: 0.8362\n",
      "Epoch 143/500\n",
      "215/215 [==============================] - 1s 3ms/step - loss: 0.8367\n",
      "Epoch 144/500\n",
      "215/215 [==============================] - 1s 3ms/step - loss: 0.8362\n",
      "Epoch 145/500\n",
      "215/215 [==============================] - 0s 2ms/step - loss: 0.8357\n",
      "Epoch 146/500\n",
      "215/215 [==============================] - 0s 2ms/step - loss: 0.8386\n",
      "Epoch 147/500\n",
      "215/215 [==============================] - 0s 2ms/step - loss: 0.8362\n",
      "Epoch 148/500\n",
      "215/215 [==============================] - 0s 2ms/step - loss: 0.8368\n",
      "Epoch 149/500\n",
      "215/215 [==============================] - 0s 2ms/step - loss: 0.8377\n",
      "Epoch 150/500\n",
      "215/215 [==============================] - 0s 2ms/step - loss: 0.8373\n",
      "Epoch 151/500\n",
      "215/215 [==============================] - 0s 2ms/step - loss: 0.8365\n",
      "Epoch 152/500\n",
      "215/215 [==============================] - 0s 2ms/step - loss: 0.8360\n",
      "Epoch 153/500\n",
      "215/215 [==============================] - 0s 2ms/step - loss: 0.8355\n",
      "Epoch 154/500\n",
      "215/215 [==============================] - 0s 2ms/step - loss: 0.8363\n",
      "Epoch 155/500\n",
      "215/215 [==============================] - 0s 2ms/step - loss: 0.8366\n",
      "Epoch 156/500\n",
      "215/215 [==============================] - 0s 2ms/step - loss: 0.8368\n",
      "Epoch 157/500\n",
      "215/215 [==============================] - 0s 2ms/step - loss: 0.8369\n",
      "Epoch 158/500\n",
      "215/215 [==============================] - 0s 2ms/step - loss: 0.8369\n",
      "Epoch 159/500\n",
      "215/215 [==============================] - 0s 2ms/step - loss: 0.8369\n",
      "Epoch 160/500\n",
      "215/215 [==============================] - 0s 2ms/step - loss: 0.8380\n",
      "Epoch 161/500\n",
      "215/215 [==============================] - 0s 2ms/step - loss: 0.8357\n",
      "Epoch 162/500\n",
      "215/215 [==============================] - 0s 2ms/step - loss: 0.8359\n",
      "Epoch 163/500\n",
      "215/215 [==============================] - 0s 1ms/step - loss: 0.8370\n",
      "Epoch 164/500\n",
      "215/215 [==============================] - 0s 2ms/step - loss: 0.8372\n",
      "Epoch 165/500\n",
      "215/215 [==============================] - 0s 2ms/step - loss: 0.8367\n",
      "Epoch 166/500\n",
      "215/215 [==============================] - 0s 2ms/step - loss: 0.8358\n",
      "Epoch 167/500\n",
      "215/215 [==============================] - 0s 2ms/step - loss: 0.8365\n",
      "Epoch 168/500\n",
      "215/215 [==============================] - 0s 2ms/step - loss: 0.8363\n",
      "Epoch 169/500\n",
      "215/215 [==============================] - 1s 3ms/step - loss: 0.8353\n",
      "Epoch 170/500\n",
      "215/215 [==============================] - 1s 4ms/step - loss: 0.8350\n",
      "Epoch 171/500\n",
      "215/215 [==============================] - 1s 4ms/step - loss: 0.8365\n",
      "Epoch 172/500\n",
      "215/215 [==============================] - 1s 4ms/step - loss: 0.8354\n",
      "Epoch 173/500\n",
      "215/215 [==============================] - 1s 4ms/step - loss: 0.8361\n",
      "Epoch 174/500\n",
      "215/215 [==============================] - 1s 4ms/step - loss: 0.8359\n",
      "Epoch 175/500\n",
      "215/215 [==============================] - 1s 4ms/step - loss: 0.8361\n",
      "Epoch 176/500\n",
      "215/215 [==============================] - 1s 4ms/step - loss: 0.8356\n",
      "Epoch 177/500\n",
      "215/215 [==============================] - 1s 2ms/step - loss: 0.8357\n",
      "Epoch 178/500\n",
      "215/215 [==============================] - 1s 3ms/step - loss: 0.8363\n",
      "Epoch 179/500\n",
      "215/215 [==============================] - 1s 4ms/step - loss: 0.8361\n",
      "Epoch 180/500\n",
      "215/215 [==============================] - 1s 4ms/step - loss: 0.8364\n",
      "Epoch 181/500\n",
      "215/215 [==============================] - 1s 4ms/step - loss: 0.8357\n",
      "Epoch 182/500\n",
      "215/215 [==============================] - 1s 4ms/step - loss: 0.8347\n",
      "Epoch 183/500\n",
      "215/215 [==============================] - 1s 4ms/step - loss: 0.8362\n",
      "Epoch 184/500\n",
      "215/215 [==============================] - 1s 4ms/step - loss: 0.8358\n",
      "Epoch 185/500\n",
      "215/215 [==============================] - 1s 4ms/step - loss: 0.8353\n",
      "Epoch 186/500\n",
      "215/215 [==============================] - 1s 4ms/step - loss: 0.8363\n",
      "Epoch 187/500\n",
      "215/215 [==============================] - 1s 4ms/step - loss: 0.8369\n",
      "Epoch 188/500\n",
      "215/215 [==============================] - 1s 4ms/step - loss: 0.8362\n",
      "Epoch 189/500\n",
      "215/215 [==============================] - 1s 4ms/step - loss: 0.8368\n",
      "Epoch 190/500\n",
      "215/215 [==============================] - 1s 4ms/step - loss: 0.8354\n",
      "Epoch 191/500\n",
      "215/215 [==============================] - 1s 4ms/step - loss: 0.8364\n",
      "Epoch 192/500\n",
      "215/215 [==============================] - 1s 4ms/step - loss: 0.8369\n",
      "Epoch 193/500\n",
      "215/215 [==============================] - 1s 4ms/step - loss: 0.8364\n",
      "Epoch 194/500\n",
      "215/215 [==============================] - 1s 4ms/step - loss: 0.8364\n",
      "Epoch 195/500\n",
      "215/215 [==============================] - 1s 4ms/step - loss: 0.8358\n",
      "Epoch 196/500\n"
     ]
    },
    {
     "name": "stdout",
     "output_type": "stream",
     "text": [
      "215/215 [==============================] - 1s 4ms/step - loss: 0.8356\n",
      "Epoch 197/500\n",
      "215/215 [==============================] - 1s 4ms/step - loss: 0.8347\n",
      "Epoch 198/500\n",
      "215/215 [==============================] - 1s 4ms/step - loss: 0.8364\n",
      "Epoch 199/500\n",
      "215/215 [==============================] - 1s 4ms/step - loss: 0.8357\n",
      "Epoch 200/500\n",
      "215/215 [==============================] - 1s 5ms/step - loss: 0.8360\n",
      "Epoch 201/500\n",
      "215/215 [==============================] - 1s 3ms/step - loss: 0.8353\n",
      "Epoch 202/500\n",
      "215/215 [==============================] - 0s 2ms/step - loss: 0.8353\n",
      "Epoch 203/500\n",
      "215/215 [==============================] - 0s 2ms/step - loss: 0.8357\n",
      "Epoch 204/500\n",
      "215/215 [==============================] - 0s 2ms/step - loss: 0.8351\n",
      "Epoch 205/500\n",
      "215/215 [==============================] - 0s 2ms/step - loss: 0.8353\n",
      "Epoch 206/500\n",
      "215/215 [==============================] - 0s 2ms/step - loss: 0.8351\n",
      "Epoch 207/500\n",
      "215/215 [==============================] - 0s 2ms/step - loss: 0.8367\n",
      "Epoch 208/500\n",
      "215/215 [==============================] - 1s 3ms/step - loss: 0.8356\n",
      "Epoch 209/500\n",
      "215/215 [==============================] - 1s 4ms/step - loss: 0.8360\n",
      "Epoch 210/500\n",
      "215/215 [==============================] - 1s 3ms/step - loss: 0.8362\n",
      "Epoch 211/500\n",
      "215/215 [==============================] - 1s 3ms/step - loss: 0.8348\n",
      "Epoch 212/500\n",
      "215/215 [==============================] - 1s 3ms/step - loss: 0.8353\n",
      "Epoch 213/500\n",
      "215/215 [==============================] - 1s 3ms/step - loss: 0.8344\n",
      "Epoch 214/500\n",
      "215/215 [==============================] - 1s 3ms/step - loss: 0.8355\n",
      "Epoch 215/500\n",
      "215/215 [==============================] - 0s 2ms/step - loss: 0.8350\n",
      "Epoch 216/500\n",
      "215/215 [==============================] - 0s 2ms/step - loss: 0.8347\n",
      "Epoch 217/500\n",
      "215/215 [==============================] - 0s 1ms/step - loss: 0.8355\n",
      "Epoch 218/500\n",
      "215/215 [==============================] - 1s 3ms/step - loss: 0.8351\n",
      "Epoch 219/500\n",
      "215/215 [==============================] - 1s 5ms/step - loss: 0.8356\n",
      "Epoch 220/500\n",
      "215/215 [==============================] - 1s 5ms/step - loss: 0.8363\n",
      "Epoch 221/500\n",
      "215/215 [==============================] - 1s 4ms/step - loss: 0.8350\n",
      "Epoch 222/500\n",
      "215/215 [==============================] - 0s 2ms/step - loss: 0.8345\n",
      "Epoch 223/500\n",
      "215/215 [==============================] - 0s 2ms/step - loss: 0.8363\n",
      "Epoch 224/500\n",
      "215/215 [==============================] - 0s 2ms/step - loss: 0.8357\n",
      "Epoch 225/500\n",
      "215/215 [==============================] - 0s 2ms/step - loss: 0.8364\n",
      "Epoch 226/500\n",
      "215/215 [==============================] - 0s 2ms/step - loss: 0.8348\n",
      "Epoch 227/500\n",
      "215/215 [==============================] - 0s 2ms/step - loss: 0.8337\n",
      "Epoch 228/500\n",
      "215/215 [==============================] - 0s 2ms/step - loss: 0.8349\n",
      "Epoch 229/500\n",
      "215/215 [==============================] - 0s 2ms/step - loss: 0.8362\n",
      "Epoch 230/500\n",
      "215/215 [==============================] - 0s 2ms/step - loss: 0.8351\n",
      "Epoch 231/500\n",
      "215/215 [==============================] - 0s 2ms/step - loss: 0.8352\n",
      "Epoch 232/500\n",
      "215/215 [==============================] - 0s 2ms/step - loss: 0.8357\n",
      "Epoch 233/500\n",
      "215/215 [==============================] - 0s 2ms/step - loss: 0.8348\n",
      "Epoch 234/500\n",
      "215/215 [==============================] - 0s 2ms/step - loss: 0.8355\n",
      "Epoch 235/500\n",
      "215/215 [==============================] - 0s 2ms/step - loss: 0.8360\n",
      "Epoch 236/500\n",
      "215/215 [==============================] - 0s 2ms/step - loss: 0.8360\n",
      "Epoch 237/500\n",
      "215/215 [==============================] - 0s 2ms/step - loss: 0.8349\n",
      "Epoch 238/500\n",
      "215/215 [==============================] - 1s 3ms/step - loss: 0.8342\n",
      "Epoch 239/500\n",
      "215/215 [==============================] - 1s 3ms/step - loss: 0.8353\n",
      "Epoch 240/500\n",
      "215/215 [==============================] - 1s 3ms/step - loss: 0.8357\n",
      "Epoch 241/500\n",
      "215/215 [==============================] - 1s 3ms/step - loss: 0.8350\n",
      "Epoch 242/500\n",
      "215/215 [==============================] - 1s 3ms/step - loss: 0.8355\n",
      "Epoch 243/500\n",
      "215/215 [==============================] - 1s 3ms/step - loss: 0.8361\n",
      "Epoch 244/500\n",
      "215/215 [==============================] - 1s 3ms/step - loss: 0.8354\n",
      "Epoch 245/500\n",
      "215/215 [==============================] - 1s 3ms/step - loss: 0.8342\n",
      "Epoch 246/500\n",
      "215/215 [==============================] - 1s 3ms/step - loss: 0.8354\n",
      "Epoch 247/500\n",
      "215/215 [==============================] - 1s 3ms/step - loss: 0.8348\n",
      "Epoch 248/500\n",
      "215/215 [==============================] - 1s 3ms/step - loss: 0.8349\n",
      "Epoch 249/500\n",
      "215/215 [==============================] - 0s 2ms/step - loss: 0.8364\n",
      "Epoch 250/500\n",
      "215/215 [==============================] - 1s 3ms/step - loss: 0.8355\n",
      "Epoch 251/500\n",
      "215/215 [==============================] - 1s 3ms/step - loss: 0.8354\n",
      "Epoch 252/500\n",
      "215/215 [==============================] - 1s 3ms/step - loss: 0.8353\n",
      "Epoch 253/500\n",
      "215/215 [==============================] - 1s 3ms/step - loss: 0.8348\n",
      "Epoch 254/500\n",
      "215/215 [==============================] - 1s 3ms/step - loss: 0.8348\n",
      "Epoch 255/500\n",
      "215/215 [==============================] - 1s 2ms/step - loss: 0.8352\n",
      "Epoch 256/500\n",
      "215/215 [==============================] - 0s 2ms/step - loss: 0.8352\n",
      "Epoch 257/500\n",
      "215/215 [==============================] - 0s 2ms/step - loss: 0.8339\n",
      "Epoch 258/500\n",
      "215/215 [==============================] - 1s 3ms/step - loss: 0.8341\n",
      "Epoch 259/500\n",
      "215/215 [==============================] - 1s 3ms/step - loss: 0.8338\n",
      "Epoch 260/500\n",
      "215/215 [==============================] - 1s 3ms/step - loss: 0.8345\n",
      "Epoch 261/500\n",
      "215/215 [==============================] - 0s 2ms/step - loss: 0.8345\n",
      "Epoch 262/500\n",
      "215/215 [==============================] - 0s 2ms/step - loss: 0.8347\n",
      "Epoch 263/500\n",
      "215/215 [==============================] - 1s 3ms/step - loss: 0.8339\n",
      "Epoch 264/500\n",
      "215/215 [==============================] - 1s 2ms/step - loss: 0.8348\n",
      "Epoch 265/500\n",
      "215/215 [==============================] - 0s 2ms/step - loss: 0.8352\n",
      "Epoch 266/500\n",
      "215/215 [==============================] - 0s 1ms/step - loss: 0.8363\n",
      "Epoch 267/500\n",
      "215/215 [==============================] - 0s 2ms/step - loss: 0.8354\n",
      "Epoch 268/500\n",
      "215/215 [==============================] - 0s 2ms/step - loss: 0.8345\n",
      "Epoch 269/500\n",
      "215/215 [==============================] - 0s 1ms/step - loss: 0.8349\n",
      "Epoch 270/500\n",
      "215/215 [==============================] - 0s 2ms/step - loss: 0.8348\n",
      "Epoch 271/500\n",
      "215/215 [==============================] - 0s 1ms/step - loss: 0.8348\n",
      "Epoch 272/500\n",
      "215/215 [==============================] - 0s 1ms/step - loss: 0.8347\n",
      "Epoch 273/500\n",
      "215/215 [==============================] - 0s 1ms/step - loss: 0.8350\n",
      "Epoch 274/500\n",
      "215/215 [==============================] - 0s 1ms/step - loss: 0.8349\n",
      "Epoch 275/500\n",
      "215/215 [==============================] - 0s 1ms/step - loss: 0.8350\n",
      "Epoch 276/500\n",
      "215/215 [==============================] - 0s 1ms/step - loss: 0.8342\n",
      "Epoch 277/500\n",
      "215/215 [==============================] - 0s 2ms/step - loss: 0.8354\n",
      "Epoch 278/500\n",
      "215/215 [==============================] - 0s 1ms/step - loss: 0.8350\n",
      "Epoch 279/500\n",
      "215/215 [==============================] - 0s 1ms/step - loss: 0.8341\n",
      "Epoch 280/500\n",
      "215/215 [==============================] - 0s 1ms/step - loss: 0.8349\n",
      "Epoch 281/500\n",
      "215/215 [==============================] - 0s 1ms/step - loss: 0.8348\n",
      "Epoch 282/500\n",
      "215/215 [==============================] - 0s 2ms/step - loss: 0.8343\n",
      "Epoch 283/500\n",
      "215/215 [==============================] - 0s 1ms/step - loss: 0.8346\n",
      "Epoch 284/500\n",
      "215/215 [==============================] - 0s 1ms/step - loss: 0.8348\n",
      "Epoch 285/500\n",
      "215/215 [==============================] - 0s 2ms/step - loss: 0.8343\n",
      "Epoch 286/500\n",
      "215/215 [==============================] - 0s 1ms/step - loss: 0.8342\n",
      "Epoch 287/500\n",
      "215/215 [==============================] - 0s 1ms/step - loss: 0.8354\n",
      "Epoch 288/500\n",
      "215/215 [==============================] - 0s 2ms/step - loss: 0.8354\n",
      "Epoch 289/500\n",
      "215/215 [==============================] - 0s 1ms/step - loss: 0.8352\n",
      "Epoch 290/500\n",
      "215/215 [==============================] - 0s 1ms/step - loss: 0.8334\n",
      "Epoch 291/500\n",
      "215/215 [==============================] - 0s 1ms/step - loss: 0.8346\n",
      "Epoch 292/500\n",
      "215/215 [==============================] - 0s 1ms/step - loss: 0.8340\n",
      "Epoch 293/500\n"
     ]
    },
    {
     "name": "stdout",
     "output_type": "stream",
     "text": [
      "215/215 [==============================] - 0s 1ms/step - loss: 0.8351\n",
      "Epoch 294/500\n",
      "215/215 [==============================] - 0s 1ms/step - loss: 0.8346\n",
      "Epoch 295/500\n",
      "215/215 [==============================] - 0s 1ms/step - loss: 0.8338\n",
      "Epoch 296/500\n",
      "215/215 [==============================] - 0s 1ms/step - loss: 0.8351\n",
      "Epoch 297/500\n",
      "215/215 [==============================] - 0s 1ms/step - loss: 0.8348\n",
      "Epoch 298/500\n",
      "215/215 [==============================] - 0s 1ms/step - loss: 0.8348\n",
      "Epoch 299/500\n",
      "215/215 [==============================] - 0s 1ms/step - loss: 0.8336\n",
      "Epoch 300/500\n",
      "215/215 [==============================] - 0s 1ms/step - loss: 0.8343\n",
      "Epoch 301/500\n",
      "215/215 [==============================] - 0s 1ms/step - loss: 0.8335\n",
      "Epoch 302/500\n",
      "215/215 [==============================] - 0s 2ms/step - loss: 0.8353\n",
      "Epoch 303/500\n",
      "215/215 [==============================] - 0s 1ms/step - loss: 0.8340\n",
      "Epoch 304/500\n",
      "215/215 [==============================] - 0s 1ms/step - loss: 0.8343\n",
      "Epoch 305/500\n",
      "215/215 [==============================] - 0s 1ms/step - loss: 0.8347\n",
      "Epoch 306/500\n",
      "215/215 [==============================] - 0s 1ms/step - loss: 0.8352\n",
      "Epoch 307/500\n",
      "215/215 [==============================] - 0s 2ms/step - loss: 0.8331\n",
      "Epoch 308/500\n",
      "215/215 [==============================] - 1s 4ms/step - loss: 0.8333\n",
      "Epoch 309/500\n",
      "215/215 [==============================] - 1s 4ms/step - loss: 0.8336\n",
      "Epoch 310/500\n",
      "215/215 [==============================] - 1s 3ms/step - loss: 0.8338\n",
      "Epoch 311/500\n",
      "215/215 [==============================] - 1s 3ms/step - loss: 0.8347\n",
      "Epoch 312/500\n",
      "215/215 [==============================] - 1s 3ms/step - loss: 0.8347\n",
      "Epoch 313/500\n",
      "215/215 [==============================] - 1s 2ms/step - loss: 0.8325\n",
      "Epoch 314/500\n",
      "215/215 [==============================] - 0s 1ms/step - loss: 0.8329\n",
      "Epoch 315/500\n",
      "215/215 [==============================] - 0s 1ms/step - loss: 0.8336\n",
      "Epoch 316/500\n",
      "215/215 [==============================] - 0s 1ms/step - loss: 0.8348\n",
      "Epoch 317/500\n",
      "215/215 [==============================] - 0s 2ms/step - loss: 0.8343\n",
      "Epoch 318/500\n",
      "215/215 [==============================] - 0s 2ms/step - loss: 0.8340\n",
      "Epoch 319/500\n",
      "215/215 [==============================] - 0s 2ms/step - loss: 0.8328\n",
      "Epoch 320/500\n",
      "215/215 [==============================] - 0s 2ms/step - loss: 0.8350\n",
      "Epoch 321/500\n",
      "215/215 [==============================] - 0s 2ms/step - loss: 0.8344\n",
      "Epoch 322/500\n",
      "215/215 [==============================] - 0s 1ms/step - loss: 0.8347\n",
      "Epoch 323/500\n",
      "215/215 [==============================] - 0s 1ms/step - loss: 0.8345\n",
      "Epoch 324/500\n",
      "215/215 [==============================] - 0s 1ms/step - loss: 0.8349\n",
      "Epoch 325/500\n",
      "215/215 [==============================] - 0s 1ms/step - loss: 0.8339\n",
      "Epoch 326/500\n",
      "215/215 [==============================] - 1s 3ms/step - loss: 0.8348\n",
      "Epoch 327/500\n",
      "215/215 [==============================] - 1s 4ms/step - loss: 0.8346\n",
      "Epoch 328/500\n",
      "215/215 [==============================] - 0s 2ms/step - loss: 0.8345\n",
      "Epoch 329/500\n",
      "215/215 [==============================] - 0s 2ms/step - loss: 0.8324\n",
      "Epoch 330/500\n",
      "215/215 [==============================] - 1s 4ms/step - loss: 0.8343\n",
      "Epoch 331/500\n",
      "215/215 [==============================] - 1s 4ms/step - loss: 0.8334\n",
      "Epoch 332/500\n",
      "215/215 [==============================] - 1s 3ms/step - loss: 0.8329\n",
      "Epoch 333/500\n",
      "215/215 [==============================] - 1s 3ms/step - loss: 0.8345\n",
      "Epoch 334/500\n",
      "215/215 [==============================] - 1s 4ms/step - loss: 0.8351\n",
      "Epoch 335/500\n",
      "215/215 [==============================] - 1s 3ms/step - loss: 0.8346\n",
      "Epoch 336/500\n",
      "215/215 [==============================] - 0s 2ms/step - loss: 0.8342\n",
      "Epoch 337/500\n",
      "215/215 [==============================] - 0s 2ms/step - loss: 0.8346\n",
      "Epoch 338/500\n",
      "215/215 [==============================] - 0s 2ms/step - loss: 0.8344\n",
      "Epoch 339/500\n",
      "215/215 [==============================] - 1s 2ms/step - loss: 0.8334\n",
      "Epoch 340/500\n",
      "215/215 [==============================] - 0s 2ms/step - loss: 0.8348\n",
      "Epoch 341/500\n",
      "215/215 [==============================] - 0s 2ms/step - loss: 0.8341\n",
      "Epoch 342/500\n",
      "215/215 [==============================] - 0s 2ms/step - loss: 0.8337\n",
      "Epoch 343/500\n",
      "215/215 [==============================] - 0s 2ms/step - loss: 0.8352\n",
      "Epoch 344/500\n",
      "215/215 [==============================] - 0s 2ms/step - loss: 0.8342\n",
      "Epoch 345/500\n",
      "215/215 [==============================] - 0s 2ms/step - loss: 0.8320\n",
      "Epoch 346/500\n",
      "215/215 [==============================] - 0s 2ms/step - loss: 0.8327\n",
      "Epoch 347/500\n",
      "215/215 [==============================] - 0s 2ms/step - loss: 0.8334\n",
      "Epoch 348/500\n",
      "215/215 [==============================] - 0s 2ms/step - loss: 0.8353\n",
      "Epoch 349/500\n",
      "215/215 [==============================] - 0s 2ms/step - loss: 0.8343\n",
      "Epoch 350/500\n",
      "215/215 [==============================] - 0s 1ms/step - loss: 0.8347\n",
      "Epoch 351/500\n",
      "215/215 [==============================] - 0s 2ms/step - loss: 0.8347\n",
      "Epoch 352/500\n",
      "215/215 [==============================] - 0s 2ms/step - loss: 0.8341\n",
      "Epoch 353/500\n",
      "215/215 [==============================] - 1s 2ms/step - loss: 0.8341\n",
      "Epoch 354/500\n",
      "215/215 [==============================] - 0s 2ms/step - loss: 0.8344\n",
      "Epoch 355/500\n",
      "215/215 [==============================] - 1s 2ms/step - loss: 0.8335\n",
      "Epoch 356/500\n",
      "215/215 [==============================] - 1s 2ms/step - loss: 0.8343\n",
      "Epoch 357/500\n",
      "215/215 [==============================] - 1s 3ms/step - loss: 0.8340\n",
      "Epoch 358/500\n",
      "215/215 [==============================] - 1s 3ms/step - loss: 0.8349\n",
      "Epoch 359/500\n",
      "215/215 [==============================] - 1s 2ms/step - loss: 0.8339\n",
      "Epoch 360/500\n",
      "215/215 [==============================] - 1s 3ms/step - loss: 0.8338\n",
      "Epoch 361/500\n",
      "215/215 [==============================] - 1s 3ms/step - loss: 0.8325\n",
      "Epoch 362/500\n",
      "215/215 [==============================] - 1s 2ms/step - loss: 0.8338\n",
      "Epoch 363/500\n",
      "215/215 [==============================] - 1s 2ms/step - loss: 0.8340\n",
      "Epoch 364/500\n",
      "215/215 [==============================] - 1s 3ms/step - loss: 0.8337\n",
      "Epoch 365/500\n",
      "215/215 [==============================] - 1s 3ms/step - loss: 0.8341\n",
      "Epoch 366/500\n",
      "215/215 [==============================] - 1s 2ms/step - loss: 0.8339\n",
      "Epoch 367/500\n",
      "215/215 [==============================] - 1s 3ms/step - loss: 0.8339\n",
      "Epoch 368/500\n",
      "215/215 [==============================] - 1s 2ms/step - loss: 0.8341\n",
      "Epoch 369/500\n",
      "215/215 [==============================] - 0s 2ms/step - loss: 0.8351\n",
      "Epoch 370/500\n",
      "215/215 [==============================] - 0s 1ms/step - loss: 0.8343\n",
      "Epoch 371/500\n",
      "215/215 [==============================] - 1s 3ms/step - loss: 0.8330\n",
      "Epoch 372/500\n",
      "215/215 [==============================] - 1s 2ms/step - loss: 0.8339\n",
      "Epoch 373/500\n",
      "215/215 [==============================] - 1s 3ms/step - loss: 0.8333\n",
      "Epoch 374/500\n",
      "215/215 [==============================] - 1s 3ms/step - loss: 0.8340\n",
      "Epoch 375/500\n",
      "215/215 [==============================] - 1s 3ms/step - loss: 0.8336\n",
      "Epoch 376/500\n",
      "215/215 [==============================] - 0s 2ms/step - loss: 0.8345\n",
      "Epoch 377/500\n",
      "215/215 [==============================] - 1s 3ms/step - loss: 0.8327\n",
      "Epoch 378/500\n",
      "215/215 [==============================] - 1s 2ms/step - loss: 0.8337\n",
      "Epoch 379/500\n",
      "215/215 [==============================] - 0s 2ms/step - loss: 0.8338\n",
      "Epoch 380/500\n",
      "215/215 [==============================] - 0s 2ms/step - loss: 0.8335\n",
      "Epoch 381/500\n",
      "215/215 [==============================] - 0s 2ms/step - loss: 0.8334\n",
      "Epoch 382/500\n",
      "215/215 [==============================] - 0s 1ms/step - loss: 0.8343\n",
      "Epoch 383/500\n",
      "215/215 [==============================] - 0s 2ms/step - loss: 0.8343\n",
      "Epoch 384/500\n",
      "215/215 [==============================] - 1s 3ms/step - loss: 0.8333\n",
      "Epoch 385/500\n",
      "215/215 [==============================] - 1s 3ms/step - loss: 0.8343\n",
      "Epoch 386/500\n",
      "215/215 [==============================] - 1s 3ms/step - loss: 0.8331\n",
      "Epoch 387/500\n",
      "215/215 [==============================] - 1s 3ms/step - loss: 0.8334\n",
      "Epoch 388/500\n",
      "215/215 [==============================] - 1s 3ms/step - loss: 0.8342\n",
      "Epoch 389/500\n",
      "215/215 [==============================] - 1s 3ms/step - loss: 0.8338\n",
      "Epoch 390/500\n"
     ]
    },
    {
     "name": "stdout",
     "output_type": "stream",
     "text": [
      "215/215 [==============================] - 1s 3ms/step - loss: 0.8341\n",
      "Epoch 391/500\n",
      "215/215 [==============================] - 1s 3ms/step - loss: 0.8335\n",
      "Epoch 392/500\n",
      "215/215 [==============================] - 1s 3ms/step - loss: 0.8337\n",
      "Epoch 393/500\n",
      "215/215 [==============================] - 1s 3ms/step - loss: 0.8341\n",
      "Epoch 394/500\n",
      "215/215 [==============================] - 1s 3ms/step - loss: 0.8337\n",
      "Epoch 395/500\n",
      "215/215 [==============================] - 1s 3ms/step - loss: 0.8331\n",
      "Epoch 396/500\n",
      "215/215 [==============================] - 1s 3ms/step - loss: 0.8336\n",
      "Epoch 397/500\n",
      "215/215 [==============================] - 1s 3ms/step - loss: 0.8338\n",
      "Epoch 398/500\n",
      "215/215 [==============================] - 1s 3ms/step - loss: 0.8341\n",
      "Epoch 399/500\n",
      "215/215 [==============================] - 1s 3ms/step - loss: 0.8332\n",
      "Epoch 400/500\n",
      "215/215 [==============================] - 0s 2ms/step - loss: 0.8334\n",
      "Epoch 401/500\n",
      "215/215 [==============================] - 0s 1ms/step - loss: 0.8330\n",
      "Epoch 402/500\n",
      "215/215 [==============================] - 0s 1ms/step - loss: 0.8336\n",
      "Epoch 403/500\n",
      "215/215 [==============================] - 0s 1ms/step - loss: 0.8334\n",
      "Epoch 404/500\n",
      "215/215 [==============================] - 0s 1ms/step - loss: 0.8331\n",
      "Epoch 405/500\n",
      "215/215 [==============================] - 0s 1ms/step - loss: 0.8325\n",
      "Epoch 406/500\n",
      "215/215 [==============================] - 0s 1ms/step - loss: 0.8345\n",
      "Epoch 407/500\n",
      "215/215 [==============================] - 0s 2ms/step - loss: 0.8337\n",
      "Epoch 408/500\n",
      "215/215 [==============================] - 0s 2ms/step - loss: 0.8336\n",
      "Epoch 409/500\n",
      "215/215 [==============================] - 0s 2ms/step - loss: 0.8340\n",
      "Epoch 410/500\n",
      "215/215 [==============================] - 0s 2ms/step - loss: 0.8337\n",
      "Epoch 411/500\n",
      "215/215 [==============================] - 0s 2ms/step - loss: 0.8334\n",
      "Epoch 412/500\n",
      "215/215 [==============================] - 0s 2ms/step - loss: 0.8336\n",
      "Epoch 413/500\n",
      "215/215 [==============================] - 0s 2ms/step - loss: 0.8340\n",
      "Epoch 414/500\n",
      "215/215 [==============================] - 0s 2ms/step - loss: 0.8337\n",
      "Epoch 415/500\n",
      "215/215 [==============================] - 0s 2ms/step - loss: 0.8340\n",
      "Epoch 416/500\n",
      "215/215 [==============================] - 0s 1ms/step - loss: 0.8345\n",
      "Epoch 417/500\n",
      "215/215 [==============================] - 0s 2ms/step - loss: 0.8339\n",
      "Epoch 418/500\n",
      "215/215 [==============================] - 0s 2ms/step - loss: 0.8330\n",
      "Epoch 419/500\n",
      "215/215 [==============================] - 0s 2ms/step - loss: 0.8331\n",
      "Epoch 420/500\n",
      "215/215 [==============================] - 0s 2ms/step - loss: 0.8335\n",
      "Epoch 421/500\n",
      "215/215 [==============================] - 0s 2ms/step - loss: 0.8333\n",
      "Epoch 422/500\n",
      "215/215 [==============================] - 1s 3ms/step - loss: 0.8328\n",
      "Epoch 423/500\n",
      "215/215 [==============================] - 1s 2ms/step - loss: 0.8337\n",
      "Epoch 424/500\n",
      "215/215 [==============================] - 0s 2ms/step - loss: 0.8335\n",
      "Epoch 425/500\n",
      "215/215 [==============================] - 0s 2ms/step - loss: 0.8331\n",
      "Epoch 426/500\n",
      "215/215 [==============================] - 0s 2ms/step - loss: 0.8330\n",
      "Epoch 427/500\n",
      "215/215 [==============================] - 0s 2ms/step - loss: 0.8336\n",
      "Epoch 428/500\n",
      "215/215 [==============================] - 0s 2ms/step - loss: 0.8336\n",
      "Epoch 429/500\n",
      "215/215 [==============================] - 0s 2ms/step - loss: 0.8340\n",
      "Epoch 430/500\n",
      "215/215 [==============================] - 0s 2ms/step - loss: 0.8336\n",
      "Epoch 431/500\n",
      "215/215 [==============================] - 1s 3ms/step - loss: 0.8332\n",
      "Epoch 432/500\n",
      "215/215 [==============================] - 0s 2ms/step - loss: 0.8329\n",
      "Epoch 433/500\n",
      "215/215 [==============================] - 0s 2ms/step - loss: 0.8336\n",
      "Epoch 434/500\n",
      "215/215 [==============================] - 0s 1ms/step - loss: 0.8337\n",
      "Epoch 435/500\n",
      "215/215 [==============================] - 0s 2ms/step - loss: 0.8332\n",
      "Epoch 436/500\n",
      "215/215 [==============================] - 0s 2ms/step - loss: 0.8327\n",
      "Epoch 437/500\n",
      "215/215 [==============================] - 1s 2ms/step - loss: 0.8326\n",
      "Epoch 438/500\n",
      "215/215 [==============================] - 0s 2ms/step - loss: 0.8330\n",
      "Epoch 439/500\n",
      "215/215 [==============================] - 0s 2ms/step - loss: 0.8336\n",
      "Epoch 440/500\n",
      "215/215 [==============================] - 0s 2ms/step - loss: 0.8340\n",
      "Epoch 441/500\n",
      "215/215 [==============================] - 0s 2ms/step - loss: 0.8330\n",
      "Epoch 442/500\n",
      "215/215 [==============================] - 0s 2ms/step - loss: 0.8328\n",
      "Epoch 443/500\n",
      "215/215 [==============================] - 0s 2ms/step - loss: 0.8341\n",
      "Epoch 444/500\n",
      "215/215 [==============================] - 0s 2ms/step - loss: 0.8336\n",
      "Epoch 445/500\n",
      "215/215 [==============================] - 1s 3ms/step - loss: 0.8339\n",
      "Epoch 446/500\n",
      "215/215 [==============================] - 1s 2ms/step - loss: 0.8323\n",
      "Epoch 447/500\n",
      "215/215 [==============================] - 0s 2ms/step - loss: 0.8336\n",
      "Epoch 448/500\n",
      "215/215 [==============================] - 0s 2ms/step - loss: 0.8331\n",
      "Epoch 449/500\n",
      "215/215 [==============================] - 0s 2ms/step - loss: 0.8331\n",
      "Epoch 450/500\n",
      "215/215 [==============================] - 1s 2ms/step - loss: 0.8331\n",
      "Epoch 451/500\n",
      "215/215 [==============================] - 0s 2ms/step - loss: 0.8325\n",
      "Epoch 452/500\n",
      "215/215 [==============================] - 0s 2ms/step - loss: 0.8340\n",
      "Epoch 453/500\n",
      "215/215 [==============================] - 0s 2ms/step - loss: 0.8328\n",
      "Epoch 454/500\n",
      "215/215 [==============================] - 0s 2ms/step - loss: 0.8336\n",
      "Epoch 455/500\n",
      "215/215 [==============================] - 1s 2ms/step - loss: 0.8316\n",
      "Epoch 456/500\n",
      "215/215 [==============================] - 0s 2ms/step - loss: 0.8328\n",
      "Epoch 457/500\n",
      "215/215 [==============================] - 0s 1ms/step - loss: 0.8331\n",
      "Epoch 458/500\n",
      "215/215 [==============================] - 0s 2ms/step - loss: 0.8337\n",
      "Epoch 459/500\n",
      "215/215 [==============================] - 0s 2ms/step - loss: 0.8343\n",
      "Epoch 460/500\n",
      "215/215 [==============================] - 0s 2ms/step - loss: 0.8321\n",
      "Epoch 461/500\n",
      "215/215 [==============================] - 0s 2ms/step - loss: 0.8330\n",
      "Epoch 462/500\n",
      "215/215 [==============================] - 0s 2ms/step - loss: 0.8321\n",
      "Epoch 463/500\n",
      "215/215 [==============================] - 0s 2ms/step - loss: 0.8333\n",
      "Epoch 464/500\n",
      "215/215 [==============================] - 0s 2ms/step - loss: 0.8339\n",
      "Epoch 465/500\n",
      "215/215 [==============================] - 0s 2ms/step - loss: 0.8326\n",
      "Epoch 466/500\n",
      "215/215 [==============================] - 0s 2ms/step - loss: 0.8338\n",
      "Epoch 467/500\n",
      "215/215 [==============================] - 0s 2ms/step - loss: 0.8329\n",
      "Epoch 468/500\n",
      "215/215 [==============================] - 0s 2ms/step - loss: 0.8322\n",
      "Epoch 469/500\n",
      "215/215 [==============================] - 1s 2ms/step - loss: 0.8331\n",
      "Epoch 470/500\n",
      "215/215 [==============================] - 1s 2ms/step - loss: 0.8335\n",
      "Epoch 471/500\n",
      "215/215 [==============================] - 0s 2ms/step - loss: 0.8322\n",
      "Epoch 472/500\n",
      "215/215 [==============================] - 0s 2ms/step - loss: 0.8335\n",
      "Epoch 473/500\n",
      "215/215 [==============================] - 0s 1ms/step - loss: 0.8325\n",
      "Epoch 474/500\n",
      "215/215 [==============================] - 0s 1ms/step - loss: 0.8334\n",
      "Epoch 475/500\n",
      "215/215 [==============================] - 0s 1ms/step - loss: 0.8333\n",
      "Epoch 476/500\n",
      "215/215 [==============================] - 0s 1ms/step - loss: 0.8322\n",
      "Epoch 477/500\n",
      "215/215 [==============================] - 0s 1ms/step - loss: 0.8339\n",
      "Epoch 478/500\n",
      "215/215 [==============================] - 0s 1ms/step - loss: 0.8345\n",
      "Epoch 479/500\n",
      "215/215 [==============================] - 0s 1ms/step - loss: 0.8334\n",
      "Epoch 480/500\n",
      "215/215 [==============================] - 0s 2ms/step - loss: 0.8337\n",
      "Epoch 481/500\n",
      "215/215 [==============================] - 0s 2ms/step - loss: 0.8327\n",
      "Epoch 482/500\n",
      "215/215 [==============================] - 0s 2ms/step - loss: 0.8338\n",
      "Epoch 483/500\n",
      "215/215 [==============================] - 0s 2ms/step - loss: 0.8336\n",
      "Epoch 484/500\n",
      "215/215 [==============================] - 0s 2ms/step - loss: 0.8339\n",
      "Epoch 485/500\n",
      "215/215 [==============================] - 0s 1ms/step - loss: 0.8334\n",
      "Epoch 486/500\n",
      "215/215 [==============================] - 0s 1ms/step - loss: 0.8326\n",
      "Epoch 487/500\n"
     ]
    },
    {
     "name": "stdout",
     "output_type": "stream",
     "text": [
      "215/215 [==============================] - 0s 1ms/step - loss: 0.8324\n",
      "Epoch 488/500\n",
      "215/215 [==============================] - 1s 3ms/step - loss: 0.8345\n",
      "Epoch 489/500\n",
      "215/215 [==============================] - 1s 3ms/step - loss: 0.8334\n",
      "Epoch 490/500\n",
      "215/215 [==============================] - 1s 3ms/step - loss: 0.8336\n",
      "Epoch 491/500\n",
      "215/215 [==============================] - 1s 5ms/step - loss: 0.8334\n",
      "Epoch 492/500\n",
      "215/215 [==============================] - 1s 5ms/step - loss: 0.8329\n",
      "Epoch 493/500\n",
      "215/215 [==============================] - 1s 3ms/step - loss: 0.8324\n",
      "Epoch 494/500\n",
      "215/215 [==============================] - 0s 1ms/step - loss: 0.8338\n",
      "Epoch 495/500\n",
      "215/215 [==============================] - 0s 2ms/step - loss: 0.8335\n",
      "Epoch 496/500\n",
      "215/215 [==============================] - 0s 2ms/step - loss: 0.8334\n",
      "Epoch 497/500\n",
      "215/215 [==============================] - 0s 2ms/step - loss: 0.8336\n",
      "Epoch 498/500\n",
      "215/215 [==============================] - 1s 2ms/step - loss: 0.8332\n",
      "Epoch 499/500\n",
      "215/215 [==============================] - 1s 2ms/step - loss: 0.8330\n",
      "Epoch 500/500\n",
      "215/215 [==============================] - 1s 3ms/step - loss: 0.8329\n"
     ]
    },
    {
     "data": {
      "text/plain": [
       "<keras.callbacks.History at 0x21d1f86a0a0>"
      ]
     },
     "execution_count": 110,
     "metadata": {},
     "output_type": "execute_result"
    }
   ],
   "source": [
    "model_ann2.fit(x_train_dummified,y_train,epochs=500)"
   ]
  },
  {
   "cell_type": "code",
   "execution_count": 111,
   "metadata": {},
   "outputs": [
    {
     "name": "stdout",
     "output_type": "stream",
     "text": [
      "92/92 [==============================] - 0s 2ms/step\n",
      "0.1488224773190988\n",
      "0.819962987610922\n"
     ]
    }
   ],
   "source": [
    "test_preds_ann2=model_ann2.predict(x_test_dummified)\n",
    "\n",
    "print(r2_score(y_test[['Customer.Lifetime.Value']],test_preds_ann2))\n",
    "print(mean_squared_error(y_test[['Customer.Lifetime.Value']],test_preds_ann2))"
   ]
  },
  {
   "cell_type": "code",
   "execution_count": 112,
   "metadata": {},
   "outputs": [
    {
     "data": {
      "text/html": [
       "<div>\n",
       "<style scoped>\n",
       "    .dataframe tbody tr th:only-of-type {\n",
       "        vertical-align: middle;\n",
       "    }\n",
       "\n",
       "    .dataframe tbody tr th {\n",
       "        vertical-align: top;\n",
       "    }\n",
       "\n",
       "    .dataframe thead th {\n",
       "        text-align: right;\n",
       "    }\n",
       "</style>\n",
       "<table border=\"1\" class=\"dataframe\">\n",
       "  <thead>\n",
       "    <tr style=\"text-align: right;\">\n",
       "      <th></th>\n",
       "      <th>Customer.Lifetime.Value</th>\n",
       "    </tr>\n",
       "  </thead>\n",
       "  <tbody>\n",
       "    <tr>\n",
       "      <th>3920</th>\n",
       "      <td>2.037582</td>\n",
       "    </tr>\n",
       "    <tr>\n",
       "      <th>7244</th>\n",
       "      <td>-0.337636</td>\n",
       "    </tr>\n",
       "    <tr>\n",
       "      <th>4911</th>\n",
       "      <td>1.198116</td>\n",
       "    </tr>\n",
       "    <tr>\n",
       "      <th>1258</th>\n",
       "      <td>-0.452990</td>\n",
       "    </tr>\n",
       "    <tr>\n",
       "      <th>2923</th>\n",
       "      <td>-0.802178</td>\n",
       "    </tr>\n",
       "  </tbody>\n",
       "</table>\n",
       "</div>"
      ],
      "text/plain": [
       "      Customer.Lifetime.Value\n",
       "3920                 2.037582\n",
       "7244                -0.337636\n",
       "4911                 1.198116\n",
       "1258                -0.452990\n",
       "2923                -0.802178"
      ]
     },
     "execution_count": 112,
     "metadata": {},
     "output_type": "execute_result"
    }
   ],
   "source": [
    "y_test[['Customer.Lifetime.Value']][0:5]"
   ]
  },
  {
   "cell_type": "code",
   "execution_count": 113,
   "metadata": {},
   "outputs": [
    {
     "data": {
      "text/plain": [
       "array([[-0.3687855 ],\n",
       "       [-0.1646918 ],\n",
       "       [ 0.47172916],\n",
       "       [-0.35257542],\n",
       "       [-0.6810199 ]], dtype=float32)"
      ]
     },
     "execution_count": 113,
     "metadata": {},
     "output_type": "execute_result"
    }
   ],
   "source": [
    "test_preds_ann2[0:5]"
   ]
  },
  {
   "cell_type": "code",
   "execution_count": null,
   "metadata": {},
   "outputs": [],
   "source": []
  },
  {
   "cell_type": "code",
   "execution_count": null,
   "metadata": {},
   "outputs": [],
   "source": []
  },
  {
   "cell_type": "code",
   "execution_count": 114,
   "metadata": {},
   "outputs": [
    {
     "data": {
      "text/plain": [
       "<AxesSubplot:>"
      ]
     },
     "execution_count": 114,
     "metadata": {},
     "output_type": "execute_result"
    },
    {
     "data": {
      "image/png": "[encoded data removed]",
      "text/plain": [
       "<Figure size 720x576 with 2 Axes>"
      ]
     },
     "metadata": {
      "needs_background": "light"
     },
     "output_type": "display_data"
    }
   ],
   "source": [
    "plt.figure(figsize=(10,8))\n",
    "sns.heatmap(x_train.corr(),annot=True)"
   ]
  },
  {
   "cell_type": "code",
   "execution_count": 115,
   "metadata": {},
   "outputs": [],
   "source": [
    "# seems there is no correlation between the independnet variables and dependent variable."
   ]
  },
  {
   "cell_type": "code",
   "execution_count": 116,
   "metadata": {},
   "outputs": [],
   "source": [
    "# lets do PCA on this data and see the results"
   ]
  },
  {
   "cell_type": "code",
   "execution_count": 117,
   "metadata": {},
   "outputs": [],
   "source": [
    "from sklearn.decomposition import PCA\n",
    "pc = PCA()"
   ]
  },
  {
   "cell_type": "code",
   "execution_count": 118,
   "metadata": {},
   "outputs": [
    {
     "data": {
      "text/html": [
       "<style>#sk-container-id-2 {color: black;background-color: white;}#sk-container-id-2 pre{padding: 0;}#sk-container-id-2 div.sk-toggleable {background-color: white;}#sk-container-id-2 label.sk-toggleable__label {cursor: pointer;display: block;width: 100%;margin-bottom: 0;padding: 0.3em;box-sizing: border-box;text-align: center;}#sk-container-id-2 label.sk-toggleable__label-arrow:before {content: \"▸\";float: left;margin-right: 0.25em;color: #696969;}#sk-container-id-2 label.sk-toggleable__label-arrow:hover:before {color: black;}#sk-container-id-2 div.sk-estimator:hover label.sk-toggleable__label-arrow:before {color: black;}#sk-container-id-2 div.sk-toggleable__content {max-height: 0;max-width: 0;overflow: hidden;text-align: left;background-color: #f0f8ff;}#sk-container-id-2 div.sk-toggleable__content pre {margin: 0.2em;color: black;border-radius: 0.25em;background-color: #f0f8ff;}#sk-container-id-2 input.sk-toggleable__control:checked~div.sk-toggleable__content {max-height: 200px;max-width: 100%;overflow: auto;}#sk-container-id-2 input.sk-toggleable__control:checked~label.sk-toggleable__label-arrow:before {content: \"▾\";}#sk-container-id-2 div.sk-estimator input.sk-toggleable__control:checked~label.sk-toggleable__label {background-color: #d4ebff;}#sk-container-id-2 div.sk-label input.sk-toggleable__control:checked~label.sk-toggleable__label {background-color: #d4ebff;}#sk-container-id-2 input.sk-hidden--visually {border: 0;clip: rect(1px 1px 1px 1px);clip: rect(1px, 1px, 1px, 1px);height: 1px;margin: -1px;overflow: hidden;padding: 0;position: absolute;width: 1px;}#sk-container-id-2 div.sk-estimator {font-family: monospace;background-color: #f0f8ff;border: 1px dotted black;border-radius: 0.25em;box-sizing: border-box;margin-bottom: 0.5em;}#sk-container-id-2 div.sk-estimator:hover {background-color: #d4ebff;}#sk-container-id-2 div.sk-parallel-item::after {content: \"\";width: 100%;border-bottom: 1px solid gray;flex-grow: 1;}#sk-container-id-2 div.sk-label:hover label.sk-toggleable__label {background-color: #d4ebff;}#sk-container-id-2 div.sk-serial::before {content: \"\";position: absolute;border-left: 1px solid gray;box-sizing: border-box;top: 0;bottom: 0;left: 50%;z-index: 0;}#sk-container-id-2 div.sk-serial {display: flex;flex-direction: column;align-items: center;background-color: white;padding-right: 0.2em;padding-left: 0.2em;position: relative;}#sk-container-id-2 div.sk-item {position: relative;z-index: 1;}#sk-container-id-2 div.sk-parallel {display: flex;align-items: stretch;justify-content: center;background-color: white;position: relative;}#sk-container-id-2 div.sk-item::before, #sk-container-id-2 div.sk-parallel-item::before {content: \"\";position: absolute;border-left: 1px solid gray;box-sizing: border-box;top: 0;bottom: 0;left: 50%;z-index: -1;}#sk-container-id-2 div.sk-parallel-item {display: flex;flex-direction: column;z-index: 1;position: relative;background-color: white;}#sk-container-id-2 div.sk-parallel-item:first-child::after {align-self: flex-end;width: 50%;}#sk-container-id-2 div.sk-parallel-item:last-child::after {align-self: flex-start;width: 50%;}#sk-container-id-2 div.sk-parallel-item:only-child::after {width: 0;}#sk-container-id-2 div.sk-dashed-wrapped {border: 1px dashed gray;margin: 0 0.4em 0.5em 0.4em;box-sizing: border-box;padding-bottom: 0.4em;background-color: white;}#sk-container-id-2 div.sk-label label {font-family: monospace;font-weight: bold;display: inline-block;line-height: 1.2em;}#sk-container-id-2 div.sk-label-container {text-align: center;}#sk-container-id-2 div.sk-container {/* jupyter's `normalize.less` sets `[hidden] { display: none; }` but bootstrap.min.css set `[hidden] { display: none !important; }` so we also need the `!important` here to be able to override the default hidden behavior on the sphinx rendered scikit-learn.org. See: https://github.com/scikit-learn/scikit-learn/issues/21755 */display: inline-block !important;position: relative;}#sk-container-id-2 div.sk-text-repr-fallback {display: none;}</style><div id=\"sk-container-id-2\" class=\"sk-top-container\"><div class=\"sk-text-repr-fallback\"><pre>PCA()</pre><b>In a Jupyter environment, please rerun this cell to show the HTML representation or trust the notebook. <br />On GitHub, the HTML representation is unable to render, please try loading this page with nbviewer.org.</b></div><div class=\"sk-container\" hidden><div class=\"sk-item\"><div class=\"sk-estimator sk-toggleable\"><input class=\"sk-toggleable__control sk-hidden--visually\" id=\"sk-estimator-id-2\" type=\"checkbox\" checked><label for=\"sk-estimator-id-2\" class=\"sk-toggleable__label sk-toggleable__label-arrow\">PCA</label><div class=\"sk-toggleable__content\"><pre>PCA()</pre></div></div></div></div></div>"
      ],
      "text/plain": [
       "PCA()"
      ]
     },
     "execution_count": 118,
     "metadata": {},
     "output_type": "execute_result"
    }
   ],
   "source": [
    "pc.fit(x_train_dummified)"
   ]
  },
  {
   "cell_type": "code",
   "execution_count": 119,
   "metadata": {},
   "outputs": [
    {
     "name": "stdout",
     "output_type": "stream",
     "text": [
      "Eigen values: [7.89678553e+02 9.98185531e+01 5.68564213e+00 2.03314853e+00\n",
      " 1.26828614e+00 7.41994939e-01 4.79626499e-01 4.57798900e-01\n",
      " 3.87796334e-01 3.71776354e-01 3.40083587e-01 3.28426666e-01\n",
      " 3.07570991e-01 3.00131426e-01 2.88645500e-01 2.79188957e-01\n",
      " 2.79064452e-01 2.42827768e-01 2.15036962e-01 1.99126248e-01\n",
      " 1.92641185e-01 1.75401825e-01 1.60075920e-01 1.53075172e-01\n",
      " 1.51586137e-01 1.26324520e-01 1.17517499e-01 1.00315681e-01\n",
      " 9.58238884e-02 9.42098077e-02 8.69663369e-02 8.40568041e-02\n",
      " 7.86863646e-02 7.04257028e-02 5.56797077e-02 4.70879095e-02\n",
      " 4.57703781e-02 4.28103609e-02 3.05585471e-02 1.86909460e-02\n",
      " 1.72284895e-02 9.28261369e-03 7.17558364e-03 7.01693631e-03\n",
      " 1.19983780e-03 1.55736634e-28 5.56097667e-30 5.56097667e-30\n",
      " 5.56097667e-30 5.56097667e-30 5.56097667e-30 5.56097667e-30\n",
      " 5.56097667e-30 5.56097667e-30 5.56097667e-30 5.56097667e-30]\n",
      "Eigen vectors: [[ 5.18265927e-04  7.63589957e-04 -1.16354172e-02 ...  2.09383373e-04\n",
      "  -3.54870086e-04  1.45486713e-04]\n",
      " [-2.91740415e-03  1.04816290e-03  9.99917724e-01 ... -1.25835148e-04\n",
      "   6.82926670e-04 -5.57091522e-04]\n",
      " [-1.58205947e-03 -1.45685384e-02 -1.73291284e-03 ... -1.28851569e-03\n",
      "  -1.51722207e-03  2.80573776e-03]\n",
      " ...\n",
      " [-0.00000000e+00 -4.16333634e-17  1.80932735e-18 ... -2.57302730e-01\n",
      "  -2.57302730e-01 -2.57302730e-01]\n",
      " [-0.00000000e+00  3.98986399e-17 -6.04976965e-17 ...  1.26259342e-01\n",
      "   1.26259342e-01  1.26259342e-01]\n",
      " [ 0.00000000e+00 -3.59955121e-17  3.02798720e-18 ... -5.65457866e-02\n",
      "  -5.65457866e-02 -5.65457866e-02]]\n"
     ]
    }
   ],
   "source": [
    "print(\"Eigen values:\",pc.explained_variance_)\n",
    "print(\"Eigen vectors:\",pc.components_)"
   ]
  },
  {
   "cell_type": "code",
   "execution_count": 120,
   "metadata": {},
   "outputs": [
    {
     "data": {
      "text/plain": [
       "array([0.87192469, 0.98213949, 0.9884173 , 0.9906622 , 0.99206258,\n",
       "       0.99288186, 0.99341144, 0.99391692, 0.9943451 , 0.9947556 ,\n",
       "       0.9951311 , 0.99549374, 0.99583334, 0.99616473, 0.99648344,\n",
       "       0.99679171, 0.99709984, 0.99736796, 0.99760539, 0.99782525,\n",
       "       0.99803796, 0.99823163, 0.99840838, 0.9985774 , 0.99874477,\n",
       "       0.99888425, 0.99901401, 0.99912477, 0.99923058, 0.9993346 ,\n",
       "       0.99943062, 0.99952343, 0.99961032, 0.99968808, 0.99974955,\n",
       "       0.99980155, 0.99985208, 0.99989935, 0.99993309, 0.99995373,\n",
       "       0.99997276, 0.999983  , 0.99999093, 0.99999868, 1.        ,\n",
       "       1.        , 1.        , 1.        , 1.        , 1.        ,\n",
       "       1.        , 1.        , 1.        , 1.        , 1.        ,\n",
       "       1.        ])"
      ]
     },
     "execution_count": 120,
     "metadata": {},
     "output_type": "execute_result"
    }
   ],
   "source": [
    "np.cumsum(pc.explained_variance_ratio_)"
   ]
  },
  {
   "cell_type": "code",
   "execution_count": 121,
   "metadata": {},
   "outputs": [
    {
     "data": {
      "text/plain": [
       "[<matplotlib.lines.Line2D at 0x21d21f2c7f0>]"
      ]
     },
     "execution_count": 121,
     "metadata": {},
     "output_type": "execute_result"
    },
    {
     "data": {
      "image/png": "[encoded data removed]",
      "text/plain": [
       "<Figure size 432x288 with 1 Axes>"
      ]
     },
     "metadata": {
      "needs_background": "light"
     },
     "output_type": "display_data"
    }
   ],
   "source": [
    "# visualizing the cumulative frequency\n",
    "import numpy as np\n",
    "from matplotlib import pyplot as plt\n",
    "plt.plot(np.cumsum(pc.explained_variance_ratio_))"
   ]
  },
  {
   "cell_type": "code",
   "execution_count": 122,
   "metadata": {},
   "outputs": [],
   "source": [
    "# here we select the no of components as 2 (we have to mention it on pca())\n",
    "pc1 = PCA(n_components=2)\n",
    "\n",
    "# if we didn't give the number of columns then it will take all the  columns (then there is no using all this)\n",
    "\n",
    "# the we have to fit and trasnform the data columns \n",
    "# (transorming the data of other columns into the columns using linearequations generated by the pca)\n",
    "train_pca= pc1.fit(x_train_dummified).transform(x_train_dummified) \n"
   ]
  },
  {
   "cell_type": "code",
   "execution_count": null,
   "metadata": {},
   "outputs": [],
   "source": []
  },
  {
   "cell_type": "code",
   "execution_count": 123,
   "metadata": {},
   "outputs": [],
   "source": [
    "test_pca= pc1.transform(x_test_dummified)"
   ]
  },
  {
   "cell_type": "code",
   "execution_count": 124,
   "metadata": {},
   "outputs": [
    {
     "name": "stdout",
     "output_type": "stream",
     "text": [
      "-0.2042123729659313\n",
      "1.1600512804252632\n"
     ]
    }
   ],
   "source": [
    "model_rfr2=RandomForestRegressor()\n",
    "model_rfr2.fit(train_pca,y_train)\n",
    "test_preds_rfr2=model_rfr2.predict(test_pca)\n",
    "\n",
    "print(r2_score(y_test[['Customer.Lifetime.Value']],test_preds_rfr2))\n",
    "print(mean_squared_error(y_test[['Customer.Lifetime.Value']],test_preds_rfr2))\n"
   ]
  },
  {
   "cell_type": "code",
   "execution_count": 125,
   "metadata": {},
   "outputs": [
    {
     "data": {
      "text/html": [
       "<div>\n",
       "<style scoped>\n",
       "    .dataframe tbody tr th:only-of-type {\n",
       "        vertical-align: middle;\n",
       "    }\n",
       "\n",
       "    .dataframe tbody tr th {\n",
       "        vertical-align: top;\n",
       "    }\n",
       "\n",
       "    .dataframe thead th {\n",
       "        text-align: right;\n",
       "    }\n",
       "</style>\n",
       "<table border=\"1\" class=\"dataframe\">\n",
       "  <thead>\n",
       "    <tr style=\"text-align: right;\">\n",
       "      <th></th>\n",
       "      <th>Customer.Lifetime.Value</th>\n",
       "    </tr>\n",
       "  </thead>\n",
       "  <tbody>\n",
       "    <tr>\n",
       "      <th>3920</th>\n",
       "      <td>2.037582</td>\n",
       "    </tr>\n",
       "    <tr>\n",
       "      <th>7244</th>\n",
       "      <td>-0.337636</td>\n",
       "    </tr>\n",
       "    <tr>\n",
       "      <th>4911</th>\n",
       "      <td>1.198116</td>\n",
       "    </tr>\n",
       "    <tr>\n",
       "      <th>1258</th>\n",
       "      <td>-0.452990</td>\n",
       "    </tr>\n",
       "    <tr>\n",
       "      <th>2923</th>\n",
       "      <td>-0.802178</td>\n",
       "    </tr>\n",
       "  </tbody>\n",
       "</table>\n",
       "</div>"
      ],
      "text/plain": [
       "      Customer.Lifetime.Value\n",
       "3920                 2.037582\n",
       "7244                -0.337636\n",
       "4911                 1.198116\n",
       "1258                -0.452990\n",
       "2923                -0.802178"
      ]
     },
     "execution_count": 125,
     "metadata": {},
     "output_type": "execute_result"
    }
   ],
   "source": [
    "y_test[['Customer.Lifetime.Value']][0:5]"
   ]
  },
  {
   "cell_type": "code",
   "execution_count": 126,
   "metadata": {},
   "outputs": [
    {
     "data": {
      "text/plain": [
       "array([ 0.07575054, -0.54614659, -0.43068221,  0.80764468,  2.19927972])"
      ]
     },
     "execution_count": 126,
     "metadata": {},
     "output_type": "execute_result"
    }
   ],
   "source": [
    "test_preds_rfr2[0:5]"
   ]
  },
  {
   "cell_type": "markdown",
   "metadata": {},
   "source": [
    "### predicting for the test dataset"
   ]
  },
  {
   "cell_type": "code",
   "execution_count": 127,
   "metadata": {},
   "outputs": [],
   "source": [
    "test_dataset=pd.read_csv(\"C:/Users/Surendra/Desktop/Mode/mith/actual mith model/test-1574429501088.csv\")"
   ]
  },
  {
   "cell_type": "code",
   "execution_count": 128,
   "metadata": {},
   "outputs": [],
   "source": [
    "drop_unwanted(test_dataset)"
   ]
  },
  {
   "cell_type": "code",
   "execution_count": 129,
   "metadata": {},
   "outputs": [],
   "source": [
    "type_conversion(test_dataset)\n",
    "test_dataset[numerical_cols]=si.transform(test_dataset[numerical_cols])\n",
    "# y_test[['Customer.Lifetime.Value']]=sii.transform(y_test[['Customer.Lifetime.Value']])\n",
    "test_dataset[categorical_cols]=sic.transform(test_dataset[categorical_cols])\n",
    "\n",
    "test_dataset[numerical_cols]=scaler.transform(test_dataset[numerical_cols])\n",
    "\n",
    "# y_test[['Customer.Lifetime.Value']]=scaler_y.transform(y_test[['Customer.Lifetime.Value']])\n",
    "\n",
    "oe_test_dataset=pd.DataFrame(oe.transform(test_dataset[['Coverage','Education','EmploymentStatus','Gender','Location.Code','Marital.Status','Policy.Type', 'Policy', 'Renew.Offer.Type', 'Sales.Channel', 'Vehicle.Class','Vehicle.Size']]).toarray(),columns=oe.get_feature_names())\n",
    "\n",
    "oe_test_dataset.set_index(test_dataset.index,inplace=True)\n",
    "\n",
    "test_dataset[ordinal_cols]=ordinal.transform(test_dataset[ordinal_cols])\n",
    "x_test_dataset_dummified=pd.concat([test_dataset,oe_test_dataset],axis=1)\n",
    "x_test_dataset_dummified.drop(['Coverage','Education','EmploymentStatus','Gender','Location.Code','Marital.Status','Policy.Type', 'Policy', 'Renew.Offer.Type', 'Sales.Channel', 'Vehicle.Class','Vehicle.Size'],axis=1,inplace=True)"
   ]
  },
  {
   "cell_type": "code",
   "execution_count": 130,
   "metadata": {},
   "outputs": [],
   "source": [
    "test_preds_rfr_test_dataset=model_rfr.predict(x_test_dataset_dummified)"
   ]
  },
  {
   "cell_type": "code",
   "execution_count": 131,
   "metadata": {},
   "outputs": [],
   "source": [
    "# here are our results for our test datset using random forest regressor\n",
    "\n",
    "# with 0.3141061245083868 root mean squared error."
   ]
  },
  {
   "cell_type": "code",
   "execution_count": null,
   "metadata": {},
   "outputs": [],
   "source": []
  },
  {
   "cell_type": "code",
   "execution_count": null,
   "metadata": {},
   "outputs": [],
   "source": []
  }
 ],
 "metadata": {
  "colab": {
   "provenance": []
  },
  "kernelspec": {
   "display_name": "Python 3 (ipykernel)",
   "language": "python",
   "name": "python3"
  },
  "language_info": {
   "codemirror_mode": {
    "name": "ipython",
    "version": 3
   },
   "file_extension": ".py",
   "mimetype": "text/x-python",
   "name": "python",
   "nbconvert_exporter": "python",
   "pygments_lexer": "ipython3",
   "version": "3.9.7"
  }
 },
 "nbformat": 4,
 "nbformat_minor": 1
}
