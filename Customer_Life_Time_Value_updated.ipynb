{
  "cells": [
    {
      "cell_type": "code",
      "source": [
        "from google.colab import drive\n",
        "drive.mount('/content/drive')"
      ],
      "metadata": {
        "colab": {
          "base_uri": "https://localhost:8080/"
        },
        "id": "8HmL2FO-ctA9",
        "outputId": "c8bc0b70-232d-4a41-c1a6-82c43c3d720b"
      },
      "execution_count": 3,
      "outputs": [
        {
          "output_type": "stream",
          "name": "stdout",
          "text": [
            "Drive already mounted at /content/drive; to attempt to forcibly remount, call drive.mount(\"/content/drive\", force_remount=True).\n"
          ]
        }
      ]
    },
    {
      "cell_type": "code",
      "execution_count": 5,
      "metadata": {
        "id": "vIeWt-RylV8J"
      },
      "outputs": [],
      "source": [
        "import warnings\n",
        "warnings.filterwarnings('ignore')\n"
      ]
    },
    {
      "cell_type": "code",
      "execution_count": 6,
      "metadata": {
        "id": "8Oz_qAymd2TP"
      },
      "outputs": [],
      "source": [
        "import numpy as np\n",
        "import pandas as pd"
      ]
    },
    {
      "cell_type": "code",
      "execution_count": 7,
      "metadata": {
        "id": "ijoe6F3neX95"
      },
      "outputs": [],
      "source": [
        "# make sure files are in same directory\n",
        "train_dataset=pd.read_csv(\"train-1574429526318.csv\",na_values=['N/A','NaN','?','Na'])\n",
        "# importing the data"
      ]
    },
    {
      "cell_type": "markdown",
      "metadata": {
        "id": "p98UGVzxe5q-"
      },
      "source": [
        "Exploratory Data Analysis"
      ]
    },
    {
      "cell_type": "code",
      "execution_count": 8,
      "metadata": {
        "colab": {
          "base_uri": "https://localhost:8080/"
        },
        "id": "ndYzL3iue3TR",
        "outputId": "6496490d-24ce-47ca-bc23-2fd976805827"
      },
      "outputs": [
        {
          "output_type": "execute_result",
          "data": {
            "text/plain": [
              "(9806, 22)"
            ]
          },
          "metadata": {},
          "execution_count": 8
        }
      ],
      "source": [
        "train_dataset.shape # shape of the dataset\n",
        "\n",
        "# so we have 9806 rows and 22 columns"
      ]
    },
    {
      "cell_type": "code",
      "execution_count": 9,
      "metadata": {
        "colab": {
          "base_uri": "https://localhost:8080/"
        },
        "id": "AI68Ro5DfB5p",
        "outputId": "9c16fe5d-c4dd-458f-93e0-fd4419b21258"
      },
      "outputs": [
        {
          "output_type": "execute_result",
          "data": {
            "text/plain": [
              "CustomerID                         int64\n",
              "Customer.Lifetime.Value          float64\n",
              "Coverage                          object\n",
              "Education                         object\n",
              "EmploymentStatus                  object\n",
              "Gender                            object\n",
              "Income                           float64\n",
              "Location.Geo                      object\n",
              "Location.Code                     object\n",
              "Marital.Status                    object\n",
              "Monthly.Premium.Auto             float64\n",
              "Months.Since.Last.Claim            int64\n",
              "Months.Since.Policy.Inception      int64\n",
              "Number.of.Open.Complaints        float64\n",
              "Number.of.Policies               float64\n",
              "Policy.Type                       object\n",
              "Policy                            object\n",
              "Renew.Offer.Type                  object\n",
              "Sales.Channel                     object\n",
              "Total.Claim.Amount               float64\n",
              "Vehicle.Class                     object\n",
              "Vehicle.Size                     float64\n",
              "dtype: object"
            ]
          },
          "metadata": {},
          "execution_count": 9
        }
      ],
      "source": [
        "train_dataset.dtypes  # type of data wrt the features"
      ]
    },
    {
      "cell_type": "code",
      "execution_count": 10,
      "metadata": {
        "colab": {
          "base_uri": "https://localhost:8080/",
          "height": 364
        },
        "id": "mrCMeReBfXCV",
        "outputId": "3c5a469f-bf8a-4bdd-94c1-701677375c06"
      },
      "outputs": [
        {
          "output_type": "execute_result",
          "data": {
            "text/plain": [
              "         CustomerID  Customer.Lifetime.Value        Income  \\\n",
              "count   9806.000000              9806.000000   9688.000000   \n",
              "mean    5778.381807              7998.047015  37511.054604   \n",
              "std     3343.286093              6848.055899  30292.974468   \n",
              "min        1.000000              1898.007675      0.000000   \n",
              "25%     2879.250000              4013.949039      0.000000   \n",
              "50%     5783.000000              5780.182197  33767.500000   \n",
              "75%     8678.750000              8960.280213  62018.000000   \n",
              "max    11573.000000             83325.381190  99981.000000   \n",
              "\n",
              "       Monthly.Premium.Auto  Months.Since.Last.Claim  \\\n",
              "count           9012.000000              9806.000000   \n",
              "mean              93.340657                15.143993   \n",
              "std               34.417763                10.004327   \n",
              "min               61.000000                 0.000000   \n",
              "25%               68.750000                 6.000000   \n",
              "50%               83.000000                14.000000   \n",
              "75%              109.000000                23.000000   \n",
              "max              297.000000                35.000000   \n",
              "\n",
              "       Months.Since.Policy.Inception  Number.of.Open.Complaints  \\\n",
              "count                    9806.000000                8988.000000   \n",
              "mean                       48.165001                   0.379172   \n",
              "std                        27.963630                   0.896427   \n",
              "min                         0.000000                   0.000000   \n",
              "25%                        24.000000                   0.000000   \n",
              "50%                        48.000000                   0.000000   \n",
              "75%                        71.750000                   0.000000   \n",
              "max                        99.000000                   5.000000   \n",
              "\n",
              "       Number.of.Policies  Total.Claim.Amount  Vehicle.Size  \n",
              "count         9685.000000         9806.000000   9680.000000  \n",
              "mean             2.960351          438.266734      2.089773  \n",
              "std              2.389801          293.502301      0.538524  \n",
              "min              1.000000            0.099007      1.000000  \n",
              "25%              1.000000          280.352767      2.000000  \n",
              "50%              2.000000          384.007015      2.000000  \n",
              "75%              4.000000          553.540973      2.000000  \n",
              "max              9.000000         2893.239678      3.000000  "
            ],
            "text/html": [
              "\n",
              "  <div id=\"df-f563b492-b4a4-47dc-b84a-da93031a2041\">\n",
              "    <div class=\"colab-df-container\">\n",
              "      <div>\n",
              "<style scoped>\n",
              "    .dataframe tbody tr th:only-of-type {\n",
              "        vertical-align: middle;\n",
              "    }\n",
              "\n",
              "    .dataframe tbody tr th {\n",
              "        vertical-align: top;\n",
              "    }\n",
              "\n",
              "    .dataframe thead th {\n",
              "        text-align: right;\n",
              "    }\n",
              "</style>\n",
              "<table border=\"1\" class=\"dataframe\">\n",
              "  <thead>\n",
              "    <tr style=\"text-align: right;\">\n",
              "      <th></th>\n",
              "      <th>CustomerID</th>\n",
              "      <th>Customer.Lifetime.Value</th>\n",
              "      <th>Income</th>\n",
              "      <th>Monthly.Premium.Auto</th>\n",
              "      <th>Months.Since.Last.Claim</th>\n",
              "      <th>Months.Since.Policy.Inception</th>\n",
              "      <th>Number.of.Open.Complaints</th>\n",
              "      <th>Number.of.Policies</th>\n",
              "      <th>Total.Claim.Amount</th>\n",
              "      <th>Vehicle.Size</th>\n",
              "    </tr>\n",
              "  </thead>\n",
              "  <tbody>\n",
              "    <tr>\n",
              "      <th>count</th>\n",
              "      <td>9806.000000</td>\n",
              "      <td>9806.000000</td>\n",
              "      <td>9688.000000</td>\n",
              "      <td>9012.000000</td>\n",
              "      <td>9806.000000</td>\n",
              "      <td>9806.000000</td>\n",
              "      <td>8988.000000</td>\n",
              "      <td>9685.000000</td>\n",
              "      <td>9806.000000</td>\n",
              "      <td>9680.000000</td>\n",
              "    </tr>\n",
              "    <tr>\n",
              "      <th>mean</th>\n",
              "      <td>5778.381807</td>\n",
              "      <td>7998.047015</td>\n",
              "      <td>37511.054604</td>\n",
              "      <td>93.340657</td>\n",
              "      <td>15.143993</td>\n",
              "      <td>48.165001</td>\n",
              "      <td>0.379172</td>\n",
              "      <td>2.960351</td>\n",
              "      <td>438.266734</td>\n",
              "      <td>2.089773</td>\n",
              "    </tr>\n",
              "    <tr>\n",
              "      <th>std</th>\n",
              "      <td>3343.286093</td>\n",
              "      <td>6848.055899</td>\n",
              "      <td>30292.974468</td>\n",
              "      <td>34.417763</td>\n",
              "      <td>10.004327</td>\n",
              "      <td>27.963630</td>\n",
              "      <td>0.896427</td>\n",
              "      <td>2.389801</td>\n",
              "      <td>293.502301</td>\n",
              "      <td>0.538524</td>\n",
              "    </tr>\n",
              "    <tr>\n",
              "      <th>min</th>\n",
              "      <td>1.000000</td>\n",
              "      <td>1898.007675</td>\n",
              "      <td>0.000000</td>\n",
              "      <td>61.000000</td>\n",
              "      <td>0.000000</td>\n",
              "      <td>0.000000</td>\n",
              "      <td>0.000000</td>\n",
              "      <td>1.000000</td>\n",
              "      <td>0.099007</td>\n",
              "      <td>1.000000</td>\n",
              "    </tr>\n",
              "    <tr>\n",
              "      <th>25%</th>\n",
              "      <td>2879.250000</td>\n",
              "      <td>4013.949039</td>\n",
              "      <td>0.000000</td>\n",
              "      <td>68.750000</td>\n",
              "      <td>6.000000</td>\n",
              "      <td>24.000000</td>\n",
              "      <td>0.000000</td>\n",
              "      <td>1.000000</td>\n",
              "      <td>280.352767</td>\n",
              "      <td>2.000000</td>\n",
              "    </tr>\n",
              "    <tr>\n",
              "      <th>50%</th>\n",
              "      <td>5783.000000</td>\n",
              "      <td>5780.182197</td>\n",
              "      <td>33767.500000</td>\n",
              "      <td>83.000000</td>\n",
              "      <td>14.000000</td>\n",
              "      <td>48.000000</td>\n",
              "      <td>0.000000</td>\n",
              "      <td>2.000000</td>\n",
              "      <td>384.007015</td>\n",
              "      <td>2.000000</td>\n",
              "    </tr>\n",
              "    <tr>\n",
              "      <th>75%</th>\n",
              "      <td>8678.750000</td>\n",
              "      <td>8960.280213</td>\n",
              "      <td>62018.000000</td>\n",
              "      <td>109.000000</td>\n",
              "      <td>23.000000</td>\n",
              "      <td>71.750000</td>\n",
              "      <td>0.000000</td>\n",
              "      <td>4.000000</td>\n",
              "      <td>553.540973</td>\n",
              "      <td>2.000000</td>\n",
              "    </tr>\n",
              "    <tr>\n",
              "      <th>max</th>\n",
              "      <td>11573.000000</td>\n",
              "      <td>83325.381190</td>\n",
              "      <td>99981.000000</td>\n",
              "      <td>297.000000</td>\n",
              "      <td>35.000000</td>\n",
              "      <td>99.000000</td>\n",
              "      <td>5.000000</td>\n",
              "      <td>9.000000</td>\n",
              "      <td>2893.239678</td>\n",
              "      <td>3.000000</td>\n",
              "    </tr>\n",
              "  </tbody>\n",
              "</table>\n",
              "</div>\n",
              "      <button class=\"colab-df-convert\" onclick=\"convertToInteractive('df-f563b492-b4a4-47dc-b84a-da93031a2041')\"\n",
              "              title=\"Convert this dataframe to an interactive table.\"\n",
              "              style=\"display:none;\">\n",
              "        \n",
              "  <svg xmlns=\"http://www.w3.org/2000/svg\" height=\"24px\"viewBox=\"0 0 24 24\"\n",
              "       width=\"24px\">\n",
              "    <path d=\"M0 0h24v24H0V0z\" fill=\"none\"/>\n",
              "    <path d=\"M18.56 5.44l.94 2.06.94-2.06 2.06-.94-2.06-.94-.94-2.06-.94 2.06-2.06.94zm-11 1L8.5 8.5l.94-2.06 2.06-.94-2.06-.94L8.5 2.5l-.94 2.06-2.06.94zm10 10l.94 2.06.94-2.06 2.06-.94-2.06-.94-.94-2.06-.94 2.06-2.06.94z\"/><path d=\"M17.41 7.96l-1.37-1.37c-.4-.4-.92-.59-1.43-.59-.52 0-1.04.2-1.43.59L10.3 9.45l-7.72 7.72c-.78.78-.78 2.05 0 2.83L4 21.41c.39.39.9.59 1.41.59.51 0 1.02-.2 1.41-.59l7.78-7.78 2.81-2.81c.8-.78.8-2.07 0-2.86zM5.41 20L4 18.59l7.72-7.72 1.47 1.35L5.41 20z\"/>\n",
              "  </svg>\n",
              "      </button>\n",
              "      \n",
              "  <style>\n",
              "    .colab-df-container {\n",
              "      display:flex;\n",
              "      flex-wrap:wrap;\n",
              "      gap: 12px;\n",
              "    }\n",
              "\n",
              "    .colab-df-convert {\n",
              "      background-color: #E8F0FE;\n",
              "      border: none;\n",
              "      border-radius: 50%;\n",
              "      cursor: pointer;\n",
              "      display: none;\n",
              "      fill: #1967D2;\n",
              "      height: 32px;\n",
              "      padding: 0 0 0 0;\n",
              "      width: 32px;\n",
              "    }\n",
              "\n",
              "    .colab-df-convert:hover {\n",
              "      background-color: #E2EBFA;\n",
              "      box-shadow: 0px 1px 2px rgba(60, 64, 67, 0.3), 0px 1px 3px 1px rgba(60, 64, 67, 0.15);\n",
              "      fill: #174EA6;\n",
              "    }\n",
              "\n",
              "    [theme=dark] .colab-df-convert {\n",
              "      background-color: #3B4455;\n",
              "      fill: #D2E3FC;\n",
              "    }\n",
              "\n",
              "    [theme=dark] .colab-df-convert:hover {\n",
              "      background-color: #434B5C;\n",
              "      box-shadow: 0px 1px 3px 1px rgba(0, 0, 0, 0.15);\n",
              "      filter: drop-shadow(0px 1px 2px rgba(0, 0, 0, 0.3));\n",
              "      fill: #FFFFFF;\n",
              "    }\n",
              "  </style>\n",
              "\n",
              "      <script>\n",
              "        const buttonEl =\n",
              "          document.querySelector('#df-f563b492-b4a4-47dc-b84a-da93031a2041 button.colab-df-convert');\n",
              "        buttonEl.style.display =\n",
              "          google.colab.kernel.accessAllowed ? 'block' : 'none';\n",
              "\n",
              "        async function convertToInteractive(key) {\n",
              "          const element = document.querySelector('#df-f563b492-b4a4-47dc-b84a-da93031a2041');\n",
              "          const dataTable =\n",
              "            await google.colab.kernel.invokeFunction('convertToInteractive',\n",
              "                                                     [key], {});\n",
              "          if (!dataTable) return;\n",
              "\n",
              "          const docLinkHtml = 'Like what you see? Visit the ' +\n",
              "            '<a target=\"_blank\" href=https://colab.research.google.com/notebooks/data_table.ipynb>data table notebook</a>'\n",
              "            + ' to learn more about interactive tables.';\n",
              "          element.innerHTML = '';\n",
              "          dataTable['output_type'] = 'display_data';\n",
              "          await google.colab.output.renderOutput(dataTable, element);\n",
              "          const docLink = document.createElement('div');\n",
              "          docLink.innerHTML = docLinkHtml;\n",
              "          element.appendChild(docLink);\n",
              "        }\n",
              "      </script>\n",
              "    </div>\n",
              "  </div>\n",
              "  "
            ]
          },
          "metadata": {},
          "execution_count": 10
        }
      ],
      "source": [
        "# Descriptive statistics\n",
        "\n",
        "train_dataset.describe() # description of the numerical variables"
      ]
    },
    {
      "cell_type": "markdown",
      "metadata": {
        "id": "-pRaeVAwgFpl"
      },
      "source": [
        "customer id is a unique column we need to drop it.\n",
        "\n",
        "customer life time value,Total.Claim.Amount have outliers.\n",
        "\n",
        "Income,Monthly premium auto,no of open complaints,no of polices,vehicle size has null values.\n",
        "\n",
        "Months.Since.Last.Claim,Months.Since.Policy.Inception,\tNumber.of.Open.Complaints,Number.of.Policies,Vehicle.Size\n",
        " is categorical."
      ]
    },
    {
      "cell_type": "code",
      "execution_count": 11,
      "metadata": {
        "colab": {
          "base_uri": "https://localhost:8080/",
          "height": 256
        },
        "id": "ePDr7E_zfneL",
        "outputId": "2d4eec72-1012-4853-dea5-f5d1a067e555"
      },
      "outputs": [
        {
          "output_type": "execute_result",
          "data": {
            "text/plain": [
              "       Coverage Education EmploymentStatus Gender Location.Geo Location.Code  \\\n",
              "count      8881      9677             9688   9677         9806          9687   \n",
              "unique        3         5                5      2         2840             3   \n",
              "top       Basic  Bachelor         Employed      F        NA,NA      Suburban   \n",
              "freq       5361      2934             6020   4985          119          6204   \n",
              "\n",
              "       Marital.Status    Policy.Type       Policy Renew.Offer.Type  \\\n",
              "count            9677           8915         9685             9678   \n",
              "unique              3              3            9                4   \n",
              "top           Married  Personal Auto  Personal L3           Offer1   \n",
              "freq             5643           6620         3637             3975   \n",
              "\n",
              "       Sales.Channel  Vehicle.Class  \n",
              "count           9678           9680  \n",
              "unique             4              6  \n",
              "top            Agent  Four-Door Car  \n",
              "freq            3670           4869  "
            ],
            "text/html": [
              "\n",
              "  <div id=\"df-c51f80e4-cfb2-4096-baca-1960672d60a8\">\n",
              "    <div class=\"colab-df-container\">\n",
              "      <div>\n",
              "<style scoped>\n",
              "    .dataframe tbody tr th:only-of-type {\n",
              "        vertical-align: middle;\n",
              "    }\n",
              "\n",
              "    .dataframe tbody tr th {\n",
              "        vertical-align: top;\n",
              "    }\n",
              "\n",
              "    .dataframe thead th {\n",
              "        text-align: right;\n",
              "    }\n",
              "</style>\n",
              "<table border=\"1\" class=\"dataframe\">\n",
              "  <thead>\n",
              "    <tr style=\"text-align: right;\">\n",
              "      <th></th>\n",
              "      <th>Coverage</th>\n",
              "      <th>Education</th>\n",
              "      <th>EmploymentStatus</th>\n",
              "      <th>Gender</th>\n",
              "      <th>Location.Geo</th>\n",
              "      <th>Location.Code</th>\n",
              "      <th>Marital.Status</th>\n",
              "      <th>Policy.Type</th>\n",
              "      <th>Policy</th>\n",
              "      <th>Renew.Offer.Type</th>\n",
              "      <th>Sales.Channel</th>\n",
              "      <th>Vehicle.Class</th>\n",
              "    </tr>\n",
              "  </thead>\n",
              "  <tbody>\n",
              "    <tr>\n",
              "      <th>count</th>\n",
              "      <td>8881</td>\n",
              "      <td>9677</td>\n",
              "      <td>9688</td>\n",
              "      <td>9677</td>\n",
              "      <td>9806</td>\n",
              "      <td>9687</td>\n",
              "      <td>9677</td>\n",
              "      <td>8915</td>\n",
              "      <td>9685</td>\n",
              "      <td>9678</td>\n",
              "      <td>9678</td>\n",
              "      <td>9680</td>\n",
              "    </tr>\n",
              "    <tr>\n",
              "      <th>unique</th>\n",
              "      <td>3</td>\n",
              "      <td>5</td>\n",
              "      <td>5</td>\n",
              "      <td>2</td>\n",
              "      <td>2840</td>\n",
              "      <td>3</td>\n",
              "      <td>3</td>\n",
              "      <td>3</td>\n",
              "      <td>9</td>\n",
              "      <td>4</td>\n",
              "      <td>4</td>\n",
              "      <td>6</td>\n",
              "    </tr>\n",
              "    <tr>\n",
              "      <th>top</th>\n",
              "      <td>Basic</td>\n",
              "      <td>Bachelor</td>\n",
              "      <td>Employed</td>\n",
              "      <td>F</td>\n",
              "      <td>NA,NA</td>\n",
              "      <td>Suburban</td>\n",
              "      <td>Married</td>\n",
              "      <td>Personal Auto</td>\n",
              "      <td>Personal L3</td>\n",
              "      <td>Offer1</td>\n",
              "      <td>Agent</td>\n",
              "      <td>Four-Door Car</td>\n",
              "    </tr>\n",
              "    <tr>\n",
              "      <th>freq</th>\n",
              "      <td>5361</td>\n",
              "      <td>2934</td>\n",
              "      <td>6020</td>\n",
              "      <td>4985</td>\n",
              "      <td>119</td>\n",
              "      <td>6204</td>\n",
              "      <td>5643</td>\n",
              "      <td>6620</td>\n",
              "      <td>3637</td>\n",
              "      <td>3975</td>\n",
              "      <td>3670</td>\n",
              "      <td>4869</td>\n",
              "    </tr>\n",
              "  </tbody>\n",
              "</table>\n",
              "</div>\n",
              "      <button class=\"colab-df-convert\" onclick=\"convertToInteractive('df-c51f80e4-cfb2-4096-baca-1960672d60a8')\"\n",
              "              title=\"Convert this dataframe to an interactive table.\"\n",
              "              style=\"display:none;\">\n",
              "        \n",
              "  <svg xmlns=\"http://www.w3.org/2000/svg\" height=\"24px\"viewBox=\"0 0 24 24\"\n",
              "       width=\"24px\">\n",
              "    <path d=\"M0 0h24v24H0V0z\" fill=\"none\"/>\n",
              "    <path d=\"M18.56 5.44l.94 2.06.94-2.06 2.06-.94-2.06-.94-.94-2.06-.94 2.06-2.06.94zm-11 1L8.5 8.5l.94-2.06 2.06-.94-2.06-.94L8.5 2.5l-.94 2.06-2.06.94zm10 10l.94 2.06.94-2.06 2.06-.94-2.06-.94-.94-2.06-.94 2.06-2.06.94z\"/><path d=\"M17.41 7.96l-1.37-1.37c-.4-.4-.92-.59-1.43-.59-.52 0-1.04.2-1.43.59L10.3 9.45l-7.72 7.72c-.78.78-.78 2.05 0 2.83L4 21.41c.39.39.9.59 1.41.59.51 0 1.02-.2 1.41-.59l7.78-7.78 2.81-2.81c.8-.78.8-2.07 0-2.86zM5.41 20L4 18.59l7.72-7.72 1.47 1.35L5.41 20z\"/>\n",
              "  </svg>\n",
              "      </button>\n",
              "      \n",
              "  <style>\n",
              "    .colab-df-container {\n",
              "      display:flex;\n",
              "      flex-wrap:wrap;\n",
              "      gap: 12px;\n",
              "    }\n",
              "\n",
              "    .colab-df-convert {\n",
              "      background-color: #E8F0FE;\n",
              "      border: none;\n",
              "      border-radius: 50%;\n",
              "      cursor: pointer;\n",
              "      display: none;\n",
              "      fill: #1967D2;\n",
              "      height: 32px;\n",
              "      padding: 0 0 0 0;\n",
              "      width: 32px;\n",
              "    }\n",
              "\n",
              "    .colab-df-convert:hover {\n",
              "      background-color: #E2EBFA;\n",
              "      box-shadow: 0px 1px 2px rgba(60, 64, 67, 0.3), 0px 1px 3px 1px rgba(60, 64, 67, 0.15);\n",
              "      fill: #174EA6;\n",
              "    }\n",
              "\n",
              "    [theme=dark] .colab-df-convert {\n",
              "      background-color: #3B4455;\n",
              "      fill: #D2E3FC;\n",
              "    }\n",
              "\n",
              "    [theme=dark] .colab-df-convert:hover {\n",
              "      background-color: #434B5C;\n",
              "      box-shadow: 0px 1px 3px 1px rgba(0, 0, 0, 0.15);\n",
              "      filter: drop-shadow(0px 1px 2px rgba(0, 0, 0, 0.3));\n",
              "      fill: #FFFFFF;\n",
              "    }\n",
              "  </style>\n",
              "\n",
              "      <script>\n",
              "        const buttonEl =\n",
              "          document.querySelector('#df-c51f80e4-cfb2-4096-baca-1960672d60a8 button.colab-df-convert');\n",
              "        buttonEl.style.display =\n",
              "          google.colab.kernel.accessAllowed ? 'block' : 'none';\n",
              "\n",
              "        async function convertToInteractive(key) {\n",
              "          const element = document.querySelector('#df-c51f80e4-cfb2-4096-baca-1960672d60a8');\n",
              "          const dataTable =\n",
              "            await google.colab.kernel.invokeFunction('convertToInteractive',\n",
              "                                                     [key], {});\n",
              "          if (!dataTable) return;\n",
              "\n",
              "          const docLinkHtml = 'Like what you see? Visit the ' +\n",
              "            '<a target=\"_blank\" href=https://colab.research.google.com/notebooks/data_table.ipynb>data table notebook</a>'\n",
              "            + ' to learn more about interactive tables.';\n",
              "          element.innerHTML = '';\n",
              "          dataTable['output_type'] = 'display_data';\n",
              "          await google.colab.output.renderOutput(dataTable, element);\n",
              "          const docLink = document.createElement('div');\n",
              "          docLink.innerHTML = docLinkHtml;\n",
              "          element.appendChild(docLink);\n",
              "        }\n",
              "      </script>\n",
              "    </div>\n",
              "  </div>\n",
              "  "
            ]
          },
          "metadata": {},
          "execution_count": 11
        }
      ],
      "source": [
        "train_dataset.describe(include='O') # description of categorical varaibles"
      ]
    },
    {
      "cell_type": "markdown",
      "metadata": {
        "id": "MjeN5O-QiG94"
      },
      "source": [
        "Coverage,Education,EmploymentStatus,Gender,Marital.Status,Policy.Type,Policy,Renew.Offer.Type,Sales.Channel,Vehicle.Class all are having null values.\n",
        "\n",
        "Location.Geo can cause high dimensionality so better to drop it.\n",
        "\n"
      ]
    },
    {
      "cell_type": "markdown",
      "metadata": {
        "id": "bqWYH5kVh986"
      },
      "source": []
    },
    {
      "cell_type": "code",
      "execution_count": 11,
      "metadata": {
        "id": "UA73AoAIf7H0"
      },
      "outputs": [],
      "source": []
    },
    {
      "cell_type": "markdown",
      "metadata": {
        "id": "P0220j_3kMIL"
      },
      "source": [
        "# Data Visualizations and Preprocessing"
      ]
    },
    {
      "cell_type": "markdown",
      "metadata": {
        "id": "19vx1oSLpzO9"
      },
      "source": [
        "#### Dropping Unwanted columns"
      ]
    },
    {
      "cell_type": "code",
      "execution_count": 12,
      "metadata": {
        "colab": {
          "base_uri": "https://localhost:8080/"
        },
        "id": "bqPfTalgpvI4",
        "outputId": "f6737b25-f1fb-40c0-8934-525ddddd7bda"
      },
      "outputs": [
        {
          "output_type": "execute_result",
          "data": {
            "text/plain": [
              "Index(['CustomerID', 'Customer.Lifetime.Value', 'Coverage', 'Education',\n",
              "       'EmploymentStatus', 'Gender', 'Income', 'Location.Geo', 'Location.Code',\n",
              "       'Marital.Status', 'Monthly.Premium.Auto', 'Months.Since.Last.Claim',\n",
              "       'Months.Since.Policy.Inception', 'Number.of.Open.Complaints',\n",
              "       'Number.of.Policies', 'Policy.Type', 'Policy', 'Renew.Offer.Type',\n",
              "       'Sales.Channel', 'Total.Claim.Amount', 'Vehicle.Class', 'Vehicle.Size'],\n",
              "      dtype='object')"
            ]
          },
          "metadata": {},
          "execution_count": 12
        }
      ],
      "source": [
        "train_dataset.columns"
      ]
    },
    {
      "cell_type": "code",
      "execution_count": 13,
      "metadata": {
        "id": "h0tGDoJPpykD"
      },
      "outputs": [],
      "source": [
        "def drop_unwanted(x):\n",
        "    x.drop(['CustomerID','Location.Geo'],axis=1,inplace=True)"
      ]
    },
    {
      "cell_type": "code",
      "execution_count": 14,
      "metadata": {
        "id": "szwNd0mJqOWK"
      },
      "outputs": [],
      "source": [
        "drop_unwanted(train_dataset)"
      ]
    },
    {
      "cell_type": "code",
      "execution_count": 15,
      "metadata": {
        "colab": {
          "base_uri": "https://localhost:8080/"
        },
        "id": "90SYK53jqRtv",
        "outputId": "c1cbef7d-969b-4bde-b2be-7293a98e3ac7"
      },
      "outputs": [
        {
          "output_type": "execute_result",
          "data": {
            "text/plain": [
              "Index(['Customer.Lifetime.Value', 'Coverage', 'Education', 'EmploymentStatus',\n",
              "       'Gender', 'Income', 'Location.Code', 'Marital.Status',\n",
              "       'Monthly.Premium.Auto', 'Months.Since.Last.Claim',\n",
              "       'Months.Since.Policy.Inception', 'Number.of.Open.Complaints',\n",
              "       'Number.of.Policies', 'Policy.Type', 'Policy', 'Renew.Offer.Type',\n",
              "       'Sales.Channel', 'Total.Claim.Amount', 'Vehicle.Class', 'Vehicle.Size'],\n",
              "      dtype='object')"
            ]
          },
          "metadata": {},
          "execution_count": 15
        }
      ],
      "source": [
        "train_dataset.columns"
      ]
    },
    {
      "cell_type": "markdown",
      "metadata": {
        "id": "SFfy8FrOpdPc"
      },
      "source": [
        "#### Type Conversion"
      ]
    },
    {
      "cell_type": "code",
      "execution_count": 16,
      "metadata": {
        "id": "oa4NTaElpf7T"
      },
      "outputs": [],
      "source": [
        "def type_conversion(x):\n",
        "    x['Months.Since.Last.Claim']=x[\"Months.Since.Last.Claim\"].astype(\"category\")\n",
        "    x[\"Months.Since.Policy.Inception\"]=x[\"Months.Since.Policy.Inception\"].astype(\"category\")\n",
        "    x[\"Number.of.Open.Complaints\"]=x[\"Number.of.Open.Complaints\"].astype(\"category\")\n",
        "    x[\"Number.of.Policies\"]=x[\"Number.of.Policies\"].astype(\"category\")\n",
        "    x[\"Vehicle.Size\"]=x[\"Vehicle.Size\"].astype(\"category\")\n"
      ]
    },
    {
      "cell_type": "code",
      "execution_count": 17,
      "metadata": {
        "id": "RDRAaDHZpf3Y"
      },
      "outputs": [],
      "source": [
        "type_conversion(train_dataset)"
      ]
    },
    {
      "cell_type": "code",
      "execution_count": 17,
      "metadata": {
        "id": "rVG5jGa8pf1V"
      },
      "outputs": [],
      "source": []
    },
    {
      "cell_type": "markdown",
      "metadata": {
        "id": "fzQ0-L1CtUTQ"
      },
      "source": [
        "#### Let's split the data to train and test\n",
        "\n",
        "##### as the test data is unknown to us it is better to preprocess differently the train and test data to understand the model how it is working with the test data"
      ]
    },
    {
      "cell_type": "code",
      "execution_count": 18,
      "metadata": {
        "id": "la5jPqaBtq7p"
      },
      "outputs": [],
      "source": [
        "from sklearn.model_selection import train_test_split"
      ]
    },
    {
      "cell_type": "code",
      "execution_count": 19,
      "metadata": {
        "id": "NrOSeHX7t78B"
      },
      "outputs": [],
      "source": [
        "x=train_dataset.drop(['Customer.Lifetime.Value'],axis=1)\n",
        "y=train_dataset[['Customer.Lifetime.Value']]"
      ]
    },
    {
      "cell_type": "code",
      "execution_count": 20,
      "metadata": {
        "id": "vhOoZ0Tetw9I"
      },
      "outputs": [],
      "source": [
        "x_train,x_test,y_train,y_test=train_test_split(x,y,train_size=0.7,random_state=4306)"
      ]
    },
    {
      "cell_type": "markdown",
      "metadata": {
        "id": "IMX7pghsjZKI"
      },
      "source": [
        "##### Lets see if there are any null values or not"
      ]
    },
    {
      "cell_type": "code",
      "execution_count": 21,
      "metadata": {
        "id": "rqkYH4-EjdaH"
      },
      "outputs": [],
      "source": [
        "import seaborn as sns\n",
        "import matplotlib.pyplot as plt"
      ]
    },
    {
      "cell_type": "code",
      "execution_count": 22,
      "metadata": {
        "colab": {
          "base_uri": "https://localhost:8080/",
          "height": 891
        },
        "id": "8vsvfae-jfF4",
        "outputId": "d7441bbb-2de6-4de7-e796-f27932369d8b"
      },
      "outputs": [
        {
          "output_type": "execute_result",
          "data": {
            "text/plain": [
              "<Axes: >"
            ]
          },
          "metadata": {},
          "execution_count": 22
        },
        {
          "output_type": "display_data",
          "data": {
            "text/plain": [
              "<Figure size 1000x800 with 2 Axes>"
            ],
            "image/png": "[encoded data removed]"
          },
          "metadata": {}
        }
      ],
      "source": [
        "plt.figure(figsize=(10,8))\n",
        "sns.heatmap(x_train.isna())"
      ]
    },
    {
      "cell_type": "markdown",
      "metadata": {
        "id": "X_JFkxcppA3r"
      },
      "source": [
        "#### lets fill the missing values\n",
        "\n",
        "##### as there are outliers in our numerical data it is better to fill the missing values with median.\n",
        "\n",
        "##### filling the missing values with the mode to the categorical data."
      ]
    },
    {
      "cell_type": "code",
      "execution_count": 23,
      "metadata": {
        "id": "PIPKT4JKyYFJ"
      },
      "outputs": [],
      "source": [
        "# lets fill the train data numerical columns"
      ]
    },
    {
      "cell_type": "code",
      "execution_count": 24,
      "metadata": {
        "id": "nEgswd7Os6eZ"
      },
      "outputs": [],
      "source": [
        "numerical_cols=x_train.describe().columns\n",
        "categorical_cols=x_train.describe(include=['object','category']).columns"
      ]
    },
    {
      "cell_type": "code",
      "execution_count": 25,
      "metadata": {
        "colab": {
          "base_uri": "https://localhost:8080/"
        },
        "id": "fGmZsVvUxZZt",
        "outputId": "8d507518-8b8b-4746-b010-628ad89a2393"
      },
      "outputs": [
        {
          "output_type": "execute_result",
          "data": {
            "text/plain": [
              "Index(['Income', 'Monthly.Premium.Auto', 'Total.Claim.Amount'], dtype='object')"
            ]
          },
          "metadata": {},
          "execution_count": 25
        }
      ],
      "source": [
        "numerical_cols"
      ]
    },
    {
      "cell_type": "code",
      "execution_count": 26,
      "metadata": {
        "id": "SP6k46Pmo7EN"
      },
      "outputs": [],
      "source": [
        "# using simple imputer\n",
        "\n",
        "from sklearn.impute import SimpleImputer"
      ]
    },
    {
      "cell_type": "code",
      "execution_count": 27,
      "metadata": {
        "id": "0V_yYH5ssnJu"
      },
      "outputs": [],
      "source": [
        "si=SimpleImputer(strategy='median')\n",
        "x_train[numerical_cols]=si.fit_transform(x_train[numerical_cols])"
      ]
    },
    {
      "cell_type": "code",
      "execution_count": 27,
      "metadata": {
        "id": "F0KlLXXcvQfj"
      },
      "outputs": [],
      "source": []
    },
    {
      "cell_type": "code",
      "execution_count": 28,
      "metadata": {
        "id": "IknOIC9EySyd"
      },
      "outputs": [],
      "source": [
        "# lets fill the train data categorical variables"
      ]
    },
    {
      "cell_type": "code",
      "execution_count": 29,
      "metadata": {
        "colab": {
          "base_uri": "https://localhost:8080/"
        },
        "id": "mF-XALrrxj6k",
        "outputId": "1c7eaf61-7af7-4621-9292-680295fa055f"
      },
      "outputs": [
        {
          "output_type": "execute_result",
          "data": {
            "text/plain": [
              "Index(['Coverage', 'Education', 'EmploymentStatus', 'Gender', 'Location.Code',\n",
              "       'Marital.Status', 'Months.Since.Last.Claim',\n",
              "       'Months.Since.Policy.Inception', 'Number.of.Open.Complaints',\n",
              "       'Number.of.Policies', 'Policy.Type', 'Policy', 'Renew.Offer.Type',\n",
              "       'Sales.Channel', 'Vehicle.Class', 'Vehicle.Size'],\n",
              "      dtype='object')"
            ]
          },
          "metadata": {},
          "execution_count": 29
        }
      ],
      "source": [
        "categorical_cols"
      ]
    },
    {
      "cell_type": "code",
      "execution_count": 30,
      "metadata": {
        "id": "XpCyxfulwwH1"
      },
      "outputs": [],
      "source": [
        "sic=SimpleImputer(strategy='most_frequent')\n",
        "x_train[categorical_cols]=sic.fit_transform(x_train[categorical_cols])"
      ]
    },
    {
      "cell_type": "code",
      "execution_count": 31,
      "metadata": {
        "colab": {
          "base_uri": "https://localhost:8080/",
          "height": 891
        },
        "id": "3ilzNoxFyebS",
        "outputId": "5007352c-e058-47e5-dd65-ec80ac0c2ae2"
      },
      "outputs": [
        {
          "output_type": "execute_result",
          "data": {
            "text/plain": [
              "<Axes: >"
            ]
          },
          "metadata": {},
          "execution_count": 31
        },
        {
          "output_type": "display_data",
          "data": {
            "text/plain": [
              "<Figure size 1000x800 with 2 Axes>"
            ],
            "image/png": "[encoded data removed]"
          },
          "metadata": {}
        }
      ],
      "source": [
        "plt.figure(figsize=(10,8))\n",
        "sns.heatmap(x_train.isna())\n",
        "# no null values"
      ]
    },
    {
      "cell_type": "code",
      "execution_count": 32,
      "metadata": {
        "id": "ewPydBexyhTp"
      },
      "outputs": [],
      "source": [
        "# lets fill the y_train data which is a numerical column"
      ]
    },
    {
      "cell_type": "code",
      "execution_count": 33,
      "metadata": {
        "id": "boZnF3suwFUz"
      },
      "outputs": [],
      "source": [
        "sii=SimpleImputer(strategy='median')\n",
        "y_train[['Customer.Lifetime.Value']]=sii.fit_transform(y_train[['Customer.Lifetime.Value']])"
      ]
    },
    {
      "cell_type": "code",
      "execution_count": 34,
      "metadata": {
        "colab": {
          "base_uri": "https://localhost:8080/"
        },
        "id": "FJfHnJgRwZ0I",
        "outputId": "d4275fa2-05a0-4ade-8e39-95ae2620899d"
      },
      "outputs": [
        {
          "output_type": "execute_result",
          "data": {
            "text/plain": [
              "Customer.Lifetime.Value    0\n",
              "dtype: int64"
            ]
          },
          "metadata": {},
          "execution_count": 34
        }
      ],
      "source": [
        "y_train[['Customer.Lifetime.Value']].isna().sum()"
      ]
    },
    {
      "cell_type": "markdown",
      "metadata": {
        "id": "xgIcUhUkkcyk"
      },
      "source": [
        "#### Lets see if there are outliers or not using boxplot"
      ]
    },
    {
      "cell_type": "code",
      "execution_count": 35,
      "metadata": {
        "colab": {
          "base_uri": "https://localhost:8080/"
        },
        "id": "VOGtTdzzlffW",
        "outputId": "87f87980-f4b8-464c-94e0-625d837a7171"
      },
      "outputs": [
        {
          "output_type": "execute_result",
          "data": {
            "text/plain": [
              "Index(['Income', 'Monthly.Premium.Auto', 'Total.Claim.Amount'], dtype='object')"
            ]
          },
          "metadata": {},
          "execution_count": 35
        }
      ],
      "source": [
        "numerical_cols"
      ]
    },
    {
      "cell_type": "code",
      "execution_count": 36,
      "metadata": {
        "id": "ufN1nFTqji_K"
      },
      "outputs": [],
      "source": [
        "# outliers can only be seen in numerical colums"
      ]
    },
    {
      "cell_type": "code",
      "execution_count": 37,
      "metadata": {
        "id": "Sp1cf4prnD2D"
      },
      "outputs": [],
      "source": [
        "def whiskers(x):\n",
        "    IQR1=np.quantile(x,0.75)-np.quantile(x,0.25)\n",
        "    print(\"IQR :\",IQR1)\n",
        "    upper_whishker=(np.quantile(x,0.75)+(1.5)*IQR1)\n",
        "    print(\"upper_whishker:\",upper_whishker)\n",
        "    lower_whishker=(np.quantile(x,0.25)-(1.5)*IQR1)\n",
        "    print(\"lower_whishker :\",lower_whishker)\n",
        "    print(\"total number of data points above upper whishker :\",(x>upper_whishker).sum())\n",
        "    print(\"total number of data points below the lower whishker \",(x<lower_whishker).sum())"
      ]
    },
    {
      "cell_type": "code",
      "execution_count": 38,
      "metadata": {
        "colab": {
          "base_uri": "https://localhost:8080/",
          "height": 448
        },
        "id": "vmrSV-cjk7b7",
        "outputId": "f3e7d5f6-918a-414c-ac43-d8b701480cb2"
      },
      "outputs": [
        {
          "output_type": "execute_result",
          "data": {
            "text/plain": [
              "<Axes: >"
            ]
          },
          "metadata": {},
          "execution_count": 38
        },
        {
          "output_type": "display_data",
          "data": {
            "text/plain": [
              "<Figure size 640x480 with 1 Axes>"
            ],
            "image/png": "[encoded data removed]"
          },
          "metadata": {}
        }
      ],
      "source": [
        "sns.boxplot(x_train['Income'])\n",
        "# have outlers or influential point"
      ]
    },
    {
      "cell_type": "code",
      "execution_count": 39,
      "metadata": {
        "colab": {
          "base_uri": "https://localhost:8080/"
        },
        "id": "2ZWJEmSlnby9",
        "outputId": "9b071b7f-72de-4969-adf7-42711bbc0108"
      },
      "outputs": [
        {
          "output_type": "stream",
          "name": "stdout",
          "text": [
            "IQR : 61994.0\n",
            "upper_whishker: 154985.0\n",
            "lower_whishker : -92991.0\n",
            "total number of data points above upper whishker : 0\n",
            "total number of data points below the lower whishker  0\n"
          ]
        }
      ],
      "source": [
        "whiskers(x_train['Income'])"
      ]
    },
    {
      "cell_type": "code",
      "execution_count": 40,
      "metadata": {
        "colab": {
          "base_uri": "https://localhost:8080/",
          "height": 448
        },
        "id": "TEguTVNllKzN",
        "outputId": "1a8611a5-1766-40bb-f840-b893b77ce7eb"
      },
      "outputs": [
        {
          "output_type": "execute_result",
          "data": {
            "text/plain": [
              "<Axes: >"
            ]
          },
          "metadata": {},
          "execution_count": 40
        },
        {
          "output_type": "display_data",
          "data": {
            "text/plain": [
              "<Figure size 640x480 with 1 Axes>"
            ],
            "image/png": "[encoded data removed]"
          },
          "metadata": {}
        }
      ],
      "source": [
        "sns.boxplot(x_train['Monthly.Premium.Auto'])\n",
        "# don't have any outlers or influential point"
      ]
    },
    {
      "cell_type": "code",
      "execution_count": 41,
      "metadata": {
        "colab": {
          "base_uri": "https://localhost:8080/"
        },
        "id": "oXRwbvaiopsA",
        "outputId": "fd54676b-776e-4af7-9ee4-145a8d3ca6d4"
      },
      "outputs": [
        {
          "output_type": "stream",
          "name": "stdout",
          "text": [
            "IQR : 38.0\n",
            "upper_whishker: 164.0\n",
            "lower_whishker : 12.0\n",
            "total number of data points above upper whishker : 326\n",
            "total number of data points below the lower whishker  0\n"
          ]
        }
      ],
      "source": [
        "whiskers(x_train['Monthly.Premium.Auto'])"
      ]
    },
    {
      "cell_type": "code",
      "execution_count": 42,
      "metadata": {
        "colab": {
          "base_uri": "https://localhost:8080/",
          "height": 449
        },
        "id": "PctaenBbl9WY",
        "outputId": "4703e9ef-7d80-47e1-8936-faa0685b8331"
      },
      "outputs": [
        {
          "output_type": "execute_result",
          "data": {
            "text/plain": [
              "<Axes: >"
            ]
          },
          "metadata": {},
          "execution_count": 42
        },
        {
          "output_type": "display_data",
          "data": {
            "text/plain": [
              "<Figure size 640x480 with 1 Axes>"
            ],
            "image/png": "[encoded data removed]"
          },
          "metadata": {}
        }
      ],
      "source": [
        "sns.boxplot(x_train['Total.Claim.Amount'])\n",
        "# have any outliers or influential point"
      ]
    },
    {
      "cell_type": "code",
      "execution_count": 43,
      "metadata": {
        "colab": {
          "base_uri": "https://localhost:8080/"
        },
        "id": "lBDf4kVWmFiw",
        "outputId": "fcd530e4-0165-44d3-9c2b-d28843909827"
      },
      "outputs": [
        {
          "output_type": "stream",
          "name": "stdout",
          "text": [
            "IQR : 270.75037575\n",
            "upper_whishker: 958.125563625\n",
            "lower_whishker : -124.87593937499997\n",
            "total number of data points above upper whishker : 348\n",
            "total number of data points below the lower whishker  0\n"
          ]
        }
      ],
      "source": [
        "whiskers(x_train['Total.Claim.Amount'])"
      ]
    },
    {
      "cell_type": "code",
      "execution_count": 44,
      "metadata": {
        "id": "jASIRg4So21R"
      },
      "outputs": [],
      "source": [
        "# All are related to the income so may be they are not outliers."
      ]
    },
    {
      "cell_type": "markdown",
      "metadata": {
        "id": "lpVR3KqZ1NAA"
      },
      "source": [
        "### Standardization\n",
        "\n",
        "##### to make our model fast during the training we need to do standardization"
      ]
    },
    {
      "cell_type": "code",
      "execution_count": 45,
      "metadata": {
        "id": "3UmRzRkn0_JM"
      },
      "outputs": [],
      "source": [
        "from sklearn.preprocessing import StandardScaler"
      ]
    },
    {
      "cell_type": "code",
      "execution_count": 46,
      "metadata": {
        "id": "OBDdq7Qs0--Z"
      },
      "outputs": [],
      "source": [
        "scaler=StandardScaler()\n",
        "x_train[numerical_cols]=scaler.fit_transform(x_train[numerical_cols])"
      ]
    },
    {
      "cell_type": "code",
      "execution_count": 47,
      "metadata": {
        "colab": {
          "base_uri": "https://localhost:8080/",
          "height": 206
        },
        "id": "nCeYLpCK7s22",
        "outputId": "15081a90-a619-470b-b569-8f198f6a4723"
      },
      "outputs": [
        {
          "output_type": "execute_result",
          "data": {
            "text/plain": [
              "        Income  Monthly.Premium.Auto  Total.Claim.Amount\n",
              "1688 -1.247703             -0.284805           -0.133205\n",
              "5495  0.414690              1.158925            0.651813\n",
              "550  -0.173605              6.151825            4.539874\n",
              "7732  1.940515              0.737837            0.396261\n",
              "6304  0.393430              0.677682            0.391128"
            ],
            "text/html": [
              "\n",
              "  <div id=\"df-266e7685-a321-4b8f-82c5-c10a573329a6\">\n",
              "    <div class=\"colab-df-container\">\n",
              "      <div>\n",
              "<style scoped>\n",
              "    .dataframe tbody tr th:only-of-type {\n",
              "        vertical-align: middle;\n",
              "    }\n",
              "\n",
              "    .dataframe tbody tr th {\n",
              "        vertical-align: top;\n",
              "    }\n",
              "\n",
              "    .dataframe thead th {\n",
              "        text-align: right;\n",
              "    }\n",
              "</style>\n",
              "<table border=\"1\" class=\"dataframe\">\n",
              "  <thead>\n",
              "    <tr style=\"text-align: right;\">\n",
              "      <th></th>\n",
              "      <th>Income</th>\n",
              "      <th>Monthly.Premium.Auto</th>\n",
              "      <th>Total.Claim.Amount</th>\n",
              "    </tr>\n",
              "  </thead>\n",
              "  <tbody>\n",
              "    <tr>\n",
              "      <th>1688</th>\n",
              "      <td>-1.247703</td>\n",
              "      <td>-0.284805</td>\n",
              "      <td>-0.133205</td>\n",
              "    </tr>\n",
              "    <tr>\n",
              "      <th>5495</th>\n",
              "      <td>0.414690</td>\n",
              "      <td>1.158925</td>\n",
              "      <td>0.651813</td>\n",
              "    </tr>\n",
              "    <tr>\n",
              "      <th>550</th>\n",
              "      <td>-0.173605</td>\n",
              "      <td>6.151825</td>\n",
              "      <td>4.539874</td>\n",
              "    </tr>\n",
              "    <tr>\n",
              "      <th>7732</th>\n",
              "      <td>1.940515</td>\n",
              "      <td>0.737837</td>\n",
              "      <td>0.396261</td>\n",
              "    </tr>\n",
              "    <tr>\n",
              "      <th>6304</th>\n",
              "      <td>0.393430</td>\n",
              "      <td>0.677682</td>\n",
              "      <td>0.391128</td>\n",
              "    </tr>\n",
              "  </tbody>\n",
              "</table>\n",
              "</div>\n",
              "      <button class=\"colab-df-convert\" onclick=\"convertToInteractive('df-266e7685-a321-4b8f-82c5-c10a573329a6')\"\n",
              "              title=\"Convert this dataframe to an interactive table.\"\n",
              "              style=\"display:none;\">\n",
              "        \n",
              "  <svg xmlns=\"http://www.w3.org/2000/svg\" height=\"24px\"viewBox=\"0 0 24 24\"\n",
              "       width=\"24px\">\n",
              "    <path d=\"M0 0h24v24H0V0z\" fill=\"none\"/>\n",
              "    <path d=\"M18.56 5.44l.94 2.06.94-2.06 2.06-.94-2.06-.94-.94-2.06-.94 2.06-2.06.94zm-11 1L8.5 8.5l.94-2.06 2.06-.94-2.06-.94L8.5 2.5l-.94 2.06-2.06.94zm10 10l.94 2.06.94-2.06 2.06-.94-2.06-.94-.94-2.06-.94 2.06-2.06.94z\"/><path d=\"M17.41 7.96l-1.37-1.37c-.4-.4-.92-.59-1.43-.59-.52 0-1.04.2-1.43.59L10.3 9.45l-7.72 7.72c-.78.78-.78 2.05 0 2.83L4 21.41c.39.39.9.59 1.41.59.51 0 1.02-.2 1.41-.59l7.78-7.78 2.81-2.81c.8-.78.8-2.07 0-2.86zM5.41 20L4 18.59l7.72-7.72 1.47 1.35L5.41 20z\"/>\n",
              "  </svg>\n",
              "      </button>\n",
              "      \n",
              "  <style>\n",
              "    .colab-df-container {\n",
              "      display:flex;\n",
              "      flex-wrap:wrap;\n",
              "      gap: 12px;\n",
              "    }\n",
              "\n",
              "    .colab-df-convert {\n",
              "      background-color: #E8F0FE;\n",
              "      border: none;\n",
              "      border-radius: 50%;\n",
              "      cursor: pointer;\n",
              "      display: none;\n",
              "      fill: #1967D2;\n",
              "      height: 32px;\n",
              "      padding: 0 0 0 0;\n",
              "      width: 32px;\n",
              "    }\n",
              "\n",
              "    .colab-df-convert:hover {\n",
              "      background-color: #E2EBFA;\n",
              "      box-shadow: 0px 1px 2px rgba(60, 64, 67, 0.3), 0px 1px 3px 1px rgba(60, 64, 67, 0.15);\n",
              "      fill: #174EA6;\n",
              "    }\n",
              "\n",
              "    [theme=dark] .colab-df-convert {\n",
              "      background-color: #3B4455;\n",
              "      fill: #D2E3FC;\n",
              "    }\n",
              "\n",
              "    [theme=dark] .colab-df-convert:hover {\n",
              "      background-color: #434B5C;\n",
              "      box-shadow: 0px 1px 3px 1px rgba(0, 0, 0, 0.15);\n",
              "      filter: drop-shadow(0px 1px 2px rgba(0, 0, 0, 0.3));\n",
              "      fill: #FFFFFF;\n",
              "    }\n",
              "  </style>\n",
              "\n",
              "      <script>\n",
              "        const buttonEl =\n",
              "          document.querySelector('#df-266e7685-a321-4b8f-82c5-c10a573329a6 button.colab-df-convert');\n",
              "        buttonEl.style.display =\n",
              "          google.colab.kernel.accessAllowed ? 'block' : 'none';\n",
              "\n",
              "        async function convertToInteractive(key) {\n",
              "          const element = document.querySelector('#df-266e7685-a321-4b8f-82c5-c10a573329a6');\n",
              "          const dataTable =\n",
              "            await google.colab.kernel.invokeFunction('convertToInteractive',\n",
              "                                                     [key], {});\n",
              "          if (!dataTable) return;\n",
              "\n",
              "          const docLinkHtml = 'Like what you see? Visit the ' +\n",
              "            '<a target=\"_blank\" href=https://colab.research.google.com/notebooks/data_table.ipynb>data table notebook</a>'\n",
              "            + ' to learn more about interactive tables.';\n",
              "          element.innerHTML = '';\n",
              "          dataTable['output_type'] = 'display_data';\n",
              "          await google.colab.output.renderOutput(dataTable, element);\n",
              "          const docLink = document.createElement('div');\n",
              "          docLink.innerHTML = docLinkHtml;\n",
              "          element.appendChild(docLink);\n",
              "        }\n",
              "      </script>\n",
              "    </div>\n",
              "  </div>\n",
              "  "
            ]
          },
          "metadata": {},
          "execution_count": 47
        }
      ],
      "source": [
        "x_train[numerical_cols].head()"
      ]
    },
    {
      "cell_type": "code",
      "execution_count": 48,
      "metadata": {
        "id": "fs5T_jahCa7r"
      },
      "outputs": [],
      "source": [
        "scaler_y=StandardScaler()\n",
        "y_train[['Customer.Lifetime.Value']]=scaler_y.fit_transform(y_train[['Customer.Lifetime.Value']])"
      ]
    },
    {
      "cell_type": "code",
      "execution_count": 49,
      "metadata": {
        "id": "6Z7CcosfC3wu"
      },
      "outputs": [],
      "source": [
        "# y_train[['Customer.Lifetime.Value']] = scaler_y.inverse_transform(y_train[['Customer.Lifetime.Value']])\n",
        "\n",
        "# to detransform it we can use this code"
      ]
    },
    {
      "cell_type": "code",
      "execution_count": 49,
      "metadata": {
        "id": "7_wQjLAfDz8G"
      },
      "outputs": [],
      "source": []
    },
    {
      "cell_type": "markdown",
      "metadata": {
        "id": "Pz6Skq9OD0xT"
      },
      "source": [
        "#### Dummification\n",
        "\n",
        "##### as our system can't process the cateorical variables we have to convert them into numericals\n",
        "\n",
        "##### the process of converting the categorical variables are called dummification"
      ]
    },
    {
      "cell_type": "code",
      "execution_count": 50,
      "metadata": {
        "id": "rMSN2e_yDz4j"
      },
      "outputs": [],
      "source": [
        "# dummification can be done for categorical variables\n",
        "# categorical variables are three types\n",
        "\n",
        "# nominal - variables having data points which don't have any order (no of childern in a family - 2,1,5)\n",
        "# ordinal - variables having data points which have a specific order (rating - 5,4,3,2,1)\n",
        "\n",
        "# nominal can be handle using OneHotEncoder \n",
        "# ordinal can be handle using  ordinal encoder\n",
        "# if our target is categorical then we have to use label encoder.\n",
        "\n",
        "# or  we can also do one hot encoder for every categorical varible.\n",
        "# if we had very few categories in a feature we can go with one hot encoder. (becasue this doesnot causes the curse of dimensionality )\n",
        "# if we had very high categories in a feature we can go with their respective method."
      ]
    },
    {
      "cell_type": "code",
      "execution_count": 51,
      "metadata": {
        "colab": {
          "base_uri": "https://localhost:8080/"
        },
        "id": "QXBIM_7dFPRN",
        "outputId": "dae31f67-b753-4b83-ea53-0d691263682d"
      },
      "outputs": [
        {
          "output_type": "execute_result",
          "data": {
            "text/plain": [
              "Index(['Coverage', 'Education', 'EmploymentStatus', 'Gender', 'Location.Code',\n",
              "       'Marital.Status', 'Months.Since.Last.Claim',\n",
              "       'Months.Since.Policy.Inception', 'Number.of.Open.Complaints',\n",
              "       'Number.of.Policies', 'Policy.Type', 'Policy', 'Renew.Offer.Type',\n",
              "       'Sales.Channel', 'Vehicle.Class', 'Vehicle.Size'],\n",
              "      dtype='object')"
            ]
          },
          "metadata": {},
          "execution_count": 51
        }
      ],
      "source": [
        "categorical_cols"
      ]
    },
    {
      "cell_type": "code",
      "execution_count": 52,
      "metadata": {
        "colab": {
          "base_uri": "https://localhost:8080/",
          "height": 256
        },
        "id": "8gKynB6sFWVU",
        "outputId": "c4896ee2-84dc-4b34-902d-09f0a7f7e032"
      },
      "outputs": [
        {
          "output_type": "execute_result",
          "data": {
            "text/plain": [
              "       Coverage Education EmploymentStatus Gender Location.Code  \\\n",
              "count      6864      6864             6864   6864          6864   \n",
              "unique        3         5                5      2             3   \n",
              "top       Basic  Bachelor         Employed      F      Suburban   \n",
              "freq       4380      2176             4304   3538          4430   \n",
              "\n",
              "       Marital.Status  Months.Since.Last.Claim  Months.Since.Policy.Inception  \\\n",
              "count            6864                     6864                           6864   \n",
              "unique              3                       36                            100   \n",
              "top           Married                        3                             61   \n",
              "freq             4059                      281                            111   \n",
              "\n",
              "        Number.of.Open.Complaints  Number.of.Policies    Policy.Type  \\\n",
              "count                      6864.0              6864.0           6864   \n",
              "unique                        6.0                 9.0              3   \n",
              "top                           0.0                 1.0  Personal Auto   \n",
              "freq                       5564.0              2494.0           5256   \n",
              "\n",
              "             Policy Renew.Offer.Type Sales.Channel  Vehicle.Class  \\\n",
              "count          6864             6864          6864           6864   \n",
              "unique            9                4             4              6   \n",
              "top     Personal L3           Offer1         Agent  Four-Door Car   \n",
              "freq           2649             2862          2662           3487   \n",
              "\n",
              "        Vehicle.Size  \n",
              "count         6864.0  \n",
              "unique           3.0  \n",
              "top              2.0  \n",
              "freq          4814.0  "
            ],
            "text/html": [
              "\n",
              "  <div id=\"df-3ba6e635-55ce-475b-923c-3eb444f0677f\">\n",
              "    <div class=\"colab-df-container\">\n",
              "      <div>\n",
              "<style scoped>\n",
              "    .dataframe tbody tr th:only-of-type {\n",
              "        vertical-align: middle;\n",
              "    }\n",
              "\n",
              "    .dataframe tbody tr th {\n",
              "        vertical-align: top;\n",
              "    }\n",
              "\n",
              "    .dataframe thead th {\n",
              "        text-align: right;\n",
              "    }\n",
              "</style>\n",
              "<table border=\"1\" class=\"dataframe\">\n",
              "  <thead>\n",
              "    <tr style=\"text-align: right;\">\n",
              "      <th></th>\n",
              "      <th>Coverage</th>\n",
              "      <th>Education</th>\n",
              "      <th>EmploymentStatus</th>\n",
              "      <th>Gender</th>\n",
              "      <th>Location.Code</th>\n",
              "      <th>Marital.Status</th>\n",
              "      <th>Months.Since.Last.Claim</th>\n",
              "      <th>Months.Since.Policy.Inception</th>\n",
              "      <th>Number.of.Open.Complaints</th>\n",
              "      <th>Number.of.Policies</th>\n",
              "      <th>Policy.Type</th>\n",
              "      <th>Policy</th>\n",
              "      <th>Renew.Offer.Type</th>\n",
              "      <th>Sales.Channel</th>\n",
              "      <th>Vehicle.Class</th>\n",
              "      <th>Vehicle.Size</th>\n",
              "    </tr>\n",
              "  </thead>\n",
              "  <tbody>\n",
              "    <tr>\n",
              "      <th>count</th>\n",
              "      <td>6864</td>\n",
              "      <td>6864</td>\n",
              "      <td>6864</td>\n",
              "      <td>6864</td>\n",
              "      <td>6864</td>\n",
              "      <td>6864</td>\n",
              "      <td>6864</td>\n",
              "      <td>6864</td>\n",
              "      <td>6864.0</td>\n",
              "      <td>6864.0</td>\n",
              "      <td>6864</td>\n",
              "      <td>6864</td>\n",
              "      <td>6864</td>\n",
              "      <td>6864</td>\n",
              "      <td>6864</td>\n",
              "      <td>6864.0</td>\n",
              "    </tr>\n",
              "    <tr>\n",
              "      <th>unique</th>\n",
              "      <td>3</td>\n",
              "      <td>5</td>\n",
              "      <td>5</td>\n",
              "      <td>2</td>\n",
              "      <td>3</td>\n",
              "      <td>3</td>\n",
              "      <td>36</td>\n",
              "      <td>100</td>\n",
              "      <td>6.0</td>\n",
              "      <td>9.0</td>\n",
              "      <td>3</td>\n",
              "      <td>9</td>\n",
              "      <td>4</td>\n",
              "      <td>4</td>\n",
              "      <td>6</td>\n",
              "      <td>3.0</td>\n",
              "    </tr>\n",
              "    <tr>\n",
              "      <th>top</th>\n",
              "      <td>Basic</td>\n",
              "      <td>Bachelor</td>\n",
              "      <td>Employed</td>\n",
              "      <td>F</td>\n",
              "      <td>Suburban</td>\n",
              "      <td>Married</td>\n",
              "      <td>3</td>\n",
              "      <td>61</td>\n",
              "      <td>0.0</td>\n",
              "      <td>1.0</td>\n",
              "      <td>Personal Auto</td>\n",
              "      <td>Personal L3</td>\n",
              "      <td>Offer1</td>\n",
              "      <td>Agent</td>\n",
              "      <td>Four-Door Car</td>\n",
              "      <td>2.0</td>\n",
              "    </tr>\n",
              "    <tr>\n",
              "      <th>freq</th>\n",
              "      <td>4380</td>\n",
              "      <td>2176</td>\n",
              "      <td>4304</td>\n",
              "      <td>3538</td>\n",
              "      <td>4430</td>\n",
              "      <td>4059</td>\n",
              "      <td>281</td>\n",
              "      <td>111</td>\n",
              "      <td>5564.0</td>\n",
              "      <td>2494.0</td>\n",
              "      <td>5256</td>\n",
              "      <td>2649</td>\n",
              "      <td>2862</td>\n",
              "      <td>2662</td>\n",
              "      <td>3487</td>\n",
              "      <td>4814.0</td>\n",
              "    </tr>\n",
              "  </tbody>\n",
              "</table>\n",
              "</div>\n",
              "      <button class=\"colab-df-convert\" onclick=\"convertToInteractive('df-3ba6e635-55ce-475b-923c-3eb444f0677f')\"\n",
              "              title=\"Convert this dataframe to an interactive table.\"\n",
              "              style=\"display:none;\">\n",
              "        \n",
              "  <svg xmlns=\"http://www.w3.org/2000/svg\" height=\"24px\"viewBox=\"0 0 24 24\"\n",
              "       width=\"24px\">\n",
              "    <path d=\"M0 0h24v24H0V0z\" fill=\"none\"/>\n",
              "    <path d=\"M18.56 5.44l.94 2.06.94-2.06 2.06-.94-2.06-.94-.94-2.06-.94 2.06-2.06.94zm-11 1L8.5 8.5l.94-2.06 2.06-.94-2.06-.94L8.5 2.5l-.94 2.06-2.06.94zm10 10l.94 2.06.94-2.06 2.06-.94-2.06-.94-.94-2.06-.94 2.06-2.06.94z\"/><path d=\"M17.41 7.96l-1.37-1.37c-.4-.4-.92-.59-1.43-.59-.52 0-1.04.2-1.43.59L10.3 9.45l-7.72 7.72c-.78.78-.78 2.05 0 2.83L4 21.41c.39.39.9.59 1.41.59.51 0 1.02-.2 1.41-.59l7.78-7.78 2.81-2.81c.8-.78.8-2.07 0-2.86zM5.41 20L4 18.59l7.72-7.72 1.47 1.35L5.41 20z\"/>\n",
              "  </svg>\n",
              "      </button>\n",
              "      \n",
              "  <style>\n",
              "    .colab-df-container {\n",
              "      display:flex;\n",
              "      flex-wrap:wrap;\n",
              "      gap: 12px;\n",
              "    }\n",
              "\n",
              "    .colab-df-convert {\n",
              "      background-color: #E8F0FE;\n",
              "      border: none;\n",
              "      border-radius: 50%;\n",
              "      cursor: pointer;\n",
              "      display: none;\n",
              "      fill: #1967D2;\n",
              "      height: 32px;\n",
              "      padding: 0 0 0 0;\n",
              "      width: 32px;\n",
              "    }\n",
              "\n",
              "    .colab-df-convert:hover {\n",
              "      background-color: #E2EBFA;\n",
              "      box-shadow: 0px 1px 2px rgba(60, 64, 67, 0.3), 0px 1px 3px 1px rgba(60, 64, 67, 0.15);\n",
              "      fill: #174EA6;\n",
              "    }\n",
              "\n",
              "    [theme=dark] .colab-df-convert {\n",
              "      background-color: #3B4455;\n",
              "      fill: #D2E3FC;\n",
              "    }\n",
              "\n",
              "    [theme=dark] .colab-df-convert:hover {\n",
              "      background-color: #434B5C;\n",
              "      box-shadow: 0px 1px 3px 1px rgba(0, 0, 0, 0.15);\n",
              "      filter: drop-shadow(0px 1px 2px rgba(0, 0, 0, 0.3));\n",
              "      fill: #FFFFFF;\n",
              "    }\n",
              "  </style>\n",
              "\n",
              "      <script>\n",
              "        const buttonEl =\n",
              "          document.querySelector('#df-3ba6e635-55ce-475b-923c-3eb444f0677f button.colab-df-convert');\n",
              "        buttonEl.style.display =\n",
              "          google.colab.kernel.accessAllowed ? 'block' : 'none';\n",
              "\n",
              "        async function convertToInteractive(key) {\n",
              "          const element = document.querySelector('#df-3ba6e635-55ce-475b-923c-3eb444f0677f');\n",
              "          const dataTable =\n",
              "            await google.colab.kernel.invokeFunction('convertToInteractive',\n",
              "                                                     [key], {});\n",
              "          if (!dataTable) return;\n",
              "\n",
              "          const docLinkHtml = 'Like what you see? Visit the ' +\n",
              "            '<a target=\"_blank\" href=https://colab.research.google.com/notebooks/data_table.ipynb>data table notebook</a>'\n",
              "            + ' to learn more about interactive tables.';\n",
              "          element.innerHTML = '';\n",
              "          dataTable['output_type'] = 'display_data';\n",
              "          await google.colab.output.renderOutput(dataTable, element);\n",
              "          const docLink = document.createElement('div');\n",
              "          docLink.innerHTML = docLinkHtml;\n",
              "          element.appendChild(docLink);\n",
              "        }\n",
              "      </script>\n",
              "    </div>\n",
              "  </div>\n",
              "  "
            ]
          },
          "metadata": {},
          "execution_count": 52
        }
      ],
      "source": [
        "x_train[categorical_cols].describe()"
      ]
    },
    {
      "cell_type": "code",
      "execution_count": 53,
      "metadata": {
        "id": "s_AiDOf6DzwV"
      },
      "outputs": [],
      "source": [
        "onehot_cols=['Coverage','Education','EmploymentStatus','Gender','Location.Code','Marital.Status','Policy.Type', 'Policy', 'Renew.Offer.Type',\n",
        "       'Sales.Channel', 'Vehicle.Class','Vehicle.Size']\n",
        "ordinal_cols=['Months.Since.Last.Claim',\n",
        "       'Months.Since.Policy.Inception', 'Number.of.Open.Complaints',\n",
        "       'Number.of.Policies']"
      ]
    },
    {
      "cell_type": "code",
      "execution_count": 54,
      "metadata": {
        "id": "9PFoTV-aKQf-"
      },
      "outputs": [],
      "source": [
        "from sklearn.preprocessing import OneHotEncoder"
      ]
    },
    {
      "cell_type": "code",
      "execution_count": 55,
      "metadata": {
        "id": "IN39MR86KQco"
      },
      "outputs": [],
      "source": [
        "oe=OneHotEncoder(handle_unknown='ignore',drop='if_binary')\n",
        "one_hot_data=pd.DataFrame(oe.fit_transform(x_train[['Coverage','Education','EmploymentStatus','Gender','Location.Code','Marital.Status','Policy.Type', 'Policy', 'Renew.Offer.Type',\n",
        "'Sales.Channel', 'Vehicle.Class','Vehicle.Size']]).toarray(),columns=oe.get_feature_names_out())"
      ]
    },
    {
      "cell_type": "code",
      "execution_count": 56,
      "metadata": {
        "colab": {
          "base_uri": "https://localhost:8080/"
        },
        "id": "58pDdIfgOaSe",
        "outputId": "70a5da6b-ce7d-416b-d914-b8059f5e0dba"
      },
      "outputs": [
        {
          "output_type": "execute_result",
          "data": {
            "text/plain": [
              "Index(['Coverage_Basic', 'Coverage_Extended', 'Coverage_Premium',\n",
              "       'Education_Bachelor', 'Education_College', 'Education_Doctor',\n",
              "       'Education_High School or Below', 'Education_Master',\n",
              "       'EmploymentStatus_Disabled', 'EmploymentStatus_Employed',\n",
              "       'EmploymentStatus_Medical Leave', 'EmploymentStatus_Retired',\n",
              "       'EmploymentStatus_Unemployed', 'Gender_M', 'Location.Code_Rural',\n",
              "       'Location.Code_Suburban', 'Location.Code_Urban',\n",
              "       'Marital.Status_Divorced', 'Marital.Status_Married',\n",
              "       'Marital.Status_Single', 'Policy.Type_Corporate Auto',\n",
              "       'Policy.Type_Personal Auto', 'Policy.Type_Special Auto',\n",
              "       'Policy_Corporate L1', 'Policy_Corporate L2', 'Policy_Corporate L3',\n",
              "       'Policy_Personal L1', 'Policy_Personal L2', 'Policy_Personal L3',\n",
              "       'Policy_Special L1', 'Policy_Special L2', 'Policy_Special L3',\n",
              "       'Renew.Offer.Type_Offer1', 'Renew.Offer.Type_Offer2',\n",
              "       'Renew.Offer.Type_Offer3', 'Renew.Offer.Type_Offer4',\n",
              "       'Sales.Channel_Agent', 'Sales.Channel_Branch',\n",
              "       'Sales.Channel_Call Center', 'Sales.Channel_Web',\n",
              "       'Vehicle.Class_Four-Door Car', 'Vehicle.Class_Luxury Car',\n",
              "       'Vehicle.Class_Luxury SUV', 'Vehicle.Class_SUV',\n",
              "       'Vehicle.Class_Sports Car', 'Vehicle.Class_Two-Door Car',\n",
              "       'Vehicle.Size_1.0', 'Vehicle.Size_2.0', 'Vehicle.Size_3.0'],\n",
              "      dtype='object')"
            ]
          },
          "metadata": {},
          "execution_count": 56
        }
      ],
      "source": [
        "one_hot_data.columns"
      ]
    },
    {
      "cell_type": "code",
      "execution_count": 57,
      "metadata": {
        "id": "OZOTQdB5KQaM"
      },
      "outputs": [],
      "source": [
        "# lets do ordinal encoder\n",
        "\n",
        "from sklearn.preprocessing import OrdinalEncoder"
      ]
    },
    {
      "cell_type": "code",
      "execution_count": 58,
      "metadata": {
        "colab": {
          "base_uri": "https://localhost:8080/",
          "height": 206
        },
        "id": "aXR-wgdzP03n",
        "outputId": "b68b49d8-aed3-4195-dddb-2159e838146c"
      },
      "outputs": [
        {
          "output_type": "execute_result",
          "data": {
            "text/plain": [
              "     Months.Since.Last.Claim Months.Since.Policy.Inception  \\\n",
              "1688                      20                            32   \n",
              "5495                       0                            37   \n",
              "550                       24                            68   \n",
              "7732                      33                            81   \n",
              "6304                       1                            73   \n",
              "\n",
              "     Number.of.Open.Complaints Number.of.Policies  \n",
              "1688                       0.0                1.0  \n",
              "5495                       0.0                1.0  \n",
              "550                        0.0                1.0  \n",
              "7732                       0.0                6.0  \n",
              "6304                       0.0                1.0  "
            ],
            "text/html": [
              "\n",
              "  <div id=\"df-43e83292-215c-4881-8a6f-1805a3fc4f75\">\n",
              "    <div class=\"colab-df-container\">\n",
              "      <div>\n",
              "<style scoped>\n",
              "    .dataframe tbody tr th:only-of-type {\n",
              "        vertical-align: middle;\n",
              "    }\n",
              "\n",
              "    .dataframe tbody tr th {\n",
              "        vertical-align: top;\n",
              "    }\n",
              "\n",
              "    .dataframe thead th {\n",
              "        text-align: right;\n",
              "    }\n",
              "</style>\n",
              "<table border=\"1\" class=\"dataframe\">\n",
              "  <thead>\n",
              "    <tr style=\"text-align: right;\">\n",
              "      <th></th>\n",
              "      <th>Months.Since.Last.Claim</th>\n",
              "      <th>Months.Since.Policy.Inception</th>\n",
              "      <th>Number.of.Open.Complaints</th>\n",
              "      <th>Number.of.Policies</th>\n",
              "    </tr>\n",
              "  </thead>\n",
              "  <tbody>\n",
              "    <tr>\n",
              "      <th>1688</th>\n",
              "      <td>20</td>\n",
              "      <td>32</td>\n",
              "      <td>0.0</td>\n",
              "      <td>1.0</td>\n",
              "    </tr>\n",
              "    <tr>\n",
              "      <th>5495</th>\n",
              "      <td>0</td>\n",
              "      <td>37</td>\n",
              "      <td>0.0</td>\n",
              "      <td>1.0</td>\n",
              "    </tr>\n",
              "    <tr>\n",
              "      <th>550</th>\n",
              "      <td>24</td>\n",
              "      <td>68</td>\n",
              "      <td>0.0</td>\n",
              "      <td>1.0</td>\n",
              "    </tr>\n",
              "    <tr>\n",
              "      <th>7732</th>\n",
              "      <td>33</td>\n",
              "      <td>81</td>\n",
              "      <td>0.0</td>\n",
              "      <td>6.0</td>\n",
              "    </tr>\n",
              "    <tr>\n",
              "      <th>6304</th>\n",
              "      <td>1</td>\n",
              "      <td>73</td>\n",
              "      <td>0.0</td>\n",
              "      <td>1.0</td>\n",
              "    </tr>\n",
              "  </tbody>\n",
              "</table>\n",
              "</div>\n",
              "      <button class=\"colab-df-convert\" onclick=\"convertToInteractive('df-43e83292-215c-4881-8a6f-1805a3fc4f75')\"\n",
              "              title=\"Convert this dataframe to an interactive table.\"\n",
              "              style=\"display:none;\">\n",
              "        \n",
              "  <svg xmlns=\"http://www.w3.org/2000/svg\" height=\"24px\"viewBox=\"0 0 24 24\"\n",
              "       width=\"24px\">\n",
              "    <path d=\"M0 0h24v24H0V0z\" fill=\"none\"/>\n",
              "    <path d=\"M18.56 5.44l.94 2.06.94-2.06 2.06-.94-2.06-.94-.94-2.06-.94 2.06-2.06.94zm-11 1L8.5 8.5l.94-2.06 2.06-.94-2.06-.94L8.5 2.5l-.94 2.06-2.06.94zm10 10l.94 2.06.94-2.06 2.06-.94-2.06-.94-.94-2.06-.94 2.06-2.06.94z\"/><path d=\"M17.41 7.96l-1.37-1.37c-.4-.4-.92-.59-1.43-.59-.52 0-1.04.2-1.43.59L10.3 9.45l-7.72 7.72c-.78.78-.78 2.05 0 2.83L4 21.41c.39.39.9.59 1.41.59.51 0 1.02-.2 1.41-.59l7.78-7.78 2.81-2.81c.8-.78.8-2.07 0-2.86zM5.41 20L4 18.59l7.72-7.72 1.47 1.35L5.41 20z\"/>\n",
              "  </svg>\n",
              "      </button>\n",
              "      \n",
              "  <style>\n",
              "    .colab-df-container {\n",
              "      display:flex;\n",
              "      flex-wrap:wrap;\n",
              "      gap: 12px;\n",
              "    }\n",
              "\n",
              "    .colab-df-convert {\n",
              "      background-color: #E8F0FE;\n",
              "      border: none;\n",
              "      border-radius: 50%;\n",
              "      cursor: pointer;\n",
              "      display: none;\n",
              "      fill: #1967D2;\n",
              "      height: 32px;\n",
              "      padding: 0 0 0 0;\n",
              "      width: 32px;\n",
              "    }\n",
              "\n",
              "    .colab-df-convert:hover {\n",
              "      background-color: #E2EBFA;\n",
              "      box-shadow: 0px 1px 2px rgba(60, 64, 67, 0.3), 0px 1px 3px 1px rgba(60, 64, 67, 0.15);\n",
              "      fill: #174EA6;\n",
              "    }\n",
              "\n",
              "    [theme=dark] .colab-df-convert {\n",
              "      background-color: #3B4455;\n",
              "      fill: #D2E3FC;\n",
              "    }\n",
              "\n",
              "    [theme=dark] .colab-df-convert:hover {\n",
              "      background-color: #434B5C;\n",
              "      box-shadow: 0px 1px 3px 1px rgba(0, 0, 0, 0.15);\n",
              "      filter: drop-shadow(0px 1px 2px rgba(0, 0, 0, 0.3));\n",
              "      fill: #FFFFFF;\n",
              "    }\n",
              "  </style>\n",
              "\n",
              "      <script>\n",
              "        const buttonEl =\n",
              "          document.querySelector('#df-43e83292-215c-4881-8a6f-1805a3fc4f75 button.colab-df-convert');\n",
              "        buttonEl.style.display =\n",
              "          google.colab.kernel.accessAllowed ? 'block' : 'none';\n",
              "\n",
              "        async function convertToInteractive(key) {\n",
              "          const element = document.querySelector('#df-43e83292-215c-4881-8a6f-1805a3fc4f75');\n",
              "          const dataTable =\n",
              "            await google.colab.kernel.invokeFunction('convertToInteractive',\n",
              "                                                     [key], {});\n",
              "          if (!dataTable) return;\n",
              "\n",
              "          const docLinkHtml = 'Like what you see? Visit the ' +\n",
              "            '<a target=\"_blank\" href=https://colab.research.google.com/notebooks/data_table.ipynb>data table notebook</a>'\n",
              "            + ' to learn more about interactive tables.';\n",
              "          element.innerHTML = '';\n",
              "          dataTable['output_type'] = 'display_data';\n",
              "          await google.colab.output.renderOutput(dataTable, element);\n",
              "          const docLink = document.createElement('div');\n",
              "          docLink.innerHTML = docLinkHtml;\n",
              "          element.appendChild(docLink);\n",
              "        }\n",
              "      </script>\n",
              "    </div>\n",
              "  </div>\n",
              "  "
            ]
          },
          "metadata": {},
          "execution_count": 58
        }
      ],
      "source": [
        "x_train[ordinal_cols].head()"
      ]
    },
    {
      "cell_type": "code",
      "execution_count": 59,
      "metadata": {
        "id": "lhQGM8uuPNN6"
      },
      "outputs": [],
      "source": [
        "ordinal=OrdinalEncoder()\n",
        "x_train[ordinal_cols]=ordinal.fit_transform(x_train[ordinal_cols])"
      ]
    },
    {
      "cell_type": "code",
      "execution_count": 60,
      "metadata": {
        "colab": {
          "base_uri": "https://localhost:8080/"
        },
        "id": "n5uSVqX7RxvM",
        "outputId": "5f1b2ebf-53e0-4bcd-82d9-3d7727cb4744"
      },
      "outputs": [
        {
          "output_type": "execute_result",
          "data": {
            "text/plain": [
              "(6864, 19)"
            ]
          },
          "metadata": {},
          "execution_count": 60
        }
      ],
      "source": [
        "x_train.shape"
      ]
    },
    {
      "cell_type": "code",
      "execution_count": 61,
      "metadata": {
        "colab": {
          "base_uri": "https://localhost:8080/",
          "height": 409
        },
        "id": "UMTLS4KxSh9w",
        "outputId": "76dcf504-3278-476d-e8f9-1ac9a7dabf17"
      },
      "outputs": [
        {
          "output_type": "execute_result",
          "data": {
            "text/plain": [
              "      Coverage             Education EmploymentStatus Gender    Income  \\\n",
              "1688  Extended                Master       Unemployed      F -1.247703   \n",
              "5495  Extended  High School or Below         Employed      M  0.414690   \n",
              "550    Premium               College         Employed      M -0.173605   \n",
              "7732   Premium  High School or Below         Employed      F  1.940515   \n",
              "6304     Basic  High School or Below         Employed      F  0.393430   \n",
              "\n",
              "     Location.Code Marital.Status  Monthly.Premium.Auto  \\\n",
              "1688      Suburban        Married             -0.284805   \n",
              "5495      Suburban        Married              1.158925   \n",
              "550       Suburban        Married              6.151825   \n",
              "7732         Urban        Married              0.737837   \n",
              "6304      Suburban       Divorced              0.677682   \n",
              "\n",
              "      Months.Since.Last.Claim  Months.Since.Policy.Inception  \\\n",
              "1688                     20.0                           32.0   \n",
              "5495                      0.0                           37.0   \n",
              "550                      24.0                           68.0   \n",
              "7732                     33.0                           81.0   \n",
              "6304                      1.0                           73.0   \n",
              "\n",
              "      Number.of.Open.Complaints  Number.of.Policies    Policy.Type  \\\n",
              "1688                        0.0                 0.0  Personal Auto   \n",
              "5495                        0.0                 0.0  Personal Auto   \n",
              "550                         0.0                 0.0  Personal Auto   \n",
              "7732                        0.0                 5.0  Personal Auto   \n",
              "6304                        0.0                 0.0  Personal Auto   \n",
              "\n",
              "           Policy Renew.Offer.Type Sales.Channel  Total.Claim.Amount  \\\n",
              "1688  Personal L1           Offer2   Call Center           -0.133205   \n",
              "5495  Personal L2           Offer1        Branch            0.651813   \n",
              "550   Personal L1           Offer1         Agent            4.539874   \n",
              "7732  Personal L1           Offer1   Call Center            0.396261   \n",
              "6304  Personal L2           Offer3           Web            0.391128   \n",
              "\n",
              "      Vehicle.Class Vehicle.Size  \n",
              "1688  Four-Door Car          2.0  \n",
              "5495            SUV          2.0  \n",
              "550      Luxury Car          2.0  \n",
              "7732  Four-Door Car          2.0  \n",
              "6304            SUV          1.0  "
            ],
            "text/html": [
              "\n",
              "  <div id=\"df-476ec29b-5bc0-4c45-a2ca-75d3d8dd1800\">\n",
              "    <div class=\"colab-df-container\">\n",
              "      <div>\n",
              "<style scoped>\n",
              "    .dataframe tbody tr th:only-of-type {\n",
              "        vertical-align: middle;\n",
              "    }\n",
              "\n",
              "    .dataframe tbody tr th {\n",
              "        vertical-align: top;\n",
              "    }\n",
              "\n",
              "    .dataframe thead th {\n",
              "        text-align: right;\n",
              "    }\n",
              "</style>\n",
              "<table border=\"1\" class=\"dataframe\">\n",
              "  <thead>\n",
              "    <tr style=\"text-align: right;\">\n",
              "      <th></th>\n",
              "      <th>Coverage</th>\n",
              "      <th>Education</th>\n",
              "      <th>EmploymentStatus</th>\n",
              "      <th>Gender</th>\n",
              "      <th>Income</th>\n",
              "      <th>Location.Code</th>\n",
              "      <th>Marital.Status</th>\n",
              "      <th>Monthly.Premium.Auto</th>\n",
              "      <th>Months.Since.Last.Claim</th>\n",
              "      <th>Months.Since.Policy.Inception</th>\n",
              "      <th>Number.of.Open.Complaints</th>\n",
              "      <th>Number.of.Policies</th>\n",
              "      <th>Policy.Type</th>\n",
              "      <th>Policy</th>\n",
              "      <th>Renew.Offer.Type</th>\n",
              "      <th>Sales.Channel</th>\n",
              "      <th>Total.Claim.Amount</th>\n",
              "      <th>Vehicle.Class</th>\n",
              "      <th>Vehicle.Size</th>\n",
              "    </tr>\n",
              "  </thead>\n",
              "  <tbody>\n",
              "    <tr>\n",
              "      <th>1688</th>\n",
              "      <td>Extended</td>\n",
              "      <td>Master</td>\n",
              "      <td>Unemployed</td>\n",
              "      <td>F</td>\n",
              "      <td>-1.247703</td>\n",
              "      <td>Suburban</td>\n",
              "      <td>Married</td>\n",
              "      <td>-0.284805</td>\n",
              "      <td>20.0</td>\n",
              "      <td>32.0</td>\n",
              "      <td>0.0</td>\n",
              "      <td>0.0</td>\n",
              "      <td>Personal Auto</td>\n",
              "      <td>Personal L1</td>\n",
              "      <td>Offer2</td>\n",
              "      <td>Call Center</td>\n",
              "      <td>-0.133205</td>\n",
              "      <td>Four-Door Car</td>\n",
              "      <td>2.0</td>\n",
              "    </tr>\n",
              "    <tr>\n",
              "      <th>5495</th>\n",
              "      <td>Extended</td>\n",
              "      <td>High School or Below</td>\n",
              "      <td>Employed</td>\n",
              "      <td>M</td>\n",
              "      <td>0.414690</td>\n",
              "      <td>Suburban</td>\n",
              "      <td>Married</td>\n",
              "      <td>1.158925</td>\n",
              "      <td>0.0</td>\n",
              "      <td>37.0</td>\n",
              "      <td>0.0</td>\n",
              "      <td>0.0</td>\n",
              "      <td>Personal Auto</td>\n",
              "      <td>Personal L2</td>\n",
              "      <td>Offer1</td>\n",
              "      <td>Branch</td>\n",
              "      <td>0.651813</td>\n",
              "      <td>SUV</td>\n",
              "      <td>2.0</td>\n",
              "    </tr>\n",
              "    <tr>\n",
              "      <th>550</th>\n",
              "      <td>Premium</td>\n",
              "      <td>College</td>\n",
              "      <td>Employed</td>\n",
              "      <td>M</td>\n",
              "      <td>-0.173605</td>\n",
              "      <td>Suburban</td>\n",
              "      <td>Married</td>\n",
              "      <td>6.151825</td>\n",
              "      <td>24.0</td>\n",
              "      <td>68.0</td>\n",
              "      <td>0.0</td>\n",
              "      <td>0.0</td>\n",
              "      <td>Personal Auto</td>\n",
              "      <td>Personal L1</td>\n",
              "      <td>Offer1</td>\n",
              "      <td>Agent</td>\n",
              "      <td>4.539874</td>\n",
              "      <td>Luxury Car</td>\n",
              "      <td>2.0</td>\n",
              "    </tr>\n",
              "    <tr>\n",
              "      <th>7732</th>\n",
              "      <td>Premium</td>\n",
              "      <td>High School or Below</td>\n",
              "      <td>Employed</td>\n",
              "      <td>F</td>\n",
              "      <td>1.940515</td>\n",
              "      <td>Urban</td>\n",
              "      <td>Married</td>\n",
              "      <td>0.737837</td>\n",
              "      <td>33.0</td>\n",
              "      <td>81.0</td>\n",
              "      <td>0.0</td>\n",
              "      <td>5.0</td>\n",
              "      <td>Personal Auto</td>\n",
              "      <td>Personal L1</td>\n",
              "      <td>Offer1</td>\n",
              "      <td>Call Center</td>\n",
              "      <td>0.396261</td>\n",
              "      <td>Four-Door Car</td>\n",
              "      <td>2.0</td>\n",
              "    </tr>\n",
              "    <tr>\n",
              "      <th>6304</th>\n",
              "      <td>Basic</td>\n",
              "      <td>High School or Below</td>\n",
              "      <td>Employed</td>\n",
              "      <td>F</td>\n",
              "      <td>0.393430</td>\n",
              "      <td>Suburban</td>\n",
              "      <td>Divorced</td>\n",
              "      <td>0.677682</td>\n",
              "      <td>1.0</td>\n",
              "      <td>73.0</td>\n",
              "      <td>0.0</td>\n",
              "      <td>0.0</td>\n",
              "      <td>Personal Auto</td>\n",
              "      <td>Personal L2</td>\n",
              "      <td>Offer3</td>\n",
              "      <td>Web</td>\n",
              "      <td>0.391128</td>\n",
              "      <td>SUV</td>\n",
              "      <td>1.0</td>\n",
              "    </tr>\n",
              "  </tbody>\n",
              "</table>\n",
              "</div>\n",
              "      <button class=\"colab-df-convert\" onclick=\"convertToInteractive('df-476ec29b-5bc0-4c45-a2ca-75d3d8dd1800')\"\n",
              "              title=\"Convert this dataframe to an interactive table.\"\n",
              "              style=\"display:none;\">\n",
              "        \n",
              "  <svg xmlns=\"http://www.w3.org/2000/svg\" height=\"24px\"viewBox=\"0 0 24 24\"\n",
              "       width=\"24px\">\n",
              "    <path d=\"M0 0h24v24H0V0z\" fill=\"none\"/>\n",
              "    <path d=\"M18.56 5.44l.94 2.06.94-2.06 2.06-.94-2.06-.94-.94-2.06-.94 2.06-2.06.94zm-11 1L8.5 8.5l.94-2.06 2.06-.94-2.06-.94L8.5 2.5l-.94 2.06-2.06.94zm10 10l.94 2.06.94-2.06 2.06-.94-2.06-.94-.94-2.06-.94 2.06-2.06.94z\"/><path d=\"M17.41 7.96l-1.37-1.37c-.4-.4-.92-.59-1.43-.59-.52 0-1.04.2-1.43.59L10.3 9.45l-7.72 7.72c-.78.78-.78 2.05 0 2.83L4 21.41c.39.39.9.59 1.41.59.51 0 1.02-.2 1.41-.59l7.78-7.78 2.81-2.81c.8-.78.8-2.07 0-2.86zM5.41 20L4 18.59l7.72-7.72 1.47 1.35L5.41 20z\"/>\n",
              "  </svg>\n",
              "      </button>\n",
              "      \n",
              "  <style>\n",
              "    .colab-df-container {\n",
              "      display:flex;\n",
              "      flex-wrap:wrap;\n",
              "      gap: 12px;\n",
              "    }\n",
              "\n",
              "    .colab-df-convert {\n",
              "      background-color: #E8F0FE;\n",
              "      border: none;\n",
              "      border-radius: 50%;\n",
              "      cursor: pointer;\n",
              "      display: none;\n",
              "      fill: #1967D2;\n",
              "      height: 32px;\n",
              "      padding: 0 0 0 0;\n",
              "      width: 32px;\n",
              "    }\n",
              "\n",
              "    .colab-df-convert:hover {\n",
              "      background-color: #E2EBFA;\n",
              "      box-shadow: 0px 1px 2px rgba(60, 64, 67, 0.3), 0px 1px 3px 1px rgba(60, 64, 67, 0.15);\n",
              "      fill: #174EA6;\n",
              "    }\n",
              "\n",
              "    [theme=dark] .colab-df-convert {\n",
              "      background-color: #3B4455;\n",
              "      fill: #D2E3FC;\n",
              "    }\n",
              "\n",
              "    [theme=dark] .colab-df-convert:hover {\n",
              "      background-color: #434B5C;\n",
              "      box-shadow: 0px 1px 3px 1px rgba(0, 0, 0, 0.15);\n",
              "      filter: drop-shadow(0px 1px 2px rgba(0, 0, 0, 0.3));\n",
              "      fill: #FFFFFF;\n",
              "    }\n",
              "  </style>\n",
              "\n",
              "      <script>\n",
              "        const buttonEl =\n",
              "          document.querySelector('#df-476ec29b-5bc0-4c45-a2ca-75d3d8dd1800 button.colab-df-convert');\n",
              "        buttonEl.style.display =\n",
              "          google.colab.kernel.accessAllowed ? 'block' : 'none';\n",
              "\n",
              "        async function convertToInteractive(key) {\n",
              "          const element = document.querySelector('#df-476ec29b-5bc0-4c45-a2ca-75d3d8dd1800');\n",
              "          const dataTable =\n",
              "            await google.colab.kernel.invokeFunction('convertToInteractive',\n",
              "                                                     [key], {});\n",
              "          if (!dataTable) return;\n",
              "\n",
              "          const docLinkHtml = 'Like what you see? Visit the ' +\n",
              "            '<a target=\"_blank\" href=https://colab.research.google.com/notebooks/data_table.ipynb>data table notebook</a>'\n",
              "            + ' to learn more about interactive tables.';\n",
              "          element.innerHTML = '';\n",
              "          dataTable['output_type'] = 'display_data';\n",
              "          await google.colab.output.renderOutput(dataTable, element);\n",
              "          const docLink = document.createElement('div');\n",
              "          docLink.innerHTML = docLinkHtml;\n",
              "          element.appendChild(docLink);\n",
              "        }\n",
              "      </script>\n",
              "    </div>\n",
              "  </div>\n",
              "  "
            ]
          },
          "metadata": {},
          "execution_count": 61
        }
      ],
      "source": [
        "x_train.head()"
      ]
    },
    {
      "cell_type": "code",
      "execution_count": 62,
      "metadata": {
        "colab": {
          "base_uri": "https://localhost:8080/"
        },
        "id": "aionwlcSR_rj",
        "outputId": "5e661fbb-6e28-4e83-f1f9-7961d6fca798"
      },
      "outputs": [
        {
          "output_type": "execute_result",
          "data": {
            "text/plain": [
              "(6864, 49)"
            ]
          },
          "metadata": {},
          "execution_count": 62
        }
      ],
      "source": [
        "one_hot_data.shape"
      ]
    },
    {
      "cell_type": "code",
      "execution_count": 63,
      "metadata": {
        "colab": {
          "base_uri": "https://localhost:8080/",
          "height": 334
        },
        "id": "c9EmrawjSmZ4",
        "outputId": "38b6fe9e-3c4b-4587-ec49-30b058f61c19"
      },
      "outputs": [
        {
          "output_type": "execute_result",
          "data": {
            "text/plain": [
              "   Coverage_Basic  Coverage_Extended  Coverage_Premium  Education_Bachelor  \\\n",
              "0             0.0                1.0               0.0                 0.0   \n",
              "1             0.0                1.0               0.0                 0.0   \n",
              "2             0.0                0.0               1.0                 0.0   \n",
              "3             0.0                0.0               1.0                 0.0   \n",
              "4             1.0                0.0               0.0                 0.0   \n",
              "\n",
              "   Education_College  Education_Doctor  Education_High School or Below  \\\n",
              "0                0.0               0.0                             0.0   \n",
              "1                0.0               0.0                             1.0   \n",
              "2                1.0               0.0                             0.0   \n",
              "3                0.0               0.0                             1.0   \n",
              "4                0.0               0.0                             1.0   \n",
              "\n",
              "   Education_Master  EmploymentStatus_Disabled  EmploymentStatus_Employed  \\\n",
              "0               1.0                        0.0                        0.0   \n",
              "1               0.0                        0.0                        1.0   \n",
              "2               0.0                        0.0                        1.0   \n",
              "3               0.0                        0.0                        1.0   \n",
              "4               0.0                        0.0                        1.0   \n",
              "\n",
              "   ...  Sales.Channel_Web  Vehicle.Class_Four-Door Car  \\\n",
              "0  ...                0.0                          1.0   \n",
              "1  ...                0.0                          0.0   \n",
              "2  ...                0.0                          0.0   \n",
              "3  ...                0.0                          1.0   \n",
              "4  ...                1.0                          0.0   \n",
              "\n",
              "   Vehicle.Class_Luxury Car  Vehicle.Class_Luxury SUV  Vehicle.Class_SUV  \\\n",
              "0                       0.0                       0.0                0.0   \n",
              "1                       0.0                       0.0                1.0   \n",
              "2                       1.0                       0.0                0.0   \n",
              "3                       0.0                       0.0                0.0   \n",
              "4                       0.0                       0.0                1.0   \n",
              "\n",
              "   Vehicle.Class_Sports Car  Vehicle.Class_Two-Door Car  Vehicle.Size_1.0  \\\n",
              "0                       0.0                         0.0               0.0   \n",
              "1                       0.0                         0.0               0.0   \n",
              "2                       0.0                         0.0               0.0   \n",
              "3                       0.0                         0.0               0.0   \n",
              "4                       0.0                         0.0               1.0   \n",
              "\n",
              "   Vehicle.Size_2.0  Vehicle.Size_3.0  \n",
              "0               1.0               0.0  \n",
              "1               1.0               0.0  \n",
              "2               1.0               0.0  \n",
              "3               1.0               0.0  \n",
              "4               0.0               0.0  \n",
              "\n",
              "[5 rows x 49 columns]"
            ],
            "text/html": [
              "\n",
              "  <div id=\"df-89b58603-9d0c-4f5b-9dc4-bb9cf2536557\">\n",
              "    <div class=\"colab-df-container\">\n",
              "      <div>\n",
              "<style scoped>\n",
              "    .dataframe tbody tr th:only-of-type {\n",
              "        vertical-align: middle;\n",
              "    }\n",
              "\n",
              "    .dataframe tbody tr th {\n",
              "        vertical-align: top;\n",
              "    }\n",
              "\n",
              "    .dataframe thead th {\n",
              "        text-align: right;\n",
              "    }\n",
              "</style>\n",
              "<table border=\"1\" class=\"dataframe\">\n",
              "  <thead>\n",
              "    <tr style=\"text-align: right;\">\n",
              "      <th></th>\n",
              "      <th>Coverage_Basic</th>\n",
              "      <th>Coverage_Extended</th>\n",
              "      <th>Coverage_Premium</th>\n",
              "      <th>Education_Bachelor</th>\n",
              "      <th>Education_College</th>\n",
              "      <th>Education_Doctor</th>\n",
              "      <th>Education_High School or Below</th>\n",
              "      <th>Education_Master</th>\n",
              "      <th>EmploymentStatus_Disabled</th>\n",
              "      <th>EmploymentStatus_Employed</th>\n",
              "      <th>...</th>\n",
              "      <th>Sales.Channel_Web</th>\n",
              "      <th>Vehicle.Class_Four-Door Car</th>\n",
              "      <th>Vehicle.Class_Luxury Car</th>\n",
              "      <th>Vehicle.Class_Luxury SUV</th>\n",
              "      <th>Vehicle.Class_SUV</th>\n",
              "      <th>Vehicle.Class_Sports Car</th>\n",
              "      <th>Vehicle.Class_Two-Door Car</th>\n",
              "      <th>Vehicle.Size_1.0</th>\n",
              "      <th>Vehicle.Size_2.0</th>\n",
              "      <th>Vehicle.Size_3.0</th>\n",
              "    </tr>\n",
              "  </thead>\n",
              "  <tbody>\n",
              "    <tr>\n",
              "      <th>0</th>\n",
              "      <td>0.0</td>\n",
              "      <td>1.0</td>\n",
              "      <td>0.0</td>\n",
              "      <td>0.0</td>\n",
              "      <td>0.0</td>\n",
              "      <td>0.0</td>\n",
              "      <td>0.0</td>\n",
              "      <td>1.0</td>\n",
              "      <td>0.0</td>\n",
              "      <td>0.0</td>\n",
              "      <td>...</td>\n",
              "      <td>0.0</td>\n",
              "      <td>1.0</td>\n",
              "      <td>0.0</td>\n",
              "      <td>0.0</td>\n",
              "      <td>0.0</td>\n",
              "      <td>0.0</td>\n",
              "      <td>0.0</td>\n",
              "      <td>0.0</td>\n",
              "      <td>1.0</td>\n",
              "      <td>0.0</td>\n",
              "    </tr>\n",
              "    <tr>\n",
              "      <th>1</th>\n",
              "      <td>0.0</td>\n",
              "      <td>1.0</td>\n",
              "      <td>0.0</td>\n",
              "      <td>0.0</td>\n",
              "      <td>0.0</td>\n",
              "      <td>0.0</td>\n",
              "      <td>1.0</td>\n",
              "      <td>0.0</td>\n",
              "      <td>0.0</td>\n",
              "      <td>1.0</td>\n",
              "      <td>...</td>\n",
              "      <td>0.0</td>\n",
              "      <td>0.0</td>\n",
              "      <td>0.0</td>\n",
              "      <td>0.0</td>\n",
              "      <td>1.0</td>\n",
              "      <td>0.0</td>\n",
              "      <td>0.0</td>\n",
              "      <td>0.0</td>\n",
              "      <td>1.0</td>\n",
              "      <td>0.0</td>\n",
              "    </tr>\n",
              "    <tr>\n",
              "      <th>2</th>\n",
              "      <td>0.0</td>\n",
              "      <td>0.0</td>\n",
              "      <td>1.0</td>\n",
              "      <td>0.0</td>\n",
              "      <td>1.0</td>\n",
              "      <td>0.0</td>\n",
              "      <td>0.0</td>\n",
              "      <td>0.0</td>\n",
              "      <td>0.0</td>\n",
              "      <td>1.0</td>\n",
              "      <td>...</td>\n",
              "      <td>0.0</td>\n",
              "      <td>0.0</td>\n",
              "      <td>1.0</td>\n",
              "      <td>0.0</td>\n",
              "      <td>0.0</td>\n",
              "      <td>0.0</td>\n",
              "      <td>0.0</td>\n",
              "      <td>0.0</td>\n",
              "      <td>1.0</td>\n",
              "      <td>0.0</td>\n",
              "    </tr>\n",
              "    <tr>\n",
              "      <th>3</th>\n",
              "      <td>0.0</td>\n",
              "      <td>0.0</td>\n",
              "      <td>1.0</td>\n",
              "      <td>0.0</td>\n",
              "      <td>0.0</td>\n",
              "      <td>0.0</td>\n",
              "      <td>1.0</td>\n",
              "      <td>0.0</td>\n",
              "      <td>0.0</td>\n",
              "      <td>1.0</td>\n",
              "      <td>...</td>\n",
              "      <td>0.0</td>\n",
              "      <td>1.0</td>\n",
              "      <td>0.0</td>\n",
              "      <td>0.0</td>\n",
              "      <td>0.0</td>\n",
              "      <td>0.0</td>\n",
              "      <td>0.0</td>\n",
              "      <td>0.0</td>\n",
              "      <td>1.0</td>\n",
              "      <td>0.0</td>\n",
              "    </tr>\n",
              "    <tr>\n",
              "      <th>4</th>\n",
              "      <td>1.0</td>\n",
              "      <td>0.0</td>\n",
              "      <td>0.0</td>\n",
              "      <td>0.0</td>\n",
              "      <td>0.0</td>\n",
              "      <td>0.0</td>\n",
              "      <td>1.0</td>\n",
              "      <td>0.0</td>\n",
              "      <td>0.0</td>\n",
              "      <td>1.0</td>\n",
              "      <td>...</td>\n",
              "      <td>1.0</td>\n",
              "      <td>0.0</td>\n",
              "      <td>0.0</td>\n",
              "      <td>0.0</td>\n",
              "      <td>1.0</td>\n",
              "      <td>0.0</td>\n",
              "      <td>0.0</td>\n",
              "      <td>1.0</td>\n",
              "      <td>0.0</td>\n",
              "      <td>0.0</td>\n",
              "    </tr>\n",
              "  </tbody>\n",
              "</table>\n",
              "<p>5 rows × 49 columns</p>\n",
              "</div>\n",
              "      <button class=\"colab-df-convert\" onclick=\"convertToInteractive('df-89b58603-9d0c-4f5b-9dc4-bb9cf2536557')\"\n",
              "              title=\"Convert this dataframe to an interactive table.\"\n",
              "              style=\"display:none;\">\n",
              "        \n",
              "  <svg xmlns=\"http://www.w3.org/2000/svg\" height=\"24px\"viewBox=\"0 0 24 24\"\n",
              "       width=\"24px\">\n",
              "    <path d=\"M0 0h24v24H0V0z\" fill=\"none\"/>\n",
              "    <path d=\"M18.56 5.44l.94 2.06.94-2.06 2.06-.94-2.06-.94-.94-2.06-.94 2.06-2.06.94zm-11 1L8.5 8.5l.94-2.06 2.06-.94-2.06-.94L8.5 2.5l-.94 2.06-2.06.94zm10 10l.94 2.06.94-2.06 2.06-.94-2.06-.94-.94-2.06-.94 2.06-2.06.94z\"/><path d=\"M17.41 7.96l-1.37-1.37c-.4-.4-.92-.59-1.43-.59-.52 0-1.04.2-1.43.59L10.3 9.45l-7.72 7.72c-.78.78-.78 2.05 0 2.83L4 21.41c.39.39.9.59 1.41.59.51 0 1.02-.2 1.41-.59l7.78-7.78 2.81-2.81c.8-.78.8-2.07 0-2.86zM5.41 20L4 18.59l7.72-7.72 1.47 1.35L5.41 20z\"/>\n",
              "  </svg>\n",
              "      </button>\n",
              "      \n",
              "  <style>\n",
              "    .colab-df-container {\n",
              "      display:flex;\n",
              "      flex-wrap:wrap;\n",
              "      gap: 12px;\n",
              "    }\n",
              "\n",
              "    .colab-df-convert {\n",
              "      background-color: #E8F0FE;\n",
              "      border: none;\n",
              "      border-radius: 50%;\n",
              "      cursor: pointer;\n",
              "      display: none;\n",
              "      fill: #1967D2;\n",
              "      height: 32px;\n",
              "      padding: 0 0 0 0;\n",
              "      width: 32px;\n",
              "    }\n",
              "\n",
              "    .colab-df-convert:hover {\n",
              "      background-color: #E2EBFA;\n",
              "      box-shadow: 0px 1px 2px rgba(60, 64, 67, 0.3), 0px 1px 3px 1px rgba(60, 64, 67, 0.15);\n",
              "      fill: #174EA6;\n",
              "    }\n",
              "\n",
              "    [theme=dark] .colab-df-convert {\n",
              "      background-color: #3B4455;\n",
              "      fill: #D2E3FC;\n",
              "    }\n",
              "\n",
              "    [theme=dark] .colab-df-convert:hover {\n",
              "      background-color: #434B5C;\n",
              "      box-shadow: 0px 1px 3px 1px rgba(0, 0, 0, 0.15);\n",
              "      filter: drop-shadow(0px 1px 2px rgba(0, 0, 0, 0.3));\n",
              "      fill: #FFFFFF;\n",
              "    }\n",
              "  </style>\n",
              "\n",
              "      <script>\n",
              "        const buttonEl =\n",
              "          document.querySelector('#df-89b58603-9d0c-4f5b-9dc4-bb9cf2536557 button.colab-df-convert');\n",
              "        buttonEl.style.display =\n",
              "          google.colab.kernel.accessAllowed ? 'block' : 'none';\n",
              "\n",
              "        async function convertToInteractive(key) {\n",
              "          const element = document.querySelector('#df-89b58603-9d0c-4f5b-9dc4-bb9cf2536557');\n",
              "          const dataTable =\n",
              "            await google.colab.kernel.invokeFunction('convertToInteractive',\n",
              "                                                     [key], {});\n",
              "          if (!dataTable) return;\n",
              "\n",
              "          const docLinkHtml = 'Like what you see? Visit the ' +\n",
              "            '<a target=\"_blank\" href=https://colab.research.google.com/notebooks/data_table.ipynb>data table notebook</a>'\n",
              "            + ' to learn more about interactive tables.';\n",
              "          element.innerHTML = '';\n",
              "          dataTable['output_type'] = 'display_data';\n",
              "          await google.colab.output.renderOutput(dataTable, element);\n",
              "          const docLink = document.createElement('div');\n",
              "          docLink.innerHTML = docLinkHtml;\n",
              "          element.appendChild(docLink);\n",
              "        }\n",
              "      </script>\n",
              "    </div>\n",
              "  </div>\n",
              "  "
            ]
          },
          "metadata": {},
          "execution_count": 63
        }
      ],
      "source": [
        "one_hot_data.head()"
      ]
    },
    {
      "cell_type": "code",
      "execution_count": 64,
      "metadata": {
        "id": "RjWa89TKSvSE"
      },
      "outputs": [],
      "source": [
        "one_hot_data.set_index(x_train.index,inplace=True)"
      ]
    },
    {
      "cell_type": "code",
      "execution_count": 65,
      "metadata": {
        "id": "V5XX_fw8QGdA"
      },
      "outputs": [],
      "source": [
        "# lets concat the train data with one hot dummified data\n",
        "\n",
        "x_train_dummified=pd.concat([x_train,one_hot_data],axis=1)"
      ]
    },
    {
      "cell_type": "code",
      "execution_count": 66,
      "metadata": {
        "colab": {
          "base_uri": "https://localhost:8080/"
        },
        "id": "yLKKtyjqR0P6",
        "outputId": "2b5e9eaf-e10f-49bd-c5c9-4bcce1a63331"
      },
      "outputs": [
        {
          "output_type": "execute_result",
          "data": {
            "text/plain": [
              "(6864, 68)"
            ]
          },
          "metadata": {},
          "execution_count": 66
        }
      ],
      "source": [
        "x_train_dummified.shape"
      ]
    },
    {
      "cell_type": "code",
      "execution_count": 67,
      "metadata": {
        "id": "OnZSAqBvTTEw"
      },
      "outputs": [],
      "source": [
        "pd.set_option(\"display.max_columns\",None)"
      ]
    },
    {
      "cell_type": "code",
      "execution_count": 68,
      "metadata": {
        "colab": {
          "base_uri": "https://localhost:8080/",
          "height": 443
        },
        "id": "Gq7ylfiGTMaQ",
        "outputId": "bc1c5b70-4310-423e-c4d7-cf0e54664150"
      },
      "outputs": [
        {
          "output_type": "execute_result",
          "data": {
            "text/plain": [
              "      Coverage             Education EmploymentStatus Gender    Income  \\\n",
              "1688  Extended                Master       Unemployed      F -1.247703   \n",
              "5495  Extended  High School or Below         Employed      M  0.414690   \n",
              "550    Premium               College         Employed      M -0.173605   \n",
              "7732   Premium  High School or Below         Employed      F  1.940515   \n",
              "6304     Basic  High School or Below         Employed      F  0.393430   \n",
              "\n",
              "     Location.Code Marital.Status  Monthly.Premium.Auto  \\\n",
              "1688      Suburban        Married             -0.284805   \n",
              "5495      Suburban        Married              1.158925   \n",
              "550       Suburban        Married              6.151825   \n",
              "7732         Urban        Married              0.737837   \n",
              "6304      Suburban       Divorced              0.677682   \n",
              "\n",
              "      Months.Since.Last.Claim  Months.Since.Policy.Inception  \\\n",
              "1688                     20.0                           32.0   \n",
              "5495                      0.0                           37.0   \n",
              "550                      24.0                           68.0   \n",
              "7732                     33.0                           81.0   \n",
              "6304                      1.0                           73.0   \n",
              "\n",
              "      Number.of.Open.Complaints  Number.of.Policies    Policy.Type  \\\n",
              "1688                        0.0                 0.0  Personal Auto   \n",
              "5495                        0.0                 0.0  Personal Auto   \n",
              "550                         0.0                 0.0  Personal Auto   \n",
              "7732                        0.0                 5.0  Personal Auto   \n",
              "6304                        0.0                 0.0  Personal Auto   \n",
              "\n",
              "           Policy Renew.Offer.Type Sales.Channel  Total.Claim.Amount  \\\n",
              "1688  Personal L1           Offer2   Call Center           -0.133205   \n",
              "5495  Personal L2           Offer1        Branch            0.651813   \n",
              "550   Personal L1           Offer1         Agent            4.539874   \n",
              "7732  Personal L1           Offer1   Call Center            0.396261   \n",
              "6304  Personal L2           Offer3           Web            0.391128   \n",
              "\n",
              "      Vehicle.Class Vehicle.Size  Coverage_Basic  Coverage_Extended  \\\n",
              "1688  Four-Door Car          2.0             0.0                1.0   \n",
              "5495            SUV          2.0             0.0                1.0   \n",
              "550      Luxury Car          2.0             0.0                0.0   \n",
              "7732  Four-Door Car          2.0             0.0                0.0   \n",
              "6304            SUV          1.0             1.0                0.0   \n",
              "\n",
              "      Coverage_Premium  Education_Bachelor  Education_College  \\\n",
              "1688               0.0                 0.0                0.0   \n",
              "5495               0.0                 0.0                0.0   \n",
              "550                1.0                 0.0                1.0   \n",
              "7732               1.0                 0.0                0.0   \n",
              "6304               0.0                 0.0                0.0   \n",
              "\n",
              "      Education_Doctor  Education_High School or Below  Education_Master  \\\n",
              "1688               0.0                             0.0               1.0   \n",
              "5495               0.0                             1.0               0.0   \n",
              "550                0.0                             0.0               0.0   \n",
              "7732               0.0                             1.0               0.0   \n",
              "6304               0.0                             1.0               0.0   \n",
              "\n",
              "      EmploymentStatus_Disabled  EmploymentStatus_Employed  \\\n",
              "1688                        0.0                        0.0   \n",
              "5495                        0.0                        1.0   \n",
              "550                         0.0                        1.0   \n",
              "7732                        0.0                        1.0   \n",
              "6304                        0.0                        1.0   \n",
              "\n",
              "      EmploymentStatus_Medical Leave  EmploymentStatus_Retired  \\\n",
              "1688                             0.0                       0.0   \n",
              "5495                             0.0                       0.0   \n",
              "550                              0.0                       0.0   \n",
              "7732                             0.0                       0.0   \n",
              "6304                             0.0                       0.0   \n",
              "\n",
              "      EmploymentStatus_Unemployed  Gender_M  Location.Code_Rural  \\\n",
              "1688                          1.0       0.0                  0.0   \n",
              "5495                          0.0       1.0                  0.0   \n",
              "550                           0.0       1.0                  0.0   \n",
              "7732                          0.0       0.0                  0.0   \n",
              "6304                          0.0       0.0                  0.0   \n",
              "\n",
              "      Location.Code_Suburban  Location.Code_Urban  Marital.Status_Divorced  \\\n",
              "1688                     1.0                  0.0                      0.0   \n",
              "5495                     1.0                  0.0                      0.0   \n",
              "550                      1.0                  0.0                      0.0   \n",
              "7732                     0.0                  1.0                      0.0   \n",
              "6304                     1.0                  0.0                      1.0   \n",
              "\n",
              "      Marital.Status_Married  Marital.Status_Single  \\\n",
              "1688                     1.0                    0.0   \n",
              "5495                     1.0                    0.0   \n",
              "550                      1.0                    0.0   \n",
              "7732                     1.0                    0.0   \n",
              "6304                     0.0                    0.0   \n",
              "\n",
              "      Policy.Type_Corporate Auto  Policy.Type_Personal Auto  \\\n",
              "1688                         0.0                        1.0   \n",
              "5495                         0.0                        1.0   \n",
              "550                          0.0                        1.0   \n",
              "7732                         0.0                        1.0   \n",
              "6304                         0.0                        1.0   \n",
              "\n",
              "      Policy.Type_Special Auto  Policy_Corporate L1  Policy_Corporate L2  \\\n",
              "1688                       0.0                  0.0                  0.0   \n",
              "5495                       0.0                  0.0                  0.0   \n",
              "550                        0.0                  0.0                  0.0   \n",
              "7732                       0.0                  0.0                  0.0   \n",
              "6304                       0.0                  0.0                  0.0   \n",
              "\n",
              "      Policy_Corporate L3  Policy_Personal L1  Policy_Personal L2  \\\n",
              "1688                  0.0                 1.0                 0.0   \n",
              "5495                  0.0                 0.0                 1.0   \n",
              "550                   0.0                 1.0                 0.0   \n",
              "7732                  0.0                 1.0                 0.0   \n",
              "6304                  0.0                 0.0                 1.0   \n",
              "\n",
              "      Policy_Personal L3  Policy_Special L1  Policy_Special L2  \\\n",
              "1688                 0.0                0.0                0.0   \n",
              "5495                 0.0                0.0                0.0   \n",
              "550                  0.0                0.0                0.0   \n",
              "7732                 0.0                0.0                0.0   \n",
              "6304                 0.0                0.0                0.0   \n",
              "\n",
              "      Policy_Special L3  Renew.Offer.Type_Offer1  Renew.Offer.Type_Offer2  \\\n",
              "1688                0.0                      0.0                      1.0   \n",
              "5495                0.0                      1.0                      0.0   \n",
              "550                 0.0                      1.0                      0.0   \n",
              "7732                0.0                      1.0                      0.0   \n",
              "6304                0.0                      0.0                      0.0   \n",
              "\n",
              "      Renew.Offer.Type_Offer3  Renew.Offer.Type_Offer4  Sales.Channel_Agent  \\\n",
              "1688                      0.0                      0.0                  0.0   \n",
              "5495                      0.0                      0.0                  0.0   \n",
              "550                       0.0                      0.0                  1.0   \n",
              "7732                      0.0                      0.0                  0.0   \n",
              "6304                      1.0                      0.0                  0.0   \n",
              "\n",
              "      Sales.Channel_Branch  Sales.Channel_Call Center  Sales.Channel_Web  \\\n",
              "1688                   0.0                        1.0                0.0   \n",
              "5495                   1.0                        0.0                0.0   \n",
              "550                    0.0                        0.0                0.0   \n",
              "7732                   0.0                        1.0                0.0   \n",
              "6304                   0.0                        0.0                1.0   \n",
              "\n",
              "      Vehicle.Class_Four-Door Car  Vehicle.Class_Luxury Car  \\\n",
              "1688                          1.0                       0.0   \n",
              "5495                          0.0                       0.0   \n",
              "550                           0.0                       1.0   \n",
              "7732                          1.0                       0.0   \n",
              "6304                          0.0                       0.0   \n",
              "\n",
              "      Vehicle.Class_Luxury SUV  Vehicle.Class_SUV  Vehicle.Class_Sports Car  \\\n",
              "1688                       0.0                0.0                       0.0   \n",
              "5495                       0.0                1.0                       0.0   \n",
              "550                        0.0                0.0                       0.0   \n",
              "7732                       0.0                0.0                       0.0   \n",
              "6304                       0.0                1.0                       0.0   \n",
              "\n",
              "      Vehicle.Class_Two-Door Car  Vehicle.Size_1.0  Vehicle.Size_2.0  \\\n",
              "1688                         0.0               0.0               1.0   \n",
              "5495                         0.0               0.0               1.0   \n",
              "550                          0.0               0.0               1.0   \n",
              "7732                         0.0               0.0               1.0   \n",
              "6304                         0.0               1.0               0.0   \n",
              "\n",
              "      Vehicle.Size_3.0  \n",
              "1688               0.0  \n",
              "5495               0.0  \n",
              "550                0.0  \n",
              "7732               0.0  \n",
              "6304               0.0  "
            ],
            "text/html": [
              "\n",
              "  <div id=\"df-636d0462-8deb-4b97-8278-690817b736d0\">\n",
              "    <div class=\"colab-df-container\">\n",
              "      <div>\n",
              "<style scoped>\n",
              "    .dataframe tbody tr th:only-of-type {\n",
              "        vertical-align: middle;\n",
              "    }\n",
              "\n",
              "    .dataframe tbody tr th {\n",
              "        vertical-align: top;\n",
              "    }\n",
              "\n",
              "    .dataframe thead th {\n",
              "        text-align: right;\n",
              "    }\n",
              "</style>\n",
              "<table border=\"1\" class=\"dataframe\">\n",
              "  <thead>\n",
              "    <tr style=\"text-align: right;\">\n",
              "      <th></th>\n",
              "      <th>Coverage</th>\n",
              "      <th>Education</th>\n",
              "      <th>EmploymentStatus</th>\n",
              "      <th>Gender</th>\n",
              "      <th>Income</th>\n",
              "      <th>Location.Code</th>\n",
              "      <th>Marital.Status</th>\n",
              "      <th>Monthly.Premium.Auto</th>\n",
              "      <th>Months.Since.Last.Claim</th>\n",
              "      <th>Months.Since.Policy.Inception</th>\n",
              "      <th>Number.of.Open.Complaints</th>\n",
              "      <th>Number.of.Policies</th>\n",
              "      <th>Policy.Type</th>\n",
              "      <th>Policy</th>\n",
              "      <th>Renew.Offer.Type</th>\n",
              "      <th>Sales.Channel</th>\n",
              "      <th>Total.Claim.Amount</th>\n",
              "      <th>Vehicle.Class</th>\n",
              "      <th>Vehicle.Size</th>\n",
              "      <th>Coverage_Basic</th>\n",
              "      <th>Coverage_Extended</th>\n",
              "      <th>Coverage_Premium</th>\n",
              "      <th>Education_Bachelor</th>\n",
              "      <th>Education_College</th>\n",
              "      <th>Education_Doctor</th>\n",
              "      <th>Education_High School or Below</th>\n",
              "      <th>Education_Master</th>\n",
              "      <th>EmploymentStatus_Disabled</th>\n",
              "      <th>EmploymentStatus_Employed</th>\n",
              "      <th>EmploymentStatus_Medical Leave</th>\n",
              "      <th>EmploymentStatus_Retired</th>\n",
              "      <th>EmploymentStatus_Unemployed</th>\n",
              "      <th>Gender_M</th>\n",
              "      <th>Location.Code_Rural</th>\n",
              "      <th>Location.Code_Suburban</th>\n",
              "      <th>Location.Code_Urban</th>\n",
              "      <th>Marital.Status_Divorced</th>\n",
              "      <th>Marital.Status_Married</th>\n",
              "      <th>Marital.Status_Single</th>\n",
              "      <th>Policy.Type_Corporate Auto</th>\n",
              "      <th>Policy.Type_Personal Auto</th>\n",
              "      <th>Policy.Type_Special Auto</th>\n",
              "      <th>Policy_Corporate L1</th>\n",
              "      <th>Policy_Corporate L2</th>\n",
              "      <th>Policy_Corporate L3</th>\n",
              "      <th>Policy_Personal L1</th>\n",
              "      <th>Policy_Personal L2</th>\n",
              "      <th>Policy_Personal L3</th>\n",
              "      <th>Policy_Special L1</th>\n",
              "      <th>Policy_Special L2</th>\n",
              "      <th>Policy_Special L3</th>\n",
              "      <th>Renew.Offer.Type_Offer1</th>\n",
              "      <th>Renew.Offer.Type_Offer2</th>\n",
              "      <th>Renew.Offer.Type_Offer3</th>\n",
              "      <th>Renew.Offer.Type_Offer4</th>\n",
              "      <th>Sales.Channel_Agent</th>\n",
              "      <th>Sales.Channel_Branch</th>\n",
              "      <th>Sales.Channel_Call Center</th>\n",
              "      <th>Sales.Channel_Web</th>\n",
              "      <th>Vehicle.Class_Four-Door Car</th>\n",
              "      <th>Vehicle.Class_Luxury Car</th>\n",
              "      <th>Vehicle.Class_Luxury SUV</th>\n",
              "      <th>Vehicle.Class_SUV</th>\n",
              "      <th>Vehicle.Class_Sports Car</th>\n",
              "      <th>Vehicle.Class_Two-Door Car</th>\n",
              "      <th>Vehicle.Size_1.0</th>\n",
              "      <th>Vehicle.Size_2.0</th>\n",
              "      <th>Vehicle.Size_3.0</th>\n",
              "    </tr>\n",
              "  </thead>\n",
              "  <tbody>\n",
              "    <tr>\n",
              "      <th>1688</th>\n",
              "      <td>Extended</td>\n",
              "      <td>Master</td>\n",
              "      <td>Unemployed</td>\n",
              "      <td>F</td>\n",
              "      <td>-1.247703</td>\n",
              "      <td>Suburban</td>\n",
              "      <td>Married</td>\n",
              "      <td>-0.284805</td>\n",
              "      <td>20.0</td>\n",
              "      <td>32.0</td>\n",
              "      <td>0.0</td>\n",
              "      <td>0.0</td>\n",
              "      <td>Personal Auto</td>\n",
              "      <td>Personal L1</td>\n",
              "      <td>Offer2</td>\n",
              "      <td>Call Center</td>\n",
              "      <td>-0.133205</td>\n",
              "      <td>Four-Door Car</td>\n",
              "      <td>2.0</td>\n",
              "      <td>0.0</td>\n",
              "      <td>1.0</td>\n",
              "      <td>0.0</td>\n",
              "      <td>0.0</td>\n",
              "      <td>0.0</td>\n",
              "      <td>0.0</td>\n",
              "      <td>0.0</td>\n",
              "      <td>1.0</td>\n",
              "      <td>0.0</td>\n",
              "      <td>0.0</td>\n",
              "      <td>0.0</td>\n",
              "      <td>0.0</td>\n",
              "      <td>1.0</td>\n",
              "      <td>0.0</td>\n",
              "      <td>0.0</td>\n",
              "      <td>1.0</td>\n",
              "      <td>0.0</td>\n",
              "      <td>0.0</td>\n",
              "      <td>1.0</td>\n",
              "      <td>0.0</td>\n",
              "      <td>0.0</td>\n",
              "      <td>1.0</td>\n",
              "      <td>0.0</td>\n",
              "      <td>0.0</td>\n",
              "      <td>0.0</td>\n",
              "      <td>0.0</td>\n",
              "      <td>1.0</td>\n",
              "      <td>0.0</td>\n",
              "      <td>0.0</td>\n",
              "      <td>0.0</td>\n",
              "      <td>0.0</td>\n",
              "      <td>0.0</td>\n",
              "      <td>0.0</td>\n",
              "      <td>1.0</td>\n",
              "      <td>0.0</td>\n",
              "      <td>0.0</td>\n",
              "      <td>0.0</td>\n",
              "      <td>0.0</td>\n",
              "      <td>1.0</td>\n",
              "      <td>0.0</td>\n",
              "      <td>1.0</td>\n",
              "      <td>0.0</td>\n",
              "      <td>0.0</td>\n",
              "      <td>0.0</td>\n",
              "      <td>0.0</td>\n",
              "      <td>0.0</td>\n",
              "      <td>0.0</td>\n",
              "      <td>1.0</td>\n",
              "      <td>0.0</td>\n",
              "    </tr>\n",
              "    <tr>\n",
              "      <th>5495</th>\n",
              "      <td>Extended</td>\n",
              "      <td>High School or Below</td>\n",
              "      <td>Employed</td>\n",
              "      <td>M</td>\n",
              "      <td>0.414690</td>\n",
              "      <td>Suburban</td>\n",
              "      <td>Married</td>\n",
              "      <td>1.158925</td>\n",
              "      <td>0.0</td>\n",
              "      <td>37.0</td>\n",
              "      <td>0.0</td>\n",
              "      <td>0.0</td>\n",
              "      <td>Personal Auto</td>\n",
              "      <td>Personal L2</td>\n",
              "      <td>Offer1</td>\n",
              "      <td>Branch</td>\n",
              "      <td>0.651813</td>\n",
              "      <td>SUV</td>\n",
              "      <td>2.0</td>\n",
              "      <td>0.0</td>\n",
              "      <td>1.0</td>\n",
              "      <td>0.0</td>\n",
              "      <td>0.0</td>\n",
              "      <td>0.0</td>\n",
              "      <td>0.0</td>\n",
              "      <td>1.0</td>\n",
              "      <td>0.0</td>\n",
              "      <td>0.0</td>\n",
              "      <td>1.0</td>\n",
              "      <td>0.0</td>\n",
              "      <td>0.0</td>\n",
              "      <td>0.0</td>\n",
              "      <td>1.0</td>\n",
              "      <td>0.0</td>\n",
              "      <td>1.0</td>\n",
              "      <td>0.0</td>\n",
              "      <td>0.0</td>\n",
              "      <td>1.0</td>\n",
              "      <td>0.0</td>\n",
              "      <td>0.0</td>\n",
              "      <td>1.0</td>\n",
              "      <td>0.0</td>\n",
              "      <td>0.0</td>\n",
              "      <td>0.0</td>\n",
              "      <td>0.0</td>\n",
              "      <td>0.0</td>\n",
              "      <td>1.0</td>\n",
              "      <td>0.0</td>\n",
              "      <td>0.0</td>\n",
              "      <td>0.0</td>\n",
              "      <td>0.0</td>\n",
              "      <td>1.0</td>\n",
              "      <td>0.0</td>\n",
              "      <td>0.0</td>\n",
              "      <td>0.0</td>\n",
              "      <td>0.0</td>\n",
              "      <td>1.0</td>\n",
              "      <td>0.0</td>\n",
              "      <td>0.0</td>\n",
              "      <td>0.0</td>\n",
              "      <td>0.0</td>\n",
              "      <td>0.0</td>\n",
              "      <td>1.0</td>\n",
              "      <td>0.0</td>\n",
              "      <td>0.0</td>\n",
              "      <td>0.0</td>\n",
              "      <td>1.0</td>\n",
              "      <td>0.0</td>\n",
              "    </tr>\n",
              "    <tr>\n",
              "      <th>550</th>\n",
              "      <td>Premium</td>\n",
              "      <td>College</td>\n",
              "      <td>Employed</td>\n",
              "      <td>M</td>\n",
              "      <td>-0.173605</td>\n",
              "      <td>Suburban</td>\n",
              "      <td>Married</td>\n",
              "      <td>6.151825</td>\n",
              "      <td>24.0</td>\n",
              "      <td>68.0</td>\n",
              "      <td>0.0</td>\n",
              "      <td>0.0</td>\n",
              "      <td>Personal Auto</td>\n",
              "      <td>Personal L1</td>\n",
              "      <td>Offer1</td>\n",
              "      <td>Agent</td>\n",
              "      <td>4.539874</td>\n",
              "      <td>Luxury Car</td>\n",
              "      <td>2.0</td>\n",
              "      <td>0.0</td>\n",
              "      <td>0.0</td>\n",
              "      <td>1.0</td>\n",
              "      <td>0.0</td>\n",
              "      <td>1.0</td>\n",
              "      <td>0.0</td>\n",
              "      <td>0.0</td>\n",
              "      <td>0.0</td>\n",
              "      <td>0.0</td>\n",
              "      <td>1.0</td>\n",
              "      <td>0.0</td>\n",
              "      <td>0.0</td>\n",
              "      <td>0.0</td>\n",
              "      <td>1.0</td>\n",
              "      <td>0.0</td>\n",
              "      <td>1.0</td>\n",
              "      <td>0.0</td>\n",
              "      <td>0.0</td>\n",
              "      <td>1.0</td>\n",
              "      <td>0.0</td>\n",
              "      <td>0.0</td>\n",
              "      <td>1.0</td>\n",
              "      <td>0.0</td>\n",
              "      <td>0.0</td>\n",
              "      <td>0.0</td>\n",
              "      <td>0.0</td>\n",
              "      <td>1.0</td>\n",
              "      <td>0.0</td>\n",
              "      <td>0.0</td>\n",
              "      <td>0.0</td>\n",
              "      <td>0.0</td>\n",
              "      <td>0.0</td>\n",
              "      <td>1.0</td>\n",
              "      <td>0.0</td>\n",
              "      <td>0.0</td>\n",
              "      <td>0.0</td>\n",
              "      <td>1.0</td>\n",
              "      <td>0.0</td>\n",
              "      <td>0.0</td>\n",
              "      <td>0.0</td>\n",
              "      <td>0.0</td>\n",
              "      <td>1.0</td>\n",
              "      <td>0.0</td>\n",
              "      <td>0.0</td>\n",
              "      <td>0.0</td>\n",
              "      <td>0.0</td>\n",
              "      <td>0.0</td>\n",
              "      <td>1.0</td>\n",
              "      <td>0.0</td>\n",
              "    </tr>\n",
              "    <tr>\n",
              "      <th>7732</th>\n",
              "      <td>Premium</td>\n",
              "      <td>High School or Below</td>\n",
              "      <td>Employed</td>\n",
              "      <td>F</td>\n",
              "      <td>1.940515</td>\n",
              "      <td>Urban</td>\n",
              "      <td>Married</td>\n",
              "      <td>0.737837</td>\n",
              "      <td>33.0</td>\n",
              "      <td>81.0</td>\n",
              "      <td>0.0</td>\n",
              "      <td>5.0</td>\n",
              "      <td>Personal Auto</td>\n",
              "      <td>Personal L1</td>\n",
              "      <td>Offer1</td>\n",
              "      <td>Call Center</td>\n",
              "      <td>0.396261</td>\n",
              "      <td>Four-Door Car</td>\n",
              "      <td>2.0</td>\n",
              "      <td>0.0</td>\n",
              "      <td>0.0</td>\n",
              "      <td>1.0</td>\n",
              "      <td>0.0</td>\n",
              "      <td>0.0</td>\n",
              "      <td>0.0</td>\n",
              "      <td>1.0</td>\n",
              "      <td>0.0</td>\n",
              "      <td>0.0</td>\n",
              "      <td>1.0</td>\n",
              "      <td>0.0</td>\n",
              "      <td>0.0</td>\n",
              "      <td>0.0</td>\n",
              "      <td>0.0</td>\n",
              "      <td>0.0</td>\n",
              "      <td>0.0</td>\n",
              "      <td>1.0</td>\n",
              "      <td>0.0</td>\n",
              "      <td>1.0</td>\n",
              "      <td>0.0</td>\n",
              "      <td>0.0</td>\n",
              "      <td>1.0</td>\n",
              "      <td>0.0</td>\n",
              "      <td>0.0</td>\n",
              "      <td>0.0</td>\n",
              "      <td>0.0</td>\n",
              "      <td>1.0</td>\n",
              "      <td>0.0</td>\n",
              "      <td>0.0</td>\n",
              "      <td>0.0</td>\n",
              "      <td>0.0</td>\n",
              "      <td>0.0</td>\n",
              "      <td>1.0</td>\n",
              "      <td>0.0</td>\n",
              "      <td>0.0</td>\n",
              "      <td>0.0</td>\n",
              "      <td>0.0</td>\n",
              "      <td>0.0</td>\n",
              "      <td>1.0</td>\n",
              "      <td>0.0</td>\n",
              "      <td>1.0</td>\n",
              "      <td>0.0</td>\n",
              "      <td>0.0</td>\n",
              "      <td>0.0</td>\n",
              "      <td>0.0</td>\n",
              "      <td>0.0</td>\n",
              "      <td>0.0</td>\n",
              "      <td>1.0</td>\n",
              "      <td>0.0</td>\n",
              "    </tr>\n",
              "    <tr>\n",
              "      <th>6304</th>\n",
              "      <td>Basic</td>\n",
              "      <td>High School or Below</td>\n",
              "      <td>Employed</td>\n",
              "      <td>F</td>\n",
              "      <td>0.393430</td>\n",
              "      <td>Suburban</td>\n",
              "      <td>Divorced</td>\n",
              "      <td>0.677682</td>\n",
              "      <td>1.0</td>\n",
              "      <td>73.0</td>\n",
              "      <td>0.0</td>\n",
              "      <td>0.0</td>\n",
              "      <td>Personal Auto</td>\n",
              "      <td>Personal L2</td>\n",
              "      <td>Offer3</td>\n",
              "      <td>Web</td>\n",
              "      <td>0.391128</td>\n",
              "      <td>SUV</td>\n",
              "      <td>1.0</td>\n",
              "      <td>1.0</td>\n",
              "      <td>0.0</td>\n",
              "      <td>0.0</td>\n",
              "      <td>0.0</td>\n",
              "      <td>0.0</td>\n",
              "      <td>0.0</td>\n",
              "      <td>1.0</td>\n",
              "      <td>0.0</td>\n",
              "      <td>0.0</td>\n",
              "      <td>1.0</td>\n",
              "      <td>0.0</td>\n",
              "      <td>0.0</td>\n",
              "      <td>0.0</td>\n",
              "      <td>0.0</td>\n",
              "      <td>0.0</td>\n",
              "      <td>1.0</td>\n",
              "      <td>0.0</td>\n",
              "      <td>1.0</td>\n",
              "      <td>0.0</td>\n",
              "      <td>0.0</td>\n",
              "      <td>0.0</td>\n",
              "      <td>1.0</td>\n",
              "      <td>0.0</td>\n",
              "      <td>0.0</td>\n",
              "      <td>0.0</td>\n",
              "      <td>0.0</td>\n",
              "      <td>0.0</td>\n",
              "      <td>1.0</td>\n",
              "      <td>0.0</td>\n",
              "      <td>0.0</td>\n",
              "      <td>0.0</td>\n",
              "      <td>0.0</td>\n",
              "      <td>0.0</td>\n",
              "      <td>0.0</td>\n",
              "      <td>1.0</td>\n",
              "      <td>0.0</td>\n",
              "      <td>0.0</td>\n",
              "      <td>0.0</td>\n",
              "      <td>0.0</td>\n",
              "      <td>1.0</td>\n",
              "      <td>0.0</td>\n",
              "      <td>0.0</td>\n",
              "      <td>0.0</td>\n",
              "      <td>1.0</td>\n",
              "      <td>0.0</td>\n",
              "      <td>0.0</td>\n",
              "      <td>1.0</td>\n",
              "      <td>0.0</td>\n",
              "      <td>0.0</td>\n",
              "    </tr>\n",
              "  </tbody>\n",
              "</table>\n",
              "</div>\n",
              "      <button class=\"colab-df-convert\" onclick=\"convertToInteractive('df-636d0462-8deb-4b97-8278-690817b736d0')\"\n",
              "              title=\"Convert this dataframe to an interactive table.\"\n",
              "              style=\"display:none;\">\n",
              "        \n",
              "  <svg xmlns=\"http://www.w3.org/2000/svg\" height=\"24px\"viewBox=\"0 0 24 24\"\n",
              "       width=\"24px\">\n",
              "    <path d=\"M0 0h24v24H0V0z\" fill=\"none\"/>\n",
              "    <path d=\"M18.56 5.44l.94 2.06.94-2.06 2.06-.94-2.06-.94-.94-2.06-.94 2.06-2.06.94zm-11 1L8.5 8.5l.94-2.06 2.06-.94-2.06-.94L8.5 2.5l-.94 2.06-2.06.94zm10 10l.94 2.06.94-2.06 2.06-.94-2.06-.94-.94-2.06-.94 2.06-2.06.94z\"/><path d=\"M17.41 7.96l-1.37-1.37c-.4-.4-.92-.59-1.43-.59-.52 0-1.04.2-1.43.59L10.3 9.45l-7.72 7.72c-.78.78-.78 2.05 0 2.83L4 21.41c.39.39.9.59 1.41.59.51 0 1.02-.2 1.41-.59l7.78-7.78 2.81-2.81c.8-.78.8-2.07 0-2.86zM5.41 20L4 18.59l7.72-7.72 1.47 1.35L5.41 20z\"/>\n",
              "  </svg>\n",
              "      </button>\n",
              "      \n",
              "  <style>\n",
              "    .colab-df-container {\n",
              "      display:flex;\n",
              "      flex-wrap:wrap;\n",
              "      gap: 12px;\n",
              "    }\n",
              "\n",
              "    .colab-df-convert {\n",
              "      background-color: #E8F0FE;\n",
              "      border: none;\n",
              "      border-radius: 50%;\n",
              "      cursor: pointer;\n",
              "      display: none;\n",
              "      fill: #1967D2;\n",
              "      height: 32px;\n",
              "      padding: 0 0 0 0;\n",
              "      width: 32px;\n",
              "    }\n",
              "\n",
              "    .colab-df-convert:hover {\n",
              "      background-color: #E2EBFA;\n",
              "      box-shadow: 0px 1px 2px rgba(60, 64, 67, 0.3), 0px 1px 3px 1px rgba(60, 64, 67, 0.15);\n",
              "      fill: #174EA6;\n",
              "    }\n",
              "\n",
              "    [theme=dark] .colab-df-convert {\n",
              "      background-color: #3B4455;\n",
              "      fill: #D2E3FC;\n",
              "    }\n",
              "\n",
              "    [theme=dark] .colab-df-convert:hover {\n",
              "      background-color: #434B5C;\n",
              "      box-shadow: 0px 1px 3px 1px rgba(0, 0, 0, 0.15);\n",
              "      filter: drop-shadow(0px 1px 2px rgba(0, 0, 0, 0.3));\n",
              "      fill: #FFFFFF;\n",
              "    }\n",
              "  </style>\n",
              "\n",
              "      <script>\n",
              "        const buttonEl =\n",
              "          document.querySelector('#df-636d0462-8deb-4b97-8278-690817b736d0 button.colab-df-convert');\n",
              "        buttonEl.style.display =\n",
              "          google.colab.kernel.accessAllowed ? 'block' : 'none';\n",
              "\n",
              "        async function convertToInteractive(key) {\n",
              "          const element = document.querySelector('#df-636d0462-8deb-4b97-8278-690817b736d0');\n",
              "          const dataTable =\n",
              "            await google.colab.kernel.invokeFunction('convertToInteractive',\n",
              "                                                     [key], {});\n",
              "          if (!dataTable) return;\n",
              "\n",
              "          const docLinkHtml = 'Like what you see? Visit the ' +\n",
              "            '<a target=\"_blank\" href=https://colab.research.google.com/notebooks/data_table.ipynb>data table notebook</a>'\n",
              "            + ' to learn more about interactive tables.';\n",
              "          element.innerHTML = '';\n",
              "          dataTable['output_type'] = 'display_data';\n",
              "          await google.colab.output.renderOutput(dataTable, element);\n",
              "          const docLink = document.createElement('div');\n",
              "          docLink.innerHTML = docLinkHtml;\n",
              "          element.appendChild(docLink);\n",
              "        }\n",
              "      </script>\n",
              "    </div>\n",
              "  </div>\n",
              "  "
            ]
          },
          "metadata": {},
          "execution_count": 68
        }
      ],
      "source": [
        "x_train_dummified.head()"
      ]
    },
    {
      "cell_type": "code",
      "execution_count": 69,
      "metadata": {
        "id": "3ZXHsMq5UikD"
      },
      "outputs": [],
      "source": [
        "# drop the dummified columns\n",
        "\n",
        "x_train_dummified.drop(['Coverage','Education','EmploymentStatus','Gender','Location.Code','Marital.Status','Policy.Type', 'Policy', 'Renew.Offer.Type',\n",
        "       'Sales.Channel', 'Vehicle.Class','Vehicle.Size'],axis=1,inplace=True)"
      ]
    },
    {
      "cell_type": "code",
      "execution_count": 69,
      "metadata": {
        "id": "izWuQMk1UCdc"
      },
      "outputs": [],
      "source": []
    },
    {
      "cell_type": "code",
      "execution_count": 70,
      "metadata": {
        "id": "1uzl-3uBVJQ6"
      },
      "outputs": [],
      "source": [
        "# we have to preprocess the test data also"
      ]
    },
    {
      "cell_type": "code",
      "execution_count": 71,
      "metadata": {
        "colab": {
          "base_uri": "https://localhost:8080/"
        },
        "id": "DWQn5kL8Vbbu",
        "outputId": "4cd0c8df-4139-4c89-f34c-9c0010c0e14b"
      },
      "outputs": [
        {
          "output_type": "execute_result",
          "data": {
            "text/plain": [
              "Index(['Coverage', 'Education', 'EmploymentStatus', 'Gender', 'Income',\n",
              "       'Location.Code', 'Marital.Status', 'Monthly.Premium.Auto',\n",
              "       'Months.Since.Last.Claim', 'Months.Since.Policy.Inception',\n",
              "       'Number.of.Open.Complaints', 'Number.of.Policies', 'Policy.Type',\n",
              "       'Policy', 'Renew.Offer.Type', 'Sales.Channel', 'Total.Claim.Amount',\n",
              "       'Vehicle.Class', 'Vehicle.Size'],\n",
              "      dtype='object')"
            ]
          },
          "metadata": {},
          "execution_count": 71
        }
      ],
      "source": [
        "x_test.columns"
      ]
    },
    {
      "cell_type": "code",
      "execution_count": 71,
      "metadata": {
        "id": "7C-e7FtJcd_Z"
      },
      "outputs": [],
      "source": []
    },
    {
      "cell_type": "code",
      "execution_count": 72,
      "metadata": {
        "id": "8sKWT9AlVXku"
      },
      "outputs": [],
      "source": [
        "type_conversion(x_test)"
      ]
    },
    {
      "cell_type": "code",
      "execution_count": 73,
      "metadata": {
        "id": "UQcVube4VlU6"
      },
      "outputs": [],
      "source": [
        "x_test[numerical_cols]=si.transform(x_test[numerical_cols])"
      ]
    },
    {
      "cell_type": "code",
      "execution_count": 74,
      "metadata": {
        "id": "uCvc8pXPVugy"
      },
      "outputs": [],
      "source": [
        "y_test[['Customer.Lifetime.Value']]=sii.transform(y_test[['Customer.Lifetime.Value']])"
      ]
    },
    {
      "cell_type": "code",
      "execution_count": 75,
      "metadata": {
        "id": "9aHesp2pWDHR"
      },
      "outputs": [],
      "source": [
        "x_test[categorical_cols]=sic.transform(x_test[categorical_cols])"
      ]
    },
    {
      "cell_type": "code",
      "execution_count": 76,
      "metadata": {
        "id": "UX6DtcztWQqy"
      },
      "outputs": [],
      "source": [
        "x_test[numerical_cols]=scaler.transform(x_test[numerical_cols])"
      ]
    },
    {
      "cell_type": "code",
      "execution_count": 77,
      "metadata": {
        "id": "7mz1vtTgWgkl"
      },
      "outputs": [],
      "source": [
        "y_test[['Customer.Lifetime.Value']]=scaler_y.transform(y_test[['Customer.Lifetime.Value']])"
      ]
    },
    {
      "cell_type": "code",
      "execution_count": 78,
      "metadata": {
        "id": "LJI3H_drWnjH"
      },
      "outputs": [],
      "source": [
        "oe_test_data=pd.DataFrame(oe.transform(x_test[['Coverage','Education','EmploymentStatus','Gender','Location.Code','Marital.Status','Policy.Type', 'Policy', 'Renew.Offer.Type', 'Sales.Channel', 'Vehicle.Class','Vehicle.Size']]).toarray(),columns=oe.get_feature_names_out())"
      ]
    },
    {
      "cell_type": "code",
      "execution_count": 79,
      "metadata": {
        "id": "YXA9c8NgYbxj"
      },
      "outputs": [],
      "source": [
        "oe_test_data.set_index(x_test.index,inplace=True)"
      ]
    },
    {
      "cell_type": "code",
      "execution_count": 80,
      "metadata": {
        "id": "AenmuTUpYGrX"
      },
      "outputs": [],
      "source": [
        "x_test[ordinal_cols]=ordinal.transform(x_test[ordinal_cols])"
      ]
    },
    {
      "cell_type": "code",
      "execution_count": 81,
      "metadata": {
        "id": "2eb0uIswYbX0"
      },
      "outputs": [],
      "source": [
        "x_test_dummified=pd.concat([x_test,oe_test_data],axis=1)"
      ]
    },
    {
      "cell_type": "code",
      "execution_count": 82,
      "metadata": {
        "id": "HbnQDIzcYvV5"
      },
      "outputs": [],
      "source": [
        "x_test_dummified.drop(['Coverage','Education','EmploymentStatus','Gender','Location.Code','Marital.Status','Policy.Type', 'Policy', 'Renew.Offer.Type', 'Sales.Channel', 'Vehicle.Class','Vehicle.Size'],axis=1,inplace=True)"
      ]
    },
    {
      "cell_type": "code",
      "execution_count": 83,
      "metadata": {
        "id": "clW-ukL9ZA3m"
      },
      "outputs": [],
      "source": [
        "# end of data preprocessing"
      ]
    },
    {
      "cell_type": "code",
      "execution_count": 83,
      "metadata": {
        "id": "UsT7ovCcVJW2"
      },
      "outputs": [],
      "source": []
    },
    {
      "cell_type": "markdown",
      "metadata": {
        "id": "lHIBmx76UF3E"
      },
      "source": [
        "end of data preprocessing"
      ]
    },
    {
      "cell_type": "code",
      "execution_count": 84,
      "metadata": {
        "id": "yVDJiZcIUCa3"
      },
      "outputs": [],
      "source": [
        "# lets start model building with out data x_train_dummified,y_train"
      ]
    },
    {
      "cell_type": "markdown",
      "source": [
        "## Linear Regression"
      ],
      "metadata": {
        "id": "PIaSifKBmNyY"
      }
    },
    {
      "cell_type": "code",
      "execution_count": 85,
      "metadata": {
        "id": "dRPsBJihUCX9"
      },
      "outputs": [],
      "source": [
        "# Linear regression\n",
        "\n",
        "from sklearn.linear_model import LinearRegression"
      ]
    },
    {
      "cell_type": "code",
      "execution_count": 86,
      "metadata": {
        "colab": {
          "base_uri": "https://localhost:8080/",
          "height": 74
        },
        "id": "1SACA9wvUCVx",
        "outputId": "df556a6b-ae60-4e6d-a184-9cd6ae4106bf"
      },
      "outputs": [
        {
          "output_type": "execute_result",
          "data": {
            "text/plain": [
              "LinearRegression()"
            ],
            "text/html": [
              "<style>#sk-container-id-1 {color: black;background-color: white;}#sk-container-id-1 pre{padding: 0;}#sk-container-id-1 div.sk-toggleable {background-color: white;}#sk-container-id-1 label.sk-toggleable__label {cursor: pointer;display: block;width: 100%;margin-bottom: 0;padding: 0.3em;box-sizing: border-box;text-align: center;}#sk-container-id-1 label.sk-toggleable__label-arrow:before {content: \"▸\";float: left;margin-right: 0.25em;color: #696969;}#sk-container-id-1 label.sk-toggleable__label-arrow:hover:before {color: black;}#sk-container-id-1 div.sk-estimator:hover label.sk-toggleable__label-arrow:before {color: black;}#sk-container-id-1 div.sk-toggleable__content {max-height: 0;max-width: 0;overflow: hidden;text-align: left;background-color: #f0f8ff;}#sk-container-id-1 div.sk-toggleable__content pre {margin: 0.2em;color: black;border-radius: 0.25em;background-color: #f0f8ff;}#sk-container-id-1 input.sk-toggleable__control:checked~div.sk-toggleable__content {max-height: 200px;max-width: 100%;overflow: auto;}#sk-container-id-1 input.sk-toggleable__control:checked~label.sk-toggleable__label-arrow:before {content: \"▾\";}#sk-container-id-1 div.sk-estimator input.sk-toggleable__control:checked~label.sk-toggleable__label {background-color: #d4ebff;}#sk-container-id-1 div.sk-label input.sk-toggleable__control:checked~label.sk-toggleable__label {background-color: #d4ebff;}#sk-container-id-1 input.sk-hidden--visually {border: 0;clip: rect(1px 1px 1px 1px);clip: rect(1px, 1px, 1px, 1px);height: 1px;margin: -1px;overflow: hidden;padding: 0;position: absolute;width: 1px;}#sk-container-id-1 div.sk-estimator {font-family: monospace;background-color: #f0f8ff;border: 1px dotted black;border-radius: 0.25em;box-sizing: border-box;margin-bottom: 0.5em;}#sk-container-id-1 div.sk-estimator:hover {background-color: #d4ebff;}#sk-container-id-1 div.sk-parallel-item::after {content: \"\";width: 100%;border-bottom: 1px solid gray;flex-grow: 1;}#sk-container-id-1 div.sk-label:hover label.sk-toggleable__label {background-color: #d4ebff;}#sk-container-id-1 div.sk-serial::before {content: \"\";position: absolute;border-left: 1px solid gray;box-sizing: border-box;top: 0;bottom: 0;left: 50%;z-index: 0;}#sk-container-id-1 div.sk-serial {display: flex;flex-direction: column;align-items: center;background-color: white;padding-right: 0.2em;padding-left: 0.2em;position: relative;}#sk-container-id-1 div.sk-item {position: relative;z-index: 1;}#sk-container-id-1 div.sk-parallel {display: flex;align-items: stretch;justify-content: center;background-color: white;position: relative;}#sk-container-id-1 div.sk-item::before, #sk-container-id-1 div.sk-parallel-item::before {content: \"\";position: absolute;border-left: 1px solid gray;box-sizing: border-box;top: 0;bottom: 0;left: 50%;z-index: -1;}#sk-container-id-1 div.sk-parallel-item {display: flex;flex-direction: column;z-index: 1;position: relative;background-color: white;}#sk-container-id-1 div.sk-parallel-item:first-child::after {align-self: flex-end;width: 50%;}#sk-container-id-1 div.sk-parallel-item:last-child::after {align-self: flex-start;width: 50%;}#sk-container-id-1 div.sk-parallel-item:only-child::after {width: 0;}#sk-container-id-1 div.sk-dashed-wrapped {border: 1px dashed gray;margin: 0 0.4em 0.5em 0.4em;box-sizing: border-box;padding-bottom: 0.4em;background-color: white;}#sk-container-id-1 div.sk-label label {font-family: monospace;font-weight: bold;display: inline-block;line-height: 1.2em;}#sk-container-id-1 div.sk-label-container {text-align: center;}#sk-container-id-1 div.sk-container {/* jupyter's `normalize.less` sets `[hidden] { display: none; }` but bootstrap.min.css set `[hidden] { display: none !important; }` so we also need the `!important` here to be able to override the default hidden behavior on the sphinx rendered scikit-learn.org. See: https://github.com/scikit-learn/scikit-learn/issues/21755 */display: inline-block !important;position: relative;}#sk-container-id-1 div.sk-text-repr-fallback {display: none;}</style><div id=\"sk-container-id-1\" class=\"sk-top-container\"><div class=\"sk-text-repr-fallback\"><pre>LinearRegression()</pre><b>In a Jupyter environment, please rerun this cell to show the HTML representation or trust the notebook. <br />On GitHub, the HTML representation is unable to render, please try loading this page with nbviewer.org.</b></div><div class=\"sk-container\" hidden><div class=\"sk-item\"><div class=\"sk-estimator sk-toggleable\"><input class=\"sk-toggleable__control sk-hidden--visually\" id=\"sk-estimator-id-1\" type=\"checkbox\" checked><label for=\"sk-estimator-id-1\" class=\"sk-toggleable__label sk-toggleable__label-arrow\">LinearRegression</label><div class=\"sk-toggleable__content\"><pre>LinearRegression()</pre></div></div></div></div></div>"
            ]
          },
          "metadata": {},
          "execution_count": 86
        }
      ],
      "source": [
        "lr=LinearRegression()\n",
        "lr.fit(x_train_dummified,y_train)"
      ]
    },
    {
      "cell_type": "code",
      "execution_count": 87,
      "metadata": {
        "id": "wg8Ye0L-ZFgR"
      },
      "outputs": [],
      "source": [
        "from sklearn.metrics import r2_score,mean_squared_error"
      ]
    },
    {
      "cell_type": "code",
      "source": [
        "train_preds_lr=lr.predict(x_train_dummified)\n",
        "print(\"r2_score for linear regression:\",r2_score(y_train[['Customer.Lifetime.Value']],train_preds_lr))\n",
        "print(\"root_mean_squared_error for linear regression :\",mean_squared_error(y_train[['Customer.Lifetime.Value']],train_preds_lr,squared=True))"
      ],
      "metadata": {
        "colab": {
          "base_uri": "https://localhost:8080/"
        },
        "id": "Mz0VqAW1eyWs",
        "outputId": "19328ea3-f6ed-4dc4-f865-a59a5334be99"
      },
      "execution_count": 88,
      "outputs": [
        {
          "output_type": "stream",
          "name": "stdout",
          "text": [
            "r2_score for linear regression: 0.17296624081010736\n",
            "root_mean_squared_error for linear regression : 0.8270337591898929\n"
          ]
        }
      ]
    },
    {
      "cell_type": "code",
      "execution_count": 89,
      "metadata": {
        "id": "J8bh29_oUCTP"
      },
      "outputs": [],
      "source": [
        "test_preds_lr=lr.predict(x_test_dummified)"
      ]
    },
    {
      "cell_type": "code",
      "execution_count": 90,
      "metadata": {
        "colab": {
          "base_uri": "https://localhost:8080/"
        },
        "id": "cX7Y6b6FzrZh",
        "outputId": "24f58944-f4d3-4315-e326-623bb11e011e"
      },
      "outputs": [
        {
          "output_type": "stream",
          "name": "stdout",
          "text": [
            "0.1484728778716169\n"
          ]
        }
      ],
      "source": [
        "print(r2_score(y_test[['Customer.Lifetime.Value']],test_preds_lr))"
      ]
    },
    {
      "cell_type": "code",
      "execution_count": 91,
      "metadata": {
        "colab": {
          "base_uri": "https://localhost:8080/"
        },
        "id": "XoS13OsRZhX8",
        "outputId": "bf6525f7-2068-4a0c-df27-98c337f45093"
      },
      "outputs": [
        {
          "output_type": "stream",
          "name": "stdout",
          "text": [
            "0.8202997664846422\n"
          ]
        }
      ],
      "source": [
        "print(mean_squared_error(y_test[['Customer.Lifetime.Value']],test_preds_lr))"
      ]
    },
    {
      "cell_type": "code",
      "source": [
        "# r2_score for train data is 0.17\n",
        "# r2_score for test data is 0.14\n",
        "\n",
        "# which says that our model does not explain any of the variability in the dependent variable."
      ],
      "metadata": {
        "id": "9e2T4QCXf733"
      },
      "execution_count": 92,
      "outputs": []
    },
    {
      "cell_type": "markdown",
      "source": [
        "## Lasso Regression"
      ],
      "metadata": {
        "id": "4wfvHOpLmQof"
      }
    },
    {
      "cell_type": "code",
      "execution_count": 93,
      "metadata": {
        "id": "NREnVtENZt0v"
      },
      "outputs": [],
      "source": [
        "# lasso\n",
        "from sklearn.linear_model import Lasso"
      ]
    },
    {
      "cell_type": "code",
      "execution_count": 94,
      "metadata": {
        "id": "ivpS5LGlZtx0",
        "colab": {
          "base_uri": "https://localhost:8080/"
        },
        "outputId": "f5f621ed-b6cd-4d44-d030-5400a01ee29c"
      },
      "outputs": [
        {
          "output_type": "stream",
          "name": "stdout",
          "text": [
            "r2_score of Lasso regression for train data: 0.0\n",
            "root mean squared error of Lasso regression for train data: 1.0000000000000002\n",
            "r2_score of Lasso Regression for test data -4.576938183786794e-05\n",
            "root mean squared error of Lasso regression for test data : 0.963371911216934\n"
          ]
        }
      ],
      "source": [
        "la=Lasso()\n",
        "la.fit(x_train_dummified,y_train)\n",
        "\n",
        "train_preds_la=la.predict(x_train_dummified)\n",
        "test_preds_la=la.predict(x_test_dummified)\n",
        "\n",
        "print(\"r2_score of Lasso regression for train data:\",r2_score(y_train[['Customer.Lifetime.Value']],train_preds_la))\n",
        "print(\"root mean squared error of Lasso regression for train data:\",mean_squared_error(y_train[['Customer.Lifetime.Value']],train_preds_la))\n",
        "print(\"r2_score of Lasso Regression for test data\",r2_score(y_test[['Customer.Lifetime.Value']],test_preds_la))\n",
        "print(\"root mean squared error of Lasso regression for test data :\",mean_squared_error(y_test[['Customer.Lifetime.Value']],test_preds_la))"
      ]
    },
    {
      "cell_type": "code",
      "source": [],
      "metadata": {
        "id": "vg3_sXLiiJjC"
      },
      "execution_count": 94,
      "outputs": []
    },
    {
      "cell_type": "code",
      "source": [],
      "metadata": {
        "id": "Zy7vc1cciJTq"
      },
      "execution_count": 94,
      "outputs": []
    },
    {
      "cell_type": "code",
      "execution_count": 95,
      "metadata": {
        "id": "EH8TSeTFcd_e"
      },
      "outputs": [],
      "source": [
        "from sklearn.model_selection import GridSearchCV"
      ]
    },
    {
      "cell_type": "code",
      "execution_count": 96,
      "metadata": {
        "colab": {
          "base_uri": "https://localhost:8080/"
        },
        "id": "0b34tHNGcd_e",
        "outputId": "d3345cac-1d7d-422f-a8b0-fab30a72fb48"
      },
      "outputs": [
        {
          "output_type": "stream",
          "name": "stdout",
          "text": [
            "{'alpha': 0.001, 'max_iter': 100}\n",
            "0.8379639203091381\n",
            "r2_score for lasso using grid search cv of train data 0.17210503303396762\n",
            "root mean squared error for lasso using grid search cv of train data 0.8278949669660326\n",
            "r2_score for lasso using grid search cv of test data 0.15144253630282678\n",
            "root mean squared error for lasso using grid search cv of test data 0.8174390119010749\n"
          ]
        }
      ],
      "source": [
        "paramas_lasso={'alpha':[0.001,0.5,1,2,5,10,20],'max_iter':[100,200,300,400]}\n",
        "\n",
        "model_lasso=Lasso()\n",
        "model_grid_lasso=GridSearchCV(estimator=model_lasso,param_grid=paramas_lasso,scoring='neg_mean_squared_error',cv=5)\n",
        "\n",
        "model_grid_lasso.fit(x_train_dummified,y_train)\n",
        "print(model_grid_lasso.best_params_)\n",
        "\n",
        "print(-model_grid_lasso.best_score_)\n",
        "\n",
        "train_preds_lasso_gs=model_grid_lasso.predict(x_train_dummified)\n",
        "test_preds_lasso_gs=model_grid_lasso.predict(x_test_dummified)\n",
        "\n",
        "print(\"r2_score for lasso using grid search cv of train data\",r2_score(y_train[['Customer.Lifetime.Value']],train_preds_lasso_gs))\n",
        "print(\"root mean squared error for lasso using grid search cv of train data\",mean_squared_error(y_train[['Customer.Lifetime.Value']],train_preds_lasso_gs))\n",
        "\n",
        "\n",
        "print(\"r2_score for lasso using grid search cv of test data\",r2_score(y_test[['Customer.Lifetime.Value']],test_preds_lasso_gs))\n",
        "print(\"root mean squared error for lasso using grid search cv of test data\",mean_squared_error(y_test[['Customer.Lifetime.Value']],test_preds_lasso_gs))"
      ]
    },
    {
      "cell_type": "code",
      "source": [
        "y_train[['Customer.Lifetime.Value']][0:5]"
      ],
      "metadata": {
        "colab": {
          "base_uri": "https://localhost:8080/",
          "height": 206
        },
        "id": "E3rKrXWxqUby",
        "outputId": "436fa685-e981-48e5-f6f5-48cf31c2a48d"
      },
      "execution_count": 97,
      "outputs": [
        {
          "output_type": "execute_result",
          "data": {
            "text/plain": [
              "      Customer.Lifetime.Value\n",
              "1688                -0.703966\n",
              "5495                -0.392576\n",
              "550                  0.535796\n",
              "7732                 0.216147\n",
              "6304                -0.498080"
            ],
            "text/html": [
              "\n",
              "  <div id=\"df-53605adf-deb7-4204-9a57-132de6202af0\">\n",
              "    <div class=\"colab-df-container\">\n",
              "      <div>\n",
              "<style scoped>\n",
              "    .dataframe tbody tr th:only-of-type {\n",
              "        vertical-align: middle;\n",
              "    }\n",
              "\n",
              "    .dataframe tbody tr th {\n",
              "        vertical-align: top;\n",
              "    }\n",
              "\n",
              "    .dataframe thead th {\n",
              "        text-align: right;\n",
              "    }\n",
              "</style>\n",
              "<table border=\"1\" class=\"dataframe\">\n",
              "  <thead>\n",
              "    <tr style=\"text-align: right;\">\n",
              "      <th></th>\n",
              "      <th>Customer.Lifetime.Value</th>\n",
              "    </tr>\n",
              "  </thead>\n",
              "  <tbody>\n",
              "    <tr>\n",
              "      <th>1688</th>\n",
              "      <td>-0.703966</td>\n",
              "    </tr>\n",
              "    <tr>\n",
              "      <th>5495</th>\n",
              "      <td>-0.392576</td>\n",
              "    </tr>\n",
              "    <tr>\n",
              "      <th>550</th>\n",
              "      <td>0.535796</td>\n",
              "    </tr>\n",
              "    <tr>\n",
              "      <th>7732</th>\n",
              "      <td>0.216147</td>\n",
              "    </tr>\n",
              "    <tr>\n",
              "      <th>6304</th>\n",
              "      <td>-0.498080</td>\n",
              "    </tr>\n",
              "  </tbody>\n",
              "</table>\n",
              "</div>\n",
              "      <button class=\"colab-df-convert\" onclick=\"convertToInteractive('df-53605adf-deb7-4204-9a57-132de6202af0')\"\n",
              "              title=\"Convert this dataframe to an interactive table.\"\n",
              "              style=\"display:none;\">\n",
              "        \n",
              "  <svg xmlns=\"http://www.w3.org/2000/svg\" height=\"24px\"viewBox=\"0 0 24 24\"\n",
              "       width=\"24px\">\n",
              "    <path d=\"M0 0h24v24H0V0z\" fill=\"none\"/>\n",
              "    <path d=\"M18.56 5.44l.94 2.06.94-2.06 2.06-.94-2.06-.94-.94-2.06-.94 2.06-2.06.94zm-11 1L8.5 8.5l.94-2.06 2.06-.94-2.06-.94L8.5 2.5l-.94 2.06-2.06.94zm10 10l.94 2.06.94-2.06 2.06-.94-2.06-.94-.94-2.06-.94 2.06-2.06.94z\"/><path d=\"M17.41 7.96l-1.37-1.37c-.4-.4-.92-.59-1.43-.59-.52 0-1.04.2-1.43.59L10.3 9.45l-7.72 7.72c-.78.78-.78 2.05 0 2.83L4 21.41c.39.39.9.59 1.41.59.51 0 1.02-.2 1.41-.59l7.78-7.78 2.81-2.81c.8-.78.8-2.07 0-2.86zM5.41 20L4 18.59l7.72-7.72 1.47 1.35L5.41 20z\"/>\n",
              "  </svg>\n",
              "      </button>\n",
              "      \n",
              "  <style>\n",
              "    .colab-df-container {\n",
              "      display:flex;\n",
              "      flex-wrap:wrap;\n",
              "      gap: 12px;\n",
              "    }\n",
              "\n",
              "    .colab-df-convert {\n",
              "      background-color: #E8F0FE;\n",
              "      border: none;\n",
              "      border-radius: 50%;\n",
              "      cursor: pointer;\n",
              "      display: none;\n",
              "      fill: #1967D2;\n",
              "      height: 32px;\n",
              "      padding: 0 0 0 0;\n",
              "      width: 32px;\n",
              "    }\n",
              "\n",
              "    .colab-df-convert:hover {\n",
              "      background-color: #E2EBFA;\n",
              "      box-shadow: 0px 1px 2px rgba(60, 64, 67, 0.3), 0px 1px 3px 1px rgba(60, 64, 67, 0.15);\n",
              "      fill: #174EA6;\n",
              "    }\n",
              "\n",
              "    [theme=dark] .colab-df-convert {\n",
              "      background-color: #3B4455;\n",
              "      fill: #D2E3FC;\n",
              "    }\n",
              "\n",
              "    [theme=dark] .colab-df-convert:hover {\n",
              "      background-color: #434B5C;\n",
              "      box-shadow: 0px 1px 3px 1px rgba(0, 0, 0, 0.15);\n",
              "      filter: drop-shadow(0px 1px 2px rgba(0, 0, 0, 0.3));\n",
              "      fill: #FFFFFF;\n",
              "    }\n",
              "  </style>\n",
              "\n",
              "      <script>\n",
              "        const buttonEl =\n",
              "          document.querySelector('#df-53605adf-deb7-4204-9a57-132de6202af0 button.colab-df-convert');\n",
              "        buttonEl.style.display =\n",
              "          google.colab.kernel.accessAllowed ? 'block' : 'none';\n",
              "\n",
              "        async function convertToInteractive(key) {\n",
              "          const element = document.querySelector('#df-53605adf-deb7-4204-9a57-132de6202af0');\n",
              "          const dataTable =\n",
              "            await google.colab.kernel.invokeFunction('convertToInteractive',\n",
              "                                                     [key], {});\n",
              "          if (!dataTable) return;\n",
              "\n",
              "          const docLinkHtml = 'Like what you see? Visit the ' +\n",
              "            '<a target=\"_blank\" href=https://colab.research.google.com/notebooks/data_table.ipynb>data table notebook</a>'\n",
              "            + ' to learn more about interactive tables.';\n",
              "          element.innerHTML = '';\n",
              "          dataTable['output_type'] = 'display_data';\n",
              "          await google.colab.output.renderOutput(dataTable, element);\n",
              "          const docLink = document.createElement('div');\n",
              "          docLink.innerHTML = docLinkHtml;\n",
              "          element.appendChild(docLink);\n",
              "        }\n",
              "      </script>\n",
              "    </div>\n",
              "  </div>\n",
              "  "
            ]
          },
          "metadata": {},
          "execution_count": 97
        }
      ]
    },
    {
      "cell_type": "code",
      "execution_count": 98,
      "metadata": {
        "id": "IwDajxXJcd_f"
      },
      "outputs": [],
      "source": [
        "# lasso\n",
        "\n",
        "## r2 -- train -- 0\n",
        "## r2 -- test  -- -4.57 ?\n",
        "\n",
        "## rmse -- train -- 1.000\n",
        "## rmse -- test  -- 0.96\n",
        "\n",
        "# lasso using grid search cv\n",
        "\n",
        "\n",
        "## r2 -- train -- 0.17\n",
        "## r2 -- test  -- 0.15\n",
        "\n",
        "## rmse -- train -- 0.82\n",
        "## rmse -- test  -- 0.81\n",
        "\n",
        "# rmse is close to zero. says good model"
      ]
    },
    {
      "cell_type": "code",
      "source": [],
      "metadata": {
        "id": "w7_mDkqQlQEd"
      },
      "execution_count": 98,
      "outputs": []
    },
    {
      "cell_type": "markdown",
      "source": [
        "## Ridge Regression"
      ],
      "metadata": {
        "id": "12St16MSmVKV"
      }
    },
    {
      "cell_type": "code",
      "execution_count": 99,
      "metadata": {
        "colab": {
          "base_uri": "https://localhost:8080/"
        },
        "id": "Bix58ZHqcd_f",
        "outputId": "c1b1231f-dd02-4b19-fd6c-fe09ec4b0632"
      },
      "outputs": [
        {
          "output_type": "stream",
          "name": "stdout",
          "text": [
            "r2_score for ridge of train data 0.1729643296105403\n",
            "root mean squared error for lasso of train data 0.8270356703894599\n",
            "r2_score for ridge of test data 0.14855452782165657\n",
            "root mean squared error for lasso of test data 0.820221110816243\n"
          ]
        }
      ],
      "source": [
        "# Ridge\n",
        "\n",
        "from sklearn.linear_model import Ridge\n",
        "\n",
        "ri=Ridge()\n",
        "ri.fit(x_train_dummified,y_train)\n",
        "\n",
        "train_preds_ri=ri.predict(x_train_dummified)\n",
        "test_preds_ri=ri.predict(x_test_dummified)\n",
        "\n",
        "print(\"r2_score for ridge of train data\",r2_score(y_train[['Customer.Lifetime.Value']],train_preds_ri))\n",
        "print(\"root mean squared error for lasso of train data\",mean_squared_error(y_train[['Customer.Lifetime.Value']],train_preds_ri,squared=True))\n",
        "\n",
        "print(\"r2_score for ridge of test data\",r2_score(y_test[['Customer.Lifetime.Value']],test_preds_ri))\n",
        "print(\"root mean squared error for lasso of test data\",mean_squared_error(y_test[['Customer.Lifetime.Value']],test_preds_ri,squared=True))\n"
      ]
    },
    {
      "cell_type": "code",
      "execution_count": 102,
      "metadata": {
        "colab": {
          "base_uri": "https://localhost:8080/"
        },
        "id": "1XzxL8IPcd_f",
        "outputId": "9247119a-312b-4171-8128-a8e44db5c31a"
      },
      "outputs": [
        {
          "output_type": "stream",
          "name": "stdout",
          "text": [
            "{'alpha': 20, 'max_iter': 100}\n",
            "0.8391927713762035\n",
            "r2_score of ridge regression for train data using grid search 0.1725984756473995\n",
            "root mean squared error of ridge regression for train data using grid search 0.8274015243526007\n",
            "r2_score of ridge regression for test data using grid search 0.14938170375606652\n",
            "root mean squared of ridge regression for test data using grid search 0.8194242692263448\n"
          ]
        }
      ],
      "source": [
        "paramas_ridge={'alpha':[0.001,0.5,1,2,5,10,20],'max_iter':[100,200,300,400]}\n",
        "\n",
        "model_ridge=Ridge()\n",
        "model_grid_ridge=GridSearchCV(estimator=model_ridge,param_grid=paramas_ridge,scoring='neg_mean_squared_error',cv=5)\n",
        "\n",
        "model_grid_ridge.fit(x_train_dummified,y_train)\n",
        "print(model_grid_ridge.best_params_)\n",
        "\n",
        "print(-model_grid_ridge.best_score_)\n",
        "\n",
        "train_preds_ridge_gs=model_grid_ridge.predict(x_train_dummified)\n",
        "test_preds_ridge_gs=model_grid_ridge.predict(x_test_dummified)\n",
        "\n",
        "\n",
        "print(\"r2_score of ridge regression for train data using grid search\",r2_score(y_train[['Customer.Lifetime.Value']],train_preds_ridge_gs))\n",
        "print(\"root mean squared error of ridge regression for train data using grid search\",mean_squared_error(y_train[['Customer.Lifetime.Value']],train_preds_ridge_gs))\n",
        "\n",
        "print(\"r2_score of ridge regression for test data using grid search\",r2_score(y_test[['Customer.Lifetime.Value']],test_preds_ridge_gs))\n",
        "print(\"root mean squared of ridge regression for test data using grid search\",mean_squared_error(y_test[['Customer.Lifetime.Value']],test_preds_ridge_gs))"
      ]
    },
    {
      "cell_type": "markdown",
      "source": [
        "## Elastic-Nets"
      ],
      "metadata": {
        "id": "G7Q5kmoUmxRK"
      }
    },
    {
      "cell_type": "code",
      "execution_count": 155,
      "metadata": {
        "colab": {
          "base_uri": "https://localhost:8080/"
        },
        "id": "t600U9A5cd_g",
        "outputId": "4a729782-7ef3-43ab-99b8-4a64a93354dd"
      },
      "outputs": [
        {
          "output_type": "stream",
          "name": "stdout",
          "text": [
            "r2_score of Elastic nets for train data 0.07546986073397643\n",
            "root mean squared error of Elastic nets for train data 0.9245301392660238\n",
            "r2_score of Elastic nets for test data 0.0730970778846779\n",
            "root mean squared of Elastic nets for test data 0.8929113715892851\n"
          ]
        }
      ],
      "source": [
        "from sklearn.linear_model import ElasticNet\n",
        "\n",
        "# Instantiate Elastic Net model with alpha and l1_ratio hyperparameters\n",
        "model_elastic = ElasticNet(alpha=0.5, l1_ratio=0.5)\n",
        "\n",
        "# Fit the model to the training data\n",
        "model_elastic.fit(x_train_dummified,y_train)\n",
        "\n",
        "train_preds_en=model_elastic.predict(x_train_dummified)\n",
        "test_preds_en=model_elastic.predict(x_test_dummified)\n",
        "\n",
        "\n",
        "print(\"r2_score of Elastic nets for train data\",r2_score(y_train[['Customer.Lifetime.Value']],train_preds_en))\n",
        "print(\"root mean squared error of Elastic nets for train data\",mean_squared_error(y_train[['Customer.Lifetime.Value']],train_preds_en))\n",
        "\n",
        "print(\"r2_score of Elastic nets for test data\",r2_score(y_test[['Customer.Lifetime.Value']],test_preds_en))\n",
        "print(\"root mean squared of Elastic nets for test data\",mean_squared_error(y_test[['Customer.Lifetime.Value']],test_preds_en))"
      ]
    },
    {
      "cell_type": "code",
      "source": [],
      "metadata": {
        "id": "_L4B4tm2ndX0"
      },
      "execution_count": null,
      "outputs": []
    },
    {
      "cell_type": "code",
      "source": [
        "paramas_en={'alpha': [0.01,0.1,0.2,0.3,0.4,0.5,0.6,0.7,0.8,0.9,1.0],'l1_ratio': [0.1,0.2,0.3,0.4,0.5,0.6,0.7,0.8,0.9,1.0]}\n",
        "\n",
        "model_en_gs=ElasticNet()\n",
        "model_grid_en=GridSearchCV(estimator=model_en_gs,param_grid=paramas_en,scoring='neg_mean_squared_error',cv=5)\n",
        "\n",
        "model_grid_en.fit(x_train_dummified,y_train)\n",
        "print(model_grid_en.best_params_)\n",
        "\n",
        "print(-model_grid_en.best_score_)\n",
        "\n",
        "train_preds_en_gs=model_grid_en.predict(x_train_dummified)\n",
        "test_preds_en_gs=model_grid_en.predict(x_test_dummified)\n",
        "\n",
        "\n",
        "print(\"r2_score of ridge regression for train data using grid search\",r2_score(y_train[['Customer.Lifetime.Value']],train_preds_en_gs))\n",
        "print(\"root mean squared error of ridge regression for train data using grid search\",mean_squared_error(y_train[['Customer.Lifetime.Value']],train_preds_en_gs))\n",
        "\n",
        "print(\"r2_score of ridge regression for test data using grid search\",r2_score(y_test[['Customer.Lifetime.Value']],test_preds_en_gs))\n",
        "print(\"root mean squared of ridge regression for test data using grid search\",mean_squared_error(y_test[['Customer.Lifetime.Value']],test_preds_en_gs))"
      ],
      "metadata": {
        "colab": {
          "base_uri": "https://localhost:8080/"
        },
        "id": "Jj_BGG8angLx",
        "outputId": "907597de-415b-407f-b88f-d75d07c4066b"
      },
      "execution_count": 156,
      "outputs": [
        {
          "output_type": "stream",
          "name": "stdout",
          "text": [
            "{'alpha': 0.01, 'l1_ratio': 0.1}\n",
            "0.8387241386901234\n",
            "r2_score of ridge regression for train data using grid search 0.1703934957998111\n",
            "root mean squared error of ridge regression for train data using grid search 0.8296065042001891\n",
            "r2_score of ridge regression for test data using grid search 0.15123926668138266\n",
            "root mean squared of ridge regression for test data using grid search 0.8176348271824335\n"
          ]
        }
      ]
    },
    {
      "cell_type": "code",
      "source": [],
      "metadata": {
        "id": "c0Uahun4ngvz"
      },
      "execution_count": null,
      "outputs": []
    },
    {
      "cell_type": "markdown",
      "source": [
        "## Knearest Neighbors"
      ],
      "metadata": {
        "id": "A0_ebfUNmYmX"
      }
    },
    {
      "cell_type": "code",
      "execution_count": 104,
      "metadata": {
        "id": "T_5hYkoZcd_g"
      },
      "outputs": [],
      "source": [
        "from sklearn.neighbors import KNeighborsRegressor"
      ]
    },
    {
      "cell_type": "code",
      "execution_count": 105,
      "metadata": {
        "colab": {
          "base_uri": "https://localhost:8080/"
        },
        "id": "Y-cDjdGEcd_g",
        "outputId": "26caea9c-b18c-406b-85ac-dce914e74bd4"
      },
      "outputs": [
        {
          "output_type": "stream",
          "name": "stdout",
          "text": [
            "r2_score of KNN for train data  0.40039238243068964\n",
            "root mean squared error of KNN for train data 0.5996076175693105\n",
            "r2_score of KNN for test data  0.09310999729733838\n",
            "root mean squared of KNN for test data  0.8736323695536855\n"
          ]
        }
      ],
      "source": [
        "KNN=KNeighborsRegressor()\n",
        "KNN.fit(x_train_dummified,y_train)\n",
        "\n",
        "train_preds_KNN=KNN.predict(x_train_dummified)\n",
        "test_preds_KNN=KNN.predict(x_test_dummified)\n",
        "\n",
        "print(\"r2_score of KNN for train data \",r2_score(y_train[['Customer.Lifetime.Value']],train_preds_KNN))\n",
        "print(\"root mean squared error of KNN for train data\",mean_squared_error(y_train[['Customer.Lifetime.Value']],train_preds_KNN))\n",
        "\n",
        "print(\"r2_score of KNN for test data \",r2_score(y_test[['Customer.Lifetime.Value']],test_preds_KNN))\n",
        "print(\"root mean squared of KNN for test data \",mean_squared_error(y_test[['Customer.Lifetime.Value']],test_preds_KNN))"
      ]
    },
    {
      "cell_type": "code",
      "execution_count": 112,
      "metadata": {
        "colab": {
          "base_uri": "https://localhost:8080/"
        },
        "id": "0Wa5H7hWcd_g",
        "outputId": "5f2212e8-4ae2-438a-df7e-b3973b6efd9e"
      },
      "outputs": [
        {
          "output_type": "stream",
          "name": "stdout",
          "text": [
            "{'algorithm': 'kd_tree', 'n_neighbors': 8, 'weights': 'distance'}\n",
            "0.885501140333478\n",
            "r2_score of KNN for train data using grid search 1.0\n",
            "root mean squared error of KNN for train data using grid search 1.7592629299691096e-35\n",
            "r2_score of KNN for test data using grid search 0.14182533901238914\n",
            "root mean squared of KNN for test data using grid search 0.826703525604249\n"
          ]
        }
      ],
      "source": [
        "paramas_KNN={'n_neighbors':[2,4,5,6,7,8,9,10],\"weights\" : ['uniform', 'distance'],\"algorithm\":['auto','kd_tree'] }\n",
        "\n",
        "model_KNN=KNeighborsRegressor()\n",
        "model_grid_KNN=GridSearchCV(estimator=model_KNN,param_grid=paramas_KNN,scoring='neg_mean_squared_error',cv=5)\n",
        "\n",
        "model_grid_KNN.fit(x_train_dummified,y_train)\n",
        "print(model_grid_KNN.best_params_)\n",
        "\n",
        "print(-model_grid_KNN.best_score_)\n",
        "\n",
        "train_preds_KNN_gs=model_grid_KNN.predict(x_train_dummified)\n",
        "test_preds_KNN_gs=model_grid_KNN.predict(x_test_dummified)\n",
        "\n",
        "\n",
        "print(\"r2_score of KNN for train data using grid search\",r2_score(y_train[['Customer.Lifetime.Value']],train_preds_KNN_gs))\n",
        "print(\"root mean squared error of KNN for train data using grid search\",mean_squared_error(y_train[['Customer.Lifetime.Value']],train_preds_KNN_gs))\n",
        "\n",
        "print(\"r2_score of KNN for test data using grid search\",r2_score(y_test[['Customer.Lifetime.Value']],test_preds_KNN_gs))\n",
        "print(\"root mean squared of KNN for test data using grid search\",mean_squared_error(y_test[['Customer.Lifetime.Value']],test_preds_KNN_gs))"
      ]
    },
    {
      "cell_type": "markdown",
      "source": [
        "## Decision Tree Regressor"
      ],
      "metadata": {
        "id": "4mdk3ZNUqEX8"
      }
    },
    {
      "cell_type": "code",
      "execution_count": 107,
      "metadata": {
        "id": "Hv1tDbaRcd_h"
      },
      "outputs": [],
      "source": [
        "# Decision trees\n",
        "\n",
        "from sklearn.tree import DecisionTreeRegressor"
      ]
    },
    {
      "cell_type": "code",
      "execution_count": 121,
      "metadata": {
        "colab": {
          "base_uri": "https://localhost:8080/"
        },
        "id": "Gq86Fxyqcd_h",
        "outputId": "9ba77422-9a5a-4e61-9e09-762187b14844"
      },
      "outputs": [
        {
          "output_type": "stream",
          "name": "stdout",
          "text": [
            "{'criterion': 'squared_error', 'max_depth': 4, 'splitter': 'best'}\n",
            "0.374397842991394\n",
            "r2_score of DT for train data using grid search 0.6565502193762107\n",
            "root mean squared error of DT for train data using grid search 0.3434497806237894\n",
            "r2_score of DT for test data using grid search 0.6278360336921998\n",
            "root mean squared of DT for test data using grid search 0.35851590245678566\n"
          ]
        }
      ],
      "source": [
        "paramas_dtr={'criterion':[\"squared_error\",\"absolute_error\",\"poisson\"],\"splitter\":[\"best\", \"random\"],\"max_depth\":[3,4,5,6,10]}\n",
        "\n",
        "model_dtr=DecisionTreeRegressor()\n",
        "model_grid_dtr=GridSearchCV(estimator=model_dtr,param_grid=paramas_dtr,scoring='neg_mean_squared_error',cv=5)\n",
        "\n",
        "model_grid_dtr.fit(x_train_dummified,y_train)\n",
        "print(model_grid_dtr.best_params_)\n",
        "print(-model_grid_dtr.best_score_)\n",
        "\n",
        "train_preds_dtr_gs=model_grid_dtr.predict(x_train_dummified)\n",
        "test_preds_dtr_gs=model_grid_dtr.predict(x_test_dummified)\n",
        "\n",
        "print(\"r2_score of DT for train data using grid search\",r2_score(y_train[['Customer.Lifetime.Value']],train_preds_dtr_gs))\n",
        "print(\"root mean squared error of DT for train data using grid search\",mean_squared_error(y_train[['Customer.Lifetime.Value']],train_preds_dtr_gs))\n",
        "\n",
        "print(\"r2_score of DT for test data using grid search\",r2_score(y_test[['Customer.Lifetime.Value']],test_preds_dtr_gs))\n",
        "print(\"root mean squared of DT for test data using grid search\",mean_squared_error(y_test[['Customer.Lifetime.Value']],test_preds_dtr_gs))"
      ]
    },
    {
      "cell_type": "markdown",
      "source": [
        "## Random Forest Regressor"
      ],
      "metadata": {
        "id": "VNUY-zW4qIaD"
      }
    },
    {
      "cell_type": "code",
      "execution_count": 109,
      "metadata": {
        "id": "k_djKLmEcd_h"
      },
      "outputs": [],
      "source": [
        "\n",
        "from sklearn.ensemble import RandomForestRegressor"
      ]
    },
    {
      "cell_type": "code",
      "execution_count": 136,
      "metadata": {
        "colab": {
          "base_uri": "https://localhost:8080/"
        },
        "id": "FiNVGoWscd_h",
        "outputId": "d8eb187d-34c8-4db9-bce0-dbb28248c79c"
      },
      "outputs": [
        {
          "output_type": "stream",
          "name": "stdout",
          "text": [
            "r2_score of RF for train data 0.9541592875452052\n",
            "root mean squared error of RF for train data  0.04584071245479479\n",
            "r2_score of RF for test data using grid search 0.6789872742492928\n",
            "root mean squared of RF for test data  0.3092404893853778\n"
          ]
        }
      ],
      "source": [
        "model_rfr=RandomForestRegressor()\n",
        "model_rfr.fit(x_train_dummified,y_train)\n",
        "\n",
        "train_preds_rfr=model_rfr.predict(x_train_dummified)\n",
        "test_preds_rfr=model_rfr.predict(x_test_dummified)\n",
        "\n",
        "print(\"r2_score of RF for train data\",r2_score(y_train[['Customer.Lifetime.Value']],train_preds_rfr))\n",
        "print(\"root mean squared error of RF for train data \",mean_squared_error(y_train[['Customer.Lifetime.Value']],train_preds_rfr))\n",
        "\n",
        "print(\"r2_score of RF for test data using grid search\",r2_score(y_test[['Customer.Lifetime.Value']],test_preds_rfr))\n",
        "print(\"root mean squared of RF for test data \",mean_squared_error(y_test[['Customer.Lifetime.Value']],test_preds_rfr))"
      ]
    },
    {
      "cell_type": "code",
      "execution_count": 114,
      "metadata": {
        "colab": {
          "base_uri": "https://localhost:8080/",
          "height": 206
        },
        "id": "xWaRrZ3lcd_h",
        "outputId": "6cb9d9da-a677-44cc-a5d2-f3a8a1f4b5c2"
      },
      "outputs": [
        {
          "output_type": "execute_result",
          "data": {
            "text/plain": [
              "      Customer.Lifetime.Value\n",
              "3920                 2.037582\n",
              "7244                -0.337636\n",
              "4911                 1.198116\n",
              "1258                -0.452990\n",
              "2923                -0.802178"
            ],
            "text/html": [
              "\n",
              "  <div id=\"df-bfd9f916-77a3-4d58-9690-0aa2862257a0\">\n",
              "    <div class=\"colab-df-container\">\n",
              "      <div>\n",
              "<style scoped>\n",
              "    .dataframe tbody tr th:only-of-type {\n",
              "        vertical-align: middle;\n",
              "    }\n",
              "\n",
              "    .dataframe tbody tr th {\n",
              "        vertical-align: top;\n",
              "    }\n",
              "\n",
              "    .dataframe thead th {\n",
              "        text-align: right;\n",
              "    }\n",
              "</style>\n",
              "<table border=\"1\" class=\"dataframe\">\n",
              "  <thead>\n",
              "    <tr style=\"text-align: right;\">\n",
              "      <th></th>\n",
              "      <th>Customer.Lifetime.Value</th>\n",
              "    </tr>\n",
              "  </thead>\n",
              "  <tbody>\n",
              "    <tr>\n",
              "      <th>3920</th>\n",
              "      <td>2.037582</td>\n",
              "    </tr>\n",
              "    <tr>\n",
              "      <th>7244</th>\n",
              "      <td>-0.337636</td>\n",
              "    </tr>\n",
              "    <tr>\n",
              "      <th>4911</th>\n",
              "      <td>1.198116</td>\n",
              "    </tr>\n",
              "    <tr>\n",
              "      <th>1258</th>\n",
              "      <td>-0.452990</td>\n",
              "    </tr>\n",
              "    <tr>\n",
              "      <th>2923</th>\n",
              "      <td>-0.802178</td>\n",
              "    </tr>\n",
              "  </tbody>\n",
              "</table>\n",
              "</div>\n",
              "      <button class=\"colab-df-convert\" onclick=\"convertToInteractive('df-bfd9f916-77a3-4d58-9690-0aa2862257a0')\"\n",
              "              title=\"Convert this dataframe to an interactive table.\"\n",
              "              style=\"display:none;\">\n",
              "        \n",
              "  <svg xmlns=\"http://www.w3.org/2000/svg\" height=\"24px\"viewBox=\"0 0 24 24\"\n",
              "       width=\"24px\">\n",
              "    <path d=\"M0 0h24v24H0V0z\" fill=\"none\"/>\n",
              "    <path d=\"M18.56 5.44l.94 2.06.94-2.06 2.06-.94-2.06-.94-.94-2.06-.94 2.06-2.06.94zm-11 1L8.5 8.5l.94-2.06 2.06-.94-2.06-.94L8.5 2.5l-.94 2.06-2.06.94zm10 10l.94 2.06.94-2.06 2.06-.94-2.06-.94-.94-2.06-.94 2.06-2.06.94z\"/><path d=\"M17.41 7.96l-1.37-1.37c-.4-.4-.92-.59-1.43-.59-.52 0-1.04.2-1.43.59L10.3 9.45l-7.72 7.72c-.78.78-.78 2.05 0 2.83L4 21.41c.39.39.9.59 1.41.59.51 0 1.02-.2 1.41-.59l7.78-7.78 2.81-2.81c.8-.78.8-2.07 0-2.86zM5.41 20L4 18.59l7.72-7.72 1.47 1.35L5.41 20z\"/>\n",
              "  </svg>\n",
              "      </button>\n",
              "      \n",
              "  <style>\n",
              "    .colab-df-container {\n",
              "      display:flex;\n",
              "      flex-wrap:wrap;\n",
              "      gap: 12px;\n",
              "    }\n",
              "\n",
              "    .colab-df-convert {\n",
              "      background-color: #E8F0FE;\n",
              "      border: none;\n",
              "      border-radius: 50%;\n",
              "      cursor: pointer;\n",
              "      display: none;\n",
              "      fill: #1967D2;\n",
              "      height: 32px;\n",
              "      padding: 0 0 0 0;\n",
              "      width: 32px;\n",
              "    }\n",
              "\n",
              "    .colab-df-convert:hover {\n",
              "      background-color: #E2EBFA;\n",
              "      box-shadow: 0px 1px 2px rgba(60, 64, 67, 0.3), 0px 1px 3px 1px rgba(60, 64, 67, 0.15);\n",
              "      fill: #174EA6;\n",
              "    }\n",
              "\n",
              "    [theme=dark] .colab-df-convert {\n",
              "      background-color: #3B4455;\n",
              "      fill: #D2E3FC;\n",
              "    }\n",
              "\n",
              "    [theme=dark] .colab-df-convert:hover {\n",
              "      background-color: #434B5C;\n",
              "      box-shadow: 0px 1px 3px 1px rgba(0, 0, 0, 0.15);\n",
              "      filter: drop-shadow(0px 1px 2px rgba(0, 0, 0, 0.3));\n",
              "      fill: #FFFFFF;\n",
              "    }\n",
              "  </style>\n",
              "\n",
              "      <script>\n",
              "        const buttonEl =\n",
              "          document.querySelector('#df-bfd9f916-77a3-4d58-9690-0aa2862257a0 button.colab-df-convert');\n",
              "        buttonEl.style.display =\n",
              "          google.colab.kernel.accessAllowed ? 'block' : 'none';\n",
              "\n",
              "        async function convertToInteractive(key) {\n",
              "          const element = document.querySelector('#df-bfd9f916-77a3-4d58-9690-0aa2862257a0');\n",
              "          const dataTable =\n",
              "            await google.colab.kernel.invokeFunction('convertToInteractive',\n",
              "                                                     [key], {});\n",
              "          if (!dataTable) return;\n",
              "\n",
              "          const docLinkHtml = 'Like what you see? Visit the ' +\n",
              "            '<a target=\"_blank\" href=https://colab.research.google.com/notebooks/data_table.ipynb>data table notebook</a>'\n",
              "            + ' to learn more about interactive tables.';\n",
              "          element.innerHTML = '';\n",
              "          dataTable['output_type'] = 'display_data';\n",
              "          await google.colab.output.renderOutput(dataTable, element);\n",
              "          const docLink = document.createElement('div');\n",
              "          docLink.innerHTML = docLinkHtml;\n",
              "          element.appendChild(docLink);\n",
              "        }\n",
              "      </script>\n",
              "    </div>\n",
              "  </div>\n",
              "  "
            ]
          },
          "metadata": {},
          "execution_count": 114
        }
      ],
      "source": [
        "y_test[['Customer.Lifetime.Value']][0:5]"
      ]
    },
    {
      "cell_type": "code",
      "execution_count": 137,
      "metadata": {
        "colab": {
          "base_uri": "https://localhost:8080/"
        },
        "id": "_uydB5Uocd_i",
        "outputId": "30d7f946-3804-44c7-b086-0f9fb14151ca"
      },
      "outputs": [
        {
          "output_type": "execute_result",
          "data": {
            "text/plain": [
              "array([ 0.49591551, -0.32545724,  2.02798194, -0.46320446, -0.76122182])"
            ]
          },
          "metadata": {},
          "execution_count": 137
        }
      ],
      "source": [
        "test_preds_rfr[0:5]"
      ]
    },
    {
      "cell_type": "code",
      "execution_count": null,
      "metadata": {
        "id": "76S2Kmlscd_i"
      },
      "outputs": [],
      "source": []
    },
    {
      "cell_type": "code",
      "execution_count": 122,
      "metadata": {
        "colab": {
          "base_uri": "https://localhost:8080/"
        },
        "id": "axeydQqYcd_i",
        "outputId": "fcc53c6a-38ea-4ff2-da1f-c882e55d4e22"
      },
      "outputs": [
        {
          "output_type": "stream",
          "name": "stdout",
          "text": [
            "{'criterion': 'squared_error'}\n",
            "0.33588782965923547\n",
            "r2_score of RF for train data using grid search 0.9534213160108009\n",
            "root mean squared error of RF for train data using grid search 0.04657868398919908\n",
            "r2_score of RF for test data using grid search 0.674054972996525\n",
            "root mean squared of RF for test data using grid search 0.3139919124002603\n"
          ]
        }
      ],
      "source": [
        "paramas_rfr={'criterion':[\"squared_error\",\"absolute_error\"]}\n",
        "# with more parameters it will take more time\n",
        "\n",
        "model_rfr=RandomForestRegressor()\n",
        "model_grid_rfr=GridSearchCV(estimator=model_rfr,param_grid=paramas_rfr,scoring='neg_mean_squared_error',cv=5)\n",
        "\n",
        "model_grid_rfr.fit(x_train_dummified,y_train)\n",
        "print(model_grid_rfr.best_params_)\n",
        "\n",
        "print(-model_grid_rfr.best_score_)\n",
        "\n",
        "train_preds_rfr_gs=model_grid_rfr.predict(x_train_dummified)\n",
        "test_preds_rfr_gs=model_grid_rfr.predict(x_test_dummified)\n",
        "\n",
        "print(\"r2_score of RF for train data using grid search\",r2_score(y_train[['Customer.Lifetime.Value']],train_preds_rfr_gs))\n",
        "print(\"root mean squared error of RF for train data using grid search\",mean_squared_error(y_train[['Customer.Lifetime.Value']],train_preds_rfr_gs))\n",
        "\n",
        "print(\"r2_score of RF for test data using grid search\",r2_score(y_test[['Customer.Lifetime.Value']],test_preds_rfr_gs))\n",
        "print(\"root mean squared of RF for test data using grid search\",mean_squared_error(y_test[['Customer.Lifetime.Value']],test_preds_rfr_gs))"
      ]
    },
    {
      "cell_type": "markdown",
      "source": [
        "## Gradient Boosting Regressor"
      ],
      "metadata": {
        "id": "GLMYyBZ0qZ8G"
      }
    },
    {
      "cell_type": "code",
      "execution_count": 157,
      "metadata": {
        "id": "-uH1JqsQcd_i"
      },
      "outputs": [],
      "source": [
        "from sklearn.ensemble import GradientBoostingRegressor"
      ]
    },
    {
      "cell_type": "code",
      "source": [
        "model_gbr=GradientBoostingRegressor()\n",
        "model_gbr.fit(x_train_dummified,y_train)\n",
        "\n",
        "train_preds_gbr=model_gbr.predict(x_train_dummified)\n",
        "test_preds_gbr=model_gbr.predict(x_test_dummified)\n",
        "\n",
        "print(\"r2_score of GBR for train data\",r2_score(y_train[['Customer.Lifetime.Value']],train_preds_gbr))\n",
        "print(\"root mean squared error of GBR for train data\",mean_squared_error(y_train[['Customer.Lifetime.Value']],train_preds_gbr))\n",
        "\n",
        "print(\"r2_score of GBR for test data\",r2_score(y_test[['Customer.Lifetime.Value']],test_preds_gbr))\n",
        "print(\"root mean squared of GBR for test data\",mean_squared_error(y_test[['Customer.Lifetime.Value']],test_preds_gbr))"
      ],
      "metadata": {
        "colab": {
          "base_uri": "https://localhost:8080/"
        },
        "id": "lRv79aQRqnaH",
        "outputId": "634b12d8-84d0-43fa-be6d-50374124136c"
      },
      "execution_count": 158,
      "outputs": [
        {
          "output_type": "stream",
          "name": "stdout",
          "text": [
            "r2_score of GBR for train data 0.72033374707607\n",
            "root mean squared error of GBR for train data 0.27966625292393016\n",
            "r2_score of GBR for test data 0.6555392740319483\n",
            "root mean squared of GBR for test data 0.3318286003251015\n"
          ]
        }
      ]
    },
    {
      "cell_type": "code",
      "source": [],
      "metadata": {
        "id": "uortCTIwqnWa"
      },
      "execution_count": null,
      "outputs": []
    },
    {
      "cell_type": "code",
      "source": [
        "paramas_gbr=param_grid = {\n",
        "    'n_estimators': [50, 100, 200],\n",
        "    'learning_rate': [0.01, 0.1, 1.0],\n",
        "}\n",
        "# with more parameters it will take more time\n",
        "\n",
        "model_gbr2=GradientBoostingRegressor()\n",
        "model_grid_gbr=GridSearchCV(estimator=model_gbr2,param_grid=paramas_gbr,scoring='neg_mean_squared_error',cv=5)\n",
        "\n",
        "model_grid_gbr.fit(x_train_dummified,y_train)\n",
        "print(model_grid_gbr.best_params_)\n",
        "\n",
        "print(-model_grid_gbr.best_score_)\n",
        "\n",
        "train_preds_gbr_gs=model_grid_gbr.predict(x_train_dummified)\n",
        "test_preds_gbr_gs=model_grid_gbr.predict(x_test_dummified)\n",
        "\n",
        "\n",
        "print(\"r2_score of GBR for train data using grid search\",r2_score(y_train[['Customer.Lifetime.Value']],train_preds_gbr_gs))\n",
        "print(\"root mean squared error of GBR for train data using grid search\",mean_squared_error(y_train[['Customer.Lifetime.Value']],train_preds_gbr_gs))\n",
        "\n",
        "print(\"r2_score of GBR for test data using grid search\",r2_score(y_test[['Customer.Lifetime.Value']],test_preds_gbr_gs))\n",
        "print(\"root mean squared of GBR for test data using grid search\",mean_squared_error(y_test[['Customer.Lifetime.Value']],test_preds_gbr_gs))"
      ],
      "metadata": {
        "colab": {
          "base_uri": "https://localhost:8080/"
        },
        "id": "i2QyhAcFqnUE",
        "outputId": "bba18362-2179-4bf4-a232-6b98bd92c608"
      },
      "execution_count": 160,
      "outputs": [
        {
          "output_type": "stream",
          "name": "stdout",
          "text": [
            "{'learning_rate': 0.1, 'n_estimators': 100}\n",
            "0.3483192144770442\n",
            "r2_score of GBR for train data using grid search 0.72033374707607\n",
            "root mean squared error of GBR for train data using grid search 0.27966625292393016\n",
            "r2_score of GBR for test data using grid search 0.6555611202898369\n",
            "root mean squared of GBR for test data using grid search 0.331807555217108\n"
          ]
        }
      ]
    },
    {
      "cell_type": "code",
      "source": [],
      "metadata": {
        "id": "hfCkdHaGqnRf"
      },
      "execution_count": null,
      "outputs": []
    },
    {
      "cell_type": "code",
      "source": [],
      "metadata": {
        "id": "MfE1hL8JqnOx"
      },
      "execution_count": null,
      "outputs": []
    },
    {
      "cell_type": "code",
      "source": [],
      "metadata": {
        "id": "V3KrkQTTqnL6"
      },
      "execution_count": null,
      "outputs": []
    },
    {
      "cell_type": "markdown",
      "source": [
        "## Artificial Neural Network\n"
      ],
      "metadata": {
        "id": "LN4akluDqNv3"
      }
    },
    {
      "cell_type": "code",
      "execution_count": 123,
      "metadata": {
        "id": "rJmoFjmdcd_i"
      },
      "outputs": [],
      "source": [
        "import keras\n",
        "from keras.models import Sequential\n",
        "from keras.layers import Dense"
      ]
    },
    {
      "cell_type": "code",
      "execution_count": 127,
      "metadata": {
        "id": "gb8VMPAVcd_j"
      },
      "outputs": [],
      "source": [
        "model_ann = Sequential()\n",
        "model_ann.add(Dense(10,activation='relu'))\n",
        "model_ann.add(Dense(20,activation='relu'))\n",
        "model_ann.add(Dense(1,activation='linear'))\n",
        "model_ann.compile(optimizer='Adam',loss= keras.losses.MeanSquaredError())"
      ]
    },
    {
      "cell_type": "code",
      "source": [
        "from keras.callbacks import EarlyStopping\n",
        "early_stopping = EarlyStopping(monitor='val_loss', patience=30)"
      ],
      "metadata": {
        "id": "1FHGlX88fNqP"
      },
      "execution_count": 133,
      "outputs": []
    },
    {
      "cell_type": "code",
      "execution_count": 134,
      "metadata": {
        "colab": {
          "base_uri": "https://localhost:8080/"
        },
        "id": "qpuRy_fscd_j",
        "outputId": "eba3729b-931d-40e2-c9a1-86a8eb867252"
      },
      "outputs": [
        {
          "output_type": "stream",
          "name": "stdout",
          "text": [
            "Epoch 1/500\n",
            "215/215 [==============================] - 1s 3ms/step - loss: 0.2510 - val_loss: 0.4388\n",
            "Epoch 2/500\n",
            "215/215 [==============================] - 1s 3ms/step - loss: 0.2487 - val_loss: 0.4437\n",
            "Epoch 3/500\n",
            "215/215 [==============================] - 1s 3ms/step - loss: 0.2500 - val_loss: 0.4544\n",
            "Epoch 4/500\n",
            "215/215 [==============================] - 1s 3ms/step - loss: 0.2508 - val_loss: 0.4517\n",
            "Epoch 5/500\n",
            "215/215 [==============================] - 1s 3ms/step - loss: 0.2492 - val_loss: 0.4560\n",
            "Epoch 6/500\n",
            "215/215 [==============================] - 1s 3ms/step - loss: 0.2488 - val_loss: 0.4479\n",
            "Epoch 7/500\n",
            "215/215 [==============================] - 1s 3ms/step - loss: 0.2480 - val_loss: 0.4424\n",
            "Epoch 8/500\n",
            "215/215 [==============================] - 1s 3ms/step - loss: 0.2550 - val_loss: 0.4542\n",
            "Epoch 9/500\n",
            "215/215 [==============================] - 1s 3ms/step - loss: 0.2507 - val_loss: 0.4494\n",
            "Epoch 10/500\n",
            "215/215 [==============================] - 1s 3ms/step - loss: 0.2525 - val_loss: 0.4474\n",
            "Epoch 11/500\n",
            "215/215 [==============================] - 1s 4ms/step - loss: 0.2501 - val_loss: 0.4433\n",
            "Epoch 12/500\n",
            "215/215 [==============================] - 1s 4ms/step - loss: 0.2485 - val_loss: 0.4468\n",
            "Epoch 13/500\n",
            "215/215 [==============================] - 1s 4ms/step - loss: 0.2504 - val_loss: 0.4426\n",
            "Epoch 14/500\n",
            "215/215 [==============================] - 1s 5ms/step - loss: 0.2495 - val_loss: 0.4483\n",
            "Epoch 15/500\n",
            "215/215 [==============================] - 1s 4ms/step - loss: 0.2493 - val_loss: 0.4604\n",
            "Epoch 16/500\n",
            "215/215 [==============================] - 1s 2ms/step - loss: 0.2489 - val_loss: 0.4495\n",
            "Epoch 17/500\n",
            "215/215 [==============================] - 1s 3ms/step - loss: 0.2513 - val_loss: 0.4479\n",
            "Epoch 18/500\n",
            "215/215 [==============================] - 1s 3ms/step - loss: 0.2479 - val_loss: 0.4252\n",
            "Epoch 19/500\n",
            "215/215 [==============================] - 1s 3ms/step - loss: 0.2537 - val_loss: 0.4449\n",
            "Epoch 20/500\n",
            "215/215 [==============================] - 1s 3ms/step - loss: 0.2537 - val_loss: 0.4430\n",
            "Epoch 21/500\n",
            "215/215 [==============================] - 1s 3ms/step - loss: 0.2478 - val_loss: 0.4555\n",
            "Epoch 22/500\n",
            "215/215 [==============================] - 1s 3ms/step - loss: 0.2474 - val_loss: 0.4660\n",
            "Epoch 23/500\n",
            "215/215 [==============================] - 1s 3ms/step - loss: 0.2491 - val_loss: 0.4497\n",
            "Epoch 24/500\n",
            "215/215 [==============================] - 1s 3ms/step - loss: 0.2492 - val_loss: 0.4468\n",
            "Epoch 25/500\n",
            "215/215 [==============================] - 1s 3ms/step - loss: 0.2477 - val_loss: 0.4791\n",
            "Epoch 26/500\n",
            "215/215 [==============================] - 1s 3ms/step - loss: 0.2492 - val_loss: 0.4533\n",
            "Epoch 27/500\n",
            "215/215 [==============================] - 1s 3ms/step - loss: 0.2473 - val_loss: 0.4519\n",
            "Epoch 28/500\n",
            "215/215 [==============================] - 1s 3ms/step - loss: 0.2494 - val_loss: 0.4678\n",
            "Epoch 29/500\n",
            "215/215 [==============================] - 1s 3ms/step - loss: 0.2499 - val_loss: 0.4329\n",
            "Epoch 30/500\n",
            "215/215 [==============================] - 1s 3ms/step - loss: 0.2524 - val_loss: 0.4674\n",
            "Epoch 31/500\n",
            "215/215 [==============================] - 1s 3ms/step - loss: 0.2511 - val_loss: 0.4749\n",
            "Epoch 32/500\n",
            "215/215 [==============================] - 1s 4ms/step - loss: 0.2470 - val_loss: 0.4521\n",
            "Epoch 33/500\n",
            "215/215 [==============================] - 1s 4ms/step - loss: 0.2490 - val_loss: 0.4475\n",
            "Epoch 34/500\n",
            "215/215 [==============================] - 1s 4ms/step - loss: 0.2505 - val_loss: 0.4623\n",
            "Epoch 35/500\n",
            "215/215 [==============================] - 1s 4ms/step - loss: 0.2511 - val_loss: 0.4437\n",
            "Epoch 36/500\n",
            "215/215 [==============================] - 1s 4ms/step - loss: 0.2537 - val_loss: 0.4648\n",
            "Epoch 37/500\n",
            "215/215 [==============================] - 1s 3ms/step - loss: 0.2499 - val_loss: 0.4551\n",
            "Epoch 38/500\n",
            "215/215 [==============================] - 1s 3ms/step - loss: 0.2484 - val_loss: 0.4695\n",
            "Epoch 39/500\n",
            "215/215 [==============================] - 1s 3ms/step - loss: 0.2489 - val_loss: 0.4417\n",
            "Epoch 40/500\n",
            "215/215 [==============================] - 1s 3ms/step - loss: 0.2484 - val_loss: 0.4536\n",
            "Epoch 41/500\n",
            "215/215 [==============================] - 1s 3ms/step - loss: 0.2524 - val_loss: 0.4449\n",
            "Epoch 42/500\n",
            "215/215 [==============================] - 1s 3ms/step - loss: 0.2478 - val_loss: 0.4755\n",
            "Epoch 43/500\n",
            "215/215 [==============================] - 1s 3ms/step - loss: 0.2487 - val_loss: 0.4555\n",
            "Epoch 44/500\n",
            "215/215 [==============================] - 1s 3ms/step - loss: 0.2475 - val_loss: 0.4661\n",
            "Epoch 45/500\n",
            "215/215 [==============================] - 1s 3ms/step - loss: 0.2477 - val_loss: 0.4555\n",
            "Epoch 46/500\n",
            "215/215 [==============================] - 1s 3ms/step - loss: 0.2494 - val_loss: 0.4414\n",
            "Epoch 47/500\n",
            "215/215 [==============================] - 1s 3ms/step - loss: 0.2473 - val_loss: 0.4615\n",
            "Epoch 48/500\n",
            "215/215 [==============================] - 1s 3ms/step - loss: 0.2489 - val_loss: 0.4802\n"
          ]
        },
        {
          "output_type": "execute_result",
          "data": {
            "text/plain": [
              "<keras.callbacks.History at 0x7fba045f0280>"
            ]
          },
          "metadata": {},
          "execution_count": 134
        }
      ],
      "source": [
        "model_ann.fit(x_train_dummified,y_train,epochs=500,validation_data=(x_test_dummified,y_test), callbacks=[early_stopping])"
      ]
    },
    {
      "cell_type": "code",
      "execution_count": 135,
      "metadata": {
        "colab": {
          "base_uri": "https://localhost:8080/"
        },
        "id": "oveUF9lccd_j",
        "outputId": "3f98b836-dbe4-430c-865f-e0fac1391634"
      },
      "outputs": [
        {
          "output_type": "stream",
          "name": "stdout",
          "text": [
            "215/215 [==============================] - 0s 1ms/step\n",
            "92/92 [==============================] - 0s 1ms/step\n",
            "r2_score of ANN for train data 0.7500103162944343\n",
            "root mean squared error of ANN for train data  0.24998968370556576\n",
            "r2_score of ANN for test data using grid search 0.5015262811686554\n",
            "root mean squared of ANN for test data  0.480193601037683\n"
          ]
        }
      ],
      "source": [
        "train_preds_ann=model_ann.predict(x_train_dummified)\n",
        "test_preds_ann=model_ann.predict(x_test_dummified)\n",
        "\n",
        "\n",
        "\n",
        "print(\"r2_score of ANN for train data\",r2_score(y_train[['Customer.Lifetime.Value']],train_preds_ann))\n",
        "print(\"root mean squared error of ANN for train data \",mean_squared_error(y_train[['Customer.Lifetime.Value']],train_preds_ann))\n",
        "\n",
        "print(\"r2_score of ANN for test data using grid search\",r2_score(y_test[['Customer.Lifetime.Value']],test_preds_ann))\n",
        "print(\"root mean squared of ANN for test data \",mean_squared_error(y_test[['Customer.Lifetime.Value']],test_preds_ann))"
      ]
    },
    {
      "cell_type": "code",
      "execution_count": null,
      "metadata": {
        "id": "0r0H6WRncd_k"
      },
      "outputs": [],
      "source": [
        "# RMSE for test data\n",
        "\n",
        "# Linear Regression  ----  0.82\n",
        "# Lasso Regression   ----  0.81\n",
        "# Ridge Regression   ----  0.81\n",
        "# Elastic nets       ----  0.81\n",
        "# KNN                ----  0.82\n",
        "# Decision Tree      ----  0.35\n",
        "# Random Forest      ----  0.31\n",
        "# Gradient Boosting  ----  0.33 \n",
        "# ANN                ----  0.48\n",
        "\n",
        "\n",
        "# radom forest predicts well comparing to others.\n",
        "\n",
        "\n",
        "# PCA with RF       ---- 0.42 "
      ]
    },
    {
      "cell_type": "code",
      "execution_count": null,
      "metadata": {
        "id": "eCfeXZWUcd_k"
      },
      "outputs": [],
      "source": []
    },
    {
      "cell_type": "code",
      "execution_count": 139,
      "metadata": {
        "colab": {
          "base_uri": "https://localhost:8080/",
          "height": 889
        },
        "id": "K4JymKoFcd_k",
        "outputId": "ef321a61-3016-4c93-ba2d-1f53d5e5f927"
      },
      "outputs": [
        {
          "output_type": "execute_result",
          "data": {
            "text/plain": [
              "<Axes: >"
            ]
          },
          "metadata": {},
          "execution_count": 139
        },
        {
          "output_type": "display_data",
          "data": {
            "text/plain": [
              "<Figure size 1000x800 with 2 Axes>"
            ],
            "image/png": "[encoded data removed]"
          },
          "metadata": {}
        }
      ],
      "source": [
        "plt.figure(figsize=(10,8))\n",
        "sns.heatmap(x_train.corr(),annot=True)"
      ]
    },
    {
      "cell_type": "code",
      "execution_count": 140,
      "metadata": {
        "id": "6h7ZDeuNcd_k"
      },
      "outputs": [],
      "source": [
        "# seems there is no good correlation between the independnet variables and dependent variable."
      ]
    },
    {
      "cell_type": "code",
      "execution_count": null,
      "metadata": {
        "id": "xaGuVBBScd_k"
      },
      "outputs": [],
      "source": [
        "# lets do PCA on this data and see the results"
      ]
    },
    {
      "cell_type": "code",
      "execution_count": 141,
      "metadata": {
        "id": "7WZBn9R3cd_l"
      },
      "outputs": [],
      "source": [
        "from sklearn.decomposition import PCA\n",
        "pc = PCA()"
      ]
    },
    {
      "cell_type": "code",
      "execution_count": 142,
      "metadata": {
        "colab": {
          "base_uri": "https://localhost:8080/",
          "height": 74
        },
        "id": "qt09Qwoccd_l",
        "outputId": "4434045c-cc4a-4fbc-a6ad-5c6409b84fb6"
      },
      "outputs": [
        {
          "output_type": "execute_result",
          "data": {
            "text/plain": [
              "PCA()"
            ],
            "text/html": [
              "<style>#sk-container-id-2 {color: black;background-color: white;}#sk-container-id-2 pre{padding: 0;}#sk-container-id-2 div.sk-toggleable {background-color: white;}#sk-container-id-2 label.sk-toggleable__label {cursor: pointer;display: block;width: 100%;margin-bottom: 0;padding: 0.3em;box-sizing: border-box;text-align: center;}#sk-container-id-2 label.sk-toggleable__label-arrow:before {content: \"▸\";float: left;margin-right: 0.25em;color: #696969;}#sk-container-id-2 label.sk-toggleable__label-arrow:hover:before {color: black;}#sk-container-id-2 div.sk-estimator:hover label.sk-toggleable__label-arrow:before {color: black;}#sk-container-id-2 div.sk-toggleable__content {max-height: 0;max-width: 0;overflow: hidden;text-align: left;background-color: #f0f8ff;}#sk-container-id-2 div.sk-toggleable__content pre {margin: 0.2em;color: black;border-radius: 0.25em;background-color: #f0f8ff;}#sk-container-id-2 input.sk-toggleable__control:checked~div.sk-toggleable__content {max-height: 200px;max-width: 100%;overflow: auto;}#sk-container-id-2 input.sk-toggleable__control:checked~label.sk-toggleable__label-arrow:before {content: \"▾\";}#sk-container-id-2 div.sk-estimator input.sk-toggleable__control:checked~label.sk-toggleable__label {background-color: #d4ebff;}#sk-container-id-2 div.sk-label input.sk-toggleable__control:checked~label.sk-toggleable__label {background-color: #d4ebff;}#sk-container-id-2 input.sk-hidden--visually {border: 0;clip: rect(1px 1px 1px 1px);clip: rect(1px, 1px, 1px, 1px);height: 1px;margin: -1px;overflow: hidden;padding: 0;position: absolute;width: 1px;}#sk-container-id-2 div.sk-estimator {font-family: monospace;background-color: #f0f8ff;border: 1px dotted black;border-radius: 0.25em;box-sizing: border-box;margin-bottom: 0.5em;}#sk-container-id-2 div.sk-estimator:hover {background-color: #d4ebff;}#sk-container-id-2 div.sk-parallel-item::after {content: \"\";width: 100%;border-bottom: 1px solid gray;flex-grow: 1;}#sk-container-id-2 div.sk-label:hover label.sk-toggleable__label {background-color: #d4ebff;}#sk-container-id-2 div.sk-serial::before {content: \"\";position: absolute;border-left: 1px solid gray;box-sizing: border-box;top: 0;bottom: 0;left: 50%;z-index: 0;}#sk-container-id-2 div.sk-serial {display: flex;flex-direction: column;align-items: center;background-color: white;padding-right: 0.2em;padding-left: 0.2em;position: relative;}#sk-container-id-2 div.sk-item {position: relative;z-index: 1;}#sk-container-id-2 div.sk-parallel {display: flex;align-items: stretch;justify-content: center;background-color: white;position: relative;}#sk-container-id-2 div.sk-item::before, #sk-container-id-2 div.sk-parallel-item::before {content: \"\";position: absolute;border-left: 1px solid gray;box-sizing: border-box;top: 0;bottom: 0;left: 50%;z-index: -1;}#sk-container-id-2 div.sk-parallel-item {display: flex;flex-direction: column;z-index: 1;position: relative;background-color: white;}#sk-container-id-2 div.sk-parallel-item:first-child::after {align-self: flex-end;width: 50%;}#sk-container-id-2 div.sk-parallel-item:last-child::after {align-self: flex-start;width: 50%;}#sk-container-id-2 div.sk-parallel-item:only-child::after {width: 0;}#sk-container-id-2 div.sk-dashed-wrapped {border: 1px dashed gray;margin: 0 0.4em 0.5em 0.4em;box-sizing: border-box;padding-bottom: 0.4em;background-color: white;}#sk-container-id-2 div.sk-label label {font-family: monospace;font-weight: bold;display: inline-block;line-height: 1.2em;}#sk-container-id-2 div.sk-label-container {text-align: center;}#sk-container-id-2 div.sk-container {/* jupyter's `normalize.less` sets `[hidden] { display: none; }` but bootstrap.min.css set `[hidden] { display: none !important; }` so we also need the `!important` here to be able to override the default hidden behavior on the sphinx rendered scikit-learn.org. See: https://github.com/scikit-learn/scikit-learn/issues/21755 */display: inline-block !important;position: relative;}#sk-container-id-2 div.sk-text-repr-fallback {display: none;}</style><div id=\"sk-container-id-2\" class=\"sk-top-container\"><div class=\"sk-text-repr-fallback\"><pre>PCA()</pre><b>In a Jupyter environment, please rerun this cell to show the HTML representation or trust the notebook. <br />On GitHub, the HTML representation is unable to render, please try loading this page with nbviewer.org.</b></div><div class=\"sk-container\" hidden><div class=\"sk-item\"><div class=\"sk-estimator sk-toggleable\"><input class=\"sk-toggleable__control sk-hidden--visually\" id=\"sk-estimator-id-2\" type=\"checkbox\" checked><label for=\"sk-estimator-id-2\" class=\"sk-toggleable__label sk-toggleable__label-arrow\">PCA</label><div class=\"sk-toggleable__content\"><pre>PCA()</pre></div></div></div></div></div>"
            ]
          },
          "metadata": {},
          "execution_count": 142
        }
      ],
      "source": [
        "pc.fit(x_train_dummified)"
      ]
    },
    {
      "cell_type": "code",
      "execution_count": 143,
      "metadata": {
        "colab": {
          "base_uri": "https://localhost:8080/"
        },
        "id": "yoAykxYYcd_l",
        "outputId": "e68a3180-295b-493c-b000-fb4069901a06"
      },
      "outputs": [
        {
          "output_type": "stream",
          "name": "stdout",
          "text": [
            "Eigen values: [7.89678553e+02 9.98185531e+01 5.68564213e+00 2.03314853e+00\n",
            " 1.26828614e+00 7.41994939e-01 4.79626499e-01 4.57798900e-01\n",
            " 3.87796334e-01 3.71776354e-01 3.40083587e-01 3.28426666e-01\n",
            " 3.07570991e-01 3.00131426e-01 2.88645500e-01 2.79188957e-01\n",
            " 2.79064452e-01 2.42827768e-01 2.15036962e-01 1.99126248e-01\n",
            " 1.92641185e-01 1.75401825e-01 1.60075920e-01 1.53075172e-01\n",
            " 1.51586137e-01 1.26324520e-01 1.17517499e-01 1.00315681e-01\n",
            " 9.58238884e-02 9.42098077e-02 8.69663369e-02 8.40568041e-02\n",
            " 7.86863646e-02 7.04257028e-02 5.56797077e-02 4.70879095e-02\n",
            " 4.57703781e-02 4.28103609e-02 3.05585471e-02 1.86909460e-02\n",
            " 1.72284895e-02 9.28261369e-03 7.17558364e-03 7.01693631e-03\n",
            " 1.19983780e-03 1.55736634e-28 5.56097667e-30 5.56097667e-30\n",
            " 5.56097667e-30 5.56097667e-30 5.56097667e-30 5.56097667e-30\n",
            " 5.56097667e-30 5.56097667e-30 5.56097667e-30 5.56097667e-30]\n",
            "Eigen vectors: [[ 5.18265927e-04  7.63589957e-04 -1.16354172e-02 ...  2.09383373e-04\n",
            "  -3.54870086e-04  1.45486713e-04]\n",
            " [-2.91740415e-03  1.04816290e-03  9.99917724e-01 ... -1.25835148e-04\n",
            "   6.82926670e-04 -5.57091522e-04]\n",
            " [-1.58205947e-03 -1.45685384e-02 -1.73291284e-03 ... -1.28851569e-03\n",
            "  -1.51722207e-03  2.80573776e-03]\n",
            " ...\n",
            " [ 0.00000000e+00 -7.56679275e-17 -4.30310690e-17 ...  7.75576475e-03\n",
            "   7.75576475e-03  7.75576475e-03]\n",
            " [-0.00000000e+00  5.52070193e-17  1.40187413e-18 ... -2.89675330e-03\n",
            "  -2.89675330e-03 -2.89675330e-03]\n",
            " [-0.00000000e+00  5.82142800e-17 -2.48500707e-17 ... -5.31370009e-04\n",
            "  -5.31370009e-04 -5.31370009e-04]]\n"
          ]
        }
      ],
      "source": [
        "print(\"Eigen values:\",pc.explained_variance_)\n",
        "print(\"Eigen vectors:\",pc.components_)"
      ]
    },
    {
      "cell_type": "code",
      "execution_count": 144,
      "metadata": {
        "colab": {
          "base_uri": "https://localhost:8080/"
        },
        "id": "WfdIGt7Ycd_l",
        "outputId": "d757bec5-4637-4da8-c2c4-3b784231697d"
      },
      "outputs": [
        {
          "output_type": "execute_result",
          "data": {
            "text/plain": [
              "array([0.87192469, 0.98213949, 0.9884173 , 0.9906622 , 0.99206258,\n",
              "       0.99288186, 0.99341144, 0.99391692, 0.9943451 , 0.9947556 ,\n",
              "       0.9951311 , 0.99549374, 0.99583334, 0.99616473, 0.99648344,\n",
              "       0.99679171, 0.99709984, 0.99736796, 0.99760539, 0.99782525,\n",
              "       0.99803796, 0.99823163, 0.99840838, 0.9985774 , 0.99874477,\n",
              "       0.99888425, 0.99901401, 0.99912477, 0.99923058, 0.9993346 ,\n",
              "       0.99943062, 0.99952343, 0.99961032, 0.99968808, 0.99974955,\n",
              "       0.99980155, 0.99985208, 0.99989935, 0.99993309, 0.99995373,\n",
              "       0.99997276, 0.999983  , 0.99999093, 0.99999868, 1.        ,\n",
              "       1.        , 1.        , 1.        , 1.        , 1.        ,\n",
              "       1.        , 1.        , 1.        , 1.        , 1.        ,\n",
              "       1.        ])"
            ]
          },
          "metadata": {},
          "execution_count": 144
        }
      ],
      "source": [
        "np.cumsum(pc.explained_variance_ratio_)"
      ]
    },
    {
      "cell_type": "code",
      "execution_count": 145,
      "metadata": {
        "colab": {
          "base_uri": "https://localhost:8080/",
          "height": 448
        },
        "id": "wXNN0ySZcd_l",
        "outputId": "00eac227-7996-40a0-9af8-4634233cbbc1"
      },
      "outputs": [
        {
          "output_type": "execute_result",
          "data": {
            "text/plain": [
              "[<matplotlib.lines.Line2D at 0x7fb9fd3f1f10>]"
            ]
          },
          "metadata": {},
          "execution_count": 145
        },
        {
          "output_type": "display_data",
          "data": {
            "text/plain": [
              "<Figure size 640x480 with 1 Axes>"
            ],
            "image/png": "[encoded data removed]"
          },
          "metadata": {}
        }
      ],
      "source": [
        "# visualizing the cumulative frequency\n",
        "import numpy as np\n",
        "from matplotlib import pyplot as plt\n",
        "plt.plot(np.cumsum(pc.explained_variance_ratio_))"
      ]
    },
    {
      "cell_type": "code",
      "execution_count": 149,
      "metadata": {
        "id": "H464fUydcd_l"
      },
      "outputs": [],
      "source": [
        "# here we select the no of components as 2 (we have to mention it on pca())\n",
        "pc1 = PCA(n_components=4)\n",
        "\n",
        "# if we didn't give the number of columns then it will take all the  columns (then there is no using all this)\n",
        "\n",
        "# the we have to fit and trasnform the data columns \n",
        "# (transorming the data of other columns into the columns using linearequations generated by the pca)\n",
        "train_pca= pc1.fit(x_train_dummified).transform(x_train_dummified) \n"
      ]
    },
    {
      "cell_type": "code",
      "execution_count": null,
      "metadata": {
        "id": "BjtluB5Icd_m"
      },
      "outputs": [],
      "source": []
    },
    {
      "cell_type": "code",
      "source": [],
      "metadata": {
        "id": "ulxBeo17hpjp"
      },
      "execution_count": null,
      "outputs": []
    },
    {
      "cell_type": "code",
      "execution_count": 150,
      "metadata": {
        "id": "LOlKlO98cd_m"
      },
      "outputs": [],
      "source": [
        "test_pca= pc1.transform(x_test_dummified)"
      ]
    },
    {
      "cell_type": "code",
      "execution_count": 151,
      "metadata": {
        "colab": {
          "base_uri": "https://localhost:8080/"
        },
        "id": "yxm7OAdXcd_m",
        "outputId": "f0f62f4f-f11f-4372-b3bb-96cd9d616915"
      },
      "outputs": [
        {
          "output_type": "stream",
          "name": "stdout",
          "text": [
            "0.556371949367876\n",
            "0.4273592430385354\n"
          ]
        }
      ],
      "source": [
        "model_rfr2=RandomForestRegressor()\n",
        "model_rfr2.fit(train_pca,y_train)\n",
        "test_preds_rfr2=model_rfr2.predict(test_pca)\n",
        "\n",
        "print(r2_score(y_test[['Customer.Lifetime.Value']],test_preds_rfr2))\n",
        "print(mean_squared_error(y_test[['Customer.Lifetime.Value']],test_preds_rfr2))\n"
      ]
    },
    {
      "cell_type": "code",
      "execution_count": 152,
      "metadata": {
        "colab": {
          "base_uri": "https://localhost:8080/",
          "height": 206
        },
        "id": "cIpbJUjxcd_m",
        "outputId": "19fbfff5-444d-4ece-a4ff-948c3a0a0cd4"
      },
      "outputs": [
        {
          "output_type": "execute_result",
          "data": {
            "text/plain": [
              "      Customer.Lifetime.Value\n",
              "3920                 2.037582\n",
              "7244                -0.337636\n",
              "4911                 1.198116\n",
              "1258                -0.452990\n",
              "2923                -0.802178"
            ],
            "text/html": [
              "\n",
              "  <div id=\"df-6064735e-917e-4966-b9cc-f475c6a66815\">\n",
              "    <div class=\"colab-df-container\">\n",
              "      <div>\n",
              "<style scoped>\n",
              "    .dataframe tbody tr th:only-of-type {\n",
              "        vertical-align: middle;\n",
              "    }\n",
              "\n",
              "    .dataframe tbody tr th {\n",
              "        vertical-align: top;\n",
              "    }\n",
              "\n",
              "    .dataframe thead th {\n",
              "        text-align: right;\n",
              "    }\n",
              "</style>\n",
              "<table border=\"1\" class=\"dataframe\">\n",
              "  <thead>\n",
              "    <tr style=\"text-align: right;\">\n",
              "      <th></th>\n",
              "      <th>Customer.Lifetime.Value</th>\n",
              "    </tr>\n",
              "  </thead>\n",
              "  <tbody>\n",
              "    <tr>\n",
              "      <th>3920</th>\n",
              "      <td>2.037582</td>\n",
              "    </tr>\n",
              "    <tr>\n",
              "      <th>7244</th>\n",
              "      <td>-0.337636</td>\n",
              "    </tr>\n",
              "    <tr>\n",
              "      <th>4911</th>\n",
              "      <td>1.198116</td>\n",
              "    </tr>\n",
              "    <tr>\n",
              "      <th>1258</th>\n",
              "      <td>-0.452990</td>\n",
              "    </tr>\n",
              "    <tr>\n",
              "      <th>2923</th>\n",
              "      <td>-0.802178</td>\n",
              "    </tr>\n",
              "  </tbody>\n",
              "</table>\n",
              "</div>\n",
              "      <button class=\"colab-df-convert\" onclick=\"convertToInteractive('df-6064735e-917e-4966-b9cc-f475c6a66815')\"\n",
              "              title=\"Convert this dataframe to an interactive table.\"\n",
              "              style=\"display:none;\">\n",
              "        \n",
              "  <svg xmlns=\"http://www.w3.org/2000/svg\" height=\"24px\"viewBox=\"0 0 24 24\"\n",
              "       width=\"24px\">\n",
              "    <path d=\"M0 0h24v24H0V0z\" fill=\"none\"/>\n",
              "    <path d=\"M18.56 5.44l.94 2.06.94-2.06 2.06-.94-2.06-.94-.94-2.06-.94 2.06-2.06.94zm-11 1L8.5 8.5l.94-2.06 2.06-.94-2.06-.94L8.5 2.5l-.94 2.06-2.06.94zm10 10l.94 2.06.94-2.06 2.06-.94-2.06-.94-.94-2.06-.94 2.06-2.06.94z\"/><path d=\"M17.41 7.96l-1.37-1.37c-.4-.4-.92-.59-1.43-.59-.52 0-1.04.2-1.43.59L10.3 9.45l-7.72 7.72c-.78.78-.78 2.05 0 2.83L4 21.41c.39.39.9.59 1.41.59.51 0 1.02-.2 1.41-.59l7.78-7.78 2.81-2.81c.8-.78.8-2.07 0-2.86zM5.41 20L4 18.59l7.72-7.72 1.47 1.35L5.41 20z\"/>\n",
              "  </svg>\n",
              "      </button>\n",
              "      \n",
              "  <style>\n",
              "    .colab-df-container {\n",
              "      display:flex;\n",
              "      flex-wrap:wrap;\n",
              "      gap: 12px;\n",
              "    }\n",
              "\n",
              "    .colab-df-convert {\n",
              "      background-color: #E8F0FE;\n",
              "      border: none;\n",
              "      border-radius: 50%;\n",
              "      cursor: pointer;\n",
              "      display: none;\n",
              "      fill: #1967D2;\n",
              "      height: 32px;\n",
              "      padding: 0 0 0 0;\n",
              "      width: 32px;\n",
              "    }\n",
              "\n",
              "    .colab-df-convert:hover {\n",
              "      background-color: #E2EBFA;\n",
              "      box-shadow: 0px 1px 2px rgba(60, 64, 67, 0.3), 0px 1px 3px 1px rgba(60, 64, 67, 0.15);\n",
              "      fill: #174EA6;\n",
              "    }\n",
              "\n",
              "    [theme=dark] .colab-df-convert {\n",
              "      background-color: #3B4455;\n",
              "      fill: #D2E3FC;\n",
              "    }\n",
              "\n",
              "    [theme=dark] .colab-df-convert:hover {\n",
              "      background-color: #434B5C;\n",
              "      box-shadow: 0px 1px 3px 1px rgba(0, 0, 0, 0.15);\n",
              "      filter: drop-shadow(0px 1px 2px rgba(0, 0, 0, 0.3));\n",
              "      fill: #FFFFFF;\n",
              "    }\n",
              "  </style>\n",
              "\n",
              "      <script>\n",
              "        const buttonEl =\n",
              "          document.querySelector('#df-6064735e-917e-4966-b9cc-f475c6a66815 button.colab-df-convert');\n",
              "        buttonEl.style.display =\n",
              "          google.colab.kernel.accessAllowed ? 'block' : 'none';\n",
              "\n",
              "        async function convertToInteractive(key) {\n",
              "          const element = document.querySelector('#df-6064735e-917e-4966-b9cc-f475c6a66815');\n",
              "          const dataTable =\n",
              "            await google.colab.kernel.invokeFunction('convertToInteractive',\n",
              "                                                     [key], {});\n",
              "          if (!dataTable) return;\n",
              "\n",
              "          const docLinkHtml = 'Like what you see? Visit the ' +\n",
              "            '<a target=\"_blank\" href=https://colab.research.google.com/notebooks/data_table.ipynb>data table notebook</a>'\n",
              "            + ' to learn more about interactive tables.';\n",
              "          element.innerHTML = '';\n",
              "          dataTable['output_type'] = 'display_data';\n",
              "          await google.colab.output.renderOutput(dataTable, element);\n",
              "          const docLink = document.createElement('div');\n",
              "          docLink.innerHTML = docLinkHtml;\n",
              "          element.appendChild(docLink);\n",
              "        }\n",
              "      </script>\n",
              "    </div>\n",
              "  </div>\n",
              "  "
            ]
          },
          "metadata": {},
          "execution_count": 152
        }
      ],
      "source": [
        "y_test[['Customer.Lifetime.Value']][0:5]"
      ]
    },
    {
      "cell_type": "code",
      "execution_count": 153,
      "metadata": {
        "colab": {
          "base_uri": "https://localhost:8080/"
        },
        "id": "2JRF4GPJcd_m",
        "outputId": "84d6c3cf-8f1c-4a4e-a961-99f81ed7bb10"
      },
      "outputs": [
        {
          "output_type": "execute_result",
          "data": {
            "text/plain": [
              "array([ 1.09284913, -0.3815103 ,  3.14712144, -0.21173522, -0.59918339])"
            ]
          },
          "metadata": {},
          "execution_count": 153
        }
      ],
      "source": [
        "test_preds_rfr2[0:5]"
      ]
    },
    {
      "cell_type": "code",
      "source": [],
      "metadata": {
        "id": "Vo6LUGUOhn7y"
      },
      "execution_count": null,
      "outputs": []
    },
    {
      "cell_type": "code",
      "source": [],
      "metadata": {
        "id": "l7e0h064hoD9"
      },
      "execution_count": null,
      "outputs": []
    },
    {
      "cell_type": "markdown",
      "metadata": {
        "id": "oDvm6cMucd_n"
      },
      "source": [
        "### predicting for the test dataset with Random forest"
      ]
    },
    {
      "cell_type": "code",
      "execution_count": 161,
      "metadata": {
        "id": "1SS6Ckfkcd_n"
      },
      "outputs": [],
      "source": []
    },
    {
      "cell_type": "code",
      "execution_count": 162,
      "metadata": {
        "id": "4kmndAiscd_n"
      },
      "outputs": [],
      "source": []
    },
    {
      "cell_type": "code",
      "execution_count": 164,
      "metadata": {
        "id": "odYXlsM_cd_n"
      },
      "outputs": [],
      "source": [
        "test_dataset=pd.read_csv(\"test-1574429501088.csv\")\n",
        "drop_unwanted(test_dataset)\n",
        "type_conversion(test_dataset)\n",
        "test_dataset[numerical_cols]=si.transform(test_dataset[numerical_cols])\n",
        "# y_test[['Customer.Lifetime.Value']]=sii.transform(y_test[['Customer.Lifetime.Value']])\n",
        "test_dataset[categorical_cols]=sic.transform(test_dataset[categorical_cols])\n",
        "\n",
        "test_dataset[numerical_cols]=scaler.transform(test_dataset[numerical_cols])\n",
        "\n",
        "# y_test[['Customer.Lifetime.Value']]=scaler_y.transform(y_test[['Customer.Lifetime.Value']])\n",
        "\n",
        "oe_test_dataset=pd.DataFrame(oe.transform(test_dataset[['Coverage','Education','EmploymentStatus','Gender','Location.Code','Marital.Status','Policy.Type', 'Policy', 'Renew.Offer.Type', 'Sales.Channel', 'Vehicle.Class','Vehicle.Size']]).toarray(),columns=oe.get_feature_names_out())\n",
        "\n",
        "oe_test_dataset.set_index(test_dataset.index,inplace=True)\n",
        "\n",
        "test_dataset[ordinal_cols]=ordinal.transform(test_dataset[ordinal_cols])\n",
        "x_test_dataset_dummified=pd.concat([test_dataset,oe_test_dataset],axis=1)\n",
        "x_test_dataset_dummified.drop(['Coverage','Education','EmploymentStatus','Gender','Location.Code','Marital.Status','Policy.Type', 'Policy', 'Renew.Offer.Type', 'Sales.Channel', 'Vehicle.Class','Vehicle.Size'],axis=1,inplace=True)"
      ]
    },
    {
      "cell_type": "code",
      "execution_count": 165,
      "metadata": {
        "id": "eupjc5yVcd_n"
      },
      "outputs": [],
      "source": [
        "test_preds_rfr_test_dataset=model_grid_rfr.predict(x_test_dataset_dummified)"
      ]
    },
    {
      "cell_type": "code",
      "source": [],
      "metadata": {
        "id": "REt1h8rTzFbJ"
      },
      "execution_count": null,
      "outputs": []
    },
    {
      "cell_type": "code",
      "execution_count": null,
      "metadata": {
        "id": "DWSgxCJfcd_o"
      },
      "outputs": [],
      "source": [
        "# here are our results for our test datset using random forest regressor (grid search cv with best parameters)\n",
        "\n",
        "# with 0.33 root mean squared error."
      ]
    },
    {
      "cell_type": "code",
      "execution_count": null,
      "metadata": {
        "id": "tNV4zvExcd_o"
      },
      "outputs": [],
      "source": []
    },
    {
      "cell_type": "code",
      "execution_count": null,
      "metadata": {
        "id": "U6BIVlQRcd_o"
      },
      "outputs": [],
      "source": []
    }
  ],
  "metadata": {
    "colab": {
      "provenance": []
    },
    "kernelspec": {
      "display_name": "Python 3 (ipykernel)",
      "language": "python",
      "name": "python3"
    },
    "language_info": {
      "codemirror_mode": {
        "name": "ipython",
        "version": 3
      },
      "file_extension": ".py",
      "mimetype": "text/x-python",
      "name": "python",
      "nbconvert_exporter": "python",
      "pygments_lexer": "ipython3",
      "version": "3.9.7"
    }
  },
  "nbformat": 4,
  "nbformat_minor": 0
}